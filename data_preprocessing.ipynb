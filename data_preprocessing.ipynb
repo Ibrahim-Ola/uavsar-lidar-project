{
 "cells": [
  {
   "cell_type": "markdown",
   "metadata": {},
   "source": [
    "## Setup\n",
    "\n",
    "Load libraries"
   ]
  },
  {
   "cell_type": "code",
   "execution_count": 1,
   "metadata": {},
   "outputs": [],
   "source": [
    "import os\n",
    "import numpy as np\n",
    "import polars as pl\n",
    "import pandas as pd\n",
    "import seaborn as sns\n",
    "import scipy.io as sio\n",
    "from matplotlib import pyplot as plt\n",
    "\n",
    "\n",
    "from typing import Dict, Union\n",
    "from sklearn.pipeline import Pipeline\n",
    "from sklearn.ensemble import ExtraTreesRegressor\n",
    "from sklearn.metrics import mean_squared_error, r2_score\n",
    "from sklearn.preprocessing import StandardScaler, FunctionTransformer\n",
    "from sklearn.model_selection import train_test_split, PredefinedSplit, GridSearchCV\n",
    "\n",
    "seed=10"
   ]
  },
  {
   "cell_type": "markdown",
   "metadata": {},
   "source": [
    "## Load Data"
   ]
  },
  {
   "cell_type": "code",
   "execution_count": 3,
   "metadata": {},
   "outputs": [],
   "source": [
    "raster = sio.loadmat('UAVSAR-ASO-WMesa.mat')"
   ]
  },
  {
   "cell_type": "markdown",
   "metadata": {},
   "source": [
    "## Data Preprocessing\n",
    "\n",
    "* Let's extract all useful variables"
   ]
  },
  {
   "cell_type": "code",
   "execution_count": 5,
   "metadata": {},
   "outputs": [
    {
     "data": {
      "text/html": [
       "<div><style>\n",
       ".dataframe > thead > tr > th,\n",
       ".dataframe > tbody > tr > td {\n",
       "  text-align: right;\n",
       "}\n",
       "</style>\n",
       "<small>shape: (5, 9)</small><table border=\"1\" class=\"dataframe\"><thead><tr><th>amplitude</th><th>unwrapped_phase</th><th>coherence</th><th>incidence_angle</th><th>bare_earth_dem</th><th>vegetation_ht</th><th>wrapped_phase</th><th>snow_depth</th><th>elevation</th></tr><tr><td>f64</td><td>f64</td><td>f64</td><td>f64</td><td>f32</td><td>f32</td><td>f64</td><td>f32</td><td>f64</td></tr></thead><tbody><tr><td>0.424673</td><td>-10.83723</td><td>0.639889</td><td>0.929004</td><td>-9999.0</td><td>-9999.0</td><td>1.805211</td><td>-9999.0</td><td>2456.656494</td></tr><tr><td>0.424673</td><td>-10.83723</td><td>0.639889</td><td>0.929004</td><td>-9999.0</td><td>-9999.0</td><td>1.805211</td><td>-9999.0</td><td>2456.656494</td></tr><tr><td>0.38162</td><td>-10.83723</td><td>0.594642</td><td>0.929004</td><td>-9999.0</td><td>-9999.0</td><td>1.824319</td><td>-9999.0</td><td>2457.156494</td></tr><tr><td>0.38162</td><td>-10.83723</td><td>0.594642</td><td>0.926934</td><td>-9999.0</td><td>-9999.0</td><td>1.746802</td><td>-9999.0</td><td>2457.656494</td></tr><tr><td>0.369751</td><td>-10.83723</td><td>0.526593</td><td>0.924989</td><td>-9999.0</td><td>-9999.0</td><td>1.824319</td><td>-9999.0</td><td>2458.656616</td></tr></tbody></table></div>"
      ],
      "text/plain": [
       "shape: (5, 9)\n",
       "┌─────────┬────────────┬───────────┬────────────┬───┬────────────┬────────────┬──────────┬─────────┐\n",
       "│ amplitu ┆ unwrapped_ ┆ coherence ┆ incidence_ ┆ … ┆ vegetation ┆ wrapped_ph ┆ snow_dep ┆ elevati │\n",
       "│ de      ┆ phase      ┆ ---       ┆ angle      ┆   ┆ _ht        ┆ ase        ┆ th       ┆ on      │\n",
       "│ ---     ┆ ---        ┆ f64       ┆ ---        ┆   ┆ ---        ┆ ---        ┆ ---      ┆ ---     │\n",
       "│ f64     ┆ f64        ┆           ┆ f64        ┆   ┆ f32        ┆ f64        ┆ f32      ┆ f64     │\n",
       "╞═════════╪════════════╪═══════════╪════════════╪═══╪════════════╪════════════╪══════════╪═════════╡\n",
       "│ 0.42467 ┆ -10.83723  ┆ 0.639889  ┆ 0.929004   ┆ … ┆ -9999.0    ┆ 1.805211   ┆ -9999.0  ┆ 2456.65 │\n",
       "│ 3       ┆            ┆           ┆            ┆   ┆            ┆            ┆          ┆ 6494    │\n",
       "│ 0.42467 ┆ -10.83723  ┆ 0.639889  ┆ 0.929004   ┆ … ┆ -9999.0    ┆ 1.805211   ┆ -9999.0  ┆ 2456.65 │\n",
       "│ 3       ┆            ┆           ┆            ┆   ┆            ┆            ┆          ┆ 6494    │\n",
       "│ 0.38162 ┆ -10.83723  ┆ 0.594642  ┆ 0.929004   ┆ … ┆ -9999.0    ┆ 1.824319   ┆ -9999.0  ┆ 2457.15 │\n",
       "│         ┆            ┆           ┆            ┆   ┆            ┆            ┆          ┆ 6494    │\n",
       "│ 0.38162 ┆ -10.83723  ┆ 0.594642  ┆ 0.926934   ┆ … ┆ -9999.0    ┆ 1.746802   ┆ -9999.0  ┆ 2457.65 │\n",
       "│         ┆            ┆           ┆            ┆   ┆            ┆            ┆          ┆ 6494    │\n",
       "│ 0.36975 ┆ -10.83723  ┆ 0.526593  ┆ 0.924989   ┆ … ┆ -9999.0    ┆ 1.824319   ┆ -9999.0  ┆ 2458.65 │\n",
       "│ 1       ┆            ┆           ┆            ┆   ┆            ┆            ┆          ┆ 6616    │\n",
       "└─────────┴────────────┴───────────┴────────────┴───┴────────────┴────────────┴──────────┴─────────┘"
      ]
     },
     "execution_count": 5,
     "metadata": {},
     "output_type": "execute_result"
    }
   ],
   "source": [
    "feb8_snow_depth=raster['r'][0][0][0]\n",
    "feb21_snow_depth=raster['r'][0][1][0]\n",
    "feb25_snow_depth=raster['r'][0][2][0]\n",
    "sept26_bare_DEM=raster['r'][0][3][0]\n",
    "sept26_veg_ht=raster['r'][0][4][0]\n",
    "amplitude=raster['r2'][0][0][0]\n",
    "unwrapped_phase=raster['r2'][0][1][0]\n",
    "coherence=raster['r2'][0][2][0]\n",
    "incidence_angle=raster['r2'][0][3][0]\n",
    "elevation=raster['r2'][0][4][0]\n",
    "wrapped_phase=raster['r2'][0][5][0]\n",
    "easting=raster['r'][0][0][1]\n",
    "northing=raster['r'][0][0][2]\n",
    "\n",
    "\n",
    "# Create a dataframe\n",
    "df = pl.DataFrame(\n",
    "    {\n",
    "    'amplitude': amplitude.ravel(),\n",
    "    'unwrapped_phase': unwrapped_phase.ravel(),\n",
    "    'coherence': coherence.ravel(),\n",
    "    'incidence_angle': incidence_angle.ravel(),\n",
    "    'bare_earth_dem': sept26_bare_DEM.ravel(),\n",
    "    'vegetation_ht': sept26_veg_ht.ravel(),\n",
    "    'wrapped_phase': wrapped_phase.ravel(),\n",
    "    'snow_depth': feb8_snow_depth.ravel(),\n",
    "    'elevation': elevation.ravel()\n",
    "    }\n",
    ")\n",
    "\n",
    "df.head()"
   ]
  },
  {
   "cell_type": "markdown",
   "metadata": {},
   "source": [
    "* Data Cleaning\n",
    "\n",
    "    - First `with_columns`: Process \"snow_depth\" column.\n",
    "       * Replace values of 0 with `None`.\n",
    "       * Replace values of 253 with `None`.\n",
    "       * Replace values greater than 2 with `None`.\n",
    "       * Keep all other values as they are.\n",
    "    - Second `with_columns`: Process all columns.\n",
    "       * Replace any value of -9999.0 with `None`.\n",
    "    - `fill_nan`: Replace any remaining NaN values with `None`."
   ]
  },
  {
   "cell_type": "code",
   "execution_count": 6,
   "metadata": {},
   "outputs": [
    {
     "data": {
      "text/html": [
       "<div><style>\n",
       ".dataframe > thead > tr > th,\n",
       ".dataframe > tbody > tr > td {\n",
       "  text-align: right;\n",
       "}\n",
       "</style>\n",
       "<small>shape: (5, 9)</small><table border=\"1\" class=\"dataframe\"><thead><tr><th>amplitude</th><th>unwrapped_phase</th><th>coherence</th><th>incidence_angle</th><th>bare_earth_dem</th><th>vegetation_ht</th><th>wrapped_phase</th><th>snow_depth</th><th>elevation</th></tr><tr><td>f64</td><td>f64</td><td>f64</td><td>f64</td><td>f32</td><td>f32</td><td>f64</td><td>f32</td><td>f64</td></tr></thead><tbody><tr><td>0.424673</td><td>-10.83723</td><td>0.639889</td><td>0.929004</td><td>null</td><td>null</td><td>1.805211</td><td>null</td><td>2456.656494</td></tr><tr><td>0.424673</td><td>-10.83723</td><td>0.639889</td><td>0.929004</td><td>null</td><td>null</td><td>1.805211</td><td>null</td><td>2456.656494</td></tr><tr><td>0.38162</td><td>-10.83723</td><td>0.594642</td><td>0.929004</td><td>null</td><td>null</td><td>1.824319</td><td>null</td><td>2457.156494</td></tr><tr><td>0.38162</td><td>-10.83723</td><td>0.594642</td><td>0.926934</td><td>null</td><td>null</td><td>1.746802</td><td>null</td><td>2457.656494</td></tr><tr><td>0.369751</td><td>-10.83723</td><td>0.526593</td><td>0.924989</td><td>null</td><td>null</td><td>1.824319</td><td>null</td><td>2458.656616</td></tr></tbody></table></div>"
      ],
      "text/plain": [
       "shape: (5, 9)\n",
       "┌─────────┬────────────┬───────────┬────────────┬───┬────────────┬────────────┬──────────┬─────────┐\n",
       "│ amplitu ┆ unwrapped_ ┆ coherence ┆ incidence_ ┆ … ┆ vegetation ┆ wrapped_ph ┆ snow_dep ┆ elevati │\n",
       "│ de      ┆ phase      ┆ ---       ┆ angle      ┆   ┆ _ht        ┆ ase        ┆ th       ┆ on      │\n",
       "│ ---     ┆ ---        ┆ f64       ┆ ---        ┆   ┆ ---        ┆ ---        ┆ ---      ┆ ---     │\n",
       "│ f64     ┆ f64        ┆           ┆ f64        ┆   ┆ f32        ┆ f64        ┆ f32      ┆ f64     │\n",
       "╞═════════╪════════════╪═══════════╪════════════╪═══╪════════════╪════════════╪══════════╪═════════╡\n",
       "│ 0.42467 ┆ -10.83723  ┆ 0.639889  ┆ 0.929004   ┆ … ┆ null       ┆ 1.805211   ┆ null     ┆ 2456.65 │\n",
       "│ 3       ┆            ┆           ┆            ┆   ┆            ┆            ┆          ┆ 6494    │\n",
       "│ 0.42467 ┆ -10.83723  ┆ 0.639889  ┆ 0.929004   ┆ … ┆ null       ┆ 1.805211   ┆ null     ┆ 2456.65 │\n",
       "│ 3       ┆            ┆           ┆            ┆   ┆            ┆            ┆          ┆ 6494    │\n",
       "│ 0.38162 ┆ -10.83723  ┆ 0.594642  ┆ 0.929004   ┆ … ┆ null       ┆ 1.824319   ┆ null     ┆ 2457.15 │\n",
       "│         ┆            ┆           ┆            ┆   ┆            ┆            ┆          ┆ 6494    │\n",
       "│ 0.38162 ┆ -10.83723  ┆ 0.594642  ┆ 0.926934   ┆ … ┆ null       ┆ 1.746802   ┆ null     ┆ 2457.65 │\n",
       "│         ┆            ┆           ┆            ┆   ┆            ┆            ┆          ┆ 6494    │\n",
       "│ 0.36975 ┆ -10.83723  ┆ 0.526593  ┆ 0.924989   ┆ … ┆ null       ┆ 1.824319   ┆ null     ┆ 2458.65 │\n",
       "│ 1       ┆            ┆           ┆            ┆   ┆            ┆            ┆          ┆ 6616    │\n",
       "└─────────┴────────────┴───────────┴────────────┴───┴────────────┴────────────┴──────────┴─────────┘"
      ]
     },
     "execution_count": 6,
     "metadata": {},
     "output_type": "execute_result"
    }
   ],
   "source": [
    "clean_data=(\n",
    "    df.with_columns(\n",
    "        [\n",
    "            pl.when(pl.col('snow_depth') == 0)\n",
    "            .then(None)\n",
    "            .when(pl.col('snow_depth') == 253)\n",
    "            .then(None)\n",
    "            .when(pl.col('snow_depth') > 2)\n",
    "            .then(None)\n",
    "            .otherwise(pl.col('snow_depth')).keep_name()\n",
    "        ]\n",
    "    )\n",
    "    .with_columns(\n",
    "        [\n",
    "            pl.when(pl.col('*') == -9999.0).then(pl.lit(None)).otherwise(pl.col('*'))\n",
    "            .keep_name()\n",
    "        ]\n",
    "    )\n",
    "    .fill_nan(None)\n",
    ")\n",
    "\n",
    "clean_data.head()"
   ]
  },
  {
   "cell_type": "code",
   "execution_count": null,
   "metadata": {},
   "outputs": [],
   "source": []
  }
 ],
 "metadata": {
  "kernelspec": {
   "display_name": "base",
   "language": "python",
   "name": "python3"
  },
  "language_info": {
   "codemirror_mode": {
    "name": "ipython",
    "version": 3
   },
   "file_extension": ".py",
   "mimetype": "text/x-python",
   "name": "python",
   "nbconvert_exporter": "python",
   "pygments_lexer": "ipython3",
   "version": "3.8.5"
  },
  "orig_nbformat": 4
 },
 "nbformat": 4,
 "nbformat_minor": 2
}
