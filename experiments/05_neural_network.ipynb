{
 "cells": [
  {
   "cell_type": "markdown",
   "metadata": {},
   "source": [
    "## Setup\n",
    "\n",
    "Load libraries"
   ]
  },
  {
   "cell_type": "code",
   "execution_count": 2,
   "metadata": {},
   "outputs": [],
   "source": [
    "import os\n",
    "import pickle\n",
    "\n",
    "from utils.model_fitting_utils import ModelFitting\n",
    "from utils.features import BASELINE_FEATURES, UAVSAR_FEATURES, UAVSAR_AND_VEGETATION_HEIGHT_FEATURES"
   ]
  },
  {
   "cell_type": "markdown",
   "metadata": {},
   "source": [
    "## Load Data"
   ]
  },
  {
   "cell_type": "code",
   "execution_count": 3,
   "metadata": {},
   "outputs": [],
   "source": [
    "with open('../data/full_splits.pkl', 'rb') as f:\n",
    "    full_splits = pickle.load(f)\n",
    "\n",
    "\n",
    "with open('../data/vegetation_splits.pkl', 'rb') as f:\n",
    "    vegetation_splits = pickle.load(f)\n",
    "\n",
    "\n",
    "with open('../data/no_vegetation_splits.pkl', 'rb') as f:\n",
    "    no_vegetation_splits = pickle.load(f)"
   ]
  },
  {
   "cell_type": "markdown",
   "metadata": {},
   "source": [
    "* Create folders to store results"
   ]
  },
  {
   "cell_type": "code",
   "execution_count": 4,
   "metadata": {},
   "outputs": [],
   "source": [
    "os.makedirs('../results', exist_ok=True)\n",
    "os.makedirs('../results/NNets', exist_ok=True)\n",
    "\n",
    "os.makedirs('../results/NNets/AllCombined', exist_ok=True)\n",
    "os.makedirs('../results/NNets/AllCombined/all', exist_ok=True)\n",
    "os.makedirs('../results/NNets/AllCombined/baseline', exist_ok=True)\n",
    "os.makedirs('../results/NNets/AllCombined/uavsar', exist_ok=True)\n",
    "\n",
    "os.makedirs('../results/NNets/NoVegetation', exist_ok=True)\n",
    "os.makedirs('../results/NNets/NoVegetation/all', exist_ok=True)\n",
    "os.makedirs('../results/NNets/NoVegetation/baseline', exist_ok=True)\n",
    "os.makedirs('../results/NNets/NoVegetation/uavsar', exist_ok=True)\n",
    "\n",
    "os.makedirs('../results/NNets/Vegetation', exist_ok=True)\n",
    "os.makedirs('../results/NNets/Vegetation/all', exist_ok=True)\n",
    "os.makedirs('../results/NNets/Vegetation/baseline', exist_ok=True)\n",
    "os.makedirs('../results/NNets/Vegetation/uavsar', exist_ok=True)"
   ]
  },
  {
   "cell_type": "markdown",
   "metadata": {},
   "source": [
    "## Full Dataset\n",
    "\n",
    "* Baseline"
   ]
  },
  {
   "cell_type": "code",
   "execution_count": 5,
   "metadata": {},
   "outputs": [
    {
     "name": "stdout",
     "output_type": "stream",
     "text": [
      "Epoch [1/15], Train Loss: 0.0693, Train MAE: 0.1905, Validation Loss: 0.0688, Validation MAE: 0.1895\n",
      "Epoch [2/15], Train Loss: 0.0688, Train MAE: 0.1896, Validation Loss: 0.0688, Validation MAE: 0.1893\n",
      "Epoch [3/15], Train Loss: 0.0687, Train MAE: 0.1894, Validation Loss: 0.0687, Validation MAE: 0.1891\n",
      "Epoch [4/15], Train Loss: 0.0686, Train MAE: 0.1893, Validation Loss: 0.0687, Validation MAE: 0.1891\n",
      "Epoch [5/15], Train Loss: 0.0686, Train MAE: 0.1892, Validation Loss: 0.0689, Validation MAE: 0.1892\n",
      "Epoch [6/15], Train Loss: 0.0686, Train MAE: 0.1892, Validation Loss: 0.0689, Validation MAE: 0.1891\n",
      "Epoch [7/15], Train Loss: 0.0685, Train MAE: 0.1891, Validation Loss: 0.0687, Validation MAE: 0.1891\n",
      "Epoch 00008: reducing learning rate of group 0 to 1.0000e-05.\n",
      "Epoch [8/15], Train Loss: 0.0685, Train MAE: 0.1891, Validation Loss: 0.0687, Validation MAE: 0.1893\n",
      "Epoch [9/15], Train Loss: 0.0684, Train MAE: 0.1889, Validation Loss: 0.0686, Validation MAE: 0.1890\n",
      "Epoch [10/15], Train Loss: 0.0684, Train MAE: 0.1888, Validation Loss: 0.0686, Validation MAE: 0.1892\n",
      "Epoch [11/15], Train Loss: 0.0684, Train MAE: 0.1888, Validation Loss: 0.0686, Validation MAE: 0.1890\n",
      "Epoch [12/15], Train Loss: 0.0684, Train MAE: 0.1888, Validation Loss: 0.0686, Validation MAE: 0.1891\n",
      "Epoch 00013: reducing learning rate of group 0 to 1.0000e-06.\n",
      "Epoch [13/15], Train Loss: 0.0684, Train MAE: 0.1888, Validation Loss: 0.0686, Validation MAE: 0.1892\n",
      "Epoch [14/15], Train Loss: 0.0684, Train MAE: 0.1888, Validation Loss: 0.0686, Validation MAE: 0.1890\n",
      "Epoch [15/15], Train Loss: 0.0684, Train MAE: 0.1888, Validation Loss: 0.0686, Validation MAE: 0.1891\n",
      " \n",
      "================================\n",
      "Model Evaluation: Baseline Full:\n",
      "================================\n"
     ]
    },
    {
     "data": {
      "text/html": [
       "<div>\n",
       "<style scoped>\n",
       "    .dataframe tbody tr th:only-of-type {\n",
       "        vertical-align: middle;\n",
       "    }\n",
       "\n",
       "    .dataframe tbody tr th {\n",
       "        vertical-align: top;\n",
       "    }\n",
       "\n",
       "    .dataframe thead th {\n",
       "        text-align: right;\n",
       "    }\n",
       "</style>\n",
       "<table border=\"1\" class=\"dataframe\">\n",
       "  <thead>\n",
       "    <tr style=\"text-align: right;\">\n",
       "      <th></th>\n",
       "      <th>pytorch_nn_train</th>\n",
       "      <th>pytorch_nn_test</th>\n",
       "    </tr>\n",
       "  </thead>\n",
       "  <tbody>\n",
       "    <tr>\n",
       "      <th>RMSE</th>\n",
       "      <td>0.261438</td>\n",
       "      <td>0.261268</td>\n",
       "    </tr>\n",
       "    <tr>\n",
       "      <th>MBE</th>\n",
       "      <td>0.000598</td>\n",
       "      <td>0.001014</td>\n",
       "    </tr>\n",
       "    <tr>\n",
       "      <th>RSQ</th>\n",
       "      <td>0.204336</td>\n",
       "      <td>0.204726</td>\n",
       "    </tr>\n",
       "  </tbody>\n",
       "</table>\n",
       "</div>"
      ],
      "text/plain": [
       "      pytorch_nn_train  pytorch_nn_test\n",
       "RMSE          0.261438         0.261268\n",
       "MBE           0.000598         0.001014\n",
       "RSQ           0.204336         0.204726"
      ]
     },
     "metadata": {},
     "output_type": "display_data"
    },
    {
     "name": "stdout",
     "output_type": "stream",
     "text": [
      "=================================\n",
      "Storing Results: Baseline Full...\n",
      "=================================\n",
      "Done!\n"
     ]
    }
   ],
   "source": [
    "baseline_full=ModelFitting(\n",
    "    var=BASELINE_FEATURES,\n",
    "    split=full_splits,\n",
    "    model_name='pytorch_nn'\n",
    ")\n",
    "\n",
    "# fit model\n",
    "baseline_full.fit_model()\n",
    "\n",
    "# make predictions\n",
    "predictions_baseline_full=baseline_full.make_predictions()\n",
    "\n",
    "# evaluate model\n",
    "print(\" \")\n",
    "print(\"================================\")\n",
    "print(\"Model Evaluation: Baseline Full:\")\n",
    "print(\"================================\")\n",
    "res=baseline_full.evaluate_model()\n",
    "\n",
    "\n",
    "# Store results\n",
    "print(\"=================================\")\n",
    "print(\"Storing Results: Baseline Full...\")\n",
    "print(\"=================================\")\n",
    "\n",
    "res.to_csv('../results/NNets/AllCombined/baseline/evaluation.csv', index=False)\n",
    "predictions_baseline_full['y_pred_train'].to_csv('../results/NNets/AllCombined/baseline/train_predictions.csv', index=False)\n",
    "predictions_baseline_full['y_pred_test'].to_csv('../results/NNets/AllCombined/baseline/test_predictions.csv', index=False)\n",
    "\n",
    "print(\"Done!\")"
   ]
  },
  {
   "cell_type": "markdown",
   "metadata": {},
   "source": [
    "* InSAR Parameters"
   ]
  },
  {
   "cell_type": "code",
   "execution_count": 6,
   "metadata": {},
   "outputs": [
    {
     "name": "stdout",
     "output_type": "stream",
     "text": [
      "Epoch [1/15], Train Loss: 0.0339, Train MAE: 0.1323, Validation Loss: 0.0326, Validation MAE: 0.1298\n",
      "Epoch [2/15], Train Loss: 0.0322, Train MAE: 0.1286, Validation Loss: 0.0318, Validation MAE: 0.1277\n",
      "Epoch [3/15], Train Loss: 0.0317, Train MAE: 0.1275, Validation Loss: 0.0315, Validation MAE: 0.1272\n",
      "Epoch [4/15], Train Loss: 0.0314, Train MAE: 0.1269, Validation Loss: 0.0311, Validation MAE: 0.1262\n",
      "Epoch [5/15], Train Loss: 0.0311, Train MAE: 0.1264, Validation Loss: 0.0310, Validation MAE: 0.1258\n",
      "Epoch [6/15], Train Loss: 0.0309, Train MAE: 0.1260, Validation Loss: 0.0308, Validation MAE: 0.1255\n",
      "Epoch [7/15], Train Loss: 0.0308, Train MAE: 0.1257, Validation Loss: 0.0308, Validation MAE: 0.1255\n",
      "Epoch [8/15], Train Loss: 0.0306, Train MAE: 0.1254, Validation Loss: 0.0306, Validation MAE: 0.1254\n",
      "Epoch [9/15], Train Loss: 0.0305, Train MAE: 0.1252, Validation Loss: 0.0307, Validation MAE: 0.1253\n",
      "Epoch [10/15], Train Loss: 0.0304, Train MAE: 0.1250, Validation Loss: 0.0307, Validation MAE: 0.1262\n",
      "Epoch [11/15], Train Loss: 0.0303, Train MAE: 0.1248, Validation Loss: 0.0303, Validation MAE: 0.1246\n",
      "Epoch [12/15], Train Loss: 0.0302, Train MAE: 0.1246, Validation Loss: 0.0304, Validation MAE: 0.1254\n",
      "Epoch [13/15], Train Loss: 0.0301, Train MAE: 0.1244, Validation Loss: 0.0303, Validation MAE: 0.1248\n",
      "Epoch [14/15], Train Loss: 0.0300, Train MAE: 0.1243, Validation Loss: 0.0301, Validation MAE: 0.1242\n",
      "Epoch [15/15], Train Loss: 0.0299, Train MAE: 0.1241, Validation Loss: 0.0301, Validation MAE: 0.1247\n",
      " \n",
      "==============================\n",
      "Model Evaluation: UAVSAR Full:\n",
      "==============================\n"
     ]
    },
    {
     "data": {
      "text/html": [
       "<div>\n",
       "<style scoped>\n",
       "    .dataframe tbody tr th:only-of-type {\n",
       "        vertical-align: middle;\n",
       "    }\n",
       "\n",
       "    .dataframe tbody tr th {\n",
       "        vertical-align: top;\n",
       "    }\n",
       "\n",
       "    .dataframe thead th {\n",
       "        text-align: right;\n",
       "    }\n",
       "</style>\n",
       "<table border=\"1\" class=\"dataframe\">\n",
       "  <thead>\n",
       "    <tr style=\"text-align: right;\">\n",
       "      <th></th>\n",
       "      <th>pytorch_nn_train</th>\n",
       "      <th>pytorch_nn_test</th>\n",
       "    </tr>\n",
       "  </thead>\n",
       "  <tbody>\n",
       "    <tr>\n",
       "      <th>RMSE</th>\n",
       "      <td>0.172673</td>\n",
       "      <td>0.173783</td>\n",
       "    </tr>\n",
       "    <tr>\n",
       "      <th>MBE</th>\n",
       "      <td>0.009572</td>\n",
       "      <td>0.009539</td>\n",
       "    </tr>\n",
       "    <tr>\n",
       "      <th>RSQ</th>\n",
       "      <td>0.652909</td>\n",
       "      <td>0.648148</td>\n",
       "    </tr>\n",
       "  </tbody>\n",
       "</table>\n",
       "</div>"
      ],
      "text/plain": [
       "      pytorch_nn_train  pytorch_nn_test\n",
       "RMSE          0.172673         0.173783\n",
       "MBE           0.009572         0.009539\n",
       "RSQ           0.652909         0.648148"
      ]
     },
     "metadata": {},
     "output_type": "display_data"
    },
    {
     "name": "stdout",
     "output_type": "stream",
     "text": [
      "===============================\n",
      "Storing Results: UAVSAR Full...\n",
      "===============================\n",
      "Done!\n"
     ]
    }
   ],
   "source": [
    "insar_full=ModelFitting(\n",
    "    var=UAVSAR_FEATURES,\n",
    "    split=full_splits,\n",
    "    model_name='pytorch_nn'\n",
    ")\n",
    "\n",
    "# fit model\n",
    "insar_full.fit_model()\n",
    "\n",
    "# make predictions\n",
    "predictions_insar_full=insar_full.make_predictions()\n",
    "\n",
    "# evaluate model\n",
    "print(\" \")\n",
    "print(\"==============================\")\n",
    "print(\"Model Evaluation: UAVSAR Full:\")\n",
    "print(\"==============================\")\n",
    "res=insar_full.evaluate_model()\n",
    "\n",
    "\n",
    "# Store results\n",
    "print(\"===============================\")\n",
    "print(\"Storing Results: UAVSAR Full...\")\n",
    "print(\"===============================\")\n",
    "\n",
    "res.to_csv('../results/NNets/AllCombined/uavsar/evaluation.csv', index=False)\n",
    "predictions_insar_full['y_pred_train'].to_csv('../results/NNets/AllCombined/uavsar/train_predictions.csv', index=False)\n",
    "predictions_insar_full['y_pred_test'].to_csv('../results/NNets/AllCombined/uavsar/test_predictions.csv', index=False)\n",
    "\n",
    "print(\"Done!\")"
   ]
  },
  {
   "cell_type": "markdown",
   "metadata": {},
   "source": [
    "* InSAR + Vegetation Height"
   ]
  },
  {
   "cell_type": "code",
   "execution_count": 7,
   "metadata": {},
   "outputs": [
    {
     "name": "stdout",
     "output_type": "stream",
     "text": [
      "Epoch [1/15], Train Loss: 0.0311, Train MAE: 0.1253, Validation Loss: 0.0309, Validation MAE: 0.1253\n",
      "Epoch [2/15], Train Loss: 0.0291, Train MAE: 0.1210, Validation Loss: 0.0288, Validation MAE: 0.1207\n",
      "Epoch [3/15], Train Loss: 0.0285, Train MAE: 0.1197, Validation Loss: 0.0284, Validation MAE: 0.1195\n",
      "Epoch [4/15], Train Loss: 0.0281, Train MAE: 0.1188, Validation Loss: 0.0279, Validation MAE: 0.1183\n",
      "Epoch [5/15], Train Loss: 0.0277, Train MAE: 0.1182, Validation Loss: 0.0276, Validation MAE: 0.1179\n",
      "Epoch [6/15], Train Loss: 0.0275, Train MAE: 0.1176, Validation Loss: 0.0276, Validation MAE: 0.1178\n",
      "Epoch [7/15], Train Loss: 0.0272, Train MAE: 0.1171, Validation Loss: 0.0278, Validation MAE: 0.1188\n",
      "Epoch [8/15], Train Loss: 0.0270, Train MAE: 0.1167, Validation Loss: 0.0271, Validation MAE: 0.1166\n",
      "Epoch [9/15], Train Loss: 0.0268, Train MAE: 0.1163, Validation Loss: 0.0268, Validation MAE: 0.1161\n",
      "Epoch [10/15], Train Loss: 0.0267, Train MAE: 0.1160, Validation Loss: 0.0268, Validation MAE: 0.1162\n",
      "Epoch [11/15], Train Loss: 0.0265, Train MAE: 0.1157, Validation Loss: 0.0267, Validation MAE: 0.1159\n",
      "Epoch [12/15], Train Loss: 0.0263, Train MAE: 0.1154, Validation Loss: 0.0269, Validation MAE: 0.1166\n",
      "Epoch [13/15], Train Loss: 0.0262, Train MAE: 0.1152, Validation Loss: 0.0267, Validation MAE: 0.1165\n",
      "Epoch [14/15], Train Loss: 0.0261, Train MAE: 0.1149, Validation Loss: 0.0264, Validation MAE: 0.1154\n",
      "Epoch [15/15], Train Loss: 0.0260, Train MAE: 0.1147, Validation Loss: 0.0262, Validation MAE: 0.1148\n",
      " \n",
      "===============================\n",
      "Model Evaluation: All Features:\n",
      "===============================\n"
     ]
    },
    {
     "data": {
      "text/html": [
       "<div>\n",
       "<style scoped>\n",
       "    .dataframe tbody tr th:only-of-type {\n",
       "        vertical-align: middle;\n",
       "    }\n",
       "\n",
       "    .dataframe tbody tr th {\n",
       "        vertical-align: top;\n",
       "    }\n",
       "\n",
       "    .dataframe thead th {\n",
       "        text-align: right;\n",
       "    }\n",
       "</style>\n",
       "<table border=\"1\" class=\"dataframe\">\n",
       "  <thead>\n",
       "    <tr style=\"text-align: right;\">\n",
       "      <th></th>\n",
       "      <th>pytorch_nn_train</th>\n",
       "      <th>pytorch_nn_test</th>\n",
       "    </tr>\n",
       "  </thead>\n",
       "  <tbody>\n",
       "    <tr>\n",
       "      <th>RMSE</th>\n",
       "      <td>0.160189</td>\n",
       "      <td>0.161744</td>\n",
       "    </tr>\n",
       "    <tr>\n",
       "      <th>MBE</th>\n",
       "      <td>-0.003927</td>\n",
       "      <td>-0.004016</td>\n",
       "    </tr>\n",
       "    <tr>\n",
       "      <th>RSQ</th>\n",
       "      <td>0.701283</td>\n",
       "      <td>0.695211</td>\n",
       "    </tr>\n",
       "  </tbody>\n",
       "</table>\n",
       "</div>"
      ],
      "text/plain": [
       "      pytorch_nn_train  pytorch_nn_test\n",
       "RMSE          0.160189         0.161744\n",
       "MBE          -0.003927        -0.004016\n",
       "RSQ           0.701283         0.695211"
      ]
     },
     "metadata": {},
     "output_type": "display_data"
    },
    {
     "name": "stdout",
     "output_type": "stream",
     "text": [
      "================================\n",
      "Storing Results: All Features...\n",
      "================================\n",
      "Done!\n"
     ]
    }
   ],
   "source": [
    "all_full=ModelFitting(\n",
    "    var=UAVSAR_AND_VEGETATION_HEIGHT_FEATURES,\n",
    "    split=full_splits,\n",
    "    model_name='pytorch_nn'\n",
    ")\n",
    "\n",
    "# fit model\n",
    "all_full.fit_model()\n",
    "\n",
    "# make predictions\n",
    "predictions_all_full=all_full.make_predictions()\n",
    "\n",
    "# evaluate model\n",
    "print(\" \")\n",
    "print(\"===============================\")\n",
    "print(\"Model Evaluation: All Features:\")\n",
    "print(\"===============================\")\n",
    "res=all_full.evaluate_model()\n",
    "\n",
    "\n",
    "# Store results\n",
    "print(\"================================\")\n",
    "print(\"Storing Results: All Features...\")\n",
    "print(\"================================\")\n",
    "\n",
    "res.to_csv('../results/NNets/AllCombined/all/evaluation.csv', index=False)\n",
    "predictions_all_full['y_pred_train'].to_csv('../results/NNets/AllCombined/all/train_predictions.csv', index=False)\n",
    "predictions_all_full['y_pred_test'].to_csv('../results/NNets/AllCombined/all/test_predictions.csv', index=False)\n",
    "\n",
    "print(\"Done!\")"
   ]
  },
  {
   "cell_type": "markdown",
   "metadata": {},
   "source": [
    "## Vegetation\n",
    "\n",
    "* Baseline"
   ]
  },
  {
   "cell_type": "code",
   "execution_count": 8,
   "metadata": {},
   "outputs": [
    {
     "name": "stdout",
     "output_type": "stream",
     "text": [
      "Epoch [1/15], Train Loss: 0.0597, Train MAE: 0.1782, Validation Loss: 0.0586, Validation MAE: 0.1768\n",
      "Epoch [2/15], Train Loss: 0.0590, Train MAE: 0.1769, Validation Loss: 0.0589, Validation MAE: 0.1780\n",
      "Epoch [3/15], Train Loss: 0.0589, Train MAE: 0.1767, Validation Loss: 0.0585, Validation MAE: 0.1753\n",
      "Epoch [4/15], Train Loss: 0.0588, Train MAE: 0.1766, Validation Loss: 0.0586, Validation MAE: 0.1755\n",
      "Epoch [5/15], Train Loss: 0.0588, Train MAE: 0.1765, Validation Loss: 0.0586, Validation MAE: 0.1761\n",
      "Epoch [6/15], Train Loss: 0.0587, Train MAE: 0.1764, Validation Loss: 0.0585, Validation MAE: 0.1766\n",
      "Epoch [7/15], Train Loss: 0.0587, Train MAE: 0.1764, Validation Loss: 0.0583, Validation MAE: 0.1759\n",
      "Epoch [8/15], Train Loss: 0.0587, Train MAE: 0.1763, Validation Loss: 0.0584, Validation MAE: 0.1755\n",
      "Epoch [9/15], Train Loss: 0.0587, Train MAE: 0.1763, Validation Loss: 0.0586, Validation MAE: 0.1752\n",
      "Epoch [10/15], Train Loss: 0.0587, Train MAE: 0.1763, Validation Loss: 0.0585, Validation MAE: 0.1756\n",
      "Epoch 00011: reducing learning rate of group 0 to 1.0000e-05.\n",
      "Epoch [11/15], Train Loss: 0.0587, Train MAE: 0.1762, Validation Loss: 0.0584, Validation MAE: 0.1766\n",
      "Epoch [12/15], Train Loss: 0.0585, Train MAE: 0.1759, Validation Loss: 0.0583, Validation MAE: 0.1757\n",
      "Epoch [13/15], Train Loss: 0.0585, Train MAE: 0.1759, Validation Loss: 0.0583, Validation MAE: 0.1754\n",
      "Epoch [14/15], Train Loss: 0.0585, Train MAE: 0.1759, Validation Loss: 0.0583, Validation MAE: 0.1755\n",
      "Epoch [15/15], Train Loss: 0.0585, Train MAE: 0.1758, Validation Loss: 0.0583, Validation MAE: 0.1754\n",
      " \n",
      "========================================\n",
      "Model Evaluation: Baseline Vegetation:\n",
      "========================================\n"
     ]
    },
    {
     "data": {
      "text/html": [
       "<div>\n",
       "<style scoped>\n",
       "    .dataframe tbody tr th:only-of-type {\n",
       "        vertical-align: middle;\n",
       "    }\n",
       "\n",
       "    .dataframe tbody tr th {\n",
       "        vertical-align: top;\n",
       "    }\n",
       "\n",
       "    .dataframe thead th {\n",
       "        text-align: right;\n",
       "    }\n",
       "</style>\n",
       "<table border=\"1\" class=\"dataframe\">\n",
       "  <thead>\n",
       "    <tr style=\"text-align: right;\">\n",
       "      <th></th>\n",
       "      <th>pytorch_nn_train</th>\n",
       "      <th>pytorch_nn_test</th>\n",
       "    </tr>\n",
       "  </thead>\n",
       "  <tbody>\n",
       "    <tr>\n",
       "      <th>RMSE</th>\n",
       "      <td>0.241790</td>\n",
       "      <td>0.242492</td>\n",
       "    </tr>\n",
       "    <tr>\n",
       "      <th>MBE</th>\n",
       "      <td>-0.002709</td>\n",
       "      <td>-0.002548</td>\n",
       "    </tr>\n",
       "    <tr>\n",
       "      <th>RSQ</th>\n",
       "      <td>0.236676</td>\n",
       "      <td>0.236769</td>\n",
       "    </tr>\n",
       "  </tbody>\n",
       "</table>\n",
       "</div>"
      ],
      "text/plain": [
       "      pytorch_nn_train  pytorch_nn_test\n",
       "RMSE          0.241790         0.242492\n",
       "MBE          -0.002709        -0.002548\n",
       "RSQ           0.236676         0.236769"
      ]
     },
     "metadata": {},
     "output_type": "display_data"
    },
    {
     "name": "stdout",
     "output_type": "stream",
     "text": [
      "=========================================\n",
      "Storing Results: Baseline Vegetation...\n",
      "=========================================\n",
      "Done!\n"
     ]
    }
   ],
   "source": [
    "baseline_vegetation=ModelFitting(\n",
    "    var=BASELINE_FEATURES,\n",
    "    split=vegetation_splits,\n",
    "    model_name='pytorch_nn'\n",
    ")\n",
    "\n",
    "# fit model\n",
    "baseline_vegetation.fit_model()\n",
    "\n",
    "# make predictions\n",
    "predictions_baseline_vegetation=baseline_vegetation.make_predictions()\n",
    "\n",
    "# evaluate model\n",
    "print(\" \")\n",
    "print(\"========================================\")\n",
    "print(\"Model Evaluation: Baseline Vegetation:\")\n",
    "print(\"========================================\")\n",
    "res=baseline_vegetation.evaluate_model()\n",
    "\n",
    "\n",
    "# Store results\n",
    "print(\"=========================================\")\n",
    "print(\"Storing Results: Baseline Vegetation...\")\n",
    "print(\"=========================================\")\n",
    "\n",
    "res.to_csv('../results/NNets/Vegetation/baseline/evaluation.csv', index=False)\n",
    "predictions_baseline_vegetation['y_pred_train'].to_csv('../results/NNets/Vegetation/baseline/train_predictions.csv', index=False)\n",
    "predictions_baseline_vegetation['y_pred_test'].to_csv('../results/NNets/Vegetation/baseline/test_predictions.csv', index=False)\n",
    "\n",
    "print(\"Done!\")"
   ]
  },
  {
   "cell_type": "markdown",
   "metadata": {},
   "source": [
    "* InSAR Parameters"
   ]
  },
  {
   "cell_type": "code",
   "execution_count": 9,
   "metadata": {},
   "outputs": [
    {
     "name": "stdout",
     "output_type": "stream",
     "text": [
      "Epoch [1/15], Train Loss: 0.0365, Train MAE: 0.1376, Validation Loss: 0.0346, Validation MAE: 0.1340\n",
      "Epoch [2/15], Train Loss: 0.0346, Train MAE: 0.1337, Validation Loss: 0.0345, Validation MAE: 0.1346\n",
      "Epoch [3/15], Train Loss: 0.0340, Train MAE: 0.1326, Validation Loss: 0.0336, Validation MAE: 0.1322\n",
      "Epoch [4/15], Train Loss: 0.0337, Train MAE: 0.1319, Validation Loss: 0.0342, Validation MAE: 0.1330\n",
      "Epoch [5/15], Train Loss: 0.0334, Train MAE: 0.1313, Validation Loss: 0.0334, Validation MAE: 0.1313\n",
      "Epoch [6/15], Train Loss: 0.0332, Train MAE: 0.1309, Validation Loss: 0.0333, Validation MAE: 0.1316\n",
      "Epoch [7/15], Train Loss: 0.0330, Train MAE: 0.1305, Validation Loss: 0.0328, Validation MAE: 0.1300\n",
      "Epoch [8/15], Train Loss: 0.0328, Train MAE: 0.1302, Validation Loss: 0.0330, Validation MAE: 0.1301\n",
      "Epoch [9/15], Train Loss: 0.0327, Train MAE: 0.1299, Validation Loss: 0.0326, Validation MAE: 0.1301\n",
      "Epoch [10/15], Train Loss: 0.0325, Train MAE: 0.1296, Validation Loss: 0.0325, Validation MAE: 0.1294\n",
      "Epoch [11/15], Train Loss: 0.0324, Train MAE: 0.1294, Validation Loss: 0.0325, Validation MAE: 0.1294\n",
      "Epoch [12/15], Train Loss: 0.0323, Train MAE: 0.1292, Validation Loss: 0.0324, Validation MAE: 0.1291\n",
      "Epoch [13/15], Train Loss: 0.0321, Train MAE: 0.1290, Validation Loss: 0.0322, Validation MAE: 0.1293\n",
      "Epoch [14/15], Train Loss: 0.0321, Train MAE: 0.1288, Validation Loss: 0.0324, Validation MAE: 0.1290\n",
      "Epoch [15/15], Train Loss: 0.0319, Train MAE: 0.1286, Validation Loss: 0.0321, Validation MAE: 0.1289\n",
      " \n",
      "====================================\n",
      "Model Evaluation: UAVSAR Vegetation:\n",
      "====================================\n"
     ]
    },
    {
     "data": {
      "text/html": [
       "<div>\n",
       "<style scoped>\n",
       "    .dataframe tbody tr th:only-of-type {\n",
       "        vertical-align: middle;\n",
       "    }\n",
       "\n",
       "    .dataframe tbody tr th {\n",
       "        vertical-align: top;\n",
       "    }\n",
       "\n",
       "    .dataframe thead th {\n",
       "        text-align: right;\n",
       "    }\n",
       "</style>\n",
       "<table border=\"1\" class=\"dataframe\">\n",
       "  <thead>\n",
       "    <tr style=\"text-align: right;\">\n",
       "      <th></th>\n",
       "      <th>pytorch_nn_train</th>\n",
       "      <th>pytorch_nn_test</th>\n",
       "    </tr>\n",
       "  </thead>\n",
       "  <tbody>\n",
       "    <tr>\n",
       "      <th>RMSE</th>\n",
       "      <td>0.178262</td>\n",
       "      <td>0.180159</td>\n",
       "    </tr>\n",
       "    <tr>\n",
       "      <th>MBE</th>\n",
       "      <td>-0.009709</td>\n",
       "      <td>-0.009402</td>\n",
       "    </tr>\n",
       "    <tr>\n",
       "      <th>RSQ</th>\n",
       "      <td>0.585096</td>\n",
       "      <td>0.578715</td>\n",
       "    </tr>\n",
       "  </tbody>\n",
       "</table>\n",
       "</div>"
      ],
      "text/plain": [
       "      pytorch_nn_train  pytorch_nn_test\n",
       "RMSE          0.178262         0.180159\n",
       "MBE          -0.009709        -0.009402\n",
       "RSQ           0.585096         0.578715"
      ]
     },
     "metadata": {},
     "output_type": "display_data"
    },
    {
     "name": "stdout",
     "output_type": "stream",
     "text": [
      "=====================================\n",
      "Storing Results: UAVSAR Vegetation...\n",
      "=====================================\n",
      "Done!\n"
     ]
    }
   ],
   "source": [
    "insar_vegetation=ModelFitting(\n",
    "    var=UAVSAR_FEATURES,\n",
    "    split=vegetation_splits,\n",
    "    model_name='pytorch_nn'\n",
    ")\n",
    "\n",
    "# fit model\n",
    "insar_vegetation.fit_model()\n",
    "\n",
    "# make predictions\n",
    "predictions_insar_vegetation=insar_vegetation.make_predictions()\n",
    "\n",
    "# evaluate model\n",
    "print(\" \")\n",
    "print(\"====================================\")\n",
    "print(\"Model Evaluation: UAVSAR Vegetation:\")\n",
    "print(\"====================================\")\n",
    "res=insar_vegetation.evaluate_model()\n",
    "\n",
    "\n",
    "# Store results\n",
    "print(\"=====================================\")\n",
    "print(\"Storing Results: UAVSAR Vegetation...\")\n",
    "print(\"=====================================\")\n",
    "\n",
    "res.to_csv('../results/NNets/Vegetation/uavsar/evaluation.csv', index=False)\n",
    "predictions_insar_vegetation['y_pred_train'].to_csv('../results/NNets/Vegetation/uavsar/train_predictions.csv', index=False)\n",
    "predictions_insar_vegetation['y_pred_test'].to_csv('../results/NNets/Vegetation/uavsar/test_predictions.csv', index=False)\n",
    "\n",
    "print(\"Done!\")"
   ]
  },
  {
   "cell_type": "markdown",
   "metadata": {},
   "source": [
    "* InSAR + Vegetation Height"
   ]
  },
  {
   "cell_type": "code",
   "execution_count": 10,
   "metadata": {},
   "outputs": [
    {
     "name": "stdout",
     "output_type": "stream",
     "text": [
      "Epoch [1/15], Train Loss: 0.0309, Train MAE: 0.1228, Validation Loss: 0.0285, Validation MAE: 0.1177\n",
      "Epoch [2/15], Train Loss: 0.0287, Train MAE: 0.1181, Validation Loss: 0.0280, Validation MAE: 0.1167\n",
      "Epoch [3/15], Train Loss: 0.0280, Train MAE: 0.1167, Validation Loss: 0.0276, Validation MAE: 0.1156\n",
      "Epoch [4/15], Train Loss: 0.0276, Train MAE: 0.1158, Validation Loss: 0.0274, Validation MAE: 0.1153\n",
      "Epoch [5/15], Train Loss: 0.0273, Train MAE: 0.1152, Validation Loss: 0.0273, Validation MAE: 0.1154\n",
      "Epoch [6/15], Train Loss: 0.0270, Train MAE: 0.1146, Validation Loss: 0.0268, Validation MAE: 0.1140\n",
      "Epoch [7/15], Train Loss: 0.0268, Train MAE: 0.1141, Validation Loss: 0.0267, Validation MAE: 0.1139\n",
      "Epoch [8/15], Train Loss: 0.0265, Train MAE: 0.1137, Validation Loss: 0.0264, Validation MAE: 0.1135\n",
      "Epoch [9/15], Train Loss: 0.0263, Train MAE: 0.1133, Validation Loss: 0.0263, Validation MAE: 0.1131\n",
      "Epoch [10/15], Train Loss: 0.0262, Train MAE: 0.1130, Validation Loss: 0.0265, Validation MAE: 0.1136\n",
      "Epoch [11/15], Train Loss: 0.0260, Train MAE: 0.1127, Validation Loss: 0.0263, Validation MAE: 0.1130\n",
      "Epoch [12/15], Train Loss: 0.0258, Train MAE: 0.1124, Validation Loss: 0.0260, Validation MAE: 0.1125\n",
      "Epoch [13/15], Train Loss: 0.0257, Train MAE: 0.1121, Validation Loss: 0.0263, Validation MAE: 0.1142\n",
      "Epoch [14/15], Train Loss: 0.0256, Train MAE: 0.1119, Validation Loss: 0.0259, Validation MAE: 0.1124\n",
      "Epoch [15/15], Train Loss: 0.0254, Train MAE: 0.1116, Validation Loss: 0.0257, Validation MAE: 0.1121\n",
      " \n",
      "=================================\n",
      "Model Evaluation: All Vegetation:\n",
      "=================================\n"
     ]
    },
    {
     "data": {
      "text/html": [
       "<div>\n",
       "<style scoped>\n",
       "    .dataframe tbody tr th:only-of-type {\n",
       "        vertical-align: middle;\n",
       "    }\n",
       "\n",
       "    .dataframe tbody tr th {\n",
       "        vertical-align: top;\n",
       "    }\n",
       "\n",
       "    .dataframe thead th {\n",
       "        text-align: right;\n",
       "    }\n",
       "</style>\n",
       "<table border=\"1\" class=\"dataframe\">\n",
       "  <thead>\n",
       "    <tr style=\"text-align: right;\">\n",
       "      <th></th>\n",
       "      <th>pytorch_nn_train</th>\n",
       "      <th>pytorch_nn_test</th>\n",
       "    </tr>\n",
       "  </thead>\n",
       "  <tbody>\n",
       "    <tr>\n",
       "      <th>RMSE</th>\n",
       "      <td>0.158704</td>\n",
       "      <td>0.161116</td>\n",
       "    </tr>\n",
       "    <tr>\n",
       "      <th>MBE</th>\n",
       "      <td>0.006796</td>\n",
       "      <td>0.007101</td>\n",
       "    </tr>\n",
       "    <tr>\n",
       "      <th>RSQ</th>\n",
       "      <td>0.671141</td>\n",
       "      <td>0.663070</td>\n",
       "    </tr>\n",
       "  </tbody>\n",
       "</table>\n",
       "</div>"
      ],
      "text/plain": [
       "      pytorch_nn_train  pytorch_nn_test\n",
       "RMSE          0.158704         0.161116\n",
       "MBE           0.006796         0.007101\n",
       "RSQ           0.671141         0.663070"
      ]
     },
     "metadata": {},
     "output_type": "display_data"
    },
    {
     "name": "stdout",
     "output_type": "stream",
     "text": [
      "==================================\n",
      "Storing Results: All Vegetation...\n",
      "==================================\n",
      "Done!\n"
     ]
    }
   ],
   "source": [
    "all_vegetation=ModelFitting(\n",
    "    var=UAVSAR_AND_VEGETATION_HEIGHT_FEATURES,\n",
    "    split=vegetation_splits,\n",
    "    model_name='pytorch_nn'\n",
    ")\n",
    "\n",
    "# fit model\n",
    "all_vegetation.fit_model()\n",
    "\n",
    "# make predictions\n",
    "predictions_all_vegetation=all_vegetation.make_predictions()\n",
    "\n",
    "# evaluate model\n",
    "print(\" \")\n",
    "print(\"=================================\")\n",
    "print(\"Model Evaluation: All Vegetation:\")\n",
    "print(\"=================================\")\n",
    "res=all_vegetation.evaluate_model()\n",
    "\n",
    "\n",
    "# Store results\n",
    "print(\"==================================\")\n",
    "print(\"Storing Results: All Vegetation...\")\n",
    "print(\"==================================\")\n",
    "\n",
    "res.to_csv('../results/NNets/Vegetation/all/evaluation.csv', index=False)\n",
    "predictions_all_vegetation['y_pred_train'].to_csv('../results/NNets/Vegetation/all/train_predictions.csv', index=False)\n",
    "predictions_all_vegetation['y_pred_test'].to_csv('../results/NNets/Vegetation/all/test_predictions.csv', index=False)\n",
    "\n",
    "print(\"Done!\")"
   ]
  },
  {
   "cell_type": "markdown",
   "metadata": {},
   "source": [
    "## No Vegetation\n",
    "\n",
    "* Baseline"
   ]
  },
  {
   "cell_type": "code",
   "execution_count": 11,
   "metadata": {},
   "outputs": [
    {
     "name": "stdout",
     "output_type": "stream",
     "text": [
      "Epoch [1/15], Train Loss: 0.0635, Train MAE: 0.1761, Validation Loss: 0.0628, Validation MAE: 0.1738\n",
      "Epoch [2/15], Train Loss: 0.0628, Train MAE: 0.1749, Validation Loss: 0.0626, Validation MAE: 0.1737\n",
      "Epoch [3/15], Train Loss: 0.0627, Train MAE: 0.1747, Validation Loss: 0.0629, Validation MAE: 0.1742\n",
      "Epoch [4/15], Train Loss: 0.0627, Train MAE: 0.1746, Validation Loss: 0.0624, Validation MAE: 0.1738\n",
      "Epoch [5/15], Train Loss: 0.0626, Train MAE: 0.1746, Validation Loss: 0.0625, Validation MAE: 0.1741\n",
      "Epoch [6/15], Train Loss: 0.0626, Train MAE: 0.1745, Validation Loss: 0.0626, Validation MAE: 0.1751\n",
      "Epoch [7/15], Train Loss: 0.0626, Train MAE: 0.1745, Validation Loss: 0.0624, Validation MAE: 0.1736\n",
      "Epoch 00008: reducing learning rate of group 0 to 1.0000e-05.\n",
      "Epoch [8/15], Train Loss: 0.0626, Train MAE: 0.1745, Validation Loss: 0.0626, Validation MAE: 0.1735\n",
      "Epoch [9/15], Train Loss: 0.0624, Train MAE: 0.1741, Validation Loss: 0.0623, Validation MAE: 0.1738\n",
      "Epoch [10/15], Train Loss: 0.0624, Train MAE: 0.1741, Validation Loss: 0.0623, Validation MAE: 0.1736\n",
      "Epoch [11/15], Train Loss: 0.0624, Train MAE: 0.1741, Validation Loss: 0.0624, Validation MAE: 0.1742\n",
      "Epoch [12/15], Train Loss: 0.0624, Train MAE: 0.1741, Validation Loss: 0.0623, Validation MAE: 0.1734\n",
      "Epoch 00013: reducing learning rate of group 0 to 1.0000e-06.\n",
      "Epoch [13/15], Train Loss: 0.0624, Train MAE: 0.1741, Validation Loss: 0.0624, Validation MAE: 0.1733\n",
      "Epoch [14/15], Train Loss: 0.0624, Train MAE: 0.1740, Validation Loss: 0.0623, Validation MAE: 0.1736\n",
      "Epoch [15/15], Train Loss: 0.0624, Train MAE: 0.1740, Validation Loss: 0.0623, Validation MAE: 0.1736\n",
      " \n",
      "=========================================\n",
      "Model Evaluation: Baseline No Vegetation:\n",
      "=========================================\n"
     ]
    },
    {
     "data": {
      "text/html": [
       "<div>\n",
       "<style scoped>\n",
       "    .dataframe tbody tr th:only-of-type {\n",
       "        vertical-align: middle;\n",
       "    }\n",
       "\n",
       "    .dataframe tbody tr th {\n",
       "        vertical-align: top;\n",
       "    }\n",
       "\n",
       "    .dataframe thead th {\n",
       "        text-align: right;\n",
       "    }\n",
       "</style>\n",
       "<table border=\"1\" class=\"dataframe\">\n",
       "  <thead>\n",
       "    <tr style=\"text-align: right;\">\n",
       "      <th></th>\n",
       "      <th>pytorch_nn_train</th>\n",
       "      <th>pytorch_nn_test</th>\n",
       "    </tr>\n",
       "  </thead>\n",
       "  <tbody>\n",
       "    <tr>\n",
       "      <th>RMSE</th>\n",
       "      <td>0.249751</td>\n",
       "      <td>0.249336</td>\n",
       "    </tr>\n",
       "    <tr>\n",
       "      <th>MBE</th>\n",
       "      <td>-0.000497</td>\n",
       "      <td>0.000283</td>\n",
       "    </tr>\n",
       "    <tr>\n",
       "      <th>RSQ</th>\n",
       "      <td>0.318205</td>\n",
       "      <td>0.321001</td>\n",
       "    </tr>\n",
       "  </tbody>\n",
       "</table>\n",
       "</div>"
      ],
      "text/plain": [
       "      pytorch_nn_train  pytorch_nn_test\n",
       "RMSE          0.249751         0.249336\n",
       "MBE          -0.000497         0.000283\n",
       "RSQ           0.318205         0.321001"
      ]
     },
     "metadata": {},
     "output_type": "display_data"
    },
    {
     "name": "stdout",
     "output_type": "stream",
     "text": [
      "==========================================\n",
      "Storing Results: Baseline No Vegetation...\n",
      "==========================================\n",
      "Done!\n"
     ]
    }
   ],
   "source": [
    "baseline_no_vegetation=ModelFitting(\n",
    "    var=BASELINE_FEATURES,\n",
    "    split=no_vegetation_splits,\n",
    "    model_name='pytorch_nn'\n",
    ")\n",
    "\n",
    "# fit model\n",
    "baseline_no_vegetation.fit_model()\n",
    "\n",
    "# make predictions\n",
    "predictions_baseline_no_vegetation=baseline_no_vegetation.make_predictions()\n",
    "\n",
    "# evaluate model\n",
    "print(\" \")\n",
    "print(\"=========================================\")\n",
    "print(\"Model Evaluation: Baseline No Vegetation:\")\n",
    "print(\"=========================================\")\n",
    "res=baseline_no_vegetation.evaluate_model()\n",
    "\n",
    "\n",
    "# Store results\n",
    "print(\"==========================================\")\n",
    "print(\"Storing Results: Baseline No Vegetation...\")\n",
    "print(\"==========================================\")\n",
    "\n",
    "res.to_csv('../results/NNets/NoVegetation/baseline/evaluation.csv', index=False)\n",
    "predictions_baseline_no_vegetation['y_pred_train'].to_csv('../results/NNets/NoVegetation/baseline/train_predictions.csv', index=False)\n",
    "predictions_baseline_no_vegetation['y_pred_test'].to_csv('../results/NNets/NoVegetation/baseline/test_predictions.csv', index=False)\n",
    "\n",
    "print(\"Done!\")"
   ]
  },
  {
   "cell_type": "markdown",
   "metadata": {},
   "source": [
    "* InSAR Parameters"
   ]
  },
  {
   "cell_type": "code",
   "execution_count": 12,
   "metadata": {},
   "outputs": [
    {
     "name": "stdout",
     "output_type": "stream",
     "text": [
      "Epoch [1/15], Train Loss: 0.0317, Train MAE: 0.1276, Validation Loss: 0.0300, Validation MAE: 0.1238\n",
      "Epoch [2/15], Train Loss: 0.0297, Train MAE: 0.1234, Validation Loss: 0.0293, Validation MAE: 0.1227\n",
      "Epoch [3/15], Train Loss: 0.0291, Train MAE: 0.1221, Validation Loss: 0.0288, Validation MAE: 0.1213\n",
      "Epoch [4/15], Train Loss: 0.0287, Train MAE: 0.1213, Validation Loss: 0.0289, Validation MAE: 0.1213\n",
      "Epoch [5/15], Train Loss: 0.0284, Train MAE: 0.1207, Validation Loss: 0.0284, Validation MAE: 0.1205\n",
      "Epoch [6/15], Train Loss: 0.0281, Train MAE: 0.1202, Validation Loss: 0.0282, Validation MAE: 0.1201\n",
      "Epoch [7/15], Train Loss: 0.0279, Train MAE: 0.1198, Validation Loss: 0.0283, Validation MAE: 0.1202\n",
      "Epoch [8/15], Train Loss: 0.0277, Train MAE: 0.1194, Validation Loss: 0.0279, Validation MAE: 0.1191\n",
      "Epoch [9/15], Train Loss: 0.0275, Train MAE: 0.1191, Validation Loss: 0.0277, Validation MAE: 0.1194\n",
      "Epoch [10/15], Train Loss: 0.0274, Train MAE: 0.1189, Validation Loss: 0.0276, Validation MAE: 0.1193\n",
      "Epoch [11/15], Train Loss: 0.0273, Train MAE: 0.1186, Validation Loss: 0.0276, Validation MAE: 0.1186\n",
      "Epoch [12/15], Train Loss: 0.0271, Train MAE: 0.1184, Validation Loss: 0.0275, Validation MAE: 0.1185\n",
      "Epoch [13/15], Train Loss: 0.0270, Train MAE: 0.1182, Validation Loss: 0.0275, Validation MAE: 0.1187\n",
      "Epoch [14/15], Train Loss: 0.0269, Train MAE: 0.1180, Validation Loss: 0.0274, Validation MAE: 0.1189\n",
      "Epoch [15/15], Train Loss: 0.0268, Train MAE: 0.1178, Validation Loss: 0.0271, Validation MAE: 0.1179\n",
      " \n",
      "=======================================\n",
      "Model Evaluation: UAVSAR No Vegetation:\n",
      "=======================================\n"
     ]
    },
    {
     "data": {
      "text/html": [
       "<div>\n",
       "<style scoped>\n",
       "    .dataframe tbody tr th:only-of-type {\n",
       "        vertical-align: middle;\n",
       "    }\n",
       "\n",
       "    .dataframe tbody tr th {\n",
       "        vertical-align: top;\n",
       "    }\n",
       "\n",
       "    .dataframe thead th {\n",
       "        text-align: right;\n",
       "    }\n",
       "</style>\n",
       "<table border=\"1\" class=\"dataframe\">\n",
       "  <thead>\n",
       "    <tr style=\"text-align: right;\">\n",
       "      <th></th>\n",
       "      <th>pytorch_nn_train</th>\n",
       "      <th>pytorch_nn_test</th>\n",
       "    </tr>\n",
       "  </thead>\n",
       "  <tbody>\n",
       "    <tr>\n",
       "      <th>RMSE</th>\n",
       "      <td>0.163000</td>\n",
       "      <td>0.164637</td>\n",
       "    </tr>\n",
       "    <tr>\n",
       "      <th>MBE</th>\n",
       "      <td>-0.003726</td>\n",
       "      <td>-0.003464</td>\n",
       "    </tr>\n",
       "    <tr>\n",
       "      <th>RSQ</th>\n",
       "      <td>0.709587</td>\n",
       "      <td>0.703957</td>\n",
       "    </tr>\n",
       "  </tbody>\n",
       "</table>\n",
       "</div>"
      ],
      "text/plain": [
       "      pytorch_nn_train  pytorch_nn_test\n",
       "RMSE          0.163000         0.164637\n",
       "MBE          -0.003726        -0.003464\n",
       "RSQ           0.709587         0.703957"
      ]
     },
     "metadata": {},
     "output_type": "display_data"
    },
    {
     "name": "stdout",
     "output_type": "stream",
     "text": [
      "========================================\n",
      "Storing Results: UAVSAR No Vegetation...\n",
      "========================================\n",
      "Done!\n"
     ]
    }
   ],
   "source": [
    "insar_no_vegetation=ModelFitting(\n",
    "    var=UAVSAR_FEATURES,\n",
    "    split=no_vegetation_splits,\n",
    "    model_name='pytorch_nn'\n",
    ")\n",
    "\n",
    "# fit model\n",
    "insar_no_vegetation.fit_model()\n",
    "\n",
    "# make predictions\n",
    "predictions_insar_no_vegetation=insar_no_vegetation.make_predictions()\n",
    "\n",
    "# evaluate model\n",
    "print(\" \")\n",
    "print(\"=======================================\")\n",
    "print(\"Model Evaluation: UAVSAR No Vegetation:\")\n",
    "print(\"=======================================\")\n",
    "res=insar_no_vegetation.evaluate_model()\n",
    "\n",
    "\n",
    "# Store results\n",
    "print(\"========================================\")\n",
    "print(\"Storing Results: UAVSAR No Vegetation...\")\n",
    "print(\"========================================\")\n",
    "\n",
    "res.to_csv('../results/NNets/NoVegetation/uavsar/evaluation.csv', index=False)\n",
    "predictions_insar_no_vegetation['y_pred_train'].to_csv('../results/NNets/NoVegetation/uavsar/train_predictions.csv', index=False)\n",
    "predictions_insar_no_vegetation['y_pred_test'].to_csv('../results/NNets/NoVegetation/uavsar/test_predictions.csv', index=False)\n",
    "\n",
    "print(\"Done!\")"
   ]
  },
  {
   "cell_type": "markdown",
   "metadata": {},
   "source": [
    "## The End!"
   ]
  }
 ],
 "metadata": {
  "kernelspec": {
   "display_name": "autoskln",
   "language": "python",
   "name": "python3"
  },
  "language_info": {
   "codemirror_mode": {
    "name": "ipython",
    "version": 3
   },
   "file_extension": ".py",
   "mimetype": "text/x-python",
   "name": "python",
   "nbconvert_exporter": "python",
   "pygments_lexer": "ipython3",
   "version": "3.10.10"
  },
  "orig_nbformat": 4
 },
 "nbformat": 4,
 "nbformat_minor": 2
}
