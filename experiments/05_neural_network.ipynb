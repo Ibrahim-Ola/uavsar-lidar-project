{
 "cells": [
  {
   "cell_type": "markdown",
   "metadata": {},
   "source": [
    "## Setup\n",
    "\n",
    "Load libraries"
   ]
  },
  {
   "cell_type": "code",
   "execution_count": 1,
   "metadata": {},
   "outputs": [],
   "source": [
    "import os\n",
    "import pickle\n",
    "\n",
    "from utils.model_fitting_utils import ModelFitting\n",
    "from utils.features import BASELINE_FEATURES, UAVSAR_FEATURES, UAVSAR_AND_VEGETATION_HEIGHT_FEATURES"
   ]
  },
  {
   "cell_type": "markdown",
   "metadata": {},
   "source": [
    "## Load Data"
   ]
  },
  {
   "cell_type": "code",
   "execution_count": 3,
   "metadata": {},
   "outputs": [],
   "source": [
    "with open('../data/full_splits.pkl', 'rb') as f:\n",
    "    full_splits = pickle.load(f)\n",
    "\n",
    "\n",
    "with open('../data/vegetation_splits.pkl', 'rb') as f:\n",
    "    vegetation_splits = pickle.load(f)\n",
    "\n",
    "\n",
    "with open('../data/no_vegetation_splits.pkl', 'rb') as f:\n",
    "    no_vegetation_splits = pickle.load(f)"
   ]
  },
  {
   "cell_type": "markdown",
   "metadata": {},
   "source": [
    "* Create folders to store results"
   ]
  },
  {
   "cell_type": "code",
   "execution_count": 4,
   "metadata": {},
   "outputs": [],
   "source": [
    "os.makedirs('../results', exist_ok=True)\n",
    "os.makedirs('../results/NNets', exist_ok=True)\n",
    "\n",
    "os.makedirs('../results/NNets/AllCombined', exist_ok=True)\n",
    "os.makedirs('../results/NNets/AllCombined/all', exist_ok=True)\n",
    "os.makedirs('../results/NNets/AllCombined/baseline', exist_ok=True)\n",
    "os.makedirs('../results/NNets/AllCombined/uavsar', exist_ok=True)\n",
    "\n",
    "os.makedirs('../results/NNets/NoVegetation', exist_ok=True)\n",
    "os.makedirs('../results/NNets/NoVegetation/all', exist_ok=True)\n",
    "os.makedirs('../results/NNets/NoVegetation/baseline', exist_ok=True)\n",
    "os.makedirs('../results/NNets/NoVegetation/uavsar', exist_ok=True)\n",
    "\n",
    "os.makedirs('../results/NNets/Vegetation', exist_ok=True)\n",
    "os.makedirs('../results/NNets/Vegetation/all', exist_ok=True)\n",
    "os.makedirs('../results/NNets/Vegetation/baseline', exist_ok=True)\n",
    "os.makedirs('../results/NNets/Vegetation/uavsar', exist_ok=True)"
   ]
  },
  {
   "cell_type": "markdown",
   "metadata": {},
   "source": [
    "## Full Dataset\n",
    "\n",
    "* Baseline"
   ]
  },
  {
   "cell_type": "code",
   "execution_count": 9,
   "metadata": {},
   "outputs": [
    {
     "name": "stdout",
     "output_type": "stream",
     "text": [
      "Epoch [1/15], Train Loss: 0.0634, Train MAE: 0.1861, Validation Loss: 0.0628, Validation MAE: 0.1859\n",
      "Epoch [2/15], Train Loss: 0.0629, Train MAE: 0.1853, Validation Loss: 0.0625, Validation MAE: 0.1850\n",
      "Epoch [3/15], Train Loss: 0.0629, Train MAE: 0.1852, Validation Loss: 0.0625, Validation MAE: 0.1850\n",
      "Epoch [4/15], Train Loss: 0.0628, Train MAE: 0.1851, Validation Loss: 0.0625, Validation MAE: 0.1848\n",
      "Epoch [5/15], Train Loss: 0.0628, Train MAE: 0.1851, Validation Loss: 0.0625, Validation MAE: 0.1849\n",
      "Epoch [6/15], Train Loss: 0.0628, Train MAE: 0.1850, Validation Loss: 0.0625, Validation MAE: 0.1847\n",
      "Epoch [7/15], Train Loss: 0.0628, Train MAE: 0.1850, Validation Loss: 0.0624, Validation MAE: 0.1846\n",
      "Epoch [8/15], Train Loss: 0.0628, Train MAE: 0.1850, Validation Loss: 0.0624, Validation MAE: 0.1844\n",
      "Epoch [9/15], Train Loss: 0.0627, Train MAE: 0.1849, Validation Loss: 0.0626, Validation MAE: 0.1851\n",
      "Epoch [10/15], Train Loss: 0.0627, Train MAE: 0.1849, Validation Loss: 0.0623, Validation MAE: 0.1845\n",
      "Epoch [11/15], Train Loss: 0.0627, Train MAE: 0.1849, Validation Loss: 0.0625, Validation MAE: 0.1848\n",
      "Epoch [12/15], Train Loss: 0.0627, Train MAE: 0.1848, Validation Loss: 0.0623, Validation MAE: 0.1842\n",
      "Epoch [13/15], Train Loss: 0.0626, Train MAE: 0.1847, Validation Loss: 0.0625, Validation MAE: 0.1852\n",
      "Epoch [14/15], Train Loss: 0.0626, Train MAE: 0.1846, Validation Loss: 0.0630, Validation MAE: 0.1866\n",
      "Epoch [15/15], Train Loss: 0.0626, Train MAE: 0.1846, Validation Loss: 0.0623, Validation MAE: 0.1844\n",
      " \n",
      "================================\n",
      "Model Evaluation: Baseline Full:\n",
      "================================\n"
     ]
    },
    {
     "data": {
      "text/html": [
       "<div>\n",
       "<style scoped>\n",
       "    .dataframe tbody tr th:only-of-type {\n",
       "        vertical-align: middle;\n",
       "    }\n",
       "\n",
       "    .dataframe tbody tr th {\n",
       "        vertical-align: top;\n",
       "    }\n",
       "\n",
       "    .dataframe thead th {\n",
       "        text-align: right;\n",
       "    }\n",
       "</style>\n",
       "<table border=\"1\" class=\"dataframe\">\n",
       "  <thead>\n",
       "    <tr style=\"text-align: right;\">\n",
       "      <th></th>\n",
       "      <th>pytorch_nn_train</th>\n",
       "      <th>pytorch_nn_test</th>\n",
       "    </tr>\n",
       "  </thead>\n",
       "  <tbody>\n",
       "    <tr>\n",
       "      <th>RMSE</th>\n",
       "      <td>0.250086</td>\n",
       "      <td>0.249557</td>\n",
       "    </tr>\n",
       "    <tr>\n",
       "      <th>MBE</th>\n",
       "      <td>0.011133</td>\n",
       "      <td>0.011464</td>\n",
       "    </tr>\n",
       "    <tr>\n",
       "      <th>RSQ</th>\n",
       "      <td>0.217401</td>\n",
       "      <td>0.217983</td>\n",
       "    </tr>\n",
       "  </tbody>\n",
       "</table>\n",
       "</div>"
      ],
      "text/plain": [
       "      pytorch_nn_train  pytorch_nn_test\n",
       "RMSE          0.250086         0.249557\n",
       "MBE           0.011133         0.011464\n",
       "RSQ           0.217401         0.217983"
      ]
     },
     "metadata": {},
     "output_type": "display_data"
    },
    {
     "name": "stdout",
     "output_type": "stream",
     "text": [
      "=================================\n",
      "Storing Results: Baseline Full...\n",
      "=================================\n",
      "Done!\n"
     ]
    }
   ],
   "source": [
    "baseline_full=ModelFitting(\n",
    "    var=BASELINE_FEATURES,\n",
    "    split=full_splits,\n",
    "    model_name='pytorch_nn'\n",
    ")\n",
    "\n",
    "# fit model\n",
    "baseline_full.fit_model()\n",
    "\n",
    "# make predictions\n",
    "predictions_baseline_full=baseline_full.make_predictions()\n",
    "\n",
    "# evaluate model\n",
    "print(\" \")\n",
    "print(\"================================\")\n",
    "print(\"Model Evaluation: Baseline Full:\")\n",
    "print(\"================================\")\n",
    "res=baseline_full.evaluate_model()\n",
    "\n",
    "\n",
    "# Store results\n",
    "print(\"=================================\")\n",
    "print(\"Storing Results: Baseline Full...\")\n",
    "print(\"=================================\")\n",
    "\n",
    "res.to_csv('../results/NNets/AllCombined/baseline/evaluation.csv', index=False)\n",
    "predictions_baseline_full['y_pred_train'].to_csv('../results/NNets/AllCombined/baseline/train_predictions.csv', index=False)\n",
    "predictions_baseline_full['y_pred_test'].to_csv('../results/NNets/AllCombined/baseline/test_predictions.csv', index=False)\n",
    "\n",
    "print(\"Done!\")"
   ]
  },
  {
   "cell_type": "markdown",
   "metadata": {},
   "source": [
    "* InSAR Parameters"
   ]
  },
  {
   "cell_type": "code",
   "execution_count": 10,
   "metadata": {},
   "outputs": [
    {
     "name": "stdout",
     "output_type": "stream",
     "text": [
      "Epoch [1/15], Train Loss: 0.0308, Train MAE: 0.1296, Validation Loss: 0.0295, Validation MAE: 0.1270\n",
      "Epoch [2/15], Train Loss: 0.0293, Train MAE: 0.1259, Validation Loss: 0.0288, Validation MAE: 0.1249\n",
      "Epoch [3/15], Train Loss: 0.0288, Train MAE: 0.1247, Validation Loss: 0.0284, Validation MAE: 0.1239\n",
      "Epoch [4/15], Train Loss: 0.0285, Train MAE: 0.1240, Validation Loss: 0.0283, Validation MAE: 0.1237\n",
      "Epoch [5/15], Train Loss: 0.0282, Train MAE: 0.1235, Validation Loss: 0.0281, Validation MAE: 0.1230\n",
      "Epoch [6/15], Train Loss: 0.0281, Train MAE: 0.1231, Validation Loss: 0.0281, Validation MAE: 0.1231\n",
      "Epoch [7/15], Train Loss: 0.0279, Train MAE: 0.1228, Validation Loss: 0.0277, Validation MAE: 0.1225\n",
      "Epoch [8/15], Train Loss: 0.0278, Train MAE: 0.1226, Validation Loss: 0.0277, Validation MAE: 0.1222\n",
      "Epoch [9/15], Train Loss: 0.0277, Train MAE: 0.1223, Validation Loss: 0.0277, Validation MAE: 0.1224\n",
      "Epoch [10/15], Train Loss: 0.0276, Train MAE: 0.1221, Validation Loss: 0.0276, Validation MAE: 0.1221\n",
      "Epoch [11/15], Train Loss: 0.0275, Train MAE: 0.1219, Validation Loss: 0.0276, Validation MAE: 0.1221\n",
      "Epoch [12/15], Train Loss: 0.0274, Train MAE: 0.1217, Validation Loss: 0.0274, Validation MAE: 0.1217\n",
      "Epoch [13/15], Train Loss: 0.0273, Train MAE: 0.1215, Validation Loss: 0.0275, Validation MAE: 0.1219\n",
      "Epoch [14/15], Train Loss: 0.0273, Train MAE: 0.1214, Validation Loss: 0.0273, Validation MAE: 0.1213\n",
      "Epoch [15/15], Train Loss: 0.0272, Train MAE: 0.1212, Validation Loss: 0.0274, Validation MAE: 0.1214\n",
      " \n",
      "==============================\n",
      "Model Evaluation: UAVSAR Full:\n",
      "==============================\n"
     ]
    },
    {
     "data": {
      "text/html": [
       "<div>\n",
       "<style scoped>\n",
       "    .dataframe tbody tr th:only-of-type {\n",
       "        vertical-align: middle;\n",
       "    }\n",
       "\n",
       "    .dataframe tbody tr th {\n",
       "        vertical-align: top;\n",
       "    }\n",
       "\n",
       "    .dataframe thead th {\n",
       "        text-align: right;\n",
       "    }\n",
       "</style>\n",
       "<table border=\"1\" class=\"dataframe\">\n",
       "  <thead>\n",
       "    <tr style=\"text-align: right;\">\n",
       "      <th></th>\n",
       "      <th>pytorch_nn_train</th>\n",
       "      <th>pytorch_nn_test</th>\n",
       "    </tr>\n",
       "  </thead>\n",
       "  <tbody>\n",
       "    <tr>\n",
       "      <th>RMSE</th>\n",
       "      <td>0.164909</td>\n",
       "      <td>0.165037</td>\n",
       "    </tr>\n",
       "    <tr>\n",
       "      <th>MBE</th>\n",
       "      <td>0.009348</td>\n",
       "      <td>0.009699</td>\n",
       "    </tr>\n",
       "    <tr>\n",
       "      <th>RSQ</th>\n",
       "      <td>0.659709</td>\n",
       "      <td>0.657990</td>\n",
       "    </tr>\n",
       "  </tbody>\n",
       "</table>\n",
       "</div>"
      ],
      "text/plain": [
       "      pytorch_nn_train  pytorch_nn_test\n",
       "RMSE          0.164909         0.165037\n",
       "MBE           0.009348         0.009699\n",
       "RSQ           0.659709         0.657990"
      ]
     },
     "metadata": {},
     "output_type": "display_data"
    },
    {
     "name": "stdout",
     "output_type": "stream",
     "text": [
      "===============================\n",
      "Storing Results: UAVSAR Full...\n",
      "===============================\n",
      "Done!\n"
     ]
    }
   ],
   "source": [
    "insar_full=ModelFitting(\n",
    "    var=UAVSAR_FEATURES,\n",
    "    split=full_splits,\n",
    "    model_name='pytorch_nn'\n",
    ")\n",
    "\n",
    "# fit model\n",
    "insar_full.fit_model()\n",
    "\n",
    "# make predictions\n",
    "predictions_insar_full=insar_full.make_predictions()\n",
    "\n",
    "# evaluate model\n",
    "print(\" \")\n",
    "print(\"==============================\")\n",
    "print(\"Model Evaluation: UAVSAR Full:\")\n",
    "print(\"==============================\")\n",
    "res=insar_full.evaluate_model()\n",
    "\n",
    "\n",
    "# Store results\n",
    "print(\"===============================\")\n",
    "print(\"Storing Results: UAVSAR Full...\")\n",
    "print(\"===============================\")\n",
    "\n",
    "res.to_csv('../results/NNets/AllCombined/uavsar/evaluation.csv', index=False)\n",
    "predictions_insar_full['y_pred_train'].to_csv('../results/NNets/AllCombined/uavsar/train_predictions.csv', index=False)\n",
    "predictions_insar_full['y_pred_test'].to_csv('../results/NNets/AllCombined/uavsar/test_predictions.csv', index=False)\n",
    "\n",
    "print(\"Done!\")"
   ]
  },
  {
   "cell_type": "markdown",
   "metadata": {},
   "source": [
    "* InSAR + Vegetation Height"
   ]
  },
  {
   "cell_type": "code",
   "execution_count": 13,
   "metadata": {},
   "outputs": [
    {
     "name": "stdout",
     "output_type": "stream",
     "text": [
      "Epoch [1/15], Train Loss: 0.0284, Train MAE: 0.1230, Validation Loss: 0.0268, Validation MAE: 0.1195\n",
      "Epoch [2/15], Train Loss: 0.0267, Train MAE: 0.1189, Validation Loss: 0.0262, Validation MAE: 0.1180\n",
      "Epoch [3/15], Train Loss: 0.0261, Train MAE: 0.1174, Validation Loss: 0.0256, Validation MAE: 0.1163\n",
      "Epoch [4/15], Train Loss: 0.0257, Train MAE: 0.1165, Validation Loss: 0.0255, Validation MAE: 0.1161\n",
      "Epoch [5/15], Train Loss: 0.0254, Train MAE: 0.1158, Validation Loss: 0.0253, Validation MAE: 0.1159\n",
      "Epoch [6/15], Train Loss: 0.0251, Train MAE: 0.1153, Validation Loss: 0.0253, Validation MAE: 0.1155\n",
      "Epoch [7/15], Train Loss: 0.0249, Train MAE: 0.1148, Validation Loss: 0.0251, Validation MAE: 0.1155\n",
      "Epoch [8/15], Train Loss: 0.0247, Train MAE: 0.1144, Validation Loss: 0.0249, Validation MAE: 0.1147\n",
      "Epoch [9/15], Train Loss: 0.0246, Train MAE: 0.1141, Validation Loss: 0.0247, Validation MAE: 0.1145\n",
      "Epoch [10/15], Train Loss: 0.0244, Train MAE: 0.1137, Validation Loss: 0.0245, Validation MAE: 0.1136\n",
      "Epoch [11/15], Train Loss: 0.0243, Train MAE: 0.1134, Validation Loss: 0.0243, Validation MAE: 0.1132\n",
      "Epoch [12/15], Train Loss: 0.0242, Train MAE: 0.1132, Validation Loss: 0.0243, Validation MAE: 0.1133\n",
      "Epoch [13/15], Train Loss: 0.0241, Train MAE: 0.1129, Validation Loss: 0.0243, Validation MAE: 0.1133\n",
      "Epoch [14/15], Train Loss: 0.0240, Train MAE: 0.1128, Validation Loss: 0.0241, Validation MAE: 0.1133\n",
      "Epoch [15/15], Train Loss: 0.0239, Train MAE: 0.1125, Validation Loss: 0.0243, Validation MAE: 0.1132\n",
      " \n",
      "===============================\n",
      "Model Evaluation: All Features:\n",
      "===============================\n"
     ]
    },
    {
     "data": {
      "text/html": [
       "<div>\n",
       "<style scoped>\n",
       "    .dataframe tbody tr th:only-of-type {\n",
       "        vertical-align: middle;\n",
       "    }\n",
       "\n",
       "    .dataframe tbody tr th {\n",
       "        vertical-align: top;\n",
       "    }\n",
       "\n",
       "    .dataframe thead th {\n",
       "        text-align: right;\n",
       "    }\n",
       "</style>\n",
       "<table border=\"1\" class=\"dataframe\">\n",
       "  <thead>\n",
       "    <tr style=\"text-align: right;\">\n",
       "      <th></th>\n",
       "      <th>pytorch_nn_train</th>\n",
       "      <th>pytorch_nn_test</th>\n",
       "    </tr>\n",
       "  </thead>\n",
       "  <tbody>\n",
       "    <tr>\n",
       "      <th>RMSE</th>\n",
       "      <td>0.154906</td>\n",
       "      <td>0.155443</td>\n",
       "    </tr>\n",
       "    <tr>\n",
       "      <th>MBE</th>\n",
       "      <td>-0.009469</td>\n",
       "      <td>-0.008986</td>\n",
       "    </tr>\n",
       "    <tr>\n",
       "      <th>RSQ</th>\n",
       "      <td>0.699741</td>\n",
       "      <td>0.696597</td>\n",
       "    </tr>\n",
       "  </tbody>\n",
       "</table>\n",
       "</div>"
      ],
      "text/plain": [
       "      pytorch_nn_train  pytorch_nn_test\n",
       "RMSE          0.154906         0.155443\n",
       "MBE          -0.009469        -0.008986\n",
       "RSQ           0.699741         0.696597"
      ]
     },
     "metadata": {},
     "output_type": "display_data"
    },
    {
     "name": "stdout",
     "output_type": "stream",
     "text": [
      "================================\n",
      "Storing Results: All Features...\n",
      "================================\n"
     ]
    }
   ],
   "source": [
    "all_full=ModelFitting(\n",
    "    var=UAVSAR_AND_VEGETATION_HEIGHT_FEATURES,\n",
    "    split=full_splits,\n",
    "    model_name='pytorch_nn'\n",
    ")\n",
    "\n",
    "# fit model\n",
    "all_full.fit_model()\n",
    "\n",
    "# make predictions\n",
    "predictions_all_full=all_full.make_predictions()\n",
    "\n",
    "# evaluate model\n",
    "print(\" \")\n",
    "print(\"===============================\")\n",
    "print(\"Model Evaluation: All Features:\")\n",
    "print(\"===============================\")\n",
    "res=all_full.evaluate_model()\n",
    "\n",
    "\n",
    "# Store results\n",
    "print(\"================================\")\n",
    "print(\"Storing Results: All Features...\")\n",
    "print(\"================================\")\n",
    "\n",
    "res.to_csv('../results/NNets/AllCombined/all/evaluation.csv', index=False)\n",
    "predictions_all_full['y_pred_train'].to_csv('../results/NNets/AllCombined/all/train_predictions.csv', index=False)\n",
    "predictions_all_full['y_pred_test'].to_csv('../results/NNets/AllCombined/all/test_predictions.csv', index=False)\n",
    "\n",
    "print(\"Done!\")"
   ]
  },
  {
   "cell_type": "markdown",
   "metadata": {},
   "source": [
    "## Vegetation\n",
    "\n",
    "* Baseline"
   ]
  },
  {
   "cell_type": "code",
   "execution_count": 14,
   "metadata": {},
   "outputs": [
    {
     "name": "stdout",
     "output_type": "stream",
     "text": [
      "Epoch [1/15], Train Loss: 0.0533, Train MAE: 0.1729, Validation Loss: 0.0529, Validation MAE: 0.1730\n",
      "Epoch [2/15], Train Loss: 0.0526, Train MAE: 0.1716, Validation Loss: 0.0521, Validation MAE: 0.1709\n",
      "Epoch [3/15], Train Loss: 0.0525, Train MAE: 0.1714, Validation Loss: 0.0521, Validation MAE: 0.1713\n",
      "Epoch [4/15], Train Loss: 0.0524, Train MAE: 0.1713, Validation Loss: 0.0520, Validation MAE: 0.1702\n",
      "Epoch [5/15], Train Loss: 0.0524, Train MAE: 0.1712, Validation Loss: 0.0523, Validation MAE: 0.1718\n",
      "Epoch [6/15], Train Loss: 0.0523, Train MAE: 0.1712, Validation Loss: 0.0522, Validation MAE: 0.1712\n",
      "Epoch [7/15], Train Loss: 0.0523, Train MAE: 0.1711, Validation Loss: 0.0521, Validation MAE: 0.1710\n",
      "Epoch 00008: reducing learning rate of group 0 to 1.0000e-05.\n",
      "Epoch [8/15], Train Loss: 0.0523, Train MAE: 0.1711, Validation Loss: 0.0523, Validation MAE: 0.1707\n",
      "Epoch [9/15], Train Loss: 0.0521, Train MAE: 0.1707, Validation Loss: 0.0520, Validation MAE: 0.1704\n",
      "Epoch [10/15], Train Loss: 0.0521, Train MAE: 0.1706, Validation Loss: 0.0520, Validation MAE: 0.1703\n",
      "Epoch [11/15], Train Loss: 0.0521, Train MAE: 0.1706, Validation Loss: 0.0519, Validation MAE: 0.1703\n",
      "Epoch [12/15], Train Loss: 0.0521, Train MAE: 0.1706, Validation Loss: 0.0519, Validation MAE: 0.1703\n",
      "Epoch [13/15], Train Loss: 0.0521, Train MAE: 0.1706, Validation Loss: 0.0520, Validation MAE: 0.1703\n",
      "Epoch [14/15], Train Loss: 0.0521, Train MAE: 0.1706, Validation Loss: 0.0520, Validation MAE: 0.1703\n",
      "Epoch 00015: reducing learning rate of group 0 to 1.0000e-06.\n",
      "Epoch [15/15], Train Loss: 0.0521, Train MAE: 0.1706, Validation Loss: 0.0520, Validation MAE: 0.1702\n",
      " \n",
      "========================================\n",
      "Model Evaluation: Baseline Vegetation:\n",
      "========================================\n"
     ]
    },
    {
     "data": {
      "text/html": [
       "<div>\n",
       "<style scoped>\n",
       "    .dataframe tbody tr th:only-of-type {\n",
       "        vertical-align: middle;\n",
       "    }\n",
       "\n",
       "    .dataframe tbody tr th {\n",
       "        vertical-align: top;\n",
       "    }\n",
       "\n",
       "    .dataframe thead th {\n",
       "        text-align: right;\n",
       "    }\n",
       "</style>\n",
       "<table border=\"1\" class=\"dataframe\">\n",
       "  <thead>\n",
       "    <tr style=\"text-align: right;\">\n",
       "      <th></th>\n",
       "      <th>pytorch_nn_train</th>\n",
       "      <th>pytorch_nn_test</th>\n",
       "    </tr>\n",
       "  </thead>\n",
       "  <tbody>\n",
       "    <tr>\n",
       "      <th>RMSE</th>\n",
       "      <td>0.228280</td>\n",
       "      <td>0.227928</td>\n",
       "    </tr>\n",
       "    <tr>\n",
       "      <th>MBE</th>\n",
       "      <td>0.006141</td>\n",
       "      <td>0.005876</td>\n",
       "    </tr>\n",
       "    <tr>\n",
       "      <th>RSQ</th>\n",
       "      <td>0.249633</td>\n",
       "      <td>0.250323</td>\n",
       "    </tr>\n",
       "  </tbody>\n",
       "</table>\n",
       "</div>"
      ],
      "text/plain": [
       "      pytorch_nn_train  pytorch_nn_test\n",
       "RMSE          0.228280         0.227928\n",
       "MBE           0.006141         0.005876\n",
       "RSQ           0.249633         0.250323"
      ]
     },
     "metadata": {},
     "output_type": "display_data"
    },
    {
     "name": "stdout",
     "output_type": "stream",
     "text": [
      "=========================================\n",
      "Storing Results: Baseline Vegetation...\n",
      "=========================================\n",
      "Done!\n"
     ]
    }
   ],
   "source": [
    "baseline_vegetation=ModelFitting(\n",
    "    var=BASELINE_FEATURES,\n",
    "    split=vegetation_splits,\n",
    "    model_name='pytorch_nn'\n",
    ")\n",
    "\n",
    "# fit model\n",
    "baseline_vegetation.fit_model()\n",
    "\n",
    "# make predictions\n",
    "predictions_baseline_vegetation=baseline_vegetation.make_predictions()\n",
    "\n",
    "# evaluate model\n",
    "print(\" \")\n",
    "print(\"========================================\")\n",
    "print(\"Model Evaluation: Baseline Vegetation:\")\n",
    "print(\"========================================\")\n",
    "res=baseline_vegetation.evaluate_model()\n",
    "\n",
    "\n",
    "# Store results\n",
    "print(\"=========================================\")\n",
    "print(\"Storing Results: Baseline Vegetation...\")\n",
    "print(\"=========================================\")\n",
    "\n",
    "res.to_csv('../results/NNets/Vegetation/baseline/evaluation.csv', index=False)\n",
    "predictions_baseline_vegetation['y_pred_train'].to_csv('../results/NNets/Vegetation/baseline/train_predictions.csv', index=False)\n",
    "predictions_baseline_vegetation['y_pred_test'].to_csv('../results/NNets/Vegetation/baseline/test_predictions.csv', index=False)\n",
    "\n",
    "print(\"Done!\")"
   ]
  },
  {
   "cell_type": "markdown",
   "metadata": {},
   "source": [
    "* InSAR Parameters"
   ]
  },
  {
   "cell_type": "code",
   "execution_count": 15,
   "metadata": {},
   "outputs": [
    {
     "name": "stdout",
     "output_type": "stream",
     "text": [
      "Epoch [1/15], Train Loss: 0.0324, Train MAE: 0.1334, Validation Loss: 0.0315, Validation MAE: 0.1319\n",
      "Epoch [2/15], Train Loss: 0.0308, Train MAE: 0.1298, Validation Loss: 0.0304, Validation MAE: 0.1293\n",
      "Epoch [3/15], Train Loss: 0.0302, Train MAE: 0.1286, Validation Loss: 0.0300, Validation MAE: 0.1284\n",
      "Epoch [4/15], Train Loss: 0.0299, Train MAE: 0.1279, Validation Loss: 0.0299, Validation MAE: 0.1283\n",
      "Epoch [5/15], Train Loss: 0.0296, Train MAE: 0.1273, Validation Loss: 0.0293, Validation MAE: 0.1266\n",
      "Epoch [6/15], Train Loss: 0.0295, Train MAE: 0.1269, Validation Loss: 0.0293, Validation MAE: 0.1265\n",
      "Epoch [7/15], Train Loss: 0.0293, Train MAE: 0.1266, Validation Loss: 0.0292, Validation MAE: 0.1262\n",
      "Epoch [8/15], Train Loss: 0.0291, Train MAE: 0.1263, Validation Loss: 0.0290, Validation MAE: 0.1261\n",
      "Epoch [9/15], Train Loss: 0.0290, Train MAE: 0.1259, Validation Loss: 0.0288, Validation MAE: 0.1255\n",
      "Epoch [10/15], Train Loss: 0.0289, Train MAE: 0.1257, Validation Loss: 0.0289, Validation MAE: 0.1258\n",
      "Epoch [11/15], Train Loss: 0.0288, Train MAE: 0.1255, Validation Loss: 0.0286, Validation MAE: 0.1252\n",
      "Epoch [12/15], Train Loss: 0.0287, Train MAE: 0.1253, Validation Loss: 0.0285, Validation MAE: 0.1249\n",
      "Epoch [13/15], Train Loss: 0.0286, Train MAE: 0.1251, Validation Loss: 0.0291, Validation MAE: 0.1258\n",
      "Epoch [14/15], Train Loss: 0.0285, Train MAE: 0.1249, Validation Loss: 0.0287, Validation MAE: 0.1257\n",
      "Epoch [15/15], Train Loss: 0.0284, Train MAE: 0.1247, Validation Loss: 0.0283, Validation MAE: 0.1244\n",
      " \n",
      "====================================\n",
      "Model Evaluation: UAVSAR Vegetation:\n",
      "====================================\n"
     ]
    },
    {
     "data": {
      "text/html": [
       "<div>\n",
       "<style scoped>\n",
       "    .dataframe tbody tr th:only-of-type {\n",
       "        vertical-align: middle;\n",
       "    }\n",
       "\n",
       "    .dataframe tbody tr th {\n",
       "        vertical-align: top;\n",
       "    }\n",
       "\n",
       "    .dataframe thead th {\n",
       "        text-align: right;\n",
       "    }\n",
       "</style>\n",
       "<table border=\"1\" class=\"dataframe\">\n",
       "  <thead>\n",
       "    <tr style=\"text-align: right;\">\n",
       "      <th></th>\n",
       "      <th>pytorch_nn_train</th>\n",
       "      <th>pytorch_nn_test</th>\n",
       "    </tr>\n",
       "  </thead>\n",
       "  <tbody>\n",
       "    <tr>\n",
       "      <th>RMSE</th>\n",
       "      <td>0.167844</td>\n",
       "      <td>0.168812</td>\n",
       "    </tr>\n",
       "    <tr>\n",
       "      <th>MBE</th>\n",
       "      <td>0.003694</td>\n",
       "      <td>0.003468</td>\n",
       "    </tr>\n",
       "    <tr>\n",
       "      <th>RSQ</th>\n",
       "      <td>0.594352</td>\n",
       "      <td>0.588769</td>\n",
       "    </tr>\n",
       "  </tbody>\n",
       "</table>\n",
       "</div>"
      ],
      "text/plain": [
       "      pytorch_nn_train  pytorch_nn_test\n",
       "RMSE          0.167844         0.168812\n",
       "MBE           0.003694         0.003468\n",
       "RSQ           0.594352         0.588769"
      ]
     },
     "metadata": {},
     "output_type": "display_data"
    },
    {
     "name": "stdout",
     "output_type": "stream",
     "text": [
      "=====================================\n",
      "Storing Results: UAVSAR Vegetation...\n",
      "=====================================\n",
      "Done!\n"
     ]
    }
   ],
   "source": [
    "insar_vegetation=ModelFitting(\n",
    "    var=UAVSAR_FEATURES,\n",
    "    split=vegetation_splits,\n",
    "    model_name='pytorch_nn'\n",
    ")\n",
    "\n",
    "# fit model\n",
    "insar_vegetation.fit_model()\n",
    "\n",
    "# make predictions\n",
    "predictions_insar_vegetation=insar_vegetation.make_predictions()\n",
    "\n",
    "# evaluate model\n",
    "print(\" \")\n",
    "print(\"====================================\")\n",
    "print(\"Model Evaluation: UAVSAR Vegetation:\")\n",
    "print(\"====================================\")\n",
    "res=insar_vegetation.evaluate_model()\n",
    "\n",
    "\n",
    "# Store results\n",
    "print(\"=====================================\")\n",
    "print(\"Storing Results: UAVSAR Vegetation...\")\n",
    "print(\"=====================================\")\n",
    "\n",
    "res.to_csv('../results/NNets/Vegetation/uavsar/evaluation.csv', index=False)\n",
    "predictions_insar_vegetation['y_pred_train'].to_csv('../results/NNets/Vegetation/uavsar/train_predictions.csv', index=False)\n",
    "predictions_insar_vegetation['y_pred_test'].to_csv('../results/NNets/Vegetation/uavsar/test_predictions.csv', index=False)\n",
    "\n",
    "print(\"Done!\")"
   ]
  },
  {
   "cell_type": "markdown",
   "metadata": {},
   "source": [
    "* InSAR + Vegetation Height"
   ]
  },
  {
   "cell_type": "code",
   "execution_count": 16,
   "metadata": {},
   "outputs": [
    {
     "name": "stdout",
     "output_type": "stream",
     "text": [
      "Epoch [1/15], Train Loss: 0.0275, Train MAE: 0.1195, Validation Loss: 0.0269, Validation MAE: 0.1186\n",
      "Epoch [2/15], Train Loss: 0.0255, Train MAE: 0.1150, Validation Loss: 0.0252, Validation MAE: 0.1139\n",
      "Epoch [3/15], Train Loss: 0.0250, Train MAE: 0.1137, Validation Loss: 0.0249, Validation MAE: 0.1141\n",
      "Epoch [4/15], Train Loss: 0.0246, Train MAE: 0.1128, Validation Loss: 0.0243, Validation MAE: 0.1121\n",
      "Epoch [5/15], Train Loss: 0.0243, Train MAE: 0.1122, Validation Loss: 0.0242, Validation MAE: 0.1124\n",
      "Epoch [6/15], Train Loss: 0.0241, Train MAE: 0.1116, Validation Loss: 0.0241, Validation MAE: 0.1114\n",
      "Epoch [7/15], Train Loss: 0.0238, Train MAE: 0.1111, Validation Loss: 0.0237, Validation MAE: 0.1107\n",
      "Epoch [8/15], Train Loss: 0.0237, Train MAE: 0.1107, Validation Loss: 0.0236, Validation MAE: 0.1105\n",
      "Epoch [9/15], Train Loss: 0.0235, Train MAE: 0.1104, Validation Loss: 0.0235, Validation MAE: 0.1102\n",
      "Epoch [10/15], Train Loss: 0.0233, Train MAE: 0.1100, Validation Loss: 0.0237, Validation MAE: 0.1107\n",
      "Epoch [11/15], Train Loss: 0.0232, Train MAE: 0.1097, Validation Loss: 0.0239, Validation MAE: 0.1111\n",
      "Epoch [12/15], Train Loss: 0.0230, Train MAE: 0.1094, Validation Loss: 0.0231, Validation MAE: 0.1092\n",
      "Epoch [13/15], Train Loss: 0.0229, Train MAE: 0.1092, Validation Loss: 0.0232, Validation MAE: 0.1100\n",
      "Epoch [14/15], Train Loss: 0.0228, Train MAE: 0.1089, Validation Loss: 0.0231, Validation MAE: 0.1094\n",
      "Epoch [15/15], Train Loss: 0.0227, Train MAE: 0.1087, Validation Loss: 0.0229, Validation MAE: 0.1089\n",
      " \n",
      "=================================\n",
      "Model Evaluation: All Vegetation:\n",
      "=================================\n"
     ]
    },
    {
     "data": {
      "text/html": [
       "<div>\n",
       "<style scoped>\n",
       "    .dataframe tbody tr th:only-of-type {\n",
       "        vertical-align: middle;\n",
       "    }\n",
       "\n",
       "    .dataframe tbody tr th {\n",
       "        vertical-align: top;\n",
       "    }\n",
       "\n",
       "    .dataframe thead th {\n",
       "        text-align: right;\n",
       "    }\n",
       "</style>\n",
       "<table border=\"1\" class=\"dataframe\">\n",
       "  <thead>\n",
       "    <tr style=\"text-align: right;\">\n",
       "      <th></th>\n",
       "      <th>pytorch_nn_train</th>\n",
       "      <th>pytorch_nn_test</th>\n",
       "    </tr>\n",
       "  </thead>\n",
       "  <tbody>\n",
       "    <tr>\n",
       "      <th>RMSE</th>\n",
       "      <td>0.149765</td>\n",
       "      <td>0.151534</td>\n",
       "    </tr>\n",
       "    <tr>\n",
       "      <th>MBE</th>\n",
       "      <td>-0.000873</td>\n",
       "      <td>-0.001002</td>\n",
       "    </tr>\n",
       "    <tr>\n",
       "      <th>RSQ</th>\n",
       "      <td>0.677032</td>\n",
       "      <td>0.668640</td>\n",
       "    </tr>\n",
       "  </tbody>\n",
       "</table>\n",
       "</div>"
      ],
      "text/plain": [
       "      pytorch_nn_train  pytorch_nn_test\n",
       "RMSE          0.149765         0.151534\n",
       "MBE          -0.000873        -0.001002\n",
       "RSQ           0.677032         0.668640"
      ]
     },
     "metadata": {},
     "output_type": "display_data"
    },
    {
     "name": "stdout",
     "output_type": "stream",
     "text": [
      "==================================\n",
      "Storing Results: All Vegetation...\n",
      "==================================\n",
      "Done!\n"
     ]
    }
   ],
   "source": [
    "all_vegetation=ModelFitting(\n",
    "    var=UAVSAR_AND_VEGETATION_HEIGHT_FEATURES,\n",
    "    split=vegetation_splits,\n",
    "    model_name='pytorch_nn'\n",
    ")\n",
    "\n",
    "# fit model\n",
    "all_vegetation.fit_model()\n",
    "\n",
    "# make predictions\n",
    "predictions_all_vegetation=all_vegetation.make_predictions()\n",
    "\n",
    "# evaluate model\n",
    "print(\" \")\n",
    "print(\"=================================\")\n",
    "print(\"Model Evaluation: All Vegetation:\")\n",
    "print(\"=================================\")\n",
    "res=all_vegetation.evaluate_model()\n",
    "\n",
    "\n",
    "# Store results\n",
    "print(\"==================================\")\n",
    "print(\"Storing Results: All Vegetation...\")\n",
    "print(\"==================================\")\n",
    "\n",
    "res.to_csv('../results/NNets/Vegetation/all/evaluation.csv', index=False)\n",
    "predictions_all_vegetation['y_pred_train'].to_csv('../results/NNets/Vegetation/all/train_predictions.csv', index=False)\n",
    "predictions_all_vegetation['y_pred_test'].to_csv('../results/NNets/Vegetation/all/test_predictions.csv', index=False)\n",
    "\n",
    "print(\"Done!\")"
   ]
  },
  {
   "cell_type": "markdown",
   "metadata": {},
   "source": [
    "## No Vegetation\n",
    "\n",
    "* Baseline"
   ]
  },
  {
   "cell_type": "code",
   "execution_count": 17,
   "metadata": {},
   "outputs": [
    {
     "name": "stdout",
     "output_type": "stream",
     "text": [
      "Epoch [1/15], Train Loss: 0.0582, Train MAE: 0.1722, Validation Loss: 0.0578, Validation MAE: 0.1711\n",
      "Epoch [2/15], Train Loss: 0.0576, Train MAE: 0.1711, Validation Loss: 0.0576, Validation MAE: 0.1707\n",
      "Epoch [3/15], Train Loss: 0.0573, Train MAE: 0.1706, Validation Loss: 0.0570, Validation MAE: 0.1703\n",
      "Epoch [4/15], Train Loss: 0.0572, Train MAE: 0.1705, Validation Loss: 0.0570, Validation MAE: 0.1699\n",
      "Epoch [5/15], Train Loss: 0.0571, Train MAE: 0.1704, Validation Loss: 0.0570, Validation MAE: 0.1706\n",
      "Epoch [6/15], Train Loss: 0.0571, Train MAE: 0.1704, Validation Loss: 0.0573, Validation MAE: 0.1708\n",
      "Epoch [7/15], Train Loss: 0.0571, Train MAE: 0.1703, Validation Loss: 0.0572, Validation MAE: 0.1714\n",
      "Epoch 00008: reducing learning rate of group 0 to 1.0000e-05.\n",
      "Epoch [8/15], Train Loss: 0.0571, Train MAE: 0.1703, Validation Loss: 0.0570, Validation MAE: 0.1702\n",
      "Epoch [9/15], Train Loss: 0.0569, Train MAE: 0.1700, Validation Loss: 0.0569, Validation MAE: 0.1700\n",
      "Epoch [10/15], Train Loss: 0.0569, Train MAE: 0.1700, Validation Loss: 0.0569, Validation MAE: 0.1698\n",
      "Epoch [11/15], Train Loss: 0.0569, Train MAE: 0.1699, Validation Loss: 0.0569, Validation MAE: 0.1700\n",
      "Epoch [12/15], Train Loss: 0.0569, Train MAE: 0.1699, Validation Loss: 0.0569, Validation MAE: 0.1701\n",
      "Epoch [13/15], Train Loss: 0.0569, Train MAE: 0.1699, Validation Loss: 0.0569, Validation MAE: 0.1699\n",
      "Epoch [14/15], Train Loss: 0.0569, Train MAE: 0.1700, Validation Loss: 0.0569, Validation MAE: 0.1699\n",
      "Epoch [15/15], Train Loss: 0.0569, Train MAE: 0.1699, Validation Loss: 0.0569, Validation MAE: 0.1700\n",
      " \n",
      "=========================================\n",
      "Model Evaluation: Baseline No Vegetation:\n",
      "=========================================\n"
     ]
    },
    {
     "data": {
      "text/html": [
       "<div>\n",
       "<style scoped>\n",
       "    .dataframe tbody tr th:only-of-type {\n",
       "        vertical-align: middle;\n",
       "    }\n",
       "\n",
       "    .dataframe tbody tr th {\n",
       "        vertical-align: top;\n",
       "    }\n",
       "\n",
       "    .dataframe thead th {\n",
       "        text-align: right;\n",
       "    }\n",
       "</style>\n",
       "<table border=\"1\" class=\"dataframe\">\n",
       "  <thead>\n",
       "    <tr style=\"text-align: right;\">\n",
       "      <th></th>\n",
       "      <th>pytorch_nn_train</th>\n",
       "      <th>pytorch_nn_test</th>\n",
       "    </tr>\n",
       "  </thead>\n",
       "  <tbody>\n",
       "    <tr>\n",
       "      <th>RMSE</th>\n",
       "      <td>0.238513</td>\n",
       "      <td>0.239185</td>\n",
       "    </tr>\n",
       "    <tr>\n",
       "      <th>MBE</th>\n",
       "      <td>0.001468</td>\n",
       "      <td>0.002382</td>\n",
       "    </tr>\n",
       "    <tr>\n",
       "      <th>RSQ</th>\n",
       "      <td>0.340466</td>\n",
       "      <td>0.336930</td>\n",
       "    </tr>\n",
       "  </tbody>\n",
       "</table>\n",
       "</div>"
      ],
      "text/plain": [
       "      pytorch_nn_train  pytorch_nn_test\n",
       "RMSE          0.238513         0.239185\n",
       "MBE           0.001468         0.002382\n",
       "RSQ           0.340466         0.336930"
      ]
     },
     "metadata": {},
     "output_type": "display_data"
    },
    {
     "name": "stdout",
     "output_type": "stream",
     "text": [
      "==========================================\n",
      "Storing Results: Baseline No Vegetation...\n",
      "==========================================\n",
      "Done!\n"
     ]
    }
   ],
   "source": [
    "baseline_no_vegetation=ModelFitting(\n",
    "    var=BASELINE_FEATURES,\n",
    "    split=no_vegetation_splits,\n",
    "    model_name='pytorch_nn'\n",
    ")\n",
    "\n",
    "# fit model\n",
    "baseline_no_vegetation.fit_model()\n",
    "\n",
    "# make predictions\n",
    "predictions_baseline_no_vegetation=baseline_no_vegetation.make_predictions()\n",
    "\n",
    "# evaluate model\n",
    "print(\" \")\n",
    "print(\"=========================================\")\n",
    "print(\"Model Evaluation: Baseline No Vegetation:\")\n",
    "print(\"=========================================\")\n",
    "res=baseline_no_vegetation.evaluate_model()\n",
    "\n",
    "\n",
    "# Store results\n",
    "print(\"==========================================\")\n",
    "print(\"Storing Results: Baseline No Vegetation...\")\n",
    "print(\"==========================================\")\n",
    "\n",
    "res.to_csv('../results/NNets/NoVegetation/baseline/evaluation.csv', index=False)\n",
    "predictions_baseline_no_vegetation['y_pred_train'].to_csv('../results/NNets/NoVegetation/baseline/train_predictions.csv', index=False)\n",
    "predictions_baseline_no_vegetation['y_pred_test'].to_csv('../results/NNets/NoVegetation/baseline/test_predictions.csv', index=False)\n",
    "\n",
    "print(\"Done!\")"
   ]
  },
  {
   "cell_type": "markdown",
   "metadata": {},
   "source": [
    "* InSAR Parameters"
   ]
  },
  {
   "cell_type": "code",
   "execution_count": 18,
   "metadata": {},
   "outputs": [
    {
     "name": "stdout",
     "output_type": "stream",
     "text": [
      "Epoch [1/15], Train Loss: 0.0293, Train MAE: 0.1257, Validation Loss: 0.0274, Validation MAE: 0.1214\n",
      "Epoch [2/15], Train Loss: 0.0274, Train MAE: 0.1214, Validation Loss: 0.0269, Validation MAE: 0.1203\n",
      "Epoch [3/15], Train Loss: 0.0268, Train MAE: 0.1200, Validation Loss: 0.0265, Validation MAE: 0.1194\n",
      "Epoch [4/15], Train Loss: 0.0265, Train MAE: 0.1192, Validation Loss: 0.0262, Validation MAE: 0.1184\n",
      "Epoch [5/15], Train Loss: 0.0262, Train MAE: 0.1186, Validation Loss: 0.0262, Validation MAE: 0.1183\n",
      "Epoch [6/15], Train Loss: 0.0260, Train MAE: 0.1181, Validation Loss: 0.0258, Validation MAE: 0.1175\n",
      "Epoch [7/15], Train Loss: 0.0258, Train MAE: 0.1177, Validation Loss: 0.0258, Validation MAE: 0.1174\n",
      "Epoch [8/15], Train Loss: 0.0257, Train MAE: 0.1173, Validation Loss: 0.0256, Validation MAE: 0.1171\n",
      "Epoch [9/15], Train Loss: 0.0255, Train MAE: 0.1170, Validation Loss: 0.0259, Validation MAE: 0.1184\n",
      "Epoch [10/15], Train Loss: 0.0254, Train MAE: 0.1168, Validation Loss: 0.0260, Validation MAE: 0.1189\n",
      "Epoch [11/15], Train Loss: 0.0253, Train MAE: 0.1165, Validation Loss: 0.0253, Validation MAE: 0.1167\n",
      "Epoch [12/15], Train Loss: 0.0252, Train MAE: 0.1163, Validation Loss: 0.0253, Validation MAE: 0.1165\n",
      "Epoch [13/15], Train Loss: 0.0251, Train MAE: 0.1161, Validation Loss: 0.0252, Validation MAE: 0.1162\n",
      "Epoch [14/15], Train Loss: 0.0250, Train MAE: 0.1159, Validation Loss: 0.0252, Validation MAE: 0.1164\n",
      "Epoch [15/15], Train Loss: 0.0249, Train MAE: 0.1157, Validation Loss: 0.0253, Validation MAE: 0.1165\n",
      " \n",
      "=======================================\n",
      "Model Evaluation: UAVSAR No Vegetation:\n",
      "=======================================\n"
     ]
    },
    {
     "data": {
      "text/html": [
       "<div>\n",
       "<style scoped>\n",
       "    .dataframe tbody tr th:only-of-type {\n",
       "        vertical-align: middle;\n",
       "    }\n",
       "\n",
       "    .dataframe tbody tr th {\n",
       "        vertical-align: top;\n",
       "    }\n",
       "\n",
       "    .dataframe thead th {\n",
       "        text-align: right;\n",
       "    }\n",
       "</style>\n",
       "<table border=\"1\" class=\"dataframe\">\n",
       "  <thead>\n",
       "    <tr style=\"text-align: right;\">\n",
       "      <th></th>\n",
       "      <th>pytorch_nn_train</th>\n",
       "      <th>pytorch_nn_test</th>\n",
       "    </tr>\n",
       "  </thead>\n",
       "  <tbody>\n",
       "    <tr>\n",
       "      <th>RMSE</th>\n",
       "      <td>0.157861</td>\n",
       "      <td>0.159623</td>\n",
       "    </tr>\n",
       "    <tr>\n",
       "      <th>MBE</th>\n",
       "      <td>0.009453</td>\n",
       "      <td>0.009677</td>\n",
       "    </tr>\n",
       "    <tr>\n",
       "      <th>RSQ</th>\n",
       "      <td>0.711090</td>\n",
       "      <td>0.704688</td>\n",
       "    </tr>\n",
       "  </tbody>\n",
       "</table>\n",
       "</div>"
      ],
      "text/plain": [
       "      pytorch_nn_train  pytorch_nn_test\n",
       "RMSE          0.157861         0.159623\n",
       "MBE           0.009453         0.009677\n",
       "RSQ           0.711090         0.704688"
      ]
     },
     "metadata": {},
     "output_type": "display_data"
    },
    {
     "name": "stdout",
     "output_type": "stream",
     "text": [
      "========================================\n",
      "Storing Results: UAVSAR No Vegetation...\n",
      "========================================\n",
      "Done!\n"
     ]
    }
   ],
   "source": [
    "insar_no_vegetation=ModelFitting(\n",
    "    var=UAVSAR_FEATURES,\n",
    "    split=no_vegetation_splits,\n",
    "    model_name='pytorch_nn'\n",
    ")\n",
    "\n",
    "# fit model\n",
    "insar_no_vegetation.fit_model()\n",
    "\n",
    "# make predictions\n",
    "predictions_insar_no_vegetation=insar_no_vegetation.make_predictions()\n",
    "\n",
    "# evaluate model\n",
    "print(\" \")\n",
    "print(\"=======================================\")\n",
    "print(\"Model Evaluation: UAVSAR No Vegetation:\")\n",
    "print(\"=======================================\")\n",
    "res=insar_no_vegetation.evaluate_model()\n",
    "\n",
    "\n",
    "# Store results\n",
    "print(\"========================================\")\n",
    "print(\"Storing Results: UAVSAR No Vegetation...\")\n",
    "print(\"========================================\")\n",
    "\n",
    "res.to_csv('../results/NNets/NoVegetation/uavsar/evaluation.csv', index=False)\n",
    "predictions_insar_no_vegetation['y_pred_train'].to_csv('../results/NNets/NoVegetation/uavsar/train_predictions.csv', index=False)\n",
    "predictions_insar_no_vegetation['y_pred_test'].to_csv('../results/NNets/NoVegetation/uavsar/test_predictions.csv', index=False)\n",
    "\n",
    "print(\"Done!\")"
   ]
  },
  {
   "cell_type": "markdown",
   "metadata": {},
   "source": [
    "## The End!"
   ]
  }
 ],
 "metadata": {
  "kernelspec": {
   "display_name": "autoskln",
   "language": "python",
   "name": "python3"
  },
  "language_info": {
   "codemirror_mode": {
    "name": "ipython",
    "version": 3
   },
   "file_extension": ".py",
   "mimetype": "text/x-python",
   "name": "python",
   "nbconvert_exporter": "python",
   "pygments_lexer": "ipython3",
   "version": "3.11.5"
  },
  "orig_nbformat": 4
 },
 "nbformat": 4,
 "nbformat_minor": 2
}
