{
 "cells": [
  {
   "cell_type": "code",
   "execution_count": 3,
   "metadata": {},
   "outputs": [],
   "source": [
    "import os\n",
    "import shap\n",
    "import glob\n",
    "import pickle\n",
    "import pandas as pd\n",
    "import seaborn as sns\n",
    "from matplotlib import pyplot as plt"
   ]
  },
  {
   "cell_type": "code",
   "execution_count": 2,
   "metadata": {},
   "outputs": [],
   "source": [
    "all_evaluation=glob.glob('../results/**/evaluation.csv', recursive=True)"
   ]
  },
  {
   "cell_type": "code",
   "execution_count": 3,
   "metadata": {},
   "outputs": [],
   "source": [
    "evaluation_dicts={\n",
    "    tuple(file.split(os.path.sep)[-4:-1]):pd.read_csv(file).T.rename(columns={\n",
    "        0: 'RMSE',\n",
    "        1: 'MBE',\n",
    "        2: 'R2',\n",
    "    }) \n",
    "    for file in all_evaluation\n",
    "}"
   ]
  },
  {
   "cell_type": "code",
   "execution_count": 31,
   "metadata": {},
   "outputs": [
    {
     "data": {
      "text/html": [
       "<div>\n",
       "<style scoped>\n",
       "    .dataframe tbody tr th:only-of-type {\n",
       "        vertical-align: middle;\n",
       "    }\n",
       "\n",
       "    .dataframe tbody tr th {\n",
       "        vertical-align: top;\n",
       "    }\n",
       "\n",
       "    .dataframe thead th {\n",
       "        text-align: right;\n",
       "    }\n",
       "</style>\n",
       "<table border=\"1\" class=\"dataframe\">\n",
       "  <thead>\n",
       "    <tr style=\"text-align: right;\">\n",
       "      <th></th>\n",
       "      <th></th>\n",
       "      <th></th>\n",
       "      <th>index</th>\n",
       "      <th>RMSE</th>\n",
       "      <th>MBE</th>\n",
       "      <th>R2</th>\n",
       "    </tr>\n",
       "  </thead>\n",
       "  <tbody>\n",
       "    <tr>\n",
       "      <th rowspan=\"16\" valign=\"top\">NNets</th>\n",
       "      <th rowspan=\"4\" valign=\"top\">NoVegetation</th>\n",
       "      <th>baseline</th>\n",
       "      <td>pytorch_nn_train</td>\n",
       "      <td>0.238513</td>\n",
       "      <td>1.468354e-03</td>\n",
       "      <td>0.340466</td>\n",
       "    </tr>\n",
       "    <tr>\n",
       "      <th>baseline</th>\n",
       "      <td>pytorch_nn_test</td>\n",
       "      <td>0.239185</td>\n",
       "      <td>2.382150e-03</td>\n",
       "      <td>0.336930</td>\n",
       "    </tr>\n",
       "    <tr>\n",
       "      <th>uavsar</th>\n",
       "      <td>pytorch_nn_train</td>\n",
       "      <td>0.157861</td>\n",
       "      <td>9.452646e-03</td>\n",
       "      <td>0.711090</td>\n",
       "    </tr>\n",
       "    <tr>\n",
       "      <th>uavsar</th>\n",
       "      <td>pytorch_nn_test</td>\n",
       "      <td>0.159623</td>\n",
       "      <td>9.676993e-03</td>\n",
       "      <td>0.704688</td>\n",
       "    </tr>\n",
       "    <tr>\n",
       "      <th rowspan=\"6\" valign=\"top\">FullDataset</th>\n",
       "      <th>baseline</th>\n",
       "      <td>pytorch_nn_train</td>\n",
       "      <td>0.250086</td>\n",
       "      <td>1.113311e-02</td>\n",
       "      <td>0.217401</td>\n",
       "    </tr>\n",
       "    <tr>\n",
       "      <th>baseline</th>\n",
       "      <td>pytorch_nn_test</td>\n",
       "      <td>0.249557</td>\n",
       "      <td>1.146438e-02</td>\n",
       "      <td>0.217983</td>\n",
       "    </tr>\n",
       "    <tr>\n",
       "      <th>uavsar</th>\n",
       "      <td>pytorch_nn_train</td>\n",
       "      <td>0.164909</td>\n",
       "      <td>9.347508e-03</td>\n",
       "      <td>0.659709</td>\n",
       "    </tr>\n",
       "    <tr>\n",
       "      <th>uavsar</th>\n",
       "      <td>pytorch_nn_test</td>\n",
       "      <td>0.165037</td>\n",
       "      <td>9.698529e-03</td>\n",
       "      <td>0.657990</td>\n",
       "    </tr>\n",
       "    <tr>\n",
       "      <th>all</th>\n",
       "      <td>pytorch_nn_train</td>\n",
       "      <td>0.154906</td>\n",
       "      <td>-9.469306e-03</td>\n",
       "      <td>0.699741</td>\n",
       "    </tr>\n",
       "    <tr>\n",
       "      <th>all</th>\n",
       "      <td>pytorch_nn_test</td>\n",
       "      <td>0.155443</td>\n",
       "      <td>-8.986168e-03</td>\n",
       "      <td>0.696597</td>\n",
       "    </tr>\n",
       "    <tr>\n",
       "      <th rowspan=\"6\" valign=\"top\">Vegetation</th>\n",
       "      <th>baseline</th>\n",
       "      <td>pytorch_nn_train</td>\n",
       "      <td>0.228280</td>\n",
       "      <td>6.141112e-03</td>\n",
       "      <td>0.249633</td>\n",
       "    </tr>\n",
       "    <tr>\n",
       "      <th>baseline</th>\n",
       "      <td>pytorch_nn_test</td>\n",
       "      <td>0.227928</td>\n",
       "      <td>5.876385e-03</td>\n",
       "      <td>0.250323</td>\n",
       "    </tr>\n",
       "    <tr>\n",
       "      <th>uavsar</th>\n",
       "      <td>pytorch_nn_train</td>\n",
       "      <td>0.167844</td>\n",
       "      <td>3.693555e-03</td>\n",
       "      <td>0.594352</td>\n",
       "    </tr>\n",
       "    <tr>\n",
       "      <th>uavsar</th>\n",
       "      <td>pytorch_nn_test</td>\n",
       "      <td>0.168812</td>\n",
       "      <td>3.467992e-03</td>\n",
       "      <td>0.588769</td>\n",
       "    </tr>\n",
       "    <tr>\n",
       "      <th>all</th>\n",
       "      <td>pytorch_nn_train</td>\n",
       "      <td>0.149765</td>\n",
       "      <td>-8.733784e-04</td>\n",
       "      <td>0.677032</td>\n",
       "    </tr>\n",
       "    <tr>\n",
       "      <th>all</th>\n",
       "      <td>pytorch_nn_test</td>\n",
       "      <td>0.151534</td>\n",
       "      <td>-1.002038e-03</td>\n",
       "      <td>0.668640</td>\n",
       "    </tr>\n",
       "    <tr>\n",
       "      <th rowspan=\"16\" valign=\"top\">ExtraTrees</th>\n",
       "      <th rowspan=\"4\" valign=\"top\">NoVegetation</th>\n",
       "      <th>baseline</th>\n",
       "      <td>extra_trees_train</td>\n",
       "      <td>0.191313</td>\n",
       "      <td>-1.842965e-17</td>\n",
       "      <td>0.575621</td>\n",
       "    </tr>\n",
       "    <tr>\n",
       "      <th>baseline</th>\n",
       "      <td>extra_trees_test</td>\n",
       "      <td>0.226129</td>\n",
       "      <td>1.200466e-03</td>\n",
       "      <td>0.407340</td>\n",
       "    </tr>\n",
       "    <tr>\n",
       "      <th>uavsar</th>\n",
       "      <td>extra_trees_train</td>\n",
       "      <td>0.001247</td>\n",
       "      <td>0.000000e+00</td>\n",
       "      <td>0.999982</td>\n",
       "    </tr>\n",
       "    <tr>\n",
       "      <th>uavsar</th>\n",
       "      <td>extra_trees_test</td>\n",
       "      <td>0.099829</td>\n",
       "      <td>1.569147e-04</td>\n",
       "      <td>0.884494</td>\n",
       "    </tr>\n",
       "    <tr>\n",
       "      <th rowspan=\"6\" valign=\"top\">FullDataset</th>\n",
       "      <th>baseline</th>\n",
       "      <td>extra_trees_train</td>\n",
       "      <td>0.199198</td>\n",
       "      <td>7.252473e-18</td>\n",
       "      <td>0.503221</td>\n",
       "    </tr>\n",
       "    <tr>\n",
       "      <th>baseline</th>\n",
       "      <td>extra_trees_test</td>\n",
       "      <td>0.236293</td>\n",
       "      <td>3.055893e-04</td>\n",
       "      <td>0.298908</td>\n",
       "    </tr>\n",
       "    <tr>\n",
       "      <th>uavsar</th>\n",
       "      <td>extra_trees_train</td>\n",
       "      <td>0.001215</td>\n",
       "      <td>0.000000e+00</td>\n",
       "      <td>0.999982</td>\n",
       "    </tr>\n",
       "    <tr>\n",
       "      <th>uavsar</th>\n",
       "      <td>extra_trees_test</td>\n",
       "      <td>0.101268</td>\n",
       "      <td>2.834051e-04</td>\n",
       "      <td>0.871227</td>\n",
       "    </tr>\n",
       "    <tr>\n",
       "      <th>all</th>\n",
       "      <td>extra_trees_train</td>\n",
       "      <td>0.000719</td>\n",
       "      <td>0.000000e+00</td>\n",
       "      <td>0.999994</td>\n",
       "    </tr>\n",
       "    <tr>\n",
       "      <th>all</th>\n",
       "      <td>extra_trees_test</td>\n",
       "      <td>0.099106</td>\n",
       "      <td>2.604292e-04</td>\n",
       "      <td>0.876668</td>\n",
       "    </tr>\n",
       "    <tr>\n",
       "      <th rowspan=\"6\" valign=\"top\">Vegetation</th>\n",
       "      <th>baseline</th>\n",
       "      <td>extra_trees_train</td>\n",
       "      <td>0.135389</td>\n",
       "      <td>-5.927561e-18</td>\n",
       "      <td>0.736009</td>\n",
       "    </tr>\n",
       "    <tr>\n",
       "      <th>baseline</th>\n",
       "      <td>extra_trees_test</td>\n",
       "      <td>0.206534</td>\n",
       "      <td>3.374736e-04</td>\n",
       "      <td>0.384448</td>\n",
       "    </tr>\n",
       "    <tr>\n",
       "      <th>uavsar</th>\n",
       "      <td>extra_trees_train</td>\n",
       "      <td>0.000964</td>\n",
       "      <td>0.000000e+00</td>\n",
       "      <td>0.999987</td>\n",
       "    </tr>\n",
       "    <tr>\n",
       "      <th>uavsar</th>\n",
       "      <td>extra_trees_test</td>\n",
       "      <td>0.103928</td>\n",
       "      <td>4.113934e-05</td>\n",
       "      <td>0.844135</td>\n",
       "    </tr>\n",
       "    <tr>\n",
       "      <th>all</th>\n",
       "      <td>extra_trees_train</td>\n",
       "      <td>0.000267</td>\n",
       "      <td>0.000000e+00</td>\n",
       "      <td>0.999999</td>\n",
       "    </tr>\n",
       "    <tr>\n",
       "      <th>all</th>\n",
       "      <td>extra_trees_test</td>\n",
       "      <td>0.104882</td>\n",
       "      <td>-5.035757e-04</td>\n",
       "      <td>0.841262</td>\n",
       "    </tr>\n",
       "    <tr>\n",
       "      <th rowspan=\"16\" valign=\"top\">XGBoost</th>\n",
       "      <th rowspan=\"4\" valign=\"top\">NoVegetation</th>\n",
       "      <th>baseline</th>\n",
       "      <td>xgboost_train</td>\n",
       "      <td>0.237155</td>\n",
       "      <td>-2.760440e-06</td>\n",
       "      <td>0.347876</td>\n",
       "    </tr>\n",
       "    <tr>\n",
       "      <th>baseline</th>\n",
       "      <td>xgboost_test</td>\n",
       "      <td>0.238115</td>\n",
       "      <td>8.961712e-04</td>\n",
       "      <td>0.342848</td>\n",
       "    </tr>\n",
       "    <tr>\n",
       "      <th>uavsar</th>\n",
       "      <td>xgboost_train</td>\n",
       "      <td>0.012016</td>\n",
       "      <td>8.769661e-09</td>\n",
       "      <td>0.998326</td>\n",
       "    </tr>\n",
       "    <tr>\n",
       "      <th>uavsar</th>\n",
       "      <td>xgboost_test</td>\n",
       "      <td>0.093725</td>\n",
       "      <td>1.347675e-04</td>\n",
       "      <td>0.898186</td>\n",
       "    </tr>\n",
       "    <tr>\n",
       "      <th rowspan=\"6\" valign=\"top\">FullDataset</th>\n",
       "      <th>baseline</th>\n",
       "      <td>xgboost_train</td>\n",
       "      <td>0.248801</td>\n",
       "      <td>-1.755214e-06</td>\n",
       "      <td>0.225001</td>\n",
       "    </tr>\n",
       "    <tr>\n",
       "      <th>baseline</th>\n",
       "      <td>xgboost_test</td>\n",
       "      <td>0.248496</td>\n",
       "      <td>3.286213e-04</td>\n",
       "      <td>0.224624</td>\n",
       "    </tr>\n",
       "    <tr>\n",
       "      <th>uavsar</th>\n",
       "      <td>xgboost_train</td>\n",
       "      <td>0.013850</td>\n",
       "      <td>8.256242e-09</td>\n",
       "      <td>0.997599</td>\n",
       "    </tr>\n",
       "    <tr>\n",
       "      <th>uavsar</th>\n",
       "      <td>xgboost_test</td>\n",
       "      <td>0.097367</td>\n",
       "      <td>3.654146e-04</td>\n",
       "      <td>0.880960</td>\n",
       "    </tr>\n",
       "    <tr>\n",
       "      <th>all</th>\n",
       "      <td>xgboost_train</td>\n",
       "      <td>0.008482</td>\n",
       "      <td>3.960739e-09</td>\n",
       "      <td>0.999099</td>\n",
       "    </tr>\n",
       "    <tr>\n",
       "      <th>all</th>\n",
       "      <td>xgboost_test</td>\n",
       "      <td>0.092769</td>\n",
       "      <td>1.963226e-04</td>\n",
       "      <td>0.891935</td>\n",
       "    </tr>\n",
       "    <tr>\n",
       "      <th rowspan=\"6\" valign=\"top\">Vegetation</th>\n",
       "      <th>baseline</th>\n",
       "      <td>xgboost_train</td>\n",
       "      <td>0.227302</td>\n",
       "      <td>-1.599045e-05</td>\n",
       "      <td>0.255908</td>\n",
       "    </tr>\n",
       "    <tr>\n",
       "      <th>baseline</th>\n",
       "      <td>xgboost_test</td>\n",
       "      <td>0.227505</td>\n",
       "      <td>-2.035415e-04</td>\n",
       "      <td>0.253098</td>\n",
       "    </tr>\n",
       "    <tr>\n",
       "      <th>uavsar</th>\n",
       "      <td>xgboost_train</td>\n",
       "      <td>0.014992</td>\n",
       "      <td>6.800677e-09</td>\n",
       "      <td>0.996763</td>\n",
       "    </tr>\n",
       "    <tr>\n",
       "      <th>uavsar</th>\n",
       "      <td>xgboost_test</td>\n",
       "      <td>0.102344</td>\n",
       "      <td>2.333223e-04</td>\n",
       "      <td>0.848850</td>\n",
       "    </tr>\n",
       "    <tr>\n",
       "      <th>all</th>\n",
       "      <td>xgboost_train</td>\n",
       "      <td>0.006767</td>\n",
       "      <td>9.185928e-09</td>\n",
       "      <td>0.999340</td>\n",
       "    </tr>\n",
       "    <tr>\n",
       "      <th>all</th>\n",
       "      <td>xgboost_test</td>\n",
       "      <td>0.098444</td>\n",
       "      <td>-4.190954e-04</td>\n",
       "      <td>0.860150</td>\n",
       "    </tr>\n",
       "  </tbody>\n",
       "</table>\n",
       "</div>"
      ],
      "text/plain": [
       "                                              index      RMSE           MBE  \\\n",
       "NNets      NoVegetation baseline   pytorch_nn_train  0.238513  1.468354e-03   \n",
       "                        baseline    pytorch_nn_test  0.239185  2.382150e-03   \n",
       "                        uavsar     pytorch_nn_train  0.157861  9.452646e-03   \n",
       "                        uavsar      pytorch_nn_test  0.159623  9.676993e-03   \n",
       "           FullDataset  baseline   pytorch_nn_train  0.250086  1.113311e-02   \n",
       "                        baseline    pytorch_nn_test  0.249557  1.146438e-02   \n",
       "                        uavsar     pytorch_nn_train  0.164909  9.347508e-03   \n",
       "                        uavsar      pytorch_nn_test  0.165037  9.698529e-03   \n",
       "                        all        pytorch_nn_train  0.154906 -9.469306e-03   \n",
       "                        all         pytorch_nn_test  0.155443 -8.986168e-03   \n",
       "           Vegetation   baseline   pytorch_nn_train  0.228280  6.141112e-03   \n",
       "                        baseline    pytorch_nn_test  0.227928  5.876385e-03   \n",
       "                        uavsar     pytorch_nn_train  0.167844  3.693555e-03   \n",
       "                        uavsar      pytorch_nn_test  0.168812  3.467992e-03   \n",
       "                        all        pytorch_nn_train  0.149765 -8.733784e-04   \n",
       "                        all         pytorch_nn_test  0.151534 -1.002038e-03   \n",
       "ExtraTrees NoVegetation baseline  extra_trees_train  0.191313 -1.842965e-17   \n",
       "                        baseline   extra_trees_test  0.226129  1.200466e-03   \n",
       "                        uavsar    extra_trees_train  0.001247  0.000000e+00   \n",
       "                        uavsar     extra_trees_test  0.099829  1.569147e-04   \n",
       "           FullDataset  baseline  extra_trees_train  0.199198  7.252473e-18   \n",
       "                        baseline   extra_trees_test  0.236293  3.055893e-04   \n",
       "                        uavsar    extra_trees_train  0.001215  0.000000e+00   \n",
       "                        uavsar     extra_trees_test  0.101268  2.834051e-04   \n",
       "                        all       extra_trees_train  0.000719  0.000000e+00   \n",
       "                        all        extra_trees_test  0.099106  2.604292e-04   \n",
       "           Vegetation   baseline  extra_trees_train  0.135389 -5.927561e-18   \n",
       "                        baseline   extra_trees_test  0.206534  3.374736e-04   \n",
       "                        uavsar    extra_trees_train  0.000964  0.000000e+00   \n",
       "                        uavsar     extra_trees_test  0.103928  4.113934e-05   \n",
       "                        all       extra_trees_train  0.000267  0.000000e+00   \n",
       "                        all        extra_trees_test  0.104882 -5.035757e-04   \n",
       "XGBoost    NoVegetation baseline      xgboost_train  0.237155 -2.760440e-06   \n",
       "                        baseline       xgboost_test  0.238115  8.961712e-04   \n",
       "                        uavsar        xgboost_train  0.012016  8.769661e-09   \n",
       "                        uavsar         xgboost_test  0.093725  1.347675e-04   \n",
       "           FullDataset  baseline      xgboost_train  0.248801 -1.755214e-06   \n",
       "                        baseline       xgboost_test  0.248496  3.286213e-04   \n",
       "                        uavsar        xgboost_train  0.013850  8.256242e-09   \n",
       "                        uavsar         xgboost_test  0.097367  3.654146e-04   \n",
       "                        all           xgboost_train  0.008482  3.960739e-09   \n",
       "                        all            xgboost_test  0.092769  1.963226e-04   \n",
       "           Vegetation   baseline      xgboost_train  0.227302 -1.599045e-05   \n",
       "                        baseline       xgboost_test  0.227505 -2.035415e-04   \n",
       "                        uavsar        xgboost_train  0.014992  6.800677e-09   \n",
       "                        uavsar         xgboost_test  0.102344  2.333223e-04   \n",
       "                        all           xgboost_train  0.006767  9.185928e-09   \n",
       "                        all            xgboost_test  0.098444 -4.190954e-04   \n",
       "\n",
       "                                        R2  \n",
       "NNets      NoVegetation baseline  0.340466  \n",
       "                        baseline  0.336930  \n",
       "                        uavsar    0.711090  \n",
       "                        uavsar    0.704688  \n",
       "           FullDataset  baseline  0.217401  \n",
       "                        baseline  0.217983  \n",
       "                        uavsar    0.659709  \n",
       "                        uavsar    0.657990  \n",
       "                        all       0.699741  \n",
       "                        all       0.696597  \n",
       "           Vegetation   baseline  0.249633  \n",
       "                        baseline  0.250323  \n",
       "                        uavsar    0.594352  \n",
       "                        uavsar    0.588769  \n",
       "                        all       0.677032  \n",
       "                        all       0.668640  \n",
       "ExtraTrees NoVegetation baseline  0.575621  \n",
       "                        baseline  0.407340  \n",
       "                        uavsar    0.999982  \n",
       "                        uavsar    0.884494  \n",
       "           FullDataset  baseline  0.503221  \n",
       "                        baseline  0.298908  \n",
       "                        uavsar    0.999982  \n",
       "                        uavsar    0.871227  \n",
       "                        all       0.999994  \n",
       "                        all       0.876668  \n",
       "           Vegetation   baseline  0.736009  \n",
       "                        baseline  0.384448  \n",
       "                        uavsar    0.999987  \n",
       "                        uavsar    0.844135  \n",
       "                        all       0.999999  \n",
       "                        all       0.841262  \n",
       "XGBoost    NoVegetation baseline  0.347876  \n",
       "                        baseline  0.342848  \n",
       "                        uavsar    0.998326  \n",
       "                        uavsar    0.898186  \n",
       "           FullDataset  baseline  0.225001  \n",
       "                        baseline  0.224624  \n",
       "                        uavsar    0.997599  \n",
       "                        uavsar    0.880960  \n",
       "                        all       0.999099  \n",
       "                        all       0.891935  \n",
       "           Vegetation   baseline  0.255908  \n",
       "                        baseline  0.253098  \n",
       "                        uavsar    0.996763  \n",
       "                        uavsar    0.848850  \n",
       "                        all       0.999340  \n",
       "                        all       0.860150  "
      ]
     },
     "execution_count": 31,
     "metadata": {},
     "output_type": "execute_result"
    }
   ],
   "source": [
    "combined_evals=(\n",
    "    pd.concat(list(evaluation_dicts.values()))\n",
    "    .reset_index()\n",
    "    .set_index(\n",
    "        pd.MultiIndex.from_tuples(\n",
    "            [\n",
    "                (model, 'FullDataset', var)\n",
    "                if land_cover == 'AllCombined'\n",
    "                else (model, land_cover, var)\n",
    "                for (model, land_cover, var) in [j for j in list(evaluation_dicts.keys()) for _ in range(2)]\n",
    "            ]\n",
    "        )\n",
    "    )\n",
    ")\n",
    "\n",
    "combined_evals"
   ]
  },
  {
   "cell_type": "code",
   "execution_count": 32,
   "metadata": {},
   "outputs": [],
   "source": [
    "combined_evals=(\n",
    "    combined_evals\n",
    "    .reset_index()\n",
    "    .rename(columns={\n",
    "        'level_0': 'Model',\n",
    "        'level_1': 'Land Cover',\n",
    "        'level_2': 'Features',\n",
    "    })\n",
    ")\n",
    "\n",
    "training_evals=(\n",
    "    combined_evals[\n",
    "        combined_evals[\"index\"].str.contains(\"train\", case=False)\n",
    "    ]\n",
    "    .drop(columns=\"index\")\n",
    ")\n",
    "\n",
    "testing_evals=(\n",
    "    combined_evals[\n",
    "        combined_evals[\"index\"].str.contains(\"test\", case=False)\n",
    "    ]\n",
    "    .drop(columns=\"index\")\n",
    ")\n",
    "testing_evals=testing_evals.replace({\n",
    "    'Vegetation': 'Forested Areas',\n",
    "    'NoVegetation': 'Open Areas',\n",
    "    'FullDataset': 'Full Dataset',\n",
    "    'NNets': \"FNN\",\n",
    "    'ExtraTrees': 'Extra Trees'\n",
    "})\n",
    "\n",
    "testing_evals.round(4).to_csv(\"../results/testing_evaluation_comparison.csv\")\n",
    "training_evals.round(4).to_csv(\"../results/training_evaluation_comparison.csv\")"
   ]
  },
  {
   "cell_type": "code",
   "execution_count": 37,
   "metadata": {},
   "outputs": [
    {
     "data": {
      "image/png": "[encoded data removed]",
      "text/plain": [
       "<Figure size 1327.38x400 with 3 Axes>"
      ]
     },
     "metadata": {},
     "output_type": "display_data"
    }
   ],
   "source": [
    "tickz=[\n",
    "    \"Elevation\",\n",
    "    \"InSAR\",\n",
    "    \"InSAR + \\n Vegetation Height\"\n",
    "]\n",
    "\n",
    "g = sns.FacetGrid(testing_evals, col=\"Land Cover\", col_wrap=3, height=4)\n",
    "g = g.map(sns.barplot, 'Features', 'RMSE', 'Model', palette='viridis', order=testing_evals['Features'].unique(), hue_order=testing_evals['Model'].unique())\n",
    "for ax in g.axes.flatten():\n",
    "    ax.set_xticklabels(tickz)\n",
    "    ax.set(xlabel='Features', ylabel='RMSE')\n",
    "g.add_legend()\n",
    "\n",
    "\n",
    "plt.savefig('../plots/rmse_comparison.png', dpi=300)\n",
    "plt.show()"
   ]
  },
  {
   "cell_type": "code",
   "execution_count": 38,
   "metadata": {},
   "outputs": [
    {
     "data": {
      "image/png": "[encoded data removed]",
      "text/plain": [
       "<Figure size 1327.38x400 with 3 Axes>"
      ]
     },
     "metadata": {},
     "output_type": "display_data"
    }
   ],
   "source": [
    "g = sns.FacetGrid(testing_evals, col=\"Land Cover\", col_wrap=3, height=4)\n",
    "g = g.map(sns.barplot, 'Features', 'MBE', 'Model', palette='viridis', order=testing_evals['Features'].unique(), hue_order=testing_evals['Model'].unique())\n",
    "for ax in g.axes.flatten():\n",
    "    ax.set_xticklabels(tickz)\n",
    "    ax.set(xlabel='Features', ylabel='Mean Bias Error')\n",
    "g.add_legend()\n",
    "plt.savefig('../plots/mbe_comparison.png', dpi=300)\n",
    "plt.show()"
   ]
  },
  {
   "cell_type": "code",
   "execution_count": 39,
   "metadata": {},
   "outputs": [
    {
     "data": {
      "image/png": "[encoded data removed]",
      "text/plain": [
       "<Figure size 1327.38x400 with 3 Axes>"
      ]
     },
     "metadata": {},
     "output_type": "display_data"
    }
   ],
   "source": [
    "g = sns.FacetGrid(testing_evals, col=\"Land Cover\", col_wrap=3, height=4)\n",
    "g = g.map(sns.barplot, 'Features', 'R2', 'Model', palette='viridis', order=testing_evals['Features'].unique(), hue_order=testing_evals['Model'].unique())\n",
    "for ax in g.axes.flatten():\n",
    "    ax.set_xticklabels(tickz)\n",
    "    ax.set(xlabel='Features', ylabel='$R^2$')\n",
    "g.add_legend()\n",
    "plt.savefig('../plots/r2_comparison.png', dpi=300)\n",
    "plt.show()"
   ]
  },
  {
   "cell_type": "markdown",
   "metadata": {},
   "source": [
    "## Feature Importance\n",
    "\n",
    "* Impurity-based Approach"
   ]
  },
  {
   "cell_type": "code",
   "execution_count": 27,
   "metadata": {},
   "outputs": [
    {
     "data": {
      "text/html": [
       "<div>\n",
       "<style scoped>\n",
       "    .dataframe tbody tr th:only-of-type {\n",
       "        vertical-align: middle;\n",
       "    }\n",
       "\n",
       "    .dataframe tbody tr th {\n",
       "        vertical-align: top;\n",
       "    }\n",
       "\n",
       "    .dataframe thead th {\n",
       "        text-align: right;\n",
       "    }\n",
       "</style>\n",
       "<table border=\"1\" class=\"dataframe\">\n",
       "  <thead>\n",
       "    <tr style=\"text-align: right;\">\n",
       "      <th></th>\n",
       "      <th>feature</th>\n",
       "      <th>importance</th>\n",
       "    </tr>\n",
       "  </thead>\n",
       "  <tbody>\n",
       "    <tr>\n",
       "      <th>6</th>\n",
       "      <td>wrapped_phase</td>\n",
       "      <td>0.012034</td>\n",
       "    </tr>\n",
       "    <tr>\n",
       "      <th>5</th>\n",
       "      <td>coherence</td>\n",
       "      <td>0.012586</td>\n",
       "    </tr>\n",
       "    <tr>\n",
       "      <th>4</th>\n",
       "      <td>vegetation_ht</td>\n",
       "      <td>0.022043</td>\n",
       "    </tr>\n",
       "    <tr>\n",
       "      <th>3</th>\n",
       "      <td>incidence_angle</td>\n",
       "      <td>0.027614</td>\n",
       "    </tr>\n",
       "    <tr>\n",
       "      <th>2</th>\n",
       "      <td>amplitude</td>\n",
       "      <td>0.031821</td>\n",
       "    </tr>\n",
       "    <tr>\n",
       "      <th>1</th>\n",
       "      <td>bare_earth_dem</td>\n",
       "      <td>0.037140</td>\n",
       "    </tr>\n",
       "    <tr>\n",
       "      <th>0</th>\n",
       "      <td>unwrapped_phase</td>\n",
       "      <td>0.068860</td>\n",
       "    </tr>\n",
       "  </tbody>\n",
       "</table>\n",
       "</div>"
      ],
      "text/plain": [
       "           feature  importance\n",
       "6    wrapped_phase    0.012034\n",
       "5        coherence    0.012586\n",
       "4    vegetation_ht    0.022043\n",
       "3  incidence_angle    0.027614\n",
       "2        amplitude    0.031821\n",
       "1   bare_earth_dem    0.037140\n",
       "0  unwrapped_phase    0.068860"
      ]
     },
     "execution_count": 27,
     "metadata": {},
     "output_type": "execute_result"
    }
   ],
   "source": [
    "xgboost_all=pd.read_csv('../results/XGBoost/AllCombined/all/feature_importances.csv')\n",
    "xgboost_all=xgboost_all.sort_values(by='importance', ascending=True)\n",
    "xgboost_all"
   ]
  },
  {
   "cell_type": "code",
   "execution_count": 52,
   "metadata": {},
   "outputs": [
    {
     "data": {
      "image/png": "[encoded data removed]",
      "text/plain": [
       "<Figure size 640x480 with 1 Axes>"
      ]
     },
     "metadata": {},
     "output_type": "display_data"
    }
   ],
   "source": [
    "plt.barh(xgboost_all['feature'], xgboost_all['importance'], color='#0081ff', alpha=0.6, edgecolor='k')\n",
    "plt.xlabel('Importance')\n",
    "plt.ylabel('Feature')\n",
    "plt.show()"
   ]
  },
  {
   "cell_type": "markdown",
   "metadata": {},
   "source": [
    "* Shap Approach"
   ]
  },
  {
   "cell_type": "code",
   "execution_count": 5,
   "metadata": {},
   "outputs": [],
   "source": [
    "with open('../results/shap_values.pkl', 'rb') as f:\n",
    "    overall_shap = pickle.load(f)\n",
    "\n",
    "with open('../data/full_splits.pkl', 'rb') as f:\n",
    "    full_splits = pickle.load(f)\n",
    "\n",
    "features=[\n",
    "    'amplitude','unwrapped_phase',\n",
    "    'coherence', 'incidence_angle',\n",
    "    'bare_earth_dem', 'wrapped_phase', 'vegetation_ht'\n",
    "]"
   ]
  },
  {
   "cell_type": "code",
   "execution_count": 7,
   "metadata": {},
   "outputs": [],
   "source": []
  },
  {
   "cell_type": "code",
   "execution_count": 13,
   "metadata": {},
   "outputs": [],
   "source": []
  },
  {
   "cell_type": "code",
   "execution_count": 19,
   "metadata": {},
   "outputs": [],
   "source": [
    "import numpy as np"
   ]
  },
  {
   "cell_type": "code",
   "execution_count": null,
   "metadata": {},
   "outputs": [],
   "source": [
    "xgboost_all=xgboost_all.sort_values(by='importance', ascending=True)\n",
    "xgboost_all"
   ]
  },
  {
   "cell_type": "code",
   "execution_count": 24,
   "metadata": {},
   "outputs": [
    {
     "data": {
      "text/plain": [
       "coherence          0.017929\n",
       "wrapped_phase      0.025693\n",
       "vegetation_ht      0.034987\n",
       "incidence_angle    0.054912\n",
       "amplitude          0.056945\n",
       "bare_earth_dem     0.082283\n",
       "unwrapped_phase    0.084743\n",
       "dtype: float32"
      ]
     },
     "execution_count": 24,
     "metadata": {},
     "output_type": "execute_result"
    }
   ],
   "source": [
    "shap_imp=pd.Series(\n",
    "    np.abs(overall_shap.values).mean(axis=0),\n",
    "    index=features\n",
    ")\n",
    "\n",
    "shap_imp=shap_imp.sort_values(ascending=True)\n",
    "shap_imp"
   ]
  },
  {
   "cell_type": "code",
   "execution_count": 26,
   "metadata": {},
   "outputs": [
    {
     "data": {
      "image/png": "[encoded data removed]",
      "text/plain": [
       "<Figure size 640x480 with 1 Axes>"
      ]
     },
     "metadata": {},
     "output_type": "display_data"
    }
   ],
   "source": [
    "plt.barh(shap_imp.index, shap_imp.values, color='#0081ff', alpha=0.6, edgecolor='k')\n",
    "plt.xlabel('Importance')\n",
    "plt.ylabel('Feature')\n",
    "plt.show()"
   ]
  },
  {
   "cell_type": "code",
   "execution_count": 14,
   "metadata": {},
   "outputs": [
    {
     "data": {
      "image/png": "[encoded data removed]",
      "text/plain": [
       "<Figure size 800x430 with 1 Axes>"
      ]
     },
     "metadata": {},
     "output_type": "display_data"
    }
   ],
   "source": [
    "shap.summary_plot(overall_shap, full_splits['X_test'][features], plot_type=\"bar\", feature_names=full_splits['X_test'][features].columns, show=False)"
   ]
  },
  {
   "cell_type": "code",
   "execution_count": null,
   "metadata": {},
   "outputs": [],
   "source": []
  },
  {
   "cell_type": "code",
   "execution_count": null,
   "metadata": {},
   "outputs": [],
   "source": []
  },
  {
   "cell_type": "code",
   "execution_count": 28,
   "metadata": {},
   "outputs": [
    {
     "name": "stdout",
     "output_type": "stream",
     "text": [
      "Computing permutation importance with neg_root_mean_squared_error...\n",
      "Computing permutation importance with r2...\n"
     ]
    }
   ],
   "source": [
    "from sklearn.inspection import permutation_importance\n",
    "metrics = ['neg_root_mean_squared_error', 'r2']\n",
    "pfi_scores = {}\n",
    "\n",
    "for metric in metrics:\n",
    "    print(f'Computing permutation importance with {metric}...')\n",
    "    pfi_scores[metric] = permutation_importance(regressor, full_splits['X_test'][UAVSAR_AND_VEGETATION_HEIGHT_FEATURES], full_splits['y_test'], scoring=metric, n_repeats=30, random_state=42)"
   ]
  },
  {
   "cell_type": "code",
   "execution_count": 31,
   "metadata": {},
   "outputs": [
    {
     "data": {
      "text/plain": [
       "array([0.04286688, 0.11691032, 0.10612331, 0.05664539, 0.19730557,\n",
       "       0.15667448, 0.13574052])"
      ]
     },
     "execution_count": 31,
     "metadata": {},
     "output_type": "execute_result"
    }
   ],
   "source": [
    "pfi_scores['neg_root_mean_squared_error']['importances_mean']"
   ]
  },
  {
   "cell_type": "code",
   "execution_count": 32,
   "metadata": {},
   "outputs": [],
   "source": [
    "import numpy as np"
   ]
  },
  {
   "cell_type": "code",
   "execution_count": 37,
   "metadata": {},
   "outputs": [
    {
     "data": {
      "text/plain": [
       "array([4, 5, 6, 1, 2, 3, 0])"
      ]
     },
     "execution_count": 37,
     "metadata": {},
     "output_type": "execute_result"
    }
   ],
   "source": [
    "srtd=np.argsort(-pfi_scores['r2']['importances_mean'])\n",
    "srtd"
   ]
  },
  {
   "cell_type": "code",
   "execution_count": 39,
   "metadata": {},
   "outputs": [
    {
     "data": {
      "text/plain": [
       "Index(['bare_earth_dem', 'incidence_angle', 'unwrapped_phase', 'amplitude',\n",
       "       'vegetation_ht', 'wrapped_phase', 'coherence'],\n",
       "      dtype='object')"
      ]
     },
     "execution_count": 39,
     "metadata": {},
     "output_type": "execute_result"
    }
   ],
   "source": [
    "full_splits['X_test'][UAVSAR_AND_VEGETATION_HEIGHT_FEATURES].columns[srtd]"
   ]
  },
  {
   "cell_type": "code",
   "execution_count": 29,
   "metadata": {},
   "outputs": [
    {
     "data": {
      "text/plain": [
       "{'neg_root_mean_squared_error': {'importances_mean': array([0.04286688, 0.11691032, 0.10612331, 0.05664539, 0.19730557,\n",
       "         0.15667448, 0.13574052]),\n",
       "  'importances_std': array([0.00012338, 0.00017657, 0.00020029, 0.00014185, 0.00023403,\n",
       "         0.00019585, 0.00029403]),\n",
       "  'importances': array([[0.04298482, 0.04283568, 0.04293428, 0.04295749, 0.04275268,\n",
       "          0.04283615, 0.04294661, 0.04273657, 0.04284582, 0.04303319,\n",
       "          0.0429533 , 0.04264761, 0.04277741, 0.04299878, 0.04273664,\n",
       "          0.04295508, 0.04252834, 0.04273201, 0.04301415, 0.04286223,\n",
       "          0.04276519, 0.04283961, 0.04285764, 0.04288407, 0.0429162 ,\n",
       "          0.04298342, 0.04276439, 0.0431165 , 0.04289595, 0.04291452],\n",
       "         [0.11715604, 0.1167276 , 0.11697493, 0.11690243, 0.11701059,\n",
       "          0.11668313, 0.11741752, 0.11689588, 0.11675165, 0.11708828,\n",
       "          0.1171199 , 0.1165945 , 0.11661672, 0.11688309, 0.11683292,\n",
       "          0.11692148, 0.11685527, 0.1168052 , 0.11686198, 0.11669139,\n",
       "          0.1170971 , 0.11690172, 0.11687502, 0.11676966, 0.11712315,\n",
       "          0.11684395, 0.11690447, 0.11712194, 0.11700372, 0.11687838],\n",
       "         [0.10589605, 0.10638506, 0.10613406, 0.10651364, 0.10578082,\n",
       "          0.10616327, 0.10621759, 0.10604485, 0.10615133, 0.10609806,\n",
       "          0.10596459, 0.10577849, 0.10566168, 0.10619149, 0.10626519,\n",
       "          0.10631133, 0.10623155, 0.10614125, 0.10595164, 0.10584039,\n",
       "          0.10637505, 0.10606878, 0.10610955, 0.10614803, 0.10626893,\n",
       "          0.10598203, 0.10604864, 0.10624268, 0.10629558, 0.10643765],\n",
       "         [0.0565647 , 0.05642601, 0.05685648, 0.0566945 , 0.05663062,\n",
       "          0.05644424, 0.05670067, 0.05664902, 0.05658505, 0.05663318,\n",
       "          0.05647109, 0.05665178, 0.0567627 , 0.05640633, 0.05665929,\n",
       "          0.05665477, 0.05655801, 0.05649502, 0.05665202, 0.05675936,\n",
       "          0.05661849, 0.0566681 , 0.0569083 , 0.05693961, 0.0568961 ,\n",
       "          0.05651782, 0.05659806, 0.05671883, 0.05644096, 0.05680064],\n",
       "         [0.19748194, 0.19693566, 0.19741748, 0.19732455, 0.19708786,\n",
       "          0.1972535 , 0.19713453, 0.19728348, 0.19744057, 0.19727007,\n",
       "          0.19717122, 0.19725028, 0.19769887, 0.19773249, 0.19737685,\n",
       "          0.19735423, 0.19790558, 0.19733361, 0.19711769, 0.19720633,\n",
       "          0.19741861, 0.19727138, 0.19765816, 0.19733302, 0.19689069,\n",
       "          0.19750942, 0.19695017, 0.19713259, 0.19704763, 0.19717876],\n",
       "         [0.15615902, 0.15666778, 0.15702219, 0.15641617, 0.15665921,\n",
       "          0.15688203, 0.15685274, 0.1566479 , 0.15661924, 0.15690649,\n",
       "          0.15658683, 0.15648911, 0.1568624 , 0.15662368, 0.15643059,\n",
       "          0.15644347, 0.15706799, 0.15647668, 0.15672071, 0.15686127,\n",
       "          0.15672276, 0.15689003, 0.15665638, 0.15671828, 0.15672944,\n",
       "          0.15684577, 0.15651637, 0.15650784, 0.15662728, 0.15662486],\n",
       "         [0.13531309, 0.13529573, 0.13581114, 0.13558226, 0.13574111,\n",
       "          0.13569895, 0.1355178 , 0.13587543, 0.13564333, 0.13542976,\n",
       "          0.13562999, 0.13547822, 0.13635863, 0.13594195, 0.1358579 ,\n",
       "          0.13563045, 0.13605305, 0.1356682 , 0.13549868, 0.13594284,\n",
       "          0.1356355 , 0.13626441, 0.13598781, 0.13578894, 0.13529957,\n",
       "          0.13604123, 0.13528369, 0.13569149, 0.13587064, 0.13638381]])},\n",
       " 'r2': {'importances_mean': array([0.12291068, 0.44390896, 0.38857646, 0.17221769, 0.94834961,\n",
       "         0.6731221 , 0.54750308]),\n",
       "  'importances_std': array([0.00042008, 0.00092984, 0.00100011, 0.00053222, 0.00170506,\n",
       "         0.00122662, 0.00168759]),\n",
       "  'importances': array([[0.12331231, 0.12280425, 0.12314008, 0.12321918, 0.12252176,\n",
       "          0.12280587, 0.12318206, 0.12246688, 0.12283884, 0.12347722,\n",
       "          0.12320497, 0.12216432, 0.12260592, 0.12335992, 0.12246722,\n",
       "          0.123211  , 0.12175902, 0.12245141, 0.12341231, 0.12289475,\n",
       "          0.12256432, 0.12281761, 0.122879  , 0.12296904, 0.12307853,\n",
       "          0.12330753, 0.12256153, 0.12376136, 0.12300949, 0.12307276],\n",
       "         [0.4452029 , 0.44294698, 0.44424878, 0.44386708, 0.44443657,\n",
       "          0.44271319, 0.44658222, 0.44383248, 0.4430735 , 0.44484595,\n",
       "          0.4450125 , 0.44224699, 0.44236378, 0.44376536, 0.44350095,\n",
       "          0.44396727, 0.44361882, 0.44335526, 0.44365414, 0.44275656,\n",
       "          0.44489244, 0.44386329, 0.44372274, 0.44316821, 0.44502961,\n",
       "          0.44355925, 0.44387781, 0.44502323, 0.44440033, 0.4437405 ],\n",
       "         [0.38744156, 0.389884  , 0.38862966, 0.39052725, 0.38686686,\n",
       "          0.38877564, 0.38904693, 0.38818417, 0.38871601, 0.38844972,\n",
       "          0.38778359, 0.38685545, 0.38627326, 0.38891651, 0.38928479,\n",
       "          0.38951551, 0.38911669, 0.38866555, 0.38771901, 0.38716404,\n",
       "          0.38983389, 0.38830373, 0.38850727, 0.38869953, 0.38930349,\n",
       "          0.38787066, 0.38820316, 0.38917225, 0.38943657, 0.39014696],\n",
       "         [0.17191479, 0.17139507, 0.1730099 , 0.17240175, 0.17216202,\n",
       "          0.17146331, 0.17242485, 0.17223102, 0.17199107, 0.17217157,\n",
       "          0.17156389, 0.17224141, 0.17265773, 0.17132125, 0.17226962,\n",
       "          0.17225266, 0.17188971, 0.17165366, 0.17224228, 0.17264515,\n",
       "          0.1721165 , 0.17230256, 0.17320464, 0.17332232, 0.17315878,\n",
       "          0.17173895, 0.17203988, 0.17249301, 0.17145109, 0.17280017],\n",
       "         [0.94963413, 0.94565607, 0.94916422, 0.94848707, 0.94676373,\n",
       "          0.94796987, 0.94710334, 0.94818814, 0.94933234, 0.94809042,\n",
       "          0.94737048, 0.94794593, 0.95121574, 0.95146088, 0.94886801,\n",
       "          0.9487035 , 0.95272373, 0.94855319, 0.94698068, 0.94762629,\n",
       "          0.94917247, 0.94810008, 0.95091883, 0.94854868, 0.94532906,\n",
       "          0.94983407, 0.94576158, 0.94708927, 0.94647101, 0.94742562],\n",
       "         [0.66989614, 0.67307985, 0.67530097, 0.67150455, 0.67302598,\n",
       "          0.67442208, 0.67423878, 0.67295516, 0.67277551, 0.67457543,\n",
       "          0.67257287, 0.67196083, 0.67429912, 0.67280344, 0.67159467,\n",
       "          0.67167524, 0.67558849, 0.67188329, 0.67341117, 0.67429172,\n",
       "          0.67342405, 0.6744722 , 0.67300816, 0.67339607, 0.67346578,\n",
       "          0.67419482, 0.67213151, 0.67207817, 0.67282587, 0.67281096],\n",
       "         [0.54505169, 0.54495232, 0.54790733, 0.54659423, 0.5475054 ,\n",
       "          0.54726345, 0.54622461, 0.5482762 , 0.54694454, 0.54572007,\n",
       "          0.54686792, 0.54599796, 0.55105336, 0.54865827, 0.54817563,\n",
       "          0.54687049, 0.54929654, 0.54708718, 0.54611508, 0.54866363,\n",
       "          0.54689945, 0.55051128, 0.54892182, 0.54777992, 0.54497429,\n",
       "          0.54922846, 0.54488321, 0.54722081, 0.54824881, 0.55119842]])}}"
      ]
     },
     "execution_count": 29,
     "metadata": {},
     "output_type": "execute_result"
    }
   ],
   "source": [
    "pfi_scores"
   ]
  },
  {
   "cell_type": "code",
   "execution_count": 30,
   "metadata": {},
   "outputs": [],
   "source": [
    "with open('../results/permutation_importance.pkl', 'wb') as f:\n",
    "    pickle.dump(pfi_scores, f)"
   ]
  },
  {
   "cell_type": "code",
   "execution_count": null,
   "metadata": {},
   "outputs": [],
   "source": []
  },
  {
   "cell_type": "code",
   "execution_count": null,
   "metadata": {},
   "outputs": [],
   "source": []
  },
  {
   "cell_type": "code",
   "execution_count": null,
   "metadata": {},
   "outputs": [],
   "source": [
    "metrics = ['neg_root_mean_squared_error', 'r2']\n",
    "\n",
    "pfi_scores={}\n"
   ]
  },
  {
   "cell_type": "code",
   "execution_count": 17,
   "metadata": {},
   "outputs": [],
   "source": [
    "from xgboost import XGBRegressor"
   ]
  },
  {
   "cell_type": "code",
   "execution_count": 15,
   "metadata": {},
   "outputs": [],
   "source": [
    "model = XGBClassifier()\n",
    "model._Booster = bst\n"
   ]
  },
  {
   "cell_type": "code",
   "execution_count": null,
   "metadata": {},
   "outputs": [],
   "source": []
  },
  {
   "cell_type": "code",
   "execution_count": 16,
   "metadata": {},
   "outputs": [
    {
     "ename": "InvalidParameterError",
     "evalue": "The 'estimator' parameter of permutation_importance must be an object implementing 'fit'. Got <xgboost.core.Booster object at 0x7f79e07d34c0> instead.",
     "output_type": "error",
     "traceback": [
      "\u001b[0;31m---------------------------------------------------------------------------\u001b[0m",
      "\u001b[0;31mInvalidParameterError\u001b[0m                     Traceback (most recent call last)",
      "\u001b[1;32m/home/habeebbabatunde/InSAR/uavsar-lidar-project/experiments/07_model_comparison.ipynb Cell 22\u001b[0m line \u001b[0;36m1\n\u001b[0;32m----> <a href='vscode-notebook-cell://ssh-remote%2B7b22686f73744e616d65223a22454e47343032353838227d/home/habeebbabatunde/InSAR/uavsar-lidar-project/experiments/07_model_comparison.ipynb#Y131sdnNjb2RlLXJlbW90ZQ%3D%3D?line=0'>1</a>\u001b[0m permutation_importance(\n\u001b[1;32m      <a href='vscode-notebook-cell://ssh-remote%2B7b22686f73744e616d65223a22454e47343032353838227d/home/habeebbabatunde/InSAR/uavsar-lidar-project/experiments/07_model_comparison.ipynb#Y131sdnNjb2RlLXJlbW90ZQ%3D%3D?line=1'>2</a>\u001b[0m     estimator\u001b[39m=\u001b[39;49mbst,\n\u001b[1;32m      <a href='vscode-notebook-cell://ssh-remote%2B7b22686f73744e616d65223a22454e47343032353838227d/home/habeebbabatunde/InSAR/uavsar-lidar-project/experiments/07_model_comparison.ipynb#Y131sdnNjb2RlLXJlbW90ZQ%3D%3D?line=2'>3</a>\u001b[0m     X\u001b[39m=\u001b[39;49mfull_splits[\u001b[39m'\u001b[39;49m\u001b[39mX_test\u001b[39;49m\u001b[39m'\u001b[39;49m][UAVSAR_AND_VEGETATION_HEIGHT_FEATURES],\n\u001b[1;32m      <a href='vscode-notebook-cell://ssh-remote%2B7b22686f73744e616d65223a22454e47343032353838227d/home/habeebbabatunde/InSAR/uavsar-lidar-project/experiments/07_model_comparison.ipynb#Y131sdnNjb2RlLXJlbW90ZQ%3D%3D?line=3'>4</a>\u001b[0m     y\u001b[39m=\u001b[39;49mfull_splits[\u001b[39m'\u001b[39;49m\u001b[39my_test\u001b[39;49m\u001b[39m'\u001b[39;49m],\n\u001b[1;32m      <a href='vscode-notebook-cell://ssh-remote%2B7b22686f73744e616d65223a22454e47343032353838227d/home/habeebbabatunde/InSAR/uavsar-lidar-project/experiments/07_model_comparison.ipynb#Y131sdnNjb2RlLXJlbW90ZQ%3D%3D?line=4'>5</a>\u001b[0m     scoring\u001b[39m=\u001b[39;49m\u001b[39m'\u001b[39;49m\u001b[39mneg_root_mean_squared_error\u001b[39;49m\u001b[39m'\u001b[39;49m,\n\u001b[1;32m      <a href='vscode-notebook-cell://ssh-remote%2B7b22686f73744e616d65223a22454e47343032353838227d/home/habeebbabatunde/InSAR/uavsar-lidar-project/experiments/07_model_comparison.ipynb#Y131sdnNjb2RlLXJlbW90ZQ%3D%3D?line=5'>6</a>\u001b[0m     n_repeats\u001b[39m=\u001b[39;49m\u001b[39m10\u001b[39;49m,\n\u001b[1;32m      <a href='vscode-notebook-cell://ssh-remote%2B7b22686f73744e616d65223a22454e47343032353838227d/home/habeebbabatunde/InSAR/uavsar-lidar-project/experiments/07_model_comparison.ipynb#Y131sdnNjb2RlLXJlbW90ZQ%3D%3D?line=6'>7</a>\u001b[0m     n_jobs\u001b[39m=\u001b[39;49m\u001b[39m-\u001b[39;49m\u001b[39m1\u001b[39;49m,\n\u001b[1;32m      <a href='vscode-notebook-cell://ssh-remote%2B7b22686f73744e616d65223a22454e47343032353838227d/home/habeebbabatunde/InSAR/uavsar-lidar-project/experiments/07_model_comparison.ipynb#Y131sdnNjb2RlLXJlbW90ZQ%3D%3D?line=7'>8</a>\u001b[0m     random_state\u001b[39m=\u001b[39;49m\u001b[39m42\u001b[39;49m,\n\u001b[1;32m      <a href='vscode-notebook-cell://ssh-remote%2B7b22686f73744e616d65223a22454e47343032353838227d/home/habeebbabatunde/InSAR/uavsar-lidar-project/experiments/07_model_comparison.ipynb#Y131sdnNjb2RlLXJlbW90ZQ%3D%3D?line=8'>9</a>\u001b[0m )\n",
      "File \u001b[0;32m~/autoskln/lib/python3.10/site-packages/sklearn/utils/_param_validation.py:201\u001b[0m, in \u001b[0;36mvalidate_params.<locals>.decorator.<locals>.wrapper\u001b[0;34m(*args, **kwargs)\u001b[0m\n\u001b[1;32m    198\u001b[0m to_ignore \u001b[39m+\u001b[39m\u001b[39m=\u001b[39m [\u001b[39m\"\u001b[39m\u001b[39mself\u001b[39m\u001b[39m\"\u001b[39m, \u001b[39m\"\u001b[39m\u001b[39mcls\u001b[39m\u001b[39m\"\u001b[39m]\n\u001b[1;32m    199\u001b[0m params \u001b[39m=\u001b[39m {k: v \u001b[39mfor\u001b[39;00m k, v \u001b[39min\u001b[39;00m params\u001b[39m.\u001b[39marguments\u001b[39m.\u001b[39mitems() \u001b[39mif\u001b[39;00m k \u001b[39mnot\u001b[39;00m \u001b[39min\u001b[39;00m to_ignore}\n\u001b[0;32m--> 201\u001b[0m validate_parameter_constraints(\n\u001b[1;32m    202\u001b[0m     parameter_constraints, params, caller_name\u001b[39m=\u001b[39;49mfunc\u001b[39m.\u001b[39;49m\u001b[39m__qualname__\u001b[39;49m\n\u001b[1;32m    203\u001b[0m )\n\u001b[1;32m    205\u001b[0m \u001b[39mtry\u001b[39;00m:\n\u001b[1;32m    206\u001b[0m     \u001b[39mwith\u001b[39;00m config_context(\n\u001b[1;32m    207\u001b[0m         skip_parameter_validation\u001b[39m=\u001b[39m(\n\u001b[1;32m    208\u001b[0m             prefer_skip_nested_validation \u001b[39mor\u001b[39;00m global_skip_validation\n\u001b[1;32m    209\u001b[0m         )\n\u001b[1;32m    210\u001b[0m     ):\n",
      "File \u001b[0;32m~/autoskln/lib/python3.10/site-packages/sklearn/utils/_param_validation.py:95\u001b[0m, in \u001b[0;36mvalidate_parameter_constraints\u001b[0;34m(parameter_constraints, params, caller_name)\u001b[0m\n\u001b[1;32m     89\u001b[0m \u001b[39melse\u001b[39;00m:\n\u001b[1;32m     90\u001b[0m     constraints_str \u001b[39m=\u001b[39m (\n\u001b[1;32m     91\u001b[0m         \u001b[39mf\u001b[39m\u001b[39m\"\u001b[39m\u001b[39m{\u001b[39;00m\u001b[39m'\u001b[39m\u001b[39m, \u001b[39m\u001b[39m'\u001b[39m\u001b[39m.\u001b[39mjoin([\u001b[39mstr\u001b[39m(c)\u001b[39m \u001b[39m\u001b[39mfor\u001b[39;00m\u001b[39m \u001b[39mc\u001b[39m \u001b[39m\u001b[39min\u001b[39;00m\u001b[39m \u001b[39mconstraints[:\u001b[39m-\u001b[39m\u001b[39m1\u001b[39m]])\u001b[39m}\u001b[39;00m\u001b[39m or\u001b[39m\u001b[39m\"\u001b[39m\n\u001b[1;32m     92\u001b[0m         \u001b[39mf\u001b[39m\u001b[39m\"\u001b[39m\u001b[39m \u001b[39m\u001b[39m{\u001b[39;00mconstraints[\u001b[39m-\u001b[39m\u001b[39m1\u001b[39m]\u001b[39m}\u001b[39;00m\u001b[39m\"\u001b[39m\n\u001b[1;32m     93\u001b[0m     )\n\u001b[0;32m---> 95\u001b[0m \u001b[39mraise\u001b[39;00m InvalidParameterError(\n\u001b[1;32m     96\u001b[0m     \u001b[39mf\u001b[39m\u001b[39m\"\u001b[39m\u001b[39mThe \u001b[39m\u001b[39m{\u001b[39;00mparam_name\u001b[39m!r}\u001b[39;00m\u001b[39m parameter of \u001b[39m\u001b[39m{\u001b[39;00mcaller_name\u001b[39m}\u001b[39;00m\u001b[39m must be\u001b[39m\u001b[39m\"\u001b[39m\n\u001b[1;32m     97\u001b[0m     \u001b[39mf\u001b[39m\u001b[39m\"\u001b[39m\u001b[39m \u001b[39m\u001b[39m{\u001b[39;00mconstraints_str\u001b[39m}\u001b[39;00m\u001b[39m. Got \u001b[39m\u001b[39m{\u001b[39;00mparam_val\u001b[39m!r}\u001b[39;00m\u001b[39m instead.\u001b[39m\u001b[39m\"\u001b[39m\n\u001b[1;32m     98\u001b[0m )\n",
      "\u001b[0;31mInvalidParameterError\u001b[0m: The 'estimator' parameter of permutation_importance must be an object implementing 'fit'. Got <xgboost.core.Booster object at 0x7f79e07d34c0> instead."
     ]
    }
   ],
   "source": [
    "permutation_importance(\n",
    "    estimator=bst,\n",
    "    X=full_splits['X_test'][UAVSAR_AND_VEGETATION_HEIGHT_FEATURES],\n",
    "    y=full_splits['y_test'],\n",
    "    scoring='neg_root_mean_squared_error',\n",
    "    n_repeats=10,\n",
    "    n_jobs=-1,\n",
    "    random_state=42,\n",
    ")"
   ]
  },
  {
   "cell_type": "code",
   "execution_count": null,
   "metadata": {},
   "outputs": [],
   "source": []
  },
  {
   "cell_type": "code",
   "execution_count": null,
   "metadata": {},
   "outputs": [],
   "source": []
  },
  {
   "cell_type": "code",
   "execution_count": 43,
   "metadata": {},
   "outputs": [],
   "source": [
    "import numpy as np"
   ]
  },
  {
   "cell_type": "code",
   "execution_count": 48,
   "metadata": {},
   "outputs": [
    {
     "data": {
      "text/plain": [
       "0.09276928"
      ]
     },
     "execution_count": 48,
     "metadata": {},
     "output_type": "execute_result"
    }
   ],
   "source": [
    "rmse = np.sqrt(np.mean((bst.predict(dtest) - full_splits['y_test'])**2))\n",
    "rmse"
   ]
  },
  {
   "cell_type": "code",
   "execution_count": 49,
   "metadata": {},
   "outputs": [
    {
     "name": "stderr",
     "output_type": "stream",
     "text": [
      "[08:11:15] WARNING: /workspace/src/c_api/c_api.cc:1240: Saving into deprecated binary model format, please consider using `json` or `ubj`. Model format will default to JSON in XGBoost 2.2 if not specified.\n"
     ]
    }
   ],
   "source": [
    "explainer = shap.TreeExplainer(bst)"
   ]
  },
  {
   "cell_type": "code",
   "execution_count": 50,
   "metadata": {},
   "outputs": [
    {
     "ename": "",
     "evalue": "",
     "output_type": "error",
     "traceback": [
      "\u001b[1;31mThe Kernel crashed while executing code in the the current cell or a previous cell. Please review the code in the cell(s) to identify a possible cause of the failure. Click <a href='https://aka.ms/vscodeJupyterKernelCrash'>here</a> for more info. View Jupyter <a href='command:jupyter.viewOutput'>log</a> for further details."
     ]
    }
   ],
   "source": [
    "shap_values = explainer(full_splits['X_test'][UAVSAR_AND_VEGETATION_HEIGHT_FEATURES])"
   ]
  },
  {
   "cell_type": "code",
   "execution_count": null,
   "metadata": {},
   "outputs": [],
   "source": [
    "hb=plt.hexbin(full_splits['y_temp'], preds, gridsize=10, cmap='Oranges', mincnt=1) # BuGn_r, Greens, YlGnBu, YlOrRd, Oranges, Reds, Blues, Purples, Greys, PuRd, RdPu, BuPu, GnBu, PuBu, YlGn, YlOrBr, Purples, Greys, PuRd, RdPu, BuPu, GnBu, PuBu, YlGn, YlOrBr\n",
    "plt.colorbar(hb)"
   ]
  }
 ],
 "metadata": {
  "kernelspec": {
   "display_name": "autoskln",
   "language": "python",
   "name": "python3"
  },
  "language_info": {
   "codemirror_mode": {
    "name": "ipython",
    "version": 3
   },
   "file_extension": ".py",
   "mimetype": "text/x-python",
   "name": "python",
   "nbconvert_exporter": "python",
   "pygments_lexer": "ipython3",
   "version": "3.10.10"
  },
  "orig_nbformat": 4
 },
 "nbformat": 4,
 "nbformat_minor": 2
}
