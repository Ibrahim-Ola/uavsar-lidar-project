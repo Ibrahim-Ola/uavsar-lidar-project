{
 "cells": [
  {
   "cell_type": "markdown",
   "id": "0f7759b3",
   "metadata": {},
   "source": [
    "## Setup\n",
    "\n",
    "Load libraries"
   ]
  },
  {
   "cell_type": "code",
   "execution_count": 4,
   "id": "28b03715-605a-45b1-88b4-9e0531f12347",
   "metadata": {},
   "outputs": [],
   "source": [
    "import os\n",
    "import shap\n",
    "import pickle\n",
    "import numpy as np\n",
    "import pandas as pd\n",
    "\n",
    "from utils.model_fitting_utils import ModelFitting\n",
    "from utils.features import UAVSAR_FEATURES, UAVSAR_AND_VEGETATION_HEIGHT_FEATURES"
   ]
  },
  {
   "cell_type": "markdown",
   "id": "f166c125",
   "metadata": {},
   "source": [
    "## Load Data"
   ]
  },
  {
   "cell_type": "code",
   "execution_count": 7,
   "id": "0d239c0a-c2e2-41bd-b983-194d9928479d",
   "metadata": {},
   "outputs": [],
   "source": [
    "with open('../data/full_splits.pkl', 'rb') as f:\n",
    "    full_splits = pickle.load(f)\n",
    "\n",
    "\n",
    "with open('../data/vegetation_splits.pkl', 'rb') as f:\n",
    "    vegetation_splits = pickle.load(f)\n",
    "\n",
    "\n",
    "with open('../data/no_vegetation_splits.pkl', 'rb') as f:\n",
    "    no_vegetation_splits = pickle.load(f)"
   ]
  },
  {
   "cell_type": "markdown",
   "id": "bfda1011-b57f-47a1-b122-7084b2ecef4e",
   "metadata": {},
   "source": [
    "## Overall Best Model (XGBoost for the combined dataset)"
   ]
  },
  {
   "cell_type": "code",
   "execution_count": 8,
   "id": "aaa01947-b2d2-44e3-b2d1-405577a918a8",
   "metadata": {},
   "outputs": [],
   "source": [
    "xgboost_utils = {\n",
    "        \"sampling_method\": \"gradient_based\",\n",
    "        'objective': 'reg:squarederror',\n",
    "        \"min_child_weight\": 30,\n",
    "        'learning_rate': 0.05,\n",
    "        'tree_method': 'hist',\n",
    "        'booster': 'gbtree',\n",
    "        'device': 'cuda',\n",
    "        'max_depth': 0,\n",
    "        \"subsample\": 1,\n",
    "        \"max_bin\":5096,\n",
    "        \"trees\": 50,\n",
    "        \"seed\": 42\n",
    "    }"
   ]
  },
  {
   "cell_type": "code",
   "execution_count": 9,
   "id": "6560199d-180a-4661-a77c-c83a08da18c7",
   "metadata": {},
   "outputs": [
    {
     "data": {
      "text/plain": [
       "50"
      ]
     },
     "execution_count": 9,
     "metadata": {},
     "output_type": "execute_result"
    }
   ],
   "source": [
    "dtrain=xgb.DMatrix(full_splits['X_temp'][UAVSAR_AND_VEGETATION_HEIGHT_FEATURES], label=full_splits['y_temp'])\n",
    "n_trees = xgboost_utils[\"trees\"]\n",
    "boosting_params = xgboost_utils.copy()\n",
    "boosting_params.pop(\"trees\")"
   ]
  },
  {
   "cell_type": "code",
   "execution_count": 10,
   "id": "4d72b131-827e-43fc-95e7-fa5812ee58b0",
   "metadata": {},
   "outputs": [],
   "source": [
    "model = xgb.train(\n",
    "    params=boosting_params,\n",
    "    dtrain=dtrain,\n",
    "    num_boost_round=n_trees\n",
    ")"
   ]
  },
  {
   "cell_type": "code",
   "execution_count": 11,
   "id": "1f75346f-8ed6-4673-b363-18227ca4cc89",
   "metadata": {},
   "outputs": [],
   "source": [
    "# model = xgb.Booster()\n",
    "# model.load_model(\"model_weights_all2.ubj\")  # Load model from Universal Binary JSON file\n",
    "\n",
    "# ## Calculate SHAP values for the density model\n",
    "# model.set_param({\"device\": \"cuda\"}) ## comment this out if you do not have a GPU\n",
    "explainer = shap.TreeExplainer(model)\n",
    "\n",
    "shap_values = explainer.shap_values(full_splits['X_test'][UAVSAR_AND_VEGETATION_HEIGHT_FEATURES])"
   ]
  },
  {
   "cell_type": "code",
   "execution_count": 12,
   "id": "a34685bc-690a-43a3-80ae-8929897e2f92",
   "metadata": {},
   "outputs": [
    {
     "data": {
      "text/html": [
       "<div>\n",
       "<style scoped>\n",
       "    .dataframe tbody tr th:only-of-type {\n",
       "        vertical-align: middle;\n",
       "    }\n",
       "\n",
       "    .dataframe tbody tr th {\n",
       "        vertical-align: top;\n",
       "    }\n",
       "\n",
       "    .dataframe thead th {\n",
       "        text-align: right;\n",
       "    }\n",
       "</style>\n",
       "<table border=\"1\" class=\"dataframe\">\n",
       "  <thead>\n",
       "    <tr style=\"text-align: right;\">\n",
       "      <th></th>\n",
       "      <th>Feature</th>\n",
       "      <th>Importance</th>\n",
       "    </tr>\n",
       "  </thead>\n",
       "  <tbody>\n",
       "    <tr>\n",
       "      <th>6</th>\n",
       "      <td>unwrapped_phase</td>\n",
       "      <td>0.086921</td>\n",
       "    </tr>\n",
       "    <tr>\n",
       "      <th>4</th>\n",
       "      <td>elevation</td>\n",
       "      <td>0.073468</td>\n",
       "    </tr>\n",
       "    <tr>\n",
       "      <th>1</th>\n",
       "      <td>amplitude</td>\n",
       "      <td>0.052275</td>\n",
       "    </tr>\n",
       "    <tr>\n",
       "      <th>5</th>\n",
       "      <td>incidence_angle</td>\n",
       "      <td>0.049994</td>\n",
       "    </tr>\n",
       "    <tr>\n",
       "      <th>2</th>\n",
       "      <td>vegetation_ht</td>\n",
       "      <td>0.032201</td>\n",
       "    </tr>\n",
       "    <tr>\n",
       "      <th>3</th>\n",
       "      <td>wrapped_phase</td>\n",
       "      <td>0.018315</td>\n",
       "    </tr>\n",
       "    <tr>\n",
       "      <th>0</th>\n",
       "      <td>coherence</td>\n",
       "      <td>0.011917</td>\n",
       "    </tr>\n",
       "  </tbody>\n",
       "</table>\n",
       "</div>"
      ],
      "text/plain": [
       "           Feature  Importance\n",
       "6  unwrapped_phase    0.086921\n",
       "4        elevation    0.073468\n",
       "1        amplitude    0.052275\n",
       "5  incidence_angle    0.049994\n",
       "2    vegetation_ht    0.032201\n",
       "3    wrapped_phase    0.018315\n",
       "0        coherence    0.011917"
      ]
     },
     "execution_count": 12,
     "metadata": {},
     "output_type": "execute_result"
    }
   ],
   "source": [
    "shap_importance_combined=(\n",
    "    pd.DataFrame(\n",
    "        data={\n",
    "            \"Feature\": model.feature_names,\n",
    "            \"Importance\": np.abs(shap_values).mean(axis=0)\n",
    "        }\n",
    "    )\n",
    "    .sort_values(by=\"Importance\", ascending=False)\n",
    ")\n",
    "\n",
    "shap_importance_combined"
   ]
  },
  {
   "cell_type": "markdown",
   "id": "2b35db16-6b25-48fb-b430-fbad64b3a100",
   "metadata": {},
   "source": [
    "## Open Areas"
   ]
  },
  {
   "cell_type": "code",
   "execution_count": 13,
   "id": "c4a58e1f-bd41-4e73-b940-2047f2be0acc",
   "metadata": {},
   "outputs": [],
   "source": [
    "with open('no_vegetation_splits.pkl', 'rb') as f:\n",
    "    no_vegetation_splits = pickle.load(f)"
   ]
  },
  {
   "cell_type": "code",
   "execution_count": 14,
   "id": "b0b43984-2277-4306-a7f7-cd5e442818a8",
   "metadata": {},
   "outputs": [],
   "source": [
    "dtrain=xgb.DMatrix(no_vegetation_splits['X_temp'][UAVSAR_FEATURES], label=no_vegetation_splits['y_temp'])\n",
    "\n",
    "model = xgb.train(\n",
    "    params=boosting_params,\n",
    "    dtrain=dtrain,\n",
    "    num_boost_round=50\n",
    ")"
   ]
  },
  {
   "cell_type": "code",
   "execution_count": 15,
   "id": "92f27766-e1a9-4b95-a804-de683bfd8428",
   "metadata": {},
   "outputs": [],
   "source": [
    "# model.set_param({\"device\": \"cuda\"}) ## comment this out if you do not have a GPU\n",
    "explainer = shap.TreeExplainer(model)\n",
    "\n",
    "shap_values_open = explainer.shap_values(no_vegetation_splits['X_test'][UAVSAR_FEATURES])"
   ]
  },
  {
   "cell_type": "code",
   "execution_count": 16,
   "id": "7885bc2c-c3b4-4903-8cdc-a2be7cc2b9a3",
   "metadata": {},
   "outputs": [
    {
     "data": {
      "text/html": [
       "<div>\n",
       "<style scoped>\n",
       "    .dataframe tbody tr th:only-of-type {\n",
       "        vertical-align: middle;\n",
       "    }\n",
       "\n",
       "    .dataframe tbody tr th {\n",
       "        vertical-align: top;\n",
       "    }\n",
       "\n",
       "    .dataframe thead th {\n",
       "        text-align: right;\n",
       "    }\n",
       "</style>\n",
       "<table border=\"1\" class=\"dataframe\">\n",
       "  <thead>\n",
       "    <tr style=\"text-align: right;\">\n",
       "      <th></th>\n",
       "      <th>Feature</th>\n",
       "      <th>Importance</th>\n",
       "    </tr>\n",
       "  </thead>\n",
       "  <tbody>\n",
       "    <tr>\n",
       "      <th>5</th>\n",
       "      <td>unwrapped_phase</td>\n",
       "      <td>0.120974</td>\n",
       "    </tr>\n",
       "    <tr>\n",
       "      <th>3</th>\n",
       "      <td>elevation</td>\n",
       "      <td>0.064700</td>\n",
       "    </tr>\n",
       "    <tr>\n",
       "      <th>4</th>\n",
       "      <td>incidence_angle</td>\n",
       "      <td>0.037485</td>\n",
       "    </tr>\n",
       "    <tr>\n",
       "      <th>1</th>\n",
       "      <td>amplitude</td>\n",
       "      <td>0.028049</td>\n",
       "    </tr>\n",
       "    <tr>\n",
       "      <th>2</th>\n",
       "      <td>wrapped_phase</td>\n",
       "      <td>0.025552</td>\n",
       "    </tr>\n",
       "    <tr>\n",
       "      <th>0</th>\n",
       "      <td>coherence</td>\n",
       "      <td>0.013002</td>\n",
       "    </tr>\n",
       "  </tbody>\n",
       "</table>\n",
       "</div>"
      ],
      "text/plain": [
       "           Feature  Importance\n",
       "5  unwrapped_phase    0.120974\n",
       "3        elevation    0.064700\n",
       "4  incidence_angle    0.037485\n",
       "1        amplitude    0.028049\n",
       "2    wrapped_phase    0.025552\n",
       "0        coherence    0.013002"
      ]
     },
     "execution_count": 16,
     "metadata": {},
     "output_type": "execute_result"
    }
   ],
   "source": [
    "shap_importance_open=(\n",
    "    pd.DataFrame(\n",
    "        data={\n",
    "            \"Feature\": model.feature_names,\n",
    "            \"Importance\": np.abs(shap_values_open).mean(axis=0)\n",
    "        }\n",
    "    )\n",
    "    .sort_values(by=\"Importance\", ascending=False)\n",
    ")\n",
    "\n",
    "shap_importance_open"
   ]
  },
  {
   "cell_type": "markdown",
   "id": "19f172d7-ef69-4a31-a13f-10813c13ae96",
   "metadata": {},
   "source": [
    "## Vegetated Areas"
   ]
  },
  {
   "cell_type": "code",
   "execution_count": 17,
   "id": "e429ccac-9157-4c5d-9176-bf2c1dfe207c",
   "metadata": {},
   "outputs": [],
   "source": [
    "with open('vegetation_splits.pkl', 'rb') as f:\n",
    "    vegetation_splits = pickle.load(f)"
   ]
  },
  {
   "cell_type": "code",
   "execution_count": 18,
   "id": "58f724df-2f27-47c6-a3f4-97c9eb00c7f1",
   "metadata": {},
   "outputs": [],
   "source": [
    "dtrain=xgb.DMatrix(vegetation_splits['X_temp'][UAVSAR_AND_VEGETATION_HEIGHT_FEATURES], label=vegetation_splits['y_temp'])\n",
    "\n",
    "model = xgb.train(\n",
    "    params=boosting_params,\n",
    "    dtrain=dtrain,\n",
    "    num_boost_round=50\n",
    ")"
   ]
  },
  {
   "cell_type": "code",
   "execution_count": 20,
   "id": "aee3cb64-6119-4d8a-a9f2-8400cfb33db6",
   "metadata": {},
   "outputs": [],
   "source": [
    "explainer = shap.TreeExplainer(model)\n",
    "\n",
    "shap_values_vegetated = explainer.shap_values(vegetation_splits['X_test'][UAVSAR_AND_VEGETATION_HEIGHT_FEATURES])"
   ]
  },
  {
   "cell_type": "code",
   "execution_count": 21,
   "id": "ff469c59-11eb-4987-b745-56e4250cbd2d",
   "metadata": {},
   "outputs": [
    {
     "data": {
      "text/html": [
       "<div>\n",
       "<style scoped>\n",
       "    .dataframe tbody tr th:only-of-type {\n",
       "        vertical-align: middle;\n",
       "    }\n",
       "\n",
       "    .dataframe tbody tr th {\n",
       "        vertical-align: top;\n",
       "    }\n",
       "\n",
       "    .dataframe thead th {\n",
       "        text-align: right;\n",
       "    }\n",
       "</style>\n",
       "<table border=\"1\" class=\"dataframe\">\n",
       "  <thead>\n",
       "    <tr style=\"text-align: right;\">\n",
       "      <th></th>\n",
       "      <th>Feature</th>\n",
       "      <th>Importance</th>\n",
       "    </tr>\n",
       "  </thead>\n",
       "  <tbody>\n",
       "    <tr>\n",
       "      <th>4</th>\n",
       "      <td>elevation</td>\n",
       "      <td>0.099073</td>\n",
       "    </tr>\n",
       "    <tr>\n",
       "      <th>5</th>\n",
       "      <td>incidence_angle</td>\n",
       "      <td>0.084523</td>\n",
       "    </tr>\n",
       "    <tr>\n",
       "      <th>2</th>\n",
       "      <td>vegetation_ht</td>\n",
       "      <td>0.063105</td>\n",
       "    </tr>\n",
       "    <tr>\n",
       "      <th>6</th>\n",
       "      <td>unwrapped_phase</td>\n",
       "      <td>0.031785</td>\n",
       "    </tr>\n",
       "    <tr>\n",
       "      <th>1</th>\n",
       "      <td>amplitude</td>\n",
       "      <td>0.009196</td>\n",
       "    </tr>\n",
       "    <tr>\n",
       "      <th>3</th>\n",
       "      <td>wrapped_phase</td>\n",
       "      <td>0.006391</td>\n",
       "    </tr>\n",
       "    <tr>\n",
       "      <th>0</th>\n",
       "      <td>coherence</td>\n",
       "      <td>0.005100</td>\n",
       "    </tr>\n",
       "  </tbody>\n",
       "</table>\n",
       "</div>"
      ],
      "text/plain": [
       "           Feature  Importance\n",
       "4        elevation    0.099073\n",
       "5  incidence_angle    0.084523\n",
       "2    vegetation_ht    0.063105\n",
       "6  unwrapped_phase    0.031785\n",
       "1        amplitude    0.009196\n",
       "3    wrapped_phase    0.006391\n",
       "0        coherence    0.005100"
      ]
     },
     "execution_count": 21,
     "metadata": {},
     "output_type": "execute_result"
    }
   ],
   "source": [
    "shap_importance_vegetated=(\n",
    "    pd.DataFrame(\n",
    "        data={\n",
    "            \"Feature\": model.feature_names,\n",
    "            \"Importance\": np.abs(shap_values_vegetated).mean(axis=0)\n",
    "        }\n",
    "    )\n",
    "    .sort_values(by=\"Importance\", ascending=False)\n",
    ")\n",
    "\n",
    "shap_importance_vegetated"
   ]
  },
  {
   "cell_type": "code",
   "execution_count": 22,
   "id": "709a704c-32d6-4fe0-aba1-42c531ac3d8b",
   "metadata": {},
   "outputs": [],
   "source": [
    "shap_importance_vegetated.to_csv(\"vegetated_shap.csv\", index=False)"
   ]
  },
  {
   "cell_type": "code",
   "execution_count": 23,
   "id": "5f9cd2a6-1461-42d8-9f47-ada23f7a1a9c",
   "metadata": {},
   "outputs": [],
   "source": [
    "shap_importance_open.to_csv(\"open_shap.csv\", index=False)"
   ]
  },
  {
   "cell_type": "code",
   "execution_count": 24,
   "id": "716fcb21-0a74-4484-a56c-41c86856ed70",
   "metadata": {},
   "outputs": [],
   "source": [
    "shap_importance_combined.to_csv(\"combined_shap.csv\", index=False)"
   ]
  }
 ],
 "metadata": {
  "kernelspec": {
   "display_name": "Python 3 (ipykernel)",
   "language": "python",
   "name": "python3"
  },
  "language_info": {
   "codemirror_mode": {
    "name": "ipython",
    "version": 3
   },
   "file_extension": ".py",
   "mimetype": "text/x-python",
   "name": "python",
   "nbconvert_exporter": "python",
   "pygments_lexer": "ipython3",
   "version": "3.10.12"
  }
 },
 "nbformat": 4,
 "nbformat_minor": 5
}
