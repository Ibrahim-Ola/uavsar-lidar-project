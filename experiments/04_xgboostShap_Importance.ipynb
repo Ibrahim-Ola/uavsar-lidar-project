{
 "cells": [
  {
   "cell_type": "markdown",
   "id": "0f7759b3",
   "metadata": {},
   "source": [
    "## Setup\n",
    "\n",
    "Load libraries"
   ]
  },
  {
   "cell_type": "code",
   "execution_count": 2,
   "id": "28b03715-605a-45b1-88b4-9e0531f12347",
   "metadata": {},
   "outputs": [],
   "source": [
    "import shap\n",
    "import pickle\n",
    "import numpy as np\n",
    "import pandas as pd\n",
    "import xgboost as xgb\n",
    "from utils.features import UAVSAR_FEATURES, UAVSAR_AND_VEGETATION_HEIGHT_FEATURES"
   ]
  },
  {
   "cell_type": "markdown",
   "id": "f166c125",
   "metadata": {},
   "source": [
    "## Load Data"
   ]
  },
  {
   "cell_type": "code",
   "execution_count": 3,
   "id": "0d239c0a-c2e2-41bd-b983-194d9928479d",
   "metadata": {},
   "outputs": [],
   "source": [
    "with open('../data/full_splits.pkl', 'rb') as f:\n",
    "    full_splits = pickle.load(f)\n",
    "\n",
    "\n",
    "with open('../data/vegetation_splits.pkl', 'rb') as f:\n",
    "    vegetation_splits = pickle.load(f)\n",
    "\n",
    "\n",
    "with open('../data/no_vegetation_splits.pkl', 'rb') as f:\n",
    "    no_vegetation_splits = pickle.load(f)"
   ]
  },
  {
   "cell_type": "markdown",
   "id": "bfda1011-b57f-47a1-b122-7084b2ecef4e",
   "metadata": {},
   "source": [
    "## Combined Dataset\n",
    "\n",
    "* InSAR + Vegetation Height Model Training"
   ]
  },
  {
   "cell_type": "code",
   "execution_count": 5,
   "id": "c1d7ef4c",
   "metadata": {},
   "outputs": [],
   "source": [
    "boosting_params = {\n",
    "    \"sampling_method\": \"gradient_based\",\n",
    "    'objective': 'reg:squarederror',\n",
    "    \"min_child_weight\": 30,\n",
    "    'learning_rate': 0.05,\n",
    "    'tree_method': 'hist',\n",
    "    'booster': 'gbtree',\n",
    "    'device': 'cuda',\n",
    "    'max_depth': 0,\n",
    "    \"subsample\": 1,\n",
    "    \"max_bin\":5096,\n",
    "    \"seed\": 42\n",
    "}\n",
    "\n",
    "dtrain_combined=xgb.DMatrix(full_splits['X_temp'][UAVSAR_AND_VEGETATION_HEIGHT_FEATURES], label=full_splits['y_temp'])\n",
    "\n",
    "\n",
    "# Train the model\n",
    "model = xgb.train(\n",
    "    params=boosting_params,\n",
    "    dtrain=dtrain_combined,\n",
    "    num_boost_round=50 # seeting this to 50 because we didn't see and difference in SHAP importance after 50 rounds\n",
    ")"
   ]
  },
  {
   "cell_type": "markdown",
   "id": "9fda0bcd",
   "metadata": {},
   "source": [
    "* Shap Analysis"
   ]
  },
  {
   "cell_type": "code",
   "execution_count": 7,
   "id": "dabf34d0",
   "metadata": {},
   "outputs": [],
   "source": [
    "explainer=shap.TreeExplainer(model)\n",
    "shap_values = explainer.shap_values(full_splits['X_temp'][UAVSAR_AND_VEGETATION_HEIGHT_FEATURES])"
   ]
  },
  {
   "cell_type": "markdown",
   "id": "40ea383a",
   "metadata": {},
   "source": [
    "* Importance"
   ]
  },
  {
   "cell_type": "code",
   "execution_count": null,
   "id": "b9165808",
   "metadata": {},
   "outputs": [],
   "source": [
    "shap_importance_combined=(\n",
    "    pd.DataFrame(\n",
    "        data={\n",
    "            \"Feature\": model.feature_names,\n",
    "            \"Importance\": np.abs(shap_values).mean(axis=0)\n",
    "        }\n",
    "    )\n",
    "    .sort_values(by=\"Importance\", ascending=False)\n",
    ")\n",
    "\n",
    "shap_importance_combined.to_csv('../results/XGBoost/AllCombined/all/shap_feature_importances.csv', index=False)"
   ]
  },
  {
   "cell_type": "markdown",
   "id": "2b35db16-6b25-48fb-b430-fbad64b3a100",
   "metadata": {},
   "source": [
    "## Open Areas\n",
    "\n",
    "* InSAR Model Training"
   ]
  },
  {
   "cell_type": "code",
   "execution_count": null,
   "id": "b18820ff",
   "metadata": {},
   "outputs": [],
   "source": [
    "dtrain_open=xgb.DMatrix(no_vegetation_splits['X_temp'][UAVSAR_FEATURES], label=no_vegetation_splits['y_temp'])\n",
    "\n",
    "model_open = xgb.train(\n",
    "    params=boosting_params,\n",
    "    dtrain=dtrain_open,\n",
    "    num_boost_round=50\n",
    ")"
   ]
  },
  {
   "cell_type": "markdown",
   "id": "9bc6136d",
   "metadata": {},
   "source": [
    "* Shap Analysis"
   ]
  },
  {
   "cell_type": "code",
   "execution_count": null,
   "id": "6c22fe88",
   "metadata": {},
   "outputs": [],
   "source": [
    "explainer = shap.TreeExplainer(model_open)\n",
    "shap_values_open = explainer.shap_values(no_vegetation_splits['X_test'][UAVSAR_FEATURES])"
   ]
  },
  {
   "cell_type": "markdown",
   "id": "ee4c09fc",
   "metadata": {},
   "source": [
    "* Importance"
   ]
  },
  {
   "cell_type": "code",
   "execution_count": null,
   "id": "0e545c78",
   "metadata": {},
   "outputs": [],
   "source": [
    "shap_importance_open=(\n",
    "    pd.DataFrame(\n",
    "        data={\n",
    "            \"Feature\": model_open.feature_names,\n",
    "            \"Importance\": np.abs(shap_values_open).mean(axis=0)\n",
    "        }\n",
    "    )\n",
    "    .sort_values(by=\"Importance\", ascending=False)\n",
    ")\n",
    "\n",
    "shap_importance_open.to_csv('../results/XGBoost/NoVegetation/uavsar/shap_feature_importances.csv', index=False)"
   ]
  },
  {
   "cell_type": "markdown",
   "id": "19f172d7-ef69-4a31-a13f-10813c13ae96",
   "metadata": {},
   "source": [
    "## Vegetated Areas\n",
    "\n",
    "* InSAR + Vegetation Height Model Training"
   ]
  },
  {
   "cell_type": "code",
   "execution_count": null,
   "id": "27b29c89",
   "metadata": {},
   "outputs": [],
   "source": [
    "dtrain_vegetated=xgb.DMatrix(vegetation_splits['X_temp'][UAVSAR_AND_VEGETATION_HEIGHT_FEATURES], label=vegetation_splits['y_temp'])\n",
    "\n",
    "model_veg = xgb.train(\n",
    "    params=boosting_params,\n",
    "    dtrain=dtrain_vegetated,\n",
    "    num_boost_round=50\n",
    ")"
   ]
  },
  {
   "cell_type": "code",
   "execution_count": null,
   "id": "aa57601d",
   "metadata": {},
   "outputs": [],
   "source": [
    "explainer = shap.TreeExplainer(model_veg)\n",
    "shap_values_veg = explainer.shap_values(vegetation_splits['X_test'][UAVSAR_AND_VEGETATION_HEIGHT_FEATURES])"
   ]
  },
  {
   "cell_type": "code",
   "execution_count": null,
   "id": "ee702d1c",
   "metadata": {},
   "outputs": [],
   "source": [
    "shap_importance_vegetated=(\n",
    "    pd.DataFrame(\n",
    "        data={\n",
    "            \"Feature\": shap_values_veg.feature_names,\n",
    "            \"Importance\": np.abs(shap_values_veg).mean(axis=0)\n",
    "        }\n",
    "    )\n",
    "    .sort_values(by=\"Importance\", ascending=False)\n",
    ")\n",
    "\n",
    "shap_importance_open.to_csv('../results/XGBoost/Vegetation/all/shap_feature_importances.csv', index=False)"
   ]
  }
 ],
 "metadata": {
  "kernelspec": {
   "display_name": "Python 3 (ipykernel)",
   "language": "python",
   "name": "python3"
  },
  "language_info": {
   "codemirror_mode": {
    "name": "ipython",
    "version": 3
   },
   "file_extension": ".py",
   "mimetype": "text/x-python",
   "name": "python",
   "nbconvert_exporter": "python",
   "pygments_lexer": "ipython3",
   "version": "3.10.10"
  }
 },
 "nbformat": 4,
 "nbformat_minor": 5
}
