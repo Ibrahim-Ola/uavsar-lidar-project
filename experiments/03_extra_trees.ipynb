{
 "cells": [
  {
   "cell_type": "markdown",
   "metadata": {},
   "source": [
    "## Setup\n",
    "\n",
    "Load libraries"
   ]
  },
  {
   "cell_type": "code",
   "execution_count": 1,
   "metadata": {},
   "outputs": [],
   "source": [
    "import os\n",
    "import pickle\n",
    "\n",
    "from utils.model_fitting_utils import ModelFitting\n",
    "from utils.features import BASELINE_FEATURES, UAVSAR_FEATURES, UAVSAR_AND_VEGETATION_HEIGHT_FEATURES"
   ]
  },
  {
   "cell_type": "markdown",
   "metadata": {},
   "source": [
    "## Load Data"
   ]
  },
  {
   "cell_type": "code",
   "execution_count": 3,
   "metadata": {},
   "outputs": [],
   "source": [
    "with open('../data/full_splits.pkl', 'rb') as f:\n",
    "    full_splits = pickle.load(f)\n",
    "\n",
    "\n",
    "with open('../data/vegetation_splits.pkl', 'rb') as f:\n",
    "    vegetation_splits = pickle.load(f)\n",
    "\n",
    "\n",
    "with open('../data/no_vegetation_splits.pkl', 'rb') as f:\n",
    "    no_vegetation_splits = pickle.load(f)"
   ]
  },
  {
   "cell_type": "markdown",
   "metadata": {},
   "source": [
    "* Create folders to store results"
   ]
  },
  {
   "cell_type": "code",
   "execution_count": 4,
   "metadata": {},
   "outputs": [],
   "source": [
    "os.makedirs('../results', exist_ok=True)\n",
    "os.makedirs('../results/ExtraTrees', exist_ok=True)\n",
    "\n",
    "os.makedirs('../results/ExtraTrees/AllCombined', exist_ok=True)\n",
    "os.makedirs('../results/ExtraTrees/AllCombined/all', exist_ok=True)\n",
    "os.makedirs('../results/ExtraTrees/AllCombined/baseline', exist_ok=True)\n",
    "os.makedirs('../results/ExtraTrees/AllCombined/uavsar', exist_ok=True)\n",
    "\n",
    "os.makedirs('../results/ExtraTrees/NoVegetation', exist_ok=True)\n",
    "os.makedirs('../results/ExtraTrees/NoVegetation/all', exist_ok=True)\n",
    "os.makedirs('../results/ExtraTrees/NoVegetation/baseline', exist_ok=True)\n",
    "os.makedirs('../results/ExtraTrees/NoVegetation/uavsar', exist_ok=True)\n",
    "\n",
    "os.makedirs('../results/ExtraTrees/Vegetation', exist_ok=True)\n",
    "os.makedirs('../results/ExtraTrees/Vegetation/all', exist_ok=True)\n",
    "os.makedirs('../results/ExtraTrees/Vegetation/baseline', exist_ok=True)\n",
    "os.makedirs('../results/ExtraTrees/Vegetation/uavsar', exist_ok=True)"
   ]
  },
  {
   "cell_type": "markdown",
   "metadata": {},
   "source": [
    "## Full Dataset\n",
    "\n",
    "* Baseline"
   ]
  },
  {
   "cell_type": "code",
   "execution_count": 4,
   "metadata": {},
   "outputs": [
    {
     "name": "stdout",
     "output_type": "stream",
     "text": [
      "================================\n",
      "Model Evaluation: Baseline Full:\n",
      "================================\n"
     ]
    },
    {
     "data": {
      "text/html": [
       "<div>\n",
       "<style scoped>\n",
       "    .dataframe tbody tr th:only-of-type {\n",
       "        vertical-align: middle;\n",
       "    }\n",
       "\n",
       "    .dataframe tbody tr th {\n",
       "        vertical-align: top;\n",
       "    }\n",
       "\n",
       "    .dataframe thead th {\n",
       "        text-align: right;\n",
       "    }\n",
       "</style>\n",
       "<table border=\"1\" class=\"dataframe\">\n",
       "  <thead>\n",
       "    <tr style=\"text-align: right;\">\n",
       "      <th></th>\n",
       "      <th>extra_trees_train</th>\n",
       "      <th>extra_trees_test</th>\n",
       "    </tr>\n",
       "  </thead>\n",
       "  <tbody>\n",
       "    <tr>\n",
       "      <th>RMSE</th>\n",
       "      <td>1.991976e-01</td>\n",
       "      <td>0.236293</td>\n",
       "    </tr>\n",
       "    <tr>\n",
       "      <th>MBE</th>\n",
       "      <td>7.252473e-18</td>\n",
       "      <td>0.000306</td>\n",
       "    </tr>\n",
       "    <tr>\n",
       "      <th>RSQ</th>\n",
       "      <td>5.032210e-01</td>\n",
       "      <td>0.298908</td>\n",
       "    </tr>\n",
       "  </tbody>\n",
       "</table>\n",
       "</div>"
      ],
      "text/plain": [
       "      extra_trees_train  extra_trees_test\n",
       "RMSE       1.991976e-01          0.236293\n",
       "MBE        7.252473e-18          0.000306\n",
       "RSQ        5.032210e-01          0.298908"
      ]
     },
     "metadata": {},
     "output_type": "display_data"
    },
    {
     "name": "stdout",
     "output_type": "stream",
     "text": [
      "===================================\n",
      "Feature Importances: Baseline Full:\n",
      "===================================\n"
     ]
    },
    {
     "data": {
      "text/html": [
       "<div>\n",
       "<style scoped>\n",
       "    .dataframe tbody tr th:only-of-type {\n",
       "        vertical-align: middle;\n",
       "    }\n",
       "\n",
       "    .dataframe tbody tr th {\n",
       "        vertical-align: top;\n",
       "    }\n",
       "\n",
       "    .dataframe thead th {\n",
       "        text-align: right;\n",
       "    }\n",
       "</style>\n",
       "<table border=\"1\" class=\"dataframe\">\n",
       "  <thead>\n",
       "    <tr style=\"text-align: right;\">\n",
       "      <th></th>\n",
       "      <th>feature</th>\n",
       "      <th>importance</th>\n",
       "    </tr>\n",
       "  </thead>\n",
       "  <tbody>\n",
       "    <tr>\n",
       "      <th>0</th>\n",
       "      <td>elevation</td>\n",
       "      <td>1.0</td>\n",
       "    </tr>\n",
       "  </tbody>\n",
       "</table>\n",
       "</div>"
      ],
      "text/plain": [
       "     feature  importance\n",
       "0  elevation         1.0"
      ]
     },
     "metadata": {},
     "output_type": "display_data"
    },
    {
     "name": "stdout",
     "output_type": "stream",
     "text": [
      "=================================\n",
      "Storing Results: Baseline Full...\n",
      "=================================\n",
      "Done!\n"
     ]
    }
   ],
   "source": [
    "baseline_full=ModelFitting(\n",
    "    var=BASELINE_FEATURES,\n",
    "    split=full_splits,\n",
    "    model_name='extra_trees',\n",
    "    n_estimators=150,\n",
    ")\n",
    "\n",
    "# fit model\n",
    "baseline_full.fit_model()\n",
    "\n",
    "# make predictions\n",
    "predictions_baseline_full=baseline_full.make_predictions()\n",
    "\n",
    "# evaluate model\n",
    "print(\"================================\")\n",
    "print(\"Model Evaluation: Baseline Full:\")\n",
    "print(\"================================\")\n",
    "res=baseline_full.evaluate_model()\n",
    "\n",
    "# get feature importances\n",
    "print(\"===================================\")\n",
    "print(\"Feature Importances: Baseline Full:\")\n",
    "print(\"===================================\")\n",
    "feature_importances_baseline_full=baseline_full.get_importance()\n",
    "\n",
    "# Store results\n",
    "print(\"=================================\")\n",
    "print(\"Storing Results: Baseline Full...\")\n",
    "print(\"=================================\")\n",
    "\n",
    "\n",
    "res.to_csv('../results/ExtraTrees/AllCombined/baseline/evaluation.csv', index=False)\n",
    "feature_importances_baseline_full.to_csv('../results/ExtraTrees/AllCombined/baseline/feature_importances.csv', index=False)\n",
    "predictions_baseline_full['y_pred_train'].to_csv('../results/ExtraTrees/AllCombined/baseline/train_predictions.csv', index=False)\n",
    "predictions_baseline_full['y_pred_test'].to_csv('../results/ExtraTrees/AllCombined/baseline/test_predictions.csv', index=False)\n",
    "\n",
    "print(\"Done!\")"
   ]
  },
  {
   "cell_type": "markdown",
   "metadata": {},
   "source": [
    "* InSAR Parameters"
   ]
  },
  {
   "cell_type": "code",
   "execution_count": 8,
   "metadata": {},
   "outputs": [
    {
     "name": "stdout",
     "output_type": "stream",
     "text": [
      "==============================\n",
      "Model Evaluation: UAVSAR Full:\n",
      "==============================\n"
     ]
    },
    {
     "data": {
      "text/html": [
       "<div>\n",
       "<style scoped>\n",
       "    .dataframe tbody tr th:only-of-type {\n",
       "        vertical-align: middle;\n",
       "    }\n",
       "\n",
       "    .dataframe tbody tr th {\n",
       "        vertical-align: top;\n",
       "    }\n",
       "\n",
       "    .dataframe thead th {\n",
       "        text-align: right;\n",
       "    }\n",
       "</style>\n",
       "<table border=\"1\" class=\"dataframe\">\n",
       "  <thead>\n",
       "    <tr style=\"text-align: right;\">\n",
       "      <th></th>\n",
       "      <th>extra_trees_train</th>\n",
       "      <th>extra_trees_test</th>\n",
       "    </tr>\n",
       "  </thead>\n",
       "  <tbody>\n",
       "    <tr>\n",
       "      <th>RMSE</th>\n",
       "      <td>0.001215</td>\n",
       "      <td>0.101268</td>\n",
       "    </tr>\n",
       "    <tr>\n",
       "      <th>MBE</th>\n",
       "      <td>0.000000</td>\n",
       "      <td>0.000283</td>\n",
       "    </tr>\n",
       "    <tr>\n",
       "      <th>RSQ</th>\n",
       "      <td>0.999982</td>\n",
       "      <td>0.871227</td>\n",
       "    </tr>\n",
       "  </tbody>\n",
       "</table>\n",
       "</div>"
      ],
      "text/plain": [
       "      extra_trees_train  extra_trees_test\n",
       "RMSE           0.001215          0.101268\n",
       "MBE            0.000000          0.000283\n",
       "RSQ            0.999982          0.871227"
      ]
     },
     "metadata": {},
     "output_type": "display_data"
    },
    {
     "name": "stdout",
     "output_type": "stream",
     "text": [
      "=================================\n",
      "Feature Importances: UAVSAR Full:\n",
      "=================================\n"
     ]
    },
    {
     "data": {
      "text/html": [
       "<div>\n",
       "<style scoped>\n",
       "    .dataframe tbody tr th:only-of-type {\n",
       "        vertical-align: middle;\n",
       "    }\n",
       "\n",
       "    .dataframe tbody tr th {\n",
       "        vertical-align: top;\n",
       "    }\n",
       "\n",
       "    .dataframe thead th {\n",
       "        text-align: right;\n",
       "    }\n",
       "</style>\n",
       "<table border=\"1\" class=\"dataframe\">\n",
       "  <thead>\n",
       "    <tr style=\"text-align: right;\">\n",
       "      <th></th>\n",
       "      <th>feature</th>\n",
       "      <th>importance</th>\n",
       "    </tr>\n",
       "  </thead>\n",
       "  <tbody>\n",
       "    <tr>\n",
       "      <th>3</th>\n",
       "      <td>bare_earth_dem</td>\n",
       "      <td>0.263188</td>\n",
       "    </tr>\n",
       "    <tr>\n",
       "      <th>5</th>\n",
       "      <td>unwrapped_phase</td>\n",
       "      <td>0.179025</td>\n",
       "    </tr>\n",
       "    <tr>\n",
       "      <th>1</th>\n",
       "      <td>amplitude</td>\n",
       "      <td>0.157637</td>\n",
       "    </tr>\n",
       "    <tr>\n",
       "      <th>4</th>\n",
       "      <td>incidence_angle</td>\n",
       "      <td>0.154588</td>\n",
       "    </tr>\n",
       "    <tr>\n",
       "      <th>2</th>\n",
       "      <td>wrapped_phase</td>\n",
       "      <td>0.146387</td>\n",
       "    </tr>\n",
       "    <tr>\n",
       "      <th>0</th>\n",
       "      <td>coherence</td>\n",
       "      <td>0.099176</td>\n",
       "    </tr>\n",
       "  </tbody>\n",
       "</table>\n",
       "</div>"
      ],
      "text/plain": [
       "           feature  importance\n",
       "3   bare_earth_dem    0.263188\n",
       "5  unwrapped_phase    0.179025\n",
       "1        amplitude    0.157637\n",
       "4  incidence_angle    0.154588\n",
       "2    wrapped_phase    0.146387\n",
       "0        coherence    0.099176"
      ]
     },
     "metadata": {},
     "output_type": "display_data"
    },
    {
     "name": "stdout",
     "output_type": "stream",
     "text": [
      "===============================\n",
      "Storing Results: UAVSAR Full...\n",
      "===============================\n",
      "Done!\n"
     ]
    }
   ],
   "source": [
    "insar_full=ModelFitting(\n",
    "    var=UAVSAR_FEATURES,\n",
    "    split=full_splits,\n",
    "    model_name='extra_trees',\n",
    "    n_estimators=150,\n",
    ")\n",
    "\n",
    "\n",
    "# fit model\n",
    "insar_full.fit_model()\n",
    "\n",
    "# make predictions\n",
    "predictions_insar_full=insar_full.make_predictions()\n",
    "\n",
    "\n",
    "# evaluate model\n",
    "print(\"==============================\")\n",
    "print(\"Model Evaluation: UAVSAR Full:\")\n",
    "print(\"==============================\")\n",
    "res=insar_full.evaluate_model()\n",
    "\n",
    "\n",
    "# get feature importances\n",
    "print(\"=================================\")\n",
    "print(\"Feature Importances: UAVSAR Full:\")\n",
    "print(\"=================================\")\n",
    "feature_importances_insar_full=insar_full.get_importance()\n",
    "\n",
    "\n",
    "# Store results\n",
    "print(\"===============================\")\n",
    "print(\"Storing Results: UAVSAR Full...\")\n",
    "print(\"===============================\")\n",
    "\n",
    "\n",
    "res.to_csv('../results/ExtraTrees/AllCombined/uavsar/evaluation.csv', index=False)\n",
    "feature_importances_insar_full.to_csv('../results/ExtraTrees/AllCombined/uavsar/feature_importances.csv', index=False)\n",
    "predictions_insar_full['y_pred_train'].to_csv('../results/ExtraTrees/AllCombined/uavsar/train_predictions.csv', index=False)\n",
    "predictions_insar_full['y_pred_test'].to_csv('../results/ExtraTrees/AllCombined/uavsar/test_predictions.csv', index=False)\n",
    "\n",
    "print(\"Done!\")"
   ]
  },
  {
   "cell_type": "markdown",
   "metadata": {},
   "source": [
    "* InSAR + Vegetation Height"
   ]
  },
  {
   "cell_type": "code",
   "execution_count": 12,
   "metadata": {},
   "outputs": [
    {
     "name": "stdout",
     "output_type": "stream",
     "text": [
      "=========================================\n",
      "Model Evaluation: UAVSAR Vegetation Full:\n",
      "=========================================\n"
     ]
    },
    {
     "data": {
      "text/html": [
       "<div>\n",
       "<style scoped>\n",
       "    .dataframe tbody tr th:only-of-type {\n",
       "        vertical-align: middle;\n",
       "    }\n",
       "\n",
       "    .dataframe tbody tr th {\n",
       "        vertical-align: top;\n",
       "    }\n",
       "\n",
       "    .dataframe thead th {\n",
       "        text-align: right;\n",
       "    }\n",
       "</style>\n",
       "<table border=\"1\" class=\"dataframe\">\n",
       "  <thead>\n",
       "    <tr style=\"text-align: right;\">\n",
       "      <th></th>\n",
       "      <th>extra_trees_train</th>\n",
       "      <th>extra_trees_test</th>\n",
       "    </tr>\n",
       "  </thead>\n",
       "  <tbody>\n",
       "    <tr>\n",
       "      <th>RMSE</th>\n",
       "      <td>0.000719</td>\n",
       "      <td>0.099106</td>\n",
       "    </tr>\n",
       "    <tr>\n",
       "      <th>MBE</th>\n",
       "      <td>0.000000</td>\n",
       "      <td>0.000260</td>\n",
       "    </tr>\n",
       "    <tr>\n",
       "      <th>RSQ</th>\n",
       "      <td>0.999994</td>\n",
       "      <td>0.876668</td>\n",
       "    </tr>\n",
       "  </tbody>\n",
       "</table>\n",
       "</div>"
      ],
      "text/plain": [
       "      extra_trees_train  extra_trees_test\n",
       "RMSE           0.000719          0.099106\n",
       "MBE            0.000000          0.000260\n",
       "RSQ            0.999994          0.876668"
      ]
     },
     "metadata": {},
     "output_type": "display_data"
    },
    {
     "name": "stdout",
     "output_type": "stream",
     "text": [
      "============================================\n",
      "Feature Importances: UAVSAR Vegetation Full:\n",
      "============================================\n"
     ]
    },
    {
     "data": {
      "text/html": [
       "<div>\n",
       "<style scoped>\n",
       "    .dataframe tbody tr th:only-of-type {\n",
       "        vertical-align: middle;\n",
       "    }\n",
       "\n",
       "    .dataframe tbody tr th {\n",
       "        vertical-align: top;\n",
       "    }\n",
       "\n",
       "    .dataframe thead th {\n",
       "        text-align: right;\n",
       "    }\n",
       "</style>\n",
       "<table border=\"1\" class=\"dataframe\">\n",
       "  <thead>\n",
       "    <tr style=\"text-align: right;\">\n",
       "      <th></th>\n",
       "      <th>feature</th>\n",
       "      <th>importance</th>\n",
       "    </tr>\n",
       "  </thead>\n",
       "  <tbody>\n",
       "    <tr>\n",
       "      <th>4</th>\n",
       "      <td>bare_earth_dem</td>\n",
       "      <td>0.249267</td>\n",
       "    </tr>\n",
       "    <tr>\n",
       "      <th>6</th>\n",
       "      <td>unwrapped_phase</td>\n",
       "      <td>0.162676</td>\n",
       "    </tr>\n",
       "    <tr>\n",
       "      <th>5</th>\n",
       "      <td>incidence_angle</td>\n",
       "      <td>0.141352</td>\n",
       "    </tr>\n",
       "    <tr>\n",
       "      <th>3</th>\n",
       "      <td>wrapped_phase</td>\n",
       "      <td>0.139633</td>\n",
       "    </tr>\n",
       "    <tr>\n",
       "      <th>2</th>\n",
       "      <td>vegetation_ht</td>\n",
       "      <td>0.124500</td>\n",
       "    </tr>\n",
       "    <tr>\n",
       "      <th>1</th>\n",
       "      <td>amplitude</td>\n",
       "      <td>0.106638</td>\n",
       "    </tr>\n",
       "    <tr>\n",
       "      <th>0</th>\n",
       "      <td>coherence</td>\n",
       "      <td>0.075933</td>\n",
       "    </tr>\n",
       "  </tbody>\n",
       "</table>\n",
       "</div>"
      ],
      "text/plain": [
       "           feature  importance\n",
       "4   bare_earth_dem    0.249267\n",
       "6  unwrapped_phase    0.162676\n",
       "5  incidence_angle    0.141352\n",
       "3    wrapped_phase    0.139633\n",
       "2    vegetation_ht    0.124500\n",
       "1        amplitude    0.106638\n",
       "0        coherence    0.075933"
      ]
     },
     "metadata": {},
     "output_type": "display_data"
    },
    {
     "name": "stdout",
     "output_type": "stream",
     "text": [
      "==========================================\n",
      "Storing Results: UAVSAR Vegetation Full...\n",
      "==========================================\n",
      "Done!\n"
     ]
    }
   ],
   "source": [
    "insar_vegetation_full=ModelFitting(\n",
    "    var=UAVSAR_AND_VEGETATION_HEIGHT_FEATURES,\n",
    "    split=full_splits,\n",
    "    model_name='extra_trees',\n",
    "    n_estimators=150,\n",
    ")\n",
    "\n",
    "# fit model\n",
    "insar_vegetation_full.fit_model()\n",
    "\n",
    "# make predictions\n",
    "predictions_insar_vegetation_full=insar_vegetation_full.make_predictions()\n",
    "\n",
    "# evaluate model\n",
    "print(\"=========================================\")\n",
    "print(\"Model Evaluation: UAVSAR Vegetation Full:\")\n",
    "print(\"=========================================\")\n",
    "res=insar_vegetation_full.evaluate_model()\n",
    "\n",
    "# get feature importances\n",
    "print(\"============================================\")\n",
    "print(\"Feature Importances: UAVSAR Vegetation Full:\")\n",
    "print(\"============================================\")\n",
    "feature_importances_insar_vegetation_full=insar_vegetation_full.get_importance()\n",
    "\n",
    "# Store results\n",
    "print(\"==========================================\")\n",
    "print(\"Storing Results: UAVSAR Vegetation Full...\")\n",
    "print(\"==========================================\")\n",
    "\n",
    "res.to_csv('../results/ExtraTrees/AllCombined/all/evaluation.csv', index=False)\n",
    "feature_importances_insar_vegetation_full.to_csv('../results/ExtraTrees/AllCombined/all/feature_importances.csv', index=False)\n",
    "predictions_insar_vegetation_full['y_pred_train'].to_csv('../results/ExtraTrees/AllCombined/all/train_predictions.csv', index=False)\n",
    "predictions_insar_vegetation_full['y_pred_test'].to_csv('../results/ExtraTrees/AllCombined/all/test_predictions.csv', index=False)\n",
    "\n",
    "print(\"Done!\")"
   ]
  },
  {
   "cell_type": "markdown",
   "metadata": {},
   "source": [
    "## Vegetation\n",
    "\n",
    "* Baseline"
   ]
  },
  {
   "cell_type": "code",
   "execution_count": 13,
   "metadata": {},
   "outputs": [
    {
     "name": "stdout",
     "output_type": "stream",
     "text": [
      "======================================\n",
      "Model Evaluation: Baseline Vegetation:\n",
      "======================================\n"
     ]
    },
    {
     "data": {
      "text/html": [
       "<div>\n",
       "<style scoped>\n",
       "    .dataframe tbody tr th:only-of-type {\n",
       "        vertical-align: middle;\n",
       "    }\n",
       "\n",
       "    .dataframe tbody tr th {\n",
       "        vertical-align: top;\n",
       "    }\n",
       "\n",
       "    .dataframe thead th {\n",
       "        text-align: right;\n",
       "    }\n",
       "</style>\n",
       "<table border=\"1\" class=\"dataframe\">\n",
       "  <thead>\n",
       "    <tr style=\"text-align: right;\">\n",
       "      <th></th>\n",
       "      <th>extra_trees_train</th>\n",
       "      <th>extra_trees_test</th>\n",
       "    </tr>\n",
       "  </thead>\n",
       "  <tbody>\n",
       "    <tr>\n",
       "      <th>RMSE</th>\n",
       "      <td>1.353895e-01</td>\n",
       "      <td>0.206534</td>\n",
       "    </tr>\n",
       "    <tr>\n",
       "      <th>MBE</th>\n",
       "      <td>-5.927561e-18</td>\n",
       "      <td>0.000337</td>\n",
       "    </tr>\n",
       "    <tr>\n",
       "      <th>RSQ</th>\n",
       "      <td>7.360089e-01</td>\n",
       "      <td>0.384448</td>\n",
       "    </tr>\n",
       "  </tbody>\n",
       "</table>\n",
       "</div>"
      ],
      "text/plain": [
       "      extra_trees_train  extra_trees_test\n",
       "RMSE       1.353895e-01          0.206534\n",
       "MBE       -5.927561e-18          0.000337\n",
       "RSQ        7.360089e-01          0.384448"
      ]
     },
     "metadata": {},
     "output_type": "display_data"
    },
    {
     "name": "stdout",
     "output_type": "stream",
     "text": [
      "=========================================\n",
      "Feature Importances: Baseline Vegetation:\n",
      "=========================================\n"
     ]
    },
    {
     "data": {
      "text/html": [
       "<div>\n",
       "<style scoped>\n",
       "    .dataframe tbody tr th:only-of-type {\n",
       "        vertical-align: middle;\n",
       "    }\n",
       "\n",
       "    .dataframe tbody tr th {\n",
       "        vertical-align: top;\n",
       "    }\n",
       "\n",
       "    .dataframe thead th {\n",
       "        text-align: right;\n",
       "    }\n",
       "</style>\n",
       "<table border=\"1\" class=\"dataframe\">\n",
       "  <thead>\n",
       "    <tr style=\"text-align: right;\">\n",
       "      <th></th>\n",
       "      <th>feature</th>\n",
       "      <th>importance</th>\n",
       "    </tr>\n",
       "  </thead>\n",
       "  <tbody>\n",
       "    <tr>\n",
       "      <th>0</th>\n",
       "      <td>elevation</td>\n",
       "      <td>1.0</td>\n",
       "    </tr>\n",
       "  </tbody>\n",
       "</table>\n",
       "</div>"
      ],
      "text/plain": [
       "     feature  importance\n",
       "0  elevation         1.0"
      ]
     },
     "metadata": {},
     "output_type": "display_data"
    },
    {
     "name": "stdout",
     "output_type": "stream",
     "text": [
      "=======================================\n",
      "Storing Results: Baseline Vegetation...\n",
      "=======================================\n",
      "Done!\n"
     ]
    }
   ],
   "source": [
    "baseline_vegetation=ModelFitting(\n",
    "    var=BASELINE_FEATURES,\n",
    "    split=vegetation_splits,\n",
    "    model_name='extra_trees',\n",
    "    n_estimators=150,\n",
    ")\n",
    "\n",
    "# fit model\n",
    "baseline_vegetation.fit_model()\n",
    "\n",
    "# make predictions\n",
    "predictions_baseline_vegetation=baseline_vegetation.make_predictions()\n",
    "\n",
    "# evaluate model\n",
    "print(\"======================================\")\n",
    "print(\"Model Evaluation: Baseline Vegetation:\")\n",
    "print(\"======================================\")\n",
    "res=baseline_vegetation.evaluate_model()\n",
    "\n",
    "# get feature importances\n",
    "print(\"=========================================\")\n",
    "print(\"Feature Importances: Baseline Vegetation:\")\n",
    "print(\"=========================================\")\n",
    "feature_importances_baseline_vegetation=baseline_vegetation.get_importance()\n",
    "\n",
    "# Store results\n",
    "print(\"=======================================\")\n",
    "print(\"Storing Results: Baseline Vegetation...\")\n",
    "print(\"=======================================\")\n",
    "\n",
    "res.to_csv('../results/ExtraTrees/Vegetation/baseline/evaluation.csv', index=False)\n",
    "feature_importances_baseline_vegetation.to_csv('../results/ExtraTrees/Vegetation/baseline/feature_importances.csv', index=False)\n",
    "predictions_baseline_vegetation['y_pred_train'].to_csv('../results/ExtraTrees/Vegetation/baseline/train_predictions.csv', index=False)\n",
    "predictions_baseline_vegetation['y_pred_test'].to_csv('../results/ExtraTrees/Vegetation/baseline/test_predictions.csv', index=False)\n",
    "\n",
    "print(\"Done!\")"
   ]
  },
  {
   "cell_type": "markdown",
   "metadata": {},
   "source": [
    "* InSAR Parameters"
   ]
  },
  {
   "cell_type": "code",
   "execution_count": 4,
   "metadata": {},
   "outputs": [
    {
     "name": "stdout",
     "output_type": "stream",
     "text": [
      "====================================\n",
      "Model Evaluation: UAVSAR Vegetation:\n",
      "====================================\n"
     ]
    },
    {
     "data": {
      "text/html": [
       "<div>\n",
       "<style scoped>\n",
       "    .dataframe tbody tr th:only-of-type {\n",
       "        vertical-align: middle;\n",
       "    }\n",
       "\n",
       "    .dataframe tbody tr th {\n",
       "        vertical-align: top;\n",
       "    }\n",
       "\n",
       "    .dataframe thead th {\n",
       "        text-align: right;\n",
       "    }\n",
       "</style>\n",
       "<table border=\"1\" class=\"dataframe\">\n",
       "  <thead>\n",
       "    <tr style=\"text-align: right;\">\n",
       "      <th></th>\n",
       "      <th>extra_trees_train</th>\n",
       "      <th>extra_trees_test</th>\n",
       "    </tr>\n",
       "  </thead>\n",
       "  <tbody>\n",
       "    <tr>\n",
       "      <th>RMSE</th>\n",
       "      <td>0.000964</td>\n",
       "      <td>0.103928</td>\n",
       "    </tr>\n",
       "    <tr>\n",
       "      <th>MBE</th>\n",
       "      <td>0.000000</td>\n",
       "      <td>0.000041</td>\n",
       "    </tr>\n",
       "    <tr>\n",
       "      <th>RSQ</th>\n",
       "      <td>0.999987</td>\n",
       "      <td>0.844135</td>\n",
       "    </tr>\n",
       "  </tbody>\n",
       "</table>\n",
       "</div>"
      ],
      "text/plain": [
       "      extra_trees_train  extra_trees_test\n",
       "RMSE           0.000964          0.103928\n",
       "MBE            0.000000          0.000041\n",
       "RSQ            0.999987          0.844135"
      ]
     },
     "metadata": {},
     "output_type": "display_data"
    },
    {
     "name": "stdout",
     "output_type": "stream",
     "text": [
      "=======================================\n",
      "Feature Importances: UAVSAR Vegetation:\n",
      "=======================================\n"
     ]
    },
    {
     "data": {
      "text/html": [
       "<div>\n",
       "<style scoped>\n",
       "    .dataframe tbody tr th:only-of-type {\n",
       "        vertical-align: middle;\n",
       "    }\n",
       "\n",
       "    .dataframe tbody tr th {\n",
       "        vertical-align: top;\n",
       "    }\n",
       "\n",
       "    .dataframe thead th {\n",
       "        text-align: right;\n",
       "    }\n",
       "</style>\n",
       "<table border=\"1\" class=\"dataframe\">\n",
       "  <thead>\n",
       "    <tr style=\"text-align: right;\">\n",
       "      <th></th>\n",
       "      <th>feature</th>\n",
       "      <th>importance</th>\n",
       "    </tr>\n",
       "  </thead>\n",
       "  <tbody>\n",
       "    <tr>\n",
       "      <th>3</th>\n",
       "      <td>bare_earth_dem</td>\n",
       "      <td>0.362100</td>\n",
       "    </tr>\n",
       "    <tr>\n",
       "      <th>4</th>\n",
       "      <td>incidence_angle</td>\n",
       "      <td>0.219019</td>\n",
       "    </tr>\n",
       "    <tr>\n",
       "      <th>5</th>\n",
       "      <td>unwrapped_phase</td>\n",
       "      <td>0.135830</td>\n",
       "    </tr>\n",
       "    <tr>\n",
       "      <th>2</th>\n",
       "      <td>wrapped_phase</td>\n",
       "      <td>0.106898</td>\n",
       "    </tr>\n",
       "    <tr>\n",
       "      <th>1</th>\n",
       "      <td>amplitude</td>\n",
       "      <td>0.098198</td>\n",
       "    </tr>\n",
       "    <tr>\n",
       "      <th>0</th>\n",
       "      <td>coherence</td>\n",
       "      <td>0.077954</td>\n",
       "    </tr>\n",
       "  </tbody>\n",
       "</table>\n",
       "</div>"
      ],
      "text/plain": [
       "           feature  importance\n",
       "3   bare_earth_dem    0.362100\n",
       "4  incidence_angle    0.219019\n",
       "5  unwrapped_phase    0.135830\n",
       "2    wrapped_phase    0.106898\n",
       "1        amplitude    0.098198\n",
       "0        coherence    0.077954"
      ]
     },
     "metadata": {},
     "output_type": "display_data"
    },
    {
     "name": "stdout",
     "output_type": "stream",
     "text": [
      "=====================================\n",
      "Storing Results: UAVSAR Vegetation...\n",
      "=====================================\n",
      "Done!\n"
     ]
    }
   ],
   "source": [
    "insar_vegetation=ModelFitting(\n",
    "    var=UAVSAR_FEATURES,\n",
    "    split=vegetation_splits,\n",
    "    model_name='extra_trees',\n",
    "    n_estimators=150,\n",
    ")\n",
    "\n",
    "# fit model\n",
    "insar_vegetation.fit_model()\n",
    "\n",
    "# make predictions\n",
    "predictions_insar_vegetation=insar_vegetation.make_predictions()\n",
    "\n",
    "# evaluate model\n",
    "print(\"====================================\")\n",
    "print(\"Model Evaluation: UAVSAR Vegetation:\")\n",
    "print(\"====================================\")\n",
    "res=insar_vegetation.evaluate_model()\n",
    "\n",
    "# get feature importances\n",
    "print(\"=======================================\")\n",
    "print(\"Feature Importances: UAVSAR Vegetation:\")\n",
    "print(\"=======================================\")\n",
    "feature_importances_insar_vegetation=insar_vegetation.get_importance()\n",
    "\n",
    "# Store results\n",
    "print(\"=====================================\")\n",
    "print(\"Storing Results: UAVSAR Vegetation...\")\n",
    "print(\"=====================================\")\n",
    "res.to_csv('../results/ExtraTrees/Vegetation/uavsar/evaluation.csv', index=False)\n",
    "feature_importances_insar_vegetation.to_csv('../results/ExtraTrees/Vegetation/uavsar/feature_importances.csv', index=False)\n",
    "predictions_insar_vegetation['y_pred_train'].to_csv('../results/ExtraTrees/Vegetation/uavsar/train_predictions.csv', index=False)\n",
    "predictions_insar_vegetation['y_pred_test'].to_csv('../results/ExtraTrees/Vegetation/uavsar/test_predictions.csv', index=False)\n",
    "\n",
    "print(\"Done!\")"
   ]
  },
  {
   "cell_type": "markdown",
   "metadata": {},
   "source": [
    "* InSAR + Vegetation Height"
   ]
  },
  {
   "cell_type": "code",
   "execution_count": 5,
   "metadata": {},
   "outputs": [
    {
     "name": "stdout",
     "output_type": "stream",
     "text": [
      "===============================================\n",
      "Model Evaluation: UAVSAR Vegetation Vegetation:\n",
      "===============================================\n"
     ]
    },
    {
     "data": {
      "text/html": [
       "<div>\n",
       "<style scoped>\n",
       "    .dataframe tbody tr th:only-of-type {\n",
       "        vertical-align: middle;\n",
       "    }\n",
       "\n",
       "    .dataframe tbody tr th {\n",
       "        vertical-align: top;\n",
       "    }\n",
       "\n",
       "    .dataframe thead th {\n",
       "        text-align: right;\n",
       "    }\n",
       "</style>\n",
       "<table border=\"1\" class=\"dataframe\">\n",
       "  <thead>\n",
       "    <tr style=\"text-align: right;\">\n",
       "      <th></th>\n",
       "      <th>extra_trees_train</th>\n",
       "      <th>extra_trees_test</th>\n",
       "    </tr>\n",
       "  </thead>\n",
       "  <tbody>\n",
       "    <tr>\n",
       "      <th>RMSE</th>\n",
       "      <td>0.000267</td>\n",
       "      <td>0.104882</td>\n",
       "    </tr>\n",
       "    <tr>\n",
       "      <th>MBE</th>\n",
       "      <td>0.000000</td>\n",
       "      <td>-0.000504</td>\n",
       "    </tr>\n",
       "    <tr>\n",
       "      <th>RSQ</th>\n",
       "      <td>0.999999</td>\n",
       "      <td>0.841262</td>\n",
       "    </tr>\n",
       "  </tbody>\n",
       "</table>\n",
       "</div>"
      ],
      "text/plain": [
       "      extra_trees_train  extra_trees_test\n",
       "RMSE           0.000267          0.104882\n",
       "MBE            0.000000         -0.000504\n",
       "RSQ            0.999999          0.841262"
      ]
     },
     "metadata": {},
     "output_type": "display_data"
    },
    {
     "name": "stdout",
     "output_type": "stream",
     "text": [
      "==================================================\n",
      "Feature Importances: UAVSAR Vegetation Vegetation:\n",
      "==================================================\n"
     ]
    },
    {
     "data": {
      "text/html": [
       "<div>\n",
       "<style scoped>\n",
       "    .dataframe tbody tr th:only-of-type {\n",
       "        vertical-align: middle;\n",
       "    }\n",
       "\n",
       "    .dataframe tbody tr th {\n",
       "        vertical-align: top;\n",
       "    }\n",
       "\n",
       "    .dataframe thead th {\n",
       "        text-align: right;\n",
       "    }\n",
       "</style>\n",
       "<table border=\"1\" class=\"dataframe\">\n",
       "  <thead>\n",
       "    <tr style=\"text-align: right;\">\n",
       "      <th></th>\n",
       "      <th>feature</th>\n",
       "      <th>importance</th>\n",
       "    </tr>\n",
       "  </thead>\n",
       "  <tbody>\n",
       "    <tr>\n",
       "      <th>4</th>\n",
       "      <td>bare_earth_dem</td>\n",
       "      <td>0.343411</td>\n",
       "    </tr>\n",
       "    <tr>\n",
       "      <th>5</th>\n",
       "      <td>incidence_angle</td>\n",
       "      <td>0.198367</td>\n",
       "    </tr>\n",
       "    <tr>\n",
       "      <th>2</th>\n",
       "      <td>vegetation_ht</td>\n",
       "      <td>0.152665</td>\n",
       "    </tr>\n",
       "    <tr>\n",
       "      <th>6</th>\n",
       "      <td>unwrapped_phase</td>\n",
       "      <td>0.105191</td>\n",
       "    </tr>\n",
       "    <tr>\n",
       "      <th>3</th>\n",
       "      <td>wrapped_phase</td>\n",
       "      <td>0.084799</td>\n",
       "    </tr>\n",
       "    <tr>\n",
       "      <th>1</th>\n",
       "      <td>amplitude</td>\n",
       "      <td>0.065032</td>\n",
       "    </tr>\n",
       "    <tr>\n",
       "      <th>0</th>\n",
       "      <td>coherence</td>\n",
       "      <td>0.050535</td>\n",
       "    </tr>\n",
       "  </tbody>\n",
       "</table>\n",
       "</div>"
      ],
      "text/plain": [
       "           feature  importance\n",
       "4   bare_earth_dem    0.343411\n",
       "5  incidence_angle    0.198367\n",
       "2    vegetation_ht    0.152665\n",
       "6  unwrapped_phase    0.105191\n",
       "3    wrapped_phase    0.084799\n",
       "1        amplitude    0.065032\n",
       "0        coherence    0.050535"
      ]
     },
     "metadata": {},
     "output_type": "display_data"
    },
    {
     "name": "stdout",
     "output_type": "stream",
     "text": [
      "================================================\n",
      "Storing Results: UAVSAR Vegetation Vegetation...\n",
      "================================================\n",
      "Done!\n"
     ]
    }
   ],
   "source": [
    "insar_vegetation_vegetation=ModelFitting(\n",
    "    var=UAVSAR_AND_VEGETATION_HEIGHT_FEATURES,\n",
    "    split=vegetation_splits,\n",
    "    model_name='extra_trees',\n",
    "    n_estimators=150,\n",
    ")\n",
    "\n",
    "# fit model\n",
    "insar_vegetation_vegetation.fit_model()\n",
    "\n",
    "# make predictions\n",
    "predictions_insar_vegetation_vegetation=insar_vegetation_vegetation.make_predictions()\n",
    "\n",
    "# evaluate model\n",
    "print(\"===============================================\")\n",
    "print(\"Model Evaluation: UAVSAR Vegetation Vegetation:\")\n",
    "print(\"===============================================\")\n",
    "res=insar_vegetation_vegetation.evaluate_model()\n",
    "\n",
    "# get feature importances\n",
    "print(\"==================================================\")\n",
    "print(\"Feature Importances: UAVSAR Vegetation Vegetation:\")\n",
    "print(\"==================================================\")\n",
    "feature_importances_insar_vegetation_vegetation=insar_vegetation_vegetation.get_importance()\n",
    "\n",
    "# Store results\n",
    "print(\"================================================\")\n",
    "print(\"Storing Results: UAVSAR Vegetation Vegetation...\")\n",
    "print(\"================================================\")\n",
    "\n",
    "res.to_csv('../results/ExtraTrees/Vegetation/all/evaluation.csv', index=False)\n",
    "feature_importances_insar_vegetation_vegetation.to_csv('../results/ExtraTrees/Vegetation/all/feature_importances.csv', index=False)\n",
    "predictions_insar_vegetation_vegetation['y_pred_train'].to_csv('../results/ExtraTrees/Vegetation/all/train_predictions.csv', index=False)\n",
    "predictions_insar_vegetation_vegetation['y_pred_test'].to_csv('../results/ExtraTrees/Vegetation/all/test_predictions.csv', index=False)\n",
    "\n",
    "print(\"Done!\")"
   ]
  },
  {
   "cell_type": "markdown",
   "metadata": {},
   "source": [
    "## No Vegetation\n",
    "\n",
    "* Baseline"
   ]
  },
  {
   "cell_type": "code",
   "execution_count": 7,
   "metadata": {},
   "outputs": [
    {
     "name": "stdout",
     "output_type": "stream",
     "text": [
      "=========================================\n",
      "Model Evaluation: Baseline No Vegetation:\n",
      "=========================================\n"
     ]
    },
    {
     "data": {
      "text/html": [
       "<div>\n",
       "<style scoped>\n",
       "    .dataframe tbody tr th:only-of-type {\n",
       "        vertical-align: middle;\n",
       "    }\n",
       "\n",
       "    .dataframe tbody tr th {\n",
       "        vertical-align: top;\n",
       "    }\n",
       "\n",
       "    .dataframe thead th {\n",
       "        text-align: right;\n",
       "    }\n",
       "</style>\n",
       "<table border=\"1\" class=\"dataframe\">\n",
       "  <thead>\n",
       "    <tr style=\"text-align: right;\">\n",
       "      <th></th>\n",
       "      <th>extra_trees_train</th>\n",
       "      <th>extra_trees_test</th>\n",
       "    </tr>\n",
       "  </thead>\n",
       "  <tbody>\n",
       "    <tr>\n",
       "      <th>RMSE</th>\n",
       "      <td>1.913131e-01</td>\n",
       "      <td>0.226129</td>\n",
       "    </tr>\n",
       "    <tr>\n",
       "      <th>MBE</th>\n",
       "      <td>-1.842965e-17</td>\n",
       "      <td>0.001200</td>\n",
       "    </tr>\n",
       "    <tr>\n",
       "      <th>RSQ</th>\n",
       "      <td>5.756212e-01</td>\n",
       "      <td>0.407340</td>\n",
       "    </tr>\n",
       "  </tbody>\n",
       "</table>\n",
       "</div>"
      ],
      "text/plain": [
       "      extra_trees_train  extra_trees_test\n",
       "RMSE       1.913131e-01          0.226129\n",
       "MBE       -1.842965e-17          0.001200\n",
       "RSQ        5.756212e-01          0.407340"
      ]
     },
     "metadata": {},
     "output_type": "display_data"
    },
    {
     "name": "stdout",
     "output_type": "stream",
     "text": [
      "============================================\n",
      "Feature Importances: Baseline No Vegetation:\n",
      "============================================\n"
     ]
    },
    {
     "data": {
      "text/html": [
       "<div>\n",
       "<style scoped>\n",
       "    .dataframe tbody tr th:only-of-type {\n",
       "        vertical-align: middle;\n",
       "    }\n",
       "\n",
       "    .dataframe tbody tr th {\n",
       "        vertical-align: top;\n",
       "    }\n",
       "\n",
       "    .dataframe thead th {\n",
       "        text-align: right;\n",
       "    }\n",
       "</style>\n",
       "<table border=\"1\" class=\"dataframe\">\n",
       "  <thead>\n",
       "    <tr style=\"text-align: right;\">\n",
       "      <th></th>\n",
       "      <th>feature</th>\n",
       "      <th>importance</th>\n",
       "    </tr>\n",
       "  </thead>\n",
       "  <tbody>\n",
       "    <tr>\n",
       "      <th>0</th>\n",
       "      <td>elevation</td>\n",
       "      <td>1.0</td>\n",
       "    </tr>\n",
       "  </tbody>\n",
       "</table>\n",
       "</div>"
      ],
      "text/plain": [
       "     feature  importance\n",
       "0  elevation         1.0"
      ]
     },
     "metadata": {},
     "output_type": "display_data"
    },
    {
     "name": "stdout",
     "output_type": "stream",
     "text": [
      "==========================================\n",
      "Storing Results: Baseline No Vegetation...\n",
      "==========================================\n",
      "Done!\n"
     ]
    }
   ],
   "source": [
    "baseline_no_vegetation=ModelFitting(\n",
    "    var=BASELINE_FEATURES,\n",
    "    split=no_vegetation_splits,\n",
    "    model_name='extra_trees',\n",
    "    n_estimators=150,\n",
    ")\n",
    "\n",
    "# fit model\n",
    "baseline_no_vegetation.fit_model()\n",
    "\n",
    "# make predictions\n",
    "predictions_baseline_no_vegetation=baseline_no_vegetation.make_predictions()\n",
    "\n",
    "# evaluate model\n",
    "print(\"=========================================\")\n",
    "print(\"Model Evaluation: Baseline No Vegetation:\")\n",
    "print(\"=========================================\")\n",
    "res=baseline_no_vegetation.evaluate_model()\n",
    "\n",
    "# get feature importances\n",
    "print(\"============================================\")\n",
    "print(\"Feature Importances: Baseline No Vegetation:\")\n",
    "print(\"============================================\")\n",
    "feature_importances_baseline_no_vegetation=baseline_no_vegetation.get_importance()\n",
    "\n",
    "# Store results\n",
    "print(\"==========================================\")\n",
    "print(\"Storing Results: Baseline No Vegetation...\")\n",
    "print(\"==========================================\")\n",
    "\n",
    "res.to_csv('../results/ExtraTrees/NoVegetation/baseline/evaluation.csv', index=False)\n",
    "feature_importances_baseline_no_vegetation.to_csv('../results/ExtraTrees/NoVegetation/baseline/feature_importances.csv', index=False)\n",
    "predictions_baseline_no_vegetation['y_pred_train'].to_csv('../results/ExtraTrees/NoVegetation/baseline/train_predictions.csv', index=False)\n",
    "predictions_baseline_no_vegetation['y_pred_test'].to_csv('../results/ExtraTrees/NoVegetation/baseline/test_predictions.csv', index=False)\n",
    "\n",
    "print(\"Done!\")"
   ]
  },
  {
   "cell_type": "markdown",
   "metadata": {},
   "source": [
    "* InSAR Parameters"
   ]
  },
  {
   "cell_type": "code",
   "execution_count": 8,
   "metadata": {},
   "outputs": [
    {
     "name": "stdout",
     "output_type": "stream",
     "text": [
      "=======================================\n",
      "Model Evaluation: UAVSAR No Vegetation:\n",
      "=======================================\n"
     ]
    },
    {
     "data": {
      "text/html": [
       "<div>\n",
       "<style scoped>\n",
       "    .dataframe tbody tr th:only-of-type {\n",
       "        vertical-align: middle;\n",
       "    }\n",
       "\n",
       "    .dataframe tbody tr th {\n",
       "        vertical-align: top;\n",
       "    }\n",
       "\n",
       "    .dataframe thead th {\n",
       "        text-align: right;\n",
       "    }\n",
       "</style>\n",
       "<table border=\"1\" class=\"dataframe\">\n",
       "  <thead>\n",
       "    <tr style=\"text-align: right;\">\n",
       "      <th></th>\n",
       "      <th>extra_trees_train</th>\n",
       "      <th>extra_trees_test</th>\n",
       "    </tr>\n",
       "  </thead>\n",
       "  <tbody>\n",
       "    <tr>\n",
       "      <th>RMSE</th>\n",
       "      <td>0.001247</td>\n",
       "      <td>0.099829</td>\n",
       "    </tr>\n",
       "    <tr>\n",
       "      <th>MBE</th>\n",
       "      <td>0.000000</td>\n",
       "      <td>0.000157</td>\n",
       "    </tr>\n",
       "    <tr>\n",
       "      <th>RSQ</th>\n",
       "      <td>0.999982</td>\n",
       "      <td>0.884494</td>\n",
       "    </tr>\n",
       "  </tbody>\n",
       "</table>\n",
       "</div>"
      ],
      "text/plain": [
       "      extra_trees_train  extra_trees_test\n",
       "RMSE           0.001247          0.099829\n",
       "MBE            0.000000          0.000157\n",
       "RSQ            0.999982          0.884494"
      ]
     },
     "metadata": {},
     "output_type": "display_data"
    },
    {
     "name": "stdout",
     "output_type": "stream",
     "text": [
      "==========================================\n",
      "Feature Importances: UAVSAR No Vegetation:\n",
      "==========================================\n"
     ]
    },
    {
     "data": {
      "text/html": [
       "<div>\n",
       "<style scoped>\n",
       "    .dataframe tbody tr th:only-of-type {\n",
       "        vertical-align: middle;\n",
       "    }\n",
       "\n",
       "    .dataframe tbody tr th {\n",
       "        vertical-align: top;\n",
       "    }\n",
       "\n",
       "    .dataframe thead th {\n",
       "        text-align: right;\n",
       "    }\n",
       "</style>\n",
       "<table border=\"1\" class=\"dataframe\">\n",
       "  <thead>\n",
       "    <tr style=\"text-align: right;\">\n",
       "      <th></th>\n",
       "      <th>feature</th>\n",
       "      <th>importance</th>\n",
       "    </tr>\n",
       "  </thead>\n",
       "  <tbody>\n",
       "    <tr>\n",
       "      <th>2</th>\n",
       "      <td>wrapped_phase</td>\n",
       "      <td>0.257817</td>\n",
       "    </tr>\n",
       "    <tr>\n",
       "      <th>3</th>\n",
       "      <td>bare_earth_dem</td>\n",
       "      <td>0.235519</td>\n",
       "    </tr>\n",
       "    <tr>\n",
       "      <th>5</th>\n",
       "      <td>unwrapped_phase</td>\n",
       "      <td>0.227687</td>\n",
       "    </tr>\n",
       "    <tr>\n",
       "      <th>4</th>\n",
       "      <td>incidence_angle</td>\n",
       "      <td>0.108470</td>\n",
       "    </tr>\n",
       "    <tr>\n",
       "      <th>1</th>\n",
       "      <td>amplitude</td>\n",
       "      <td>0.094306</td>\n",
       "    </tr>\n",
       "    <tr>\n",
       "      <th>0</th>\n",
       "      <td>coherence</td>\n",
       "      <td>0.076201</td>\n",
       "    </tr>\n",
       "  </tbody>\n",
       "</table>\n",
       "</div>"
      ],
      "text/plain": [
       "           feature  importance\n",
       "2    wrapped_phase    0.257817\n",
       "3   bare_earth_dem    0.235519\n",
       "5  unwrapped_phase    0.227687\n",
       "4  incidence_angle    0.108470\n",
       "1        amplitude    0.094306\n",
       "0        coherence    0.076201"
      ]
     },
     "metadata": {},
     "output_type": "display_data"
    },
    {
     "name": "stdout",
     "output_type": "stream",
     "text": [
      "========================================\n",
      "Storing Results: UAVSAR No Vegetation...\n",
      "========================================\n",
      "Done!\n"
     ]
    }
   ],
   "source": [
    "insar_no_vegetation=ModelFitting(\n",
    "    var=UAVSAR_FEATURES,\n",
    "    split=no_vegetation_splits,\n",
    "    model_name='extra_trees',\n",
    "    n_estimators=150,\n",
    ")\n",
    "\n",
    "# fit model\n",
    "insar_no_vegetation.fit_model()\n",
    "\n",
    "# make predictions\n",
    "predictions_insar_no_vegetation=insar_no_vegetation.make_predictions()\n",
    "\n",
    "# evaluate model\n",
    "print(\"=======================================\")\n",
    "print(\"Model Evaluation: UAVSAR No Vegetation:\")\n",
    "print(\"=======================================\")\n",
    "res=insar_no_vegetation.evaluate_model()\n",
    "\n",
    "# get feature importances\n",
    "print(\"==========================================\")\n",
    "print(\"Feature Importances: UAVSAR No Vegetation:\")\n",
    "print(\"==========================================\")\n",
    "\n",
    "feature_importances_insar_no_vegetation=insar_no_vegetation.get_importance()\n",
    "\n",
    "# Store results\n",
    "print(\"========================================\")\n",
    "print(\"Storing Results: UAVSAR No Vegetation...\")\n",
    "print(\"========================================\")\n",
    "\n",
    "res.to_csv('../results/ExtraTrees/NoVegetation/uavsar/evaluation.csv', index=False)\n",
    "feature_importances_insar_no_vegetation.to_csv('../results/ExtraTrees/NoVegetation/uavsar/feature_importances.csv', index=False)\n",
    "predictions_insar_no_vegetation['y_pred_train'].to_csv('../results/ExtraTrees/NoVegetation/uavsar/train_predictions.csv', index=False)\n",
    "predictions_insar_no_vegetation['y_pred_test'].to_csv('../results/ExtraTrees/NoVegetation/uavsar/test_predictions.csv', index=False)\n",
    "\n",
    "print(\"Done!\")"
   ]
  },
  {
   "cell_type": "markdown",
   "metadata": {},
   "source": [
    "## The End!"
   ]
  }
 ],
 "metadata": {
  "kernelspec": {
   "display_name": "base",
   "language": "python",
   "name": "python3"
  },
  "language_info": {
   "codemirror_mode": {
    "name": "ipython",
    "version": 3
   },
   "file_extension": ".py",
   "mimetype": "text/x-python",
   "name": "python",
   "nbconvert_exporter": "python",
   "pygments_lexer": "ipython3",
   "version": "3.11.5"
  },
  "orig_nbformat": 4
 },
 "nbformat": 4,
 "nbformat_minor": 2
}
