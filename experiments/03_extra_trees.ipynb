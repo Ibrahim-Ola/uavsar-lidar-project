{
 "cells": [
  {
   "cell_type": "markdown",
   "metadata": {},
   "source": [
    "## Setup\n",
    "\n",
    "Load libraries"
   ]
  },
  {
   "cell_type": "code",
   "execution_count": 8,
   "metadata": {},
   "outputs": [],
   "source": [
    "import sys\n",
    "\n",
    "sys.path.append('..')"
   ]
  },
  {
   "cell_type": "code",
   "execution_count": 9,
   "metadata": {},
   "outputs": [],
   "source": [
    "import os\n",
    "import pickle\n",
    "\n",
    "from utils.model_fitting_utils import ModelFitting\n",
    "from utils.features import BASELINE_FEATURES, UAVSAR_FEATURES, UAVSAR_AND_VEGETATION_HEIGHT_FEATURES"
   ]
  },
  {
   "cell_type": "markdown",
   "metadata": {},
   "source": [
    "## Load Data"
   ]
  },
  {
   "cell_type": "code",
   "execution_count": 10,
   "metadata": {},
   "outputs": [],
   "source": [
    "with open('../data/full_splits.pkl', 'rb') as f:\n",
    "    full_splits = pickle.load(f)\n",
    "\n",
    "\n",
    "with open('../data/vegetation_splits.pkl', 'rb') as f:\n",
    "    vegetation_splits = pickle.load(f)\n",
    "\n",
    "\n",
    "with open('../data/no_vegetation_splits.pkl', 'rb') as f:\n",
    "    no_vegetation_splits = pickle.load(f)"
   ]
  },
  {
   "cell_type": "markdown",
   "metadata": {},
   "source": [
    "* Create folders to store results"
   ]
  },
  {
   "cell_type": "code",
   "execution_count": 11,
   "metadata": {},
   "outputs": [],
   "source": [
    "os.makedirs('../results', exist_ok=True)\n",
    "os.makedirs('../results/ExtraTrees', exist_ok=True)\n",
    "\n",
    "os.makedirs('../results/ExtraTrees/AllCombined', exist_ok=True)\n",
    "os.makedirs('../results/ExtraTrees/AllCombined/all', exist_ok=True)\n",
    "os.makedirs('../results/ExtraTrees/AllCombined/baseline', exist_ok=True)\n",
    "os.makedirs('../results/ExtraTrees/AllCombined/uavsar', exist_ok=True)\n",
    "\n",
    "os.makedirs('../results/ExtraTrees/NoVegetation', exist_ok=True)\n",
    "os.makedirs('../results/ExtraTrees/NoVegetation/all', exist_ok=True)\n",
    "os.makedirs('../results/ExtraTrees/NoVegetation/baseline', exist_ok=True)\n",
    "os.makedirs('../results/ExtraTrees/NoVegetation/uavsar', exist_ok=True)\n",
    "\n",
    "os.makedirs('../results/ExtraTrees/Vegetation', exist_ok=True)\n",
    "os.makedirs('../results/ExtraTrees/Vegetation/all', exist_ok=True)\n",
    "os.makedirs('../results/ExtraTrees/Vegetation/baseline', exist_ok=True)\n",
    "os.makedirs('../results/ExtraTrees/Vegetation/uavsar', exist_ok=True)"
   ]
  },
  {
   "cell_type": "markdown",
   "metadata": {},
   "source": [
    "## Full Dataset\n",
    "\n",
    "* Baseline"
   ]
  },
  {
   "cell_type": "code",
   "execution_count": 5,
   "metadata": {},
   "outputs": [
    {
     "name": "stdout",
     "output_type": "stream",
     "text": [
      "================================\n",
      "Model Evaluation: Baseline Full:\n",
      "================================\n"
     ]
    },
    {
     "data": {
      "text/html": [
       "<div>\n",
       "<style scoped>\n",
       "    .dataframe tbody tr th:only-of-type {\n",
       "        vertical-align: middle;\n",
       "    }\n",
       "\n",
       "    .dataframe tbody tr th {\n",
       "        vertical-align: top;\n",
       "    }\n",
       "\n",
       "    .dataframe thead th {\n",
       "        text-align: right;\n",
       "    }\n",
       "</style>\n",
       "<table border=\"1\" class=\"dataframe\">\n",
       "  <thead>\n",
       "    <tr style=\"text-align: right;\">\n",
       "      <th></th>\n",
       "      <th>extra_trees_train</th>\n",
       "      <th>extra_trees_test</th>\n",
       "    </tr>\n",
       "  </thead>\n",
       "  <tbody>\n",
       "    <tr>\n",
       "      <th>RMSE</th>\n",
       "      <td>2.099115e-01</td>\n",
       "      <td>0.248343</td>\n",
       "    </tr>\n",
       "    <tr>\n",
       "      <th>MBE</th>\n",
       "      <td>1.962630e-17</td>\n",
       "      <td>0.000285</td>\n",
       "    </tr>\n",
       "    <tr>\n",
       "      <th>RSQ</th>\n",
       "      <td>4.872267e-01</td>\n",
       "      <td>0.281467</td>\n",
       "    </tr>\n",
       "  </tbody>\n",
       "</table>\n",
       "</div>"
      ],
      "text/plain": [
       "      extra_trees_train  extra_trees_test\n",
       "RMSE       2.099115e-01          0.248343\n",
       "MBE        1.962630e-17          0.000285\n",
       "RSQ        4.872267e-01          0.281467"
      ]
     },
     "metadata": {},
     "output_type": "display_data"
    },
    {
     "name": "stdout",
     "output_type": "stream",
     "text": [
      "===================================\n",
      "Feature Importances: Baseline Full:\n",
      "===================================\n"
     ]
    },
    {
     "data": {
      "text/html": [
       "<div>\n",
       "<style scoped>\n",
       "    .dataframe tbody tr th:only-of-type {\n",
       "        vertical-align: middle;\n",
       "    }\n",
       "\n",
       "    .dataframe tbody tr th {\n",
       "        vertical-align: top;\n",
       "    }\n",
       "\n",
       "    .dataframe thead th {\n",
       "        text-align: right;\n",
       "    }\n",
       "</style>\n",
       "<table border=\"1\" class=\"dataframe\">\n",
       "  <thead>\n",
       "    <tr style=\"text-align: right;\">\n",
       "      <th></th>\n",
       "      <th>feature</th>\n",
       "      <th>importance</th>\n",
       "    </tr>\n",
       "  </thead>\n",
       "  <tbody>\n",
       "    <tr>\n",
       "      <th>0</th>\n",
       "      <td>elevation</td>\n",
       "      <td>1.0</td>\n",
       "    </tr>\n",
       "  </tbody>\n",
       "</table>\n",
       "</div>"
      ],
      "text/plain": [
       "     feature  importance\n",
       "0  elevation         1.0"
      ]
     },
     "metadata": {},
     "output_type": "display_data"
    },
    {
     "name": "stdout",
     "output_type": "stream",
     "text": [
      "=================================\n",
      "Storing Results: Baseline Full...\n",
      "=================================\n",
      "Done!\n"
     ]
    }
   ],
   "source": [
    "baseline_full=ModelFitting(\n",
    "    var=BASELINE_FEATURES,\n",
    "    split=full_splits,\n",
    "    model_name='extra_trees',\n",
    "    n_estimators=150,\n",
    ")\n",
    "\n",
    "# fit model\n",
    "baseline_full.fit_model()\n",
    "\n",
    "# make predictions\n",
    "predictions_baseline_full=baseline_full.make_predictions()\n",
    "\n",
    "# evaluate model\n",
    "print(\"================================\")\n",
    "print(\"Model Evaluation: Baseline Full:\")\n",
    "print(\"================================\")\n",
    "res=baseline_full.evaluate_model()\n",
    "\n",
    "# get feature importances\n",
    "print(\"===================================\")\n",
    "print(\"Feature Importances: Baseline Full:\")\n",
    "print(\"===================================\")\n",
    "feature_importances_baseline_full=baseline_full.get_importance()\n",
    "\n",
    "# Store results\n",
    "print(\"=================================\")\n",
    "print(\"Storing Results: Baseline Full...\")\n",
    "print(\"=================================\")\n",
    "\n",
    "\n",
    "res.to_csv('../results/ExtraTrees/AllCombined/baseline/evaluation.csv', index=False)\n",
    "feature_importances_baseline_full.to_csv('../results/ExtraTrees/AllCombined/baseline/feature_importances.csv', index=False)\n",
    "predictions_baseline_full['y_pred_train'].to_csv('../results/ExtraTrees/AllCombined/baseline/train_predictions.csv', index=False)\n",
    "predictions_baseline_full['y_pred_test'].to_csv('../results/ExtraTrees/AllCombined/baseline/test_predictions.csv', index=False)\n",
    "\n",
    "print(\"Done!\")"
   ]
  },
  {
   "cell_type": "markdown",
   "metadata": {},
   "source": [
    "* InSAR Parameters"
   ]
  },
  {
   "cell_type": "code",
   "execution_count": 6,
   "metadata": {},
   "outputs": [
    {
     "name": "stdout",
     "output_type": "stream",
     "text": [
      "==============================\n",
      "Model Evaluation: UAVSAR Full:\n",
      "==============================\n"
     ]
    },
    {
     "data": {
      "text/html": [
       "<div>\n",
       "<style scoped>\n",
       "    .dataframe tbody tr th:only-of-type {\n",
       "        vertical-align: middle;\n",
       "    }\n",
       "\n",
       "    .dataframe tbody tr th {\n",
       "        vertical-align: top;\n",
       "    }\n",
       "\n",
       "    .dataframe thead th {\n",
       "        text-align: right;\n",
       "    }\n",
       "</style>\n",
       "<table border=\"1\" class=\"dataframe\">\n",
       "  <thead>\n",
       "    <tr style=\"text-align: right;\">\n",
       "      <th></th>\n",
       "      <th>extra_trees_train</th>\n",
       "      <th>extra_trees_test</th>\n",
       "    </tr>\n",
       "  </thead>\n",
       "  <tbody>\n",
       "    <tr>\n",
       "      <th>RMSE</th>\n",
       "      <td>2.795060e-02</td>\n",
       "      <td>0.108491</td>\n",
       "    </tr>\n",
       "    <tr>\n",
       "      <th>MBE</th>\n",
       "      <td>2.052968e-20</td>\n",
       "      <td>0.000216</td>\n",
       "    </tr>\n",
       "    <tr>\n",
       "      <th>RSQ</th>\n",
       "      <td>9.909085e-01</td>\n",
       "      <td>0.862871</td>\n",
       "    </tr>\n",
       "  </tbody>\n",
       "</table>\n",
       "</div>"
      ],
      "text/plain": [
       "      extra_trees_train  extra_trees_test\n",
       "RMSE       2.795060e-02          0.108491\n",
       "MBE        2.052968e-20          0.000216\n",
       "RSQ        9.909085e-01          0.862871"
      ]
     },
     "metadata": {},
     "output_type": "display_data"
    },
    {
     "name": "stdout",
     "output_type": "stream",
     "text": [
      "=================================\n",
      "Feature Importances: UAVSAR Full:\n",
      "=================================\n"
     ]
    },
    {
     "data": {
      "text/html": [
       "<div>\n",
       "<style scoped>\n",
       "    .dataframe tbody tr th:only-of-type {\n",
       "        vertical-align: middle;\n",
       "    }\n",
       "\n",
       "    .dataframe tbody tr th {\n",
       "        vertical-align: top;\n",
       "    }\n",
       "\n",
       "    .dataframe thead th {\n",
       "        text-align: right;\n",
       "    }\n",
       "</style>\n",
       "<table border=\"1\" class=\"dataframe\">\n",
       "  <thead>\n",
       "    <tr style=\"text-align: right;\">\n",
       "      <th></th>\n",
       "      <th>feature</th>\n",
       "      <th>importance</th>\n",
       "    </tr>\n",
       "  </thead>\n",
       "  <tbody>\n",
       "    <tr>\n",
       "      <th>3</th>\n",
       "      <td>elevation</td>\n",
       "      <td>0.250189</td>\n",
       "    </tr>\n",
       "    <tr>\n",
       "      <th>5</th>\n",
       "      <td>unwrapped_phase</td>\n",
       "      <td>0.184335</td>\n",
       "    </tr>\n",
       "    <tr>\n",
       "      <th>1</th>\n",
       "      <td>amplitude</td>\n",
       "      <td>0.159151</td>\n",
       "    </tr>\n",
       "    <tr>\n",
       "      <th>4</th>\n",
       "      <td>incidence_angle</td>\n",
       "      <td>0.158837</td>\n",
       "    </tr>\n",
       "    <tr>\n",
       "      <th>2</th>\n",
       "      <td>wrapped_phase</td>\n",
       "      <td>0.147997</td>\n",
       "    </tr>\n",
       "    <tr>\n",
       "      <th>0</th>\n",
       "      <td>coherence</td>\n",
       "      <td>0.099491</td>\n",
       "    </tr>\n",
       "  </tbody>\n",
       "</table>\n",
       "</div>"
      ],
      "text/plain": [
       "           feature  importance\n",
       "3        elevation    0.250189\n",
       "5  unwrapped_phase    0.184335\n",
       "1        amplitude    0.159151\n",
       "4  incidence_angle    0.158837\n",
       "2    wrapped_phase    0.147997\n",
       "0        coherence    0.099491"
      ]
     },
     "metadata": {},
     "output_type": "display_data"
    },
    {
     "name": "stdout",
     "output_type": "stream",
     "text": [
      "===============================\n",
      "Storing Results: UAVSAR Full...\n",
      "===============================\n",
      "Done!\n"
     ]
    }
   ],
   "source": [
    "insar_full=ModelFitting(\n",
    "    var=UAVSAR_FEATURES,\n",
    "    split=full_splits,\n",
    "    model_name='extra_trees',\n",
    "    n_estimators=150,\n",
    ")\n",
    "\n",
    "\n",
    "# fit model\n",
    "insar_full.fit_model()\n",
    "\n",
    "# make predictions\n",
    "predictions_insar_full=insar_full.make_predictions()\n",
    "\n",
    "\n",
    "# evaluate model\n",
    "print(\"==============================\")\n",
    "print(\"Model Evaluation: UAVSAR Full:\")\n",
    "print(\"==============================\")\n",
    "res=insar_full.evaluate_model()\n",
    "\n",
    "\n",
    "# get feature importances\n",
    "print(\"=================================\")\n",
    "print(\"Feature Importances: UAVSAR Full:\")\n",
    "print(\"=================================\")\n",
    "feature_importances_insar_full=insar_full.get_importance()\n",
    "\n",
    "\n",
    "# Store results\n",
    "print(\"===============================\")\n",
    "print(\"Storing Results: UAVSAR Full...\")\n",
    "print(\"===============================\")\n",
    "\n",
    "\n",
    "res.to_csv('../results/ExtraTrees/AllCombined/uavsar/evaluation.csv', index=False)\n",
    "feature_importances_insar_full.to_csv('../results/ExtraTrees/AllCombined/uavsar/feature_importances.csv', index=False)\n",
    "predictions_insar_full['y_pred_train'].to_csv('../results/ExtraTrees/AllCombined/uavsar/train_predictions.csv', index=False)\n",
    "predictions_insar_full['y_pred_test'].to_csv('../results/ExtraTrees/AllCombined/uavsar/test_predictions.csv', index=False)\n",
    "\n",
    "print(\"Done!\")"
   ]
  },
  {
   "cell_type": "markdown",
   "metadata": {},
   "source": [
    "* InSAR + Vegetation Height"
   ]
  },
  {
   "cell_type": "code",
   "execution_count": 7,
   "metadata": {},
   "outputs": [
    {
     "name": "stdout",
     "output_type": "stream",
     "text": [
      "=========================================\n",
      "Model Evaluation: UAVSAR Vegetation Full:\n",
      "=========================================\n"
     ]
    },
    {
     "data": {
      "text/html": [
       "<div>\n",
       "<style scoped>\n",
       "    .dataframe tbody tr th:only-of-type {\n",
       "        vertical-align: middle;\n",
       "    }\n",
       "\n",
       "    .dataframe tbody tr th {\n",
       "        vertical-align: top;\n",
       "    }\n",
       "\n",
       "    .dataframe thead th {\n",
       "        text-align: right;\n",
       "    }\n",
       "</style>\n",
       "<table border=\"1\" class=\"dataframe\">\n",
       "  <thead>\n",
       "    <tr style=\"text-align: right;\">\n",
       "      <th></th>\n",
       "      <th>extra_trees_train</th>\n",
       "      <th>extra_trees_test</th>\n",
       "    </tr>\n",
       "  </thead>\n",
       "  <tbody>\n",
       "    <tr>\n",
       "      <th>RMSE</th>\n",
       "      <td>1.621448e-02</td>\n",
       "      <td>0.105218</td>\n",
       "    </tr>\n",
       "    <tr>\n",
       "      <th>MBE</th>\n",
       "      <td>4.915296e-21</td>\n",
       "      <td>0.000268</td>\n",
       "    </tr>\n",
       "    <tr>\n",
       "      <th>RSQ</th>\n",
       "      <td>9.969404e-01</td>\n",
       "      <td>0.871021</td>\n",
       "    </tr>\n",
       "  </tbody>\n",
       "</table>\n",
       "</div>"
      ],
      "text/plain": [
       "      extra_trees_train  extra_trees_test\n",
       "RMSE       1.621448e-02          0.105218\n",
       "MBE        4.915296e-21          0.000268\n",
       "RSQ        9.969404e-01          0.871021"
      ]
     },
     "metadata": {},
     "output_type": "display_data"
    },
    {
     "name": "stdout",
     "output_type": "stream",
     "text": [
      "============================================\n",
      "Feature Importances: UAVSAR Vegetation Full:\n",
      "============================================\n"
     ]
    },
    {
     "data": {
      "text/html": [
       "<div>\n",
       "<style scoped>\n",
       "    .dataframe tbody tr th:only-of-type {\n",
       "        vertical-align: middle;\n",
       "    }\n",
       "\n",
       "    .dataframe tbody tr th {\n",
       "        vertical-align: top;\n",
       "    }\n",
       "\n",
       "    .dataframe thead th {\n",
       "        text-align: right;\n",
       "    }\n",
       "</style>\n",
       "<table border=\"1\" class=\"dataframe\">\n",
       "  <thead>\n",
       "    <tr style=\"text-align: right;\">\n",
       "      <th></th>\n",
       "      <th>feature</th>\n",
       "      <th>importance</th>\n",
       "    </tr>\n",
       "  </thead>\n",
       "  <tbody>\n",
       "    <tr>\n",
       "      <th>4</th>\n",
       "      <td>elevation</td>\n",
       "      <td>0.238415</td>\n",
       "    </tr>\n",
       "    <tr>\n",
       "      <th>6</th>\n",
       "      <td>unwrapped_phase</td>\n",
       "      <td>0.173399</td>\n",
       "    </tr>\n",
       "    <tr>\n",
       "      <th>5</th>\n",
       "      <td>incidence_angle</td>\n",
       "      <td>0.145315</td>\n",
       "    </tr>\n",
       "    <tr>\n",
       "      <th>3</th>\n",
       "      <td>wrapped_phase</td>\n",
       "      <td>0.132212</td>\n",
       "    </tr>\n",
       "    <tr>\n",
       "      <th>2</th>\n",
       "      <td>vegetation_ht</td>\n",
       "      <td>0.129794</td>\n",
       "    </tr>\n",
       "    <tr>\n",
       "      <th>1</th>\n",
       "      <td>amplitude</td>\n",
       "      <td>0.106305</td>\n",
       "    </tr>\n",
       "    <tr>\n",
       "      <th>0</th>\n",
       "      <td>coherence</td>\n",
       "      <td>0.074560</td>\n",
       "    </tr>\n",
       "  </tbody>\n",
       "</table>\n",
       "</div>"
      ],
      "text/plain": [
       "           feature  importance\n",
       "4        elevation    0.238415\n",
       "6  unwrapped_phase    0.173399\n",
       "5  incidence_angle    0.145315\n",
       "3    wrapped_phase    0.132212\n",
       "2    vegetation_ht    0.129794\n",
       "1        amplitude    0.106305\n",
       "0        coherence    0.074560"
      ]
     },
     "metadata": {},
     "output_type": "display_data"
    },
    {
     "name": "stdout",
     "output_type": "stream",
     "text": [
      "==========================================\n",
      "Storing Results: UAVSAR Vegetation Full...\n",
      "==========================================\n",
      "Done!\n"
     ]
    }
   ],
   "source": [
    "insar_vegetation_full=ModelFitting(\n",
    "    var=UAVSAR_AND_VEGETATION_HEIGHT_FEATURES,\n",
    "    split=full_splits,\n",
    "    model_name='extra_trees',\n",
    "    n_estimators=150,\n",
    ")\n",
    "\n",
    "# fit model\n",
    "insar_vegetation_full.fit_model()\n",
    "\n",
    "# make predictions\n",
    "predictions_insar_vegetation_full=insar_vegetation_full.make_predictions()\n",
    "\n",
    "# evaluate model\n",
    "print(\"=========================================\")\n",
    "print(\"Model Evaluation: UAVSAR Vegetation Full:\")\n",
    "print(\"=========================================\")\n",
    "res=insar_vegetation_full.evaluate_model()\n",
    "\n",
    "# get feature importances\n",
    "print(\"============================================\")\n",
    "print(\"Feature Importances: UAVSAR Vegetation Full:\")\n",
    "print(\"============================================\")\n",
    "feature_importances_insar_vegetation_full=insar_vegetation_full.get_importance()\n",
    "\n",
    "# Store results\n",
    "print(\"==========================================\")\n",
    "print(\"Storing Results: UAVSAR Vegetation Full...\")\n",
    "print(\"==========================================\")\n",
    "\n",
    "res.to_csv('../results/ExtraTrees/AllCombined/all/evaluation.csv', index=False)\n",
    "feature_importances_insar_vegetation_full.to_csv('../results/ExtraTrees/AllCombined/all/feature_importances.csv', index=False)\n",
    "predictions_insar_vegetation_full['y_pred_train'].to_csv('../results/ExtraTrees/AllCombined/all/train_predictions.csv', index=False)\n",
    "predictions_insar_vegetation_full['y_pred_test'].to_csv('../results/ExtraTrees/AllCombined/all/test_predictions.csv', index=False)\n",
    "\n",
    "print(\"Done!\")"
   ]
  },
  {
   "cell_type": "markdown",
   "metadata": {},
   "source": [
    "## Vegetation\n",
    "\n",
    "* Baseline"
   ]
  },
  {
   "cell_type": "code",
   "execution_count": 6,
   "metadata": {},
   "outputs": [
    {
     "name": "stdout",
     "output_type": "stream",
     "text": [
      "======================================\n",
      "Model Evaluation: Baseline Vegetation:\n",
      "======================================\n"
     ]
    },
    {
     "data": {
      "text/html": [
       "<div>\n",
       "<style scoped>\n",
       "    .dataframe tbody tr th:only-of-type {\n",
       "        vertical-align: middle;\n",
       "    }\n",
       "\n",
       "    .dataframe tbody tr th {\n",
       "        vertical-align: top;\n",
       "    }\n",
       "\n",
       "    .dataframe thead th {\n",
       "        text-align: right;\n",
       "    }\n",
       "</style>\n",
       "<table border=\"1\" class=\"dataframe\">\n",
       "  <thead>\n",
       "    <tr style=\"text-align: right;\">\n",
       "      <th></th>\n",
       "      <th>extra_trees_train</th>\n",
       "      <th>extra_trees_test</th>\n",
       "    </tr>\n",
       "  </thead>\n",
       "  <tbody>\n",
       "    <tr>\n",
       "      <th>RMSE</th>\n",
       "      <td>1.454774e-01</td>\n",
       "      <td>0.220102</td>\n",
       "    </tr>\n",
       "    <tr>\n",
       "      <th>MBE</th>\n",
       "      <td>5.138123e-18</td>\n",
       "      <td>-0.000394</td>\n",
       "    </tr>\n",
       "    <tr>\n",
       "      <th>RSQ</th>\n",
       "      <td>7.235707e-01</td>\n",
       "      <td>0.371202</td>\n",
       "    </tr>\n",
       "  </tbody>\n",
       "</table>\n",
       "</div>"
      ],
      "text/plain": [
       "      extra_trees_train  extra_trees_test\n",
       "RMSE       1.454774e-01          0.220102\n",
       "MBE        5.138123e-18         -0.000394\n",
       "RSQ        7.235707e-01          0.371202"
      ]
     },
     "metadata": {},
     "output_type": "display_data"
    },
    {
     "name": "stdout",
     "output_type": "stream",
     "text": [
      "=========================================\n",
      "Feature Importances: Baseline Vegetation:\n",
      "=========================================\n"
     ]
    },
    {
     "data": {
      "text/html": [
       "<div>\n",
       "<style scoped>\n",
       "    .dataframe tbody tr th:only-of-type {\n",
       "        vertical-align: middle;\n",
       "    }\n",
       "\n",
       "    .dataframe tbody tr th {\n",
       "        vertical-align: top;\n",
       "    }\n",
       "\n",
       "    .dataframe thead th {\n",
       "        text-align: right;\n",
       "    }\n",
       "</style>\n",
       "<table border=\"1\" class=\"dataframe\">\n",
       "  <thead>\n",
       "    <tr style=\"text-align: right;\">\n",
       "      <th></th>\n",
       "      <th>feature</th>\n",
       "      <th>importance</th>\n",
       "    </tr>\n",
       "  </thead>\n",
       "  <tbody>\n",
       "    <tr>\n",
       "      <th>0</th>\n",
       "      <td>elevation</td>\n",
       "      <td>1.0</td>\n",
       "    </tr>\n",
       "  </tbody>\n",
       "</table>\n",
       "</div>"
      ],
      "text/plain": [
       "     feature  importance\n",
       "0  elevation         1.0"
      ]
     },
     "metadata": {},
     "output_type": "display_data"
    },
    {
     "name": "stdout",
     "output_type": "stream",
     "text": [
      "=======================================\n",
      "Storing Results: Baseline Vegetation...\n",
      "=======================================\n",
      "Done!\n"
     ]
    }
   ],
   "source": [
    "baseline_vegetation=ModelFitting(\n",
    "    var=BASELINE_FEATURES,\n",
    "    split=vegetation_splits,\n",
    "    model_name='extra_trees',\n",
    "    n_estimators=150,\n",
    ")\n",
    "\n",
    "# fit model\n",
    "baseline_vegetation.fit_model()\n",
    "\n",
    "# make predictions\n",
    "predictions_baseline_vegetation=baseline_vegetation.make_predictions()\n",
    "\n",
    "# evaluate model\n",
    "print(\"======================================\")\n",
    "print(\"Model Evaluation: Baseline Vegetation:\")\n",
    "print(\"======================================\")\n",
    "res=baseline_vegetation.evaluate_model()\n",
    "\n",
    "# get feature importances\n",
    "print(\"=========================================\")\n",
    "print(\"Feature Importances: Baseline Vegetation:\")\n",
    "print(\"=========================================\")\n",
    "feature_importances_baseline_vegetation=baseline_vegetation.get_importance()\n",
    "\n",
    "# Store results\n",
    "print(\"=======================================\")\n",
    "print(\"Storing Results: Baseline Vegetation...\")\n",
    "print(\"=======================================\")\n",
    "\n",
    "res.to_csv('../results/ExtraTrees/Vegetation/baseline/evaluation.csv', index=False)\n",
    "feature_importances_baseline_vegetation.to_csv('../results/ExtraTrees/Vegetation/baseline/feature_importances.csv', index=False)\n",
    "predictions_baseline_vegetation['y_pred_train'].to_csv('../results/ExtraTrees/Vegetation/baseline/train_predictions.csv', index=False)\n",
    "predictions_baseline_vegetation['y_pred_test'].to_csv('../results/ExtraTrees/Vegetation/baseline/test_predictions.csv', index=False)\n",
    "\n",
    "print(\"Done!\")"
   ]
  },
  {
   "cell_type": "markdown",
   "metadata": {},
   "source": [
    "* InSAR Parameters"
   ]
  },
  {
   "cell_type": "code",
   "execution_count": 7,
   "metadata": {},
   "outputs": [
    {
     "name": "stdout",
     "output_type": "stream",
     "text": [
      "====================================\n",
      "Model Evaluation: UAVSAR Vegetation:\n",
      "====================================\n"
     ]
    },
    {
     "data": {
      "text/html": [
       "<div>\n",
       "<style scoped>\n",
       "    .dataframe tbody tr th:only-of-type {\n",
       "        vertical-align: middle;\n",
       "    }\n",
       "\n",
       "    .dataframe tbody tr th {\n",
       "        vertical-align: top;\n",
       "    }\n",
       "\n",
       "    .dataframe thead th {\n",
       "        text-align: right;\n",
       "    }\n",
       "</style>\n",
       "<table border=\"1\" class=\"dataframe\">\n",
       "  <thead>\n",
       "    <tr style=\"text-align: right;\">\n",
       "      <th></th>\n",
       "      <th>extra_trees_train</th>\n",
       "      <th>extra_trees_test</th>\n",
       "    </tr>\n",
       "  </thead>\n",
       "  <tbody>\n",
       "    <tr>\n",
       "      <th>RMSE</th>\n",
       "      <td>3.134335e-02</td>\n",
       "      <td>0.112562</td>\n",
       "    </tr>\n",
       "    <tr>\n",
       "      <th>MBE</th>\n",
       "      <td>9.138774e-20</td>\n",
       "      <td>0.000178</td>\n",
       "    </tr>\n",
       "    <tr>\n",
       "      <th>RSQ</th>\n",
       "      <td>9.871683e-01</td>\n",
       "      <td>0.835546</td>\n",
       "    </tr>\n",
       "  </tbody>\n",
       "</table>\n",
       "</div>"
      ],
      "text/plain": [
       "      extra_trees_train  extra_trees_test\n",
       "RMSE       3.134335e-02          0.112562\n",
       "MBE        9.138774e-20          0.000178\n",
       "RSQ        9.871683e-01          0.835546"
      ]
     },
     "metadata": {},
     "output_type": "display_data"
    },
    {
     "name": "stdout",
     "output_type": "stream",
     "text": [
      "=======================================\n",
      "Feature Importances: UAVSAR Vegetation:\n",
      "=======================================\n"
     ]
    },
    {
     "data": {
      "text/html": [
       "<div>\n",
       "<style scoped>\n",
       "    .dataframe tbody tr th:only-of-type {\n",
       "        vertical-align: middle;\n",
       "    }\n",
       "\n",
       "    .dataframe tbody tr th {\n",
       "        vertical-align: top;\n",
       "    }\n",
       "\n",
       "    .dataframe thead th {\n",
       "        text-align: right;\n",
       "    }\n",
       "</style>\n",
       "<table border=\"1\" class=\"dataframe\">\n",
       "  <thead>\n",
       "    <tr style=\"text-align: right;\">\n",
       "      <th></th>\n",
       "      <th>feature</th>\n",
       "      <th>importance</th>\n",
       "    </tr>\n",
       "  </thead>\n",
       "  <tbody>\n",
       "    <tr>\n",
       "      <th>3</th>\n",
       "      <td>elevation</td>\n",
       "      <td>0.355832</td>\n",
       "    </tr>\n",
       "    <tr>\n",
       "      <th>4</th>\n",
       "      <td>incidence_angle</td>\n",
       "      <td>0.221690</td>\n",
       "    </tr>\n",
       "    <tr>\n",
       "      <th>5</th>\n",
       "      <td>unwrapped_phase</td>\n",
       "      <td>0.139769</td>\n",
       "    </tr>\n",
       "    <tr>\n",
       "      <th>2</th>\n",
       "      <td>wrapped_phase</td>\n",
       "      <td>0.103973</td>\n",
       "    </tr>\n",
       "    <tr>\n",
       "      <th>1</th>\n",
       "      <td>amplitude</td>\n",
       "      <td>0.098317</td>\n",
       "    </tr>\n",
       "    <tr>\n",
       "      <th>0</th>\n",
       "      <td>coherence</td>\n",
       "      <td>0.080419</td>\n",
       "    </tr>\n",
       "  </tbody>\n",
       "</table>\n",
       "</div>"
      ],
      "text/plain": [
       "           feature  importance\n",
       "3        elevation    0.355832\n",
       "4  incidence_angle    0.221690\n",
       "5  unwrapped_phase    0.139769\n",
       "2    wrapped_phase    0.103973\n",
       "1        amplitude    0.098317\n",
       "0        coherence    0.080419"
      ]
     },
     "metadata": {},
     "output_type": "display_data"
    },
    {
     "name": "stdout",
     "output_type": "stream",
     "text": [
      "=====================================\n",
      "Storing Results: UAVSAR Vegetation...\n",
      "=====================================\n",
      "Done!\n"
     ]
    }
   ],
   "source": [
    "insar_vegetation=ModelFitting(\n",
    "    var=UAVSAR_FEATURES,\n",
    "    split=vegetation_splits,\n",
    "    model_name='extra_trees',\n",
    "    n_estimators=150,\n",
    ")\n",
    "\n",
    "# fit model\n",
    "insar_vegetation.fit_model()\n",
    "\n",
    "# make predictions\n",
    "predictions_insar_vegetation=insar_vegetation.make_predictions()\n",
    "\n",
    "# evaluate model\n",
    "print(\"====================================\")\n",
    "print(\"Model Evaluation: UAVSAR Vegetation:\")\n",
    "print(\"====================================\")\n",
    "res=insar_vegetation.evaluate_model()\n",
    "\n",
    "# get feature importances\n",
    "print(\"=======================================\")\n",
    "print(\"Feature Importances: UAVSAR Vegetation:\")\n",
    "print(\"=======================================\")\n",
    "feature_importances_insar_vegetation=insar_vegetation.get_importance()\n",
    "\n",
    "# Store results\n",
    "print(\"=====================================\")\n",
    "print(\"Storing Results: UAVSAR Vegetation...\")\n",
    "print(\"=====================================\")\n",
    "res.to_csv('../results/ExtraTrees/Vegetation/uavsar/evaluation.csv', index=False)\n",
    "feature_importances_insar_vegetation.to_csv('../results/ExtraTrees/Vegetation/uavsar/feature_importances.csv', index=False)\n",
    "predictions_insar_vegetation['y_pred_train'].to_csv('../results/ExtraTrees/Vegetation/uavsar/train_predictions.csv', index=False)\n",
    "predictions_insar_vegetation['y_pred_test'].to_csv('../results/ExtraTrees/Vegetation/uavsar/test_predictions.csv', index=False)\n",
    "\n",
    "print(\"Done!\")"
   ]
  },
  {
   "cell_type": "markdown",
   "metadata": {},
   "source": [
    "* InSAR + Vegetation Height"
   ]
  },
  {
   "cell_type": "code",
   "execution_count": 12,
   "metadata": {},
   "outputs": [
    {
     "name": "stdout",
     "output_type": "stream",
     "text": [
      "===============================================\n",
      "Model Evaluation: UAVSAR Vegetation Vegetation:\n",
      "===============================================\n"
     ]
    },
    {
     "data": {
      "text/html": [
       "<div>\n",
       "<style scoped>\n",
       "    .dataframe tbody tr th:only-of-type {\n",
       "        vertical-align: middle;\n",
       "    }\n",
       "\n",
       "    .dataframe tbody tr th {\n",
       "        vertical-align: top;\n",
       "    }\n",
       "\n",
       "    .dataframe thead th {\n",
       "        text-align: right;\n",
       "    }\n",
       "</style>\n",
       "<table border=\"1\" class=\"dataframe\">\n",
       "  <thead>\n",
       "    <tr style=\"text-align: right;\">\n",
       "      <th></th>\n",
       "      <th>extra_trees_train</th>\n",
       "      <th>extra_trees_test</th>\n",
       "    </tr>\n",
       "  </thead>\n",
       "  <tbody>\n",
       "    <tr>\n",
       "      <th>RMSE</th>\n",
       "      <td>1.077466e-02</td>\n",
       "      <td>0.111764</td>\n",
       "    </tr>\n",
       "    <tr>\n",
       "      <th>MBE</th>\n",
       "      <td>4.555720e-21</td>\n",
       "      <td>0.000814</td>\n",
       "    </tr>\n",
       "    <tr>\n",
       "      <th>RSQ</th>\n",
       "      <td>9.984836e-01</td>\n",
       "      <td>0.837870</td>\n",
       "    </tr>\n",
       "  </tbody>\n",
       "</table>\n",
       "</div>"
      ],
      "text/plain": [
       "      extra_trees_train  extra_trees_test\n",
       "RMSE       1.077466e-02          0.111764\n",
       "MBE        4.555720e-21          0.000814\n",
       "RSQ        9.984836e-01          0.837870"
      ]
     },
     "metadata": {},
     "output_type": "display_data"
    },
    {
     "name": "stdout",
     "output_type": "stream",
     "text": [
      "==================================================\n",
      "Feature Importances: UAVSAR Vegetation Vegetation:\n",
      "==================================================\n"
     ]
    },
    {
     "data": {
      "text/html": [
       "<div>\n",
       "<style scoped>\n",
       "    .dataframe tbody tr th:only-of-type {\n",
       "        vertical-align: middle;\n",
       "    }\n",
       "\n",
       "    .dataframe tbody tr th {\n",
       "        vertical-align: top;\n",
       "    }\n",
       "\n",
       "    .dataframe thead th {\n",
       "        text-align: right;\n",
       "    }\n",
       "</style>\n",
       "<table border=\"1\" class=\"dataframe\">\n",
       "  <thead>\n",
       "    <tr style=\"text-align: right;\">\n",
       "      <th></th>\n",
       "      <th>feature</th>\n",
       "      <th>importance</th>\n",
       "    </tr>\n",
       "  </thead>\n",
       "  <tbody>\n",
       "    <tr>\n",
       "      <th>4</th>\n",
       "      <td>elevation</td>\n",
       "      <td>0.332366</td>\n",
       "    </tr>\n",
       "    <tr>\n",
       "      <th>5</th>\n",
       "      <td>incidence_angle</td>\n",
       "      <td>0.203082</td>\n",
       "    </tr>\n",
       "    <tr>\n",
       "      <th>2</th>\n",
       "      <td>vegetation_ht</td>\n",
       "      <td>0.160218</td>\n",
       "    </tr>\n",
       "    <tr>\n",
       "      <th>6</th>\n",
       "      <td>unwrapped_phase</td>\n",
       "      <td>0.104119</td>\n",
       "    </tr>\n",
       "    <tr>\n",
       "      <th>3</th>\n",
       "      <td>wrapped_phase</td>\n",
       "      <td>0.083598</td>\n",
       "    </tr>\n",
       "    <tr>\n",
       "      <th>1</th>\n",
       "      <td>amplitude</td>\n",
       "      <td>0.065514</td>\n",
       "    </tr>\n",
       "    <tr>\n",
       "      <th>0</th>\n",
       "      <td>coherence</td>\n",
       "      <td>0.051103</td>\n",
       "    </tr>\n",
       "  </tbody>\n",
       "</table>\n",
       "</div>"
      ],
      "text/plain": [
       "           feature  importance\n",
       "4        elevation    0.332366\n",
       "5  incidence_angle    0.203082\n",
       "2    vegetation_ht    0.160218\n",
       "6  unwrapped_phase    0.104119\n",
       "3    wrapped_phase    0.083598\n",
       "1        amplitude    0.065514\n",
       "0        coherence    0.051103"
      ]
     },
     "metadata": {},
     "output_type": "display_data"
    },
    {
     "name": "stdout",
     "output_type": "stream",
     "text": [
      "================================================\n",
      "Storing Results: UAVSAR Vegetation Vegetation...\n",
      "================================================\n",
      "Done!\n"
     ]
    }
   ],
   "source": [
    "insar_vegetation_vegetation=ModelFitting(\n",
    "    var=UAVSAR_AND_VEGETATION_HEIGHT_FEATURES,\n",
    "    split=vegetation_splits,\n",
    "    model_name='extra_trees',\n",
    "    n_estimators=150,\n",
    ")\n",
    "\n",
    "# fit model\n",
    "insar_vegetation_vegetation.fit_model()\n",
    "\n",
    "# make predictions\n",
    "predictions_insar_vegetation_vegetation=insar_vegetation_vegetation.make_predictions()\n",
    "\n",
    "# evaluate model\n",
    "print(\"===============================================\")\n",
    "print(\"Model Evaluation: UAVSAR Vegetation Vegetation:\")\n",
    "print(\"===============================================\")\n",
    "res=insar_vegetation_vegetation.evaluate_model()\n",
    "\n",
    "# get feature importances\n",
    "print(\"==================================================\")\n",
    "print(\"Feature Importances: UAVSAR Vegetation Vegetation:\")\n",
    "print(\"==================================================\")\n",
    "feature_importances_insar_vegetation_vegetation=insar_vegetation_vegetation.get_importance()\n",
    "\n",
    "# Store results\n",
    "print(\"================================================\")\n",
    "print(\"Storing Results: UAVSAR Vegetation Vegetation...\")\n",
    "print(\"================================================\")\n",
    "\n",
    "res.to_csv('../results/ExtraTrees/Vegetation/all/evaluation.csv', index=False)\n",
    "feature_importances_insar_vegetation_vegetation.to_csv('../results/ExtraTrees/Vegetation/all/feature_importances.csv', index=False)\n",
    "predictions_insar_vegetation_vegetation['y_pred_train'].to_csv('../results/ExtraTrees/Vegetation/all/train_predictions.csv', index=False)\n",
    "predictions_insar_vegetation_vegetation['y_pred_test'].to_csv('../results/ExtraTrees/Vegetation/all/test_predictions.csv', index=False)\n",
    "\n",
    "print(\"Done!\")"
   ]
  },
  {
   "cell_type": "markdown",
   "metadata": {},
   "source": [
    "## No Vegetation\n",
    "\n",
    "* Baseline"
   ]
  },
  {
   "cell_type": "code",
   "execution_count": 13,
   "metadata": {},
   "outputs": [
    {
     "name": "stdout",
     "output_type": "stream",
     "text": [
      "=========================================\n",
      "Model Evaluation: Baseline No Vegetation:\n",
      "=========================================\n"
     ]
    },
    {
     "data": {
      "text/html": [
       "<div>\n",
       "<style scoped>\n",
       "    .dataframe tbody tr th:only-of-type {\n",
       "        vertical-align: middle;\n",
       "    }\n",
       "\n",
       "    .dataframe tbody tr th {\n",
       "        vertical-align: top;\n",
       "    }\n",
       "\n",
       "    .dataframe thead th {\n",
       "        text-align: right;\n",
       "    }\n",
       "</style>\n",
       "<table border=\"1\" class=\"dataframe\">\n",
       "  <thead>\n",
       "    <tr style=\"text-align: right;\">\n",
       "      <th></th>\n",
       "      <th>extra_trees_train</th>\n",
       "      <th>extra_trees_test</th>\n",
       "    </tr>\n",
       "  </thead>\n",
       "  <tbody>\n",
       "    <tr>\n",
       "      <th>RMSE</th>\n",
       "      <td>2.007691e-01</td>\n",
       "      <td>0.236504</td>\n",
       "    </tr>\n",
       "    <tr>\n",
       "      <th>MBE</th>\n",
       "      <td>-5.244736e-18</td>\n",
       "      <td>0.000089</td>\n",
       "    </tr>\n",
       "    <tr>\n",
       "      <th>RSQ</th>\n",
       "      <td>5.594743e-01</td>\n",
       "      <td>0.389092</td>\n",
       "    </tr>\n",
       "  </tbody>\n",
       "</table>\n",
       "</div>"
      ],
      "text/plain": [
       "      extra_trees_train  extra_trees_test\n",
       "RMSE       2.007691e-01          0.236504\n",
       "MBE       -5.244736e-18          0.000089\n",
       "RSQ        5.594743e-01          0.389092"
      ]
     },
     "metadata": {},
     "output_type": "display_data"
    },
    {
     "name": "stdout",
     "output_type": "stream",
     "text": [
      "============================================\n",
      "Feature Importances: Baseline No Vegetation:\n",
      "============================================\n"
     ]
    },
    {
     "data": {
      "text/html": [
       "<div>\n",
       "<style scoped>\n",
       "    .dataframe tbody tr th:only-of-type {\n",
       "        vertical-align: middle;\n",
       "    }\n",
       "\n",
       "    .dataframe tbody tr th {\n",
       "        vertical-align: top;\n",
       "    }\n",
       "\n",
       "    .dataframe thead th {\n",
       "        text-align: right;\n",
       "    }\n",
       "</style>\n",
       "<table border=\"1\" class=\"dataframe\">\n",
       "  <thead>\n",
       "    <tr style=\"text-align: right;\">\n",
       "      <th></th>\n",
       "      <th>feature</th>\n",
       "      <th>importance</th>\n",
       "    </tr>\n",
       "  </thead>\n",
       "  <tbody>\n",
       "    <tr>\n",
       "      <th>0</th>\n",
       "      <td>elevation</td>\n",
       "      <td>1.0</td>\n",
       "    </tr>\n",
       "  </tbody>\n",
       "</table>\n",
       "</div>"
      ],
      "text/plain": [
       "     feature  importance\n",
       "0  elevation         1.0"
      ]
     },
     "metadata": {},
     "output_type": "display_data"
    },
    {
     "name": "stdout",
     "output_type": "stream",
     "text": [
      "==========================================\n",
      "Storing Results: Baseline No Vegetation...\n",
      "==========================================\n",
      "Done!\n"
     ]
    }
   ],
   "source": [
    "baseline_no_vegetation=ModelFitting(\n",
    "    var=BASELINE_FEATURES,\n",
    "    split=no_vegetation_splits,\n",
    "    model_name='extra_trees',\n",
    "    n_estimators=150,\n",
    ")\n",
    "\n",
    "# fit model\n",
    "baseline_no_vegetation.fit_model()\n",
    "\n",
    "# make predictions\n",
    "predictions_baseline_no_vegetation=baseline_no_vegetation.make_predictions()\n",
    "\n",
    "# evaluate model\n",
    "print(\"=========================================\")\n",
    "print(\"Model Evaluation: Baseline No Vegetation:\")\n",
    "print(\"=========================================\")\n",
    "res=baseline_no_vegetation.evaluate_model()\n",
    "\n",
    "# get feature importances\n",
    "print(\"============================================\")\n",
    "print(\"Feature Importances: Baseline No Vegetation:\")\n",
    "print(\"============================================\")\n",
    "feature_importances_baseline_no_vegetation=baseline_no_vegetation.get_importance()\n",
    "\n",
    "# Store results\n",
    "print(\"==========================================\")\n",
    "print(\"Storing Results: Baseline No Vegetation...\")\n",
    "print(\"==========================================\")\n",
    "\n",
    "res.to_csv('../results/ExtraTrees/NoVegetation/baseline/evaluation.csv', index=False)\n",
    "feature_importances_baseline_no_vegetation.to_csv('../results/ExtraTrees/NoVegetation/baseline/feature_importances.csv', index=False)\n",
    "predictions_baseline_no_vegetation['y_pred_train'].to_csv('../results/ExtraTrees/NoVegetation/baseline/train_predictions.csv', index=False)\n",
    "predictions_baseline_no_vegetation['y_pred_test'].to_csv('../results/ExtraTrees/NoVegetation/baseline/test_predictions.csv', index=False)\n",
    "\n",
    "print(\"Done!\")"
   ]
  },
  {
   "cell_type": "markdown",
   "metadata": {},
   "source": [
    "* InSAR Parameters"
   ]
  },
  {
   "cell_type": "code",
   "execution_count": 14,
   "metadata": {},
   "outputs": [
    {
     "name": "stdout",
     "output_type": "stream",
     "text": [
      "=======================================\n",
      "Model Evaluation: UAVSAR No Vegetation:\n",
      "=======================================\n"
     ]
    },
    {
     "data": {
      "text/html": [
       "<div>\n",
       "<style scoped>\n",
       "    .dataframe tbody tr th:only-of-type {\n",
       "        vertical-align: middle;\n",
       "    }\n",
       "\n",
       "    .dataframe tbody tr th {\n",
       "        vertical-align: top;\n",
       "    }\n",
       "\n",
       "    .dataframe thead th {\n",
       "        text-align: right;\n",
       "    }\n",
       "</style>\n",
       "<table border=\"1\" class=\"dataframe\">\n",
       "  <thead>\n",
       "    <tr style=\"text-align: right;\">\n",
       "      <th></th>\n",
       "      <th>extra_trees_train</th>\n",
       "      <th>extra_trees_test</th>\n",
       "    </tr>\n",
       "  </thead>\n",
       "  <tbody>\n",
       "    <tr>\n",
       "      <th>RMSE</th>\n",
       "      <td>2.365029e-02</td>\n",
       "      <td>0.104040</td>\n",
       "    </tr>\n",
       "    <tr>\n",
       "      <th>MBE</th>\n",
       "      <td>-2.642513e-20</td>\n",
       "      <td>0.000061</td>\n",
       "    </tr>\n",
       "    <tr>\n",
       "      <th>RSQ</th>\n",
       "      <td>9.938871e-01</td>\n",
       "      <td>0.881778</td>\n",
       "    </tr>\n",
       "  </tbody>\n",
       "</table>\n",
       "</div>"
      ],
      "text/plain": [
       "      extra_trees_train  extra_trees_test\n",
       "RMSE       2.365029e-02          0.104040\n",
       "MBE       -2.642513e-20          0.000061\n",
       "RSQ        9.938871e-01          0.881778"
      ]
     },
     "metadata": {},
     "output_type": "display_data"
    },
    {
     "name": "stdout",
     "output_type": "stream",
     "text": [
      "==========================================\n",
      "Feature Importances: UAVSAR No Vegetation:\n",
      "==========================================\n"
     ]
    },
    {
     "data": {
      "text/html": [
       "<div>\n",
       "<style scoped>\n",
       "    .dataframe tbody tr th:only-of-type {\n",
       "        vertical-align: middle;\n",
       "    }\n",
       "\n",
       "    .dataframe tbody tr th {\n",
       "        vertical-align: top;\n",
       "    }\n",
       "\n",
       "    .dataframe thead th {\n",
       "        text-align: right;\n",
       "    }\n",
       "</style>\n",
       "<table border=\"1\" class=\"dataframe\">\n",
       "  <thead>\n",
       "    <tr style=\"text-align: right;\">\n",
       "      <th></th>\n",
       "      <th>feature</th>\n",
       "      <th>importance</th>\n",
       "    </tr>\n",
       "  </thead>\n",
       "  <tbody>\n",
       "    <tr>\n",
       "      <th>2</th>\n",
       "      <td>wrapped_phase</td>\n",
       "      <td>0.255702</td>\n",
       "    </tr>\n",
       "    <tr>\n",
       "      <th>3</th>\n",
       "      <td>elevation</td>\n",
       "      <td>0.235061</td>\n",
       "    </tr>\n",
       "    <tr>\n",
       "      <th>5</th>\n",
       "      <td>unwrapped_phase</td>\n",
       "      <td>0.227247</td>\n",
       "    </tr>\n",
       "    <tr>\n",
       "      <th>4</th>\n",
       "      <td>incidence_angle</td>\n",
       "      <td>0.110014</td>\n",
       "    </tr>\n",
       "    <tr>\n",
       "      <th>1</th>\n",
       "      <td>amplitude</td>\n",
       "      <td>0.096656</td>\n",
       "    </tr>\n",
       "    <tr>\n",
       "      <th>0</th>\n",
       "      <td>coherence</td>\n",
       "      <td>0.075319</td>\n",
       "    </tr>\n",
       "  </tbody>\n",
       "</table>\n",
       "</div>"
      ],
      "text/plain": [
       "           feature  importance\n",
       "2    wrapped_phase    0.255702\n",
       "3        elevation    0.235061\n",
       "5  unwrapped_phase    0.227247\n",
       "4  incidence_angle    0.110014\n",
       "1        amplitude    0.096656\n",
       "0        coherence    0.075319"
      ]
     },
     "metadata": {},
     "output_type": "display_data"
    },
    {
     "name": "stdout",
     "output_type": "stream",
     "text": [
      "========================================\n",
      "Storing Results: UAVSAR No Vegetation...\n",
      "========================================\n",
      "Done!\n"
     ]
    }
   ],
   "source": [
    "insar_no_vegetation=ModelFitting(\n",
    "    var=UAVSAR_FEATURES,\n",
    "    split=no_vegetation_splits,\n",
    "    model_name='extra_trees',\n",
    "    n_estimators=150,\n",
    ")\n",
    "\n",
    "# fit model\n",
    "insar_no_vegetation.fit_model()\n",
    "\n",
    "# make predictions\n",
    "predictions_insar_no_vegetation=insar_no_vegetation.make_predictions()\n",
    "\n",
    "# evaluate model\n",
    "print(\"=======================================\")\n",
    "print(\"Model Evaluation: UAVSAR No Vegetation:\")\n",
    "print(\"=======================================\")\n",
    "res=insar_no_vegetation.evaluate_model()\n",
    "\n",
    "# get feature importances\n",
    "print(\"==========================================\")\n",
    "print(\"Feature Importances: UAVSAR No Vegetation:\")\n",
    "print(\"==========================================\")\n",
    "\n",
    "feature_importances_insar_no_vegetation=insar_no_vegetation.get_importance()\n",
    "\n",
    "# Store results\n",
    "print(\"========================================\")\n",
    "print(\"Storing Results: UAVSAR No Vegetation...\")\n",
    "print(\"========================================\")\n",
    "\n",
    "res.to_csv('../results/ExtraTrees/NoVegetation/uavsar/evaluation.csv', index=False)\n",
    "feature_importances_insar_no_vegetation.to_csv('../results/ExtraTrees/NoVegetation/uavsar/feature_importances.csv', index=False)\n",
    "predictions_insar_no_vegetation['y_pred_train'].to_csv('../results/ExtraTrees/NoVegetation/uavsar/train_predictions.csv', index=False)\n",
    "predictions_insar_no_vegetation['y_pred_test'].to_csv('../results/ExtraTrees/NoVegetation/uavsar/test_predictions.csv', index=False)\n",
    "\n",
    "print(\"Done!\")"
   ]
  },
  {
   "cell_type": "markdown",
   "metadata": {},
   "source": [
    "## The End!"
   ]
  }
 ],
 "metadata": {
  "kernelspec": {
   "display_name": "base",
   "language": "python",
   "name": "python3"
  },
  "language_info": {
   "codemirror_mode": {
    "name": "ipython",
    "version": 3
   },
   "file_extension": ".py",
   "mimetype": "text/x-python",
   "name": "python",
   "nbconvert_exporter": "python",
   "pygments_lexer": "ipython3",
   "version": "3.11.5"
  },
  "orig_nbformat": 4
 },
 "nbformat": 4,
 "nbformat_minor": 2
}
