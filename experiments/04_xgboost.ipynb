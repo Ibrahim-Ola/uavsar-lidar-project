{
 "cells": [
  {
   "cell_type": "markdown",
   "metadata": {},
   "source": [
    "## Setup\n",
    "\n",
    "Load libraries"
   ]
  },
  {
   "cell_type": "code",
   "execution_count": 1,
   "metadata": {},
   "outputs": [],
   "source": [
    "import sys\n",
    "\n",
    "sys.path.append('..')"
   ]
  },
  {
   "cell_type": "code",
   "execution_count": 2,
   "metadata": {},
   "outputs": [],
   "source": [
    "import os\n",
    "import pickle\n",
    "\n",
    "from utils.model_fitting_utils import ModelFitting\n",
    "from utils.features import BASELINE_FEATURES, UAVSAR_FEATURES, UAVSAR_AND_VEGETATION_HEIGHT_FEATURES"
   ]
  },
  {
   "cell_type": "markdown",
   "metadata": {},
   "source": [
    "## Load Data"
   ]
  },
  {
   "cell_type": "code",
   "execution_count": 3,
   "metadata": {},
   "outputs": [],
   "source": [
    "with open('../data/full_splits.pkl', 'rb') as f:\n",
    "    full_splits = pickle.load(f)\n",
    "\n",
    "\n",
    "with open('../data/vegetation_splits.pkl', 'rb') as f:\n",
    "    vegetation_splits = pickle.load(f)\n",
    "\n",
    "\n",
    "with open('../data/no_vegetation_splits.pkl', 'rb') as f:\n",
    "    no_vegetation_splits = pickle.load(f)"
   ]
  },
  {
   "cell_type": "markdown",
   "metadata": {},
   "source": [
    "* Create folders to store results"
   ]
  },
  {
   "cell_type": "code",
   "execution_count": 4,
   "metadata": {},
   "outputs": [],
   "source": [
    "os.makedirs('../results', exist_ok=True)\n",
    "os.makedirs('../results/XGBoost', exist_ok=True)\n",
    "\n",
    "os.makedirs('../results/XGBoost/AllCombined', exist_ok=True)\n",
    "os.makedirs('../results/XGBoost/AllCombined/all', exist_ok=True)\n",
    "os.makedirs('../results/XGBoost/AllCombined/baseline', exist_ok=True)\n",
    "os.makedirs('../results/XGBoost/AllCombined/uavsar', exist_ok=True)\n",
    "\n",
    "os.makedirs('../results/XGBoost/NoVegetation', exist_ok=True)\n",
    "os.makedirs('../results/XGBoost/NoVegetation/all', exist_ok=True)\n",
    "os.makedirs('../results/XGBoost/NoVegetation/baseline', exist_ok=True)\n",
    "os.makedirs('../results/XGBoost/NoVegetation/uavsar', exist_ok=True)\n",
    "\n",
    "os.makedirs('../results/XGBoost/Vegetation', exist_ok=True)\n",
    "os.makedirs('../results/XGBoost/Vegetation/all', exist_ok=True)\n",
    "os.makedirs('../results/XGBoost/Vegetation/baseline', exist_ok=True)\n",
    "os.makedirs('../results/XGBoost/Vegetation/uavsar', exist_ok=True)"
   ]
  },
  {
   "cell_type": "markdown",
   "metadata": {},
   "source": [
    "## Full Dataset\n",
    "\n",
    "* Baseline"
   ]
  },
  {
   "cell_type": "code",
   "execution_count": 5,
   "metadata": {},
   "outputs": [
    {
     "name": "stdout",
     "output_type": "stream",
     "text": [
      "================================\n",
      "Model Evaluation: Baseline Full:\n",
      "================================\n"
     ]
    },
    {
     "data": {
      "text/html": [
       "<div>\n",
       "<style scoped>\n",
       "    .dataframe tbody tr th:only-of-type {\n",
       "        vertical-align: middle;\n",
       "    }\n",
       "\n",
       "    .dataframe tbody tr th {\n",
       "        vertical-align: top;\n",
       "    }\n",
       "\n",
       "    .dataframe thead th {\n",
       "        text-align: right;\n",
       "    }\n",
       "</style>\n",
       "<table border=\"1\" class=\"dataframe\">\n",
       "  <thead>\n",
       "    <tr style=\"text-align: right;\">\n",
       "      <th></th>\n",
       "      <th>xgboost_train</th>\n",
       "      <th>xgboost_test</th>\n",
       "    </tr>\n",
       "  </thead>\n",
       "  <tbody>\n",
       "    <tr>\n",
       "      <th>RMSE</th>\n",
       "      <td>2.605845e-01</td>\n",
       "      <td>0.260614</td>\n",
       "    </tr>\n",
       "    <tr>\n",
       "      <th>MBE</th>\n",
       "      <td>3.143228e-07</td>\n",
       "      <td>0.000392</td>\n",
       "    </tr>\n",
       "    <tr>\n",
       "      <th>RSQ</th>\n",
       "      <td>2.097762e-01</td>\n",
       "      <td>0.208706</td>\n",
       "    </tr>\n",
       "  </tbody>\n",
       "</table>\n",
       "</div>"
      ],
      "text/plain": [
       "      xgboost_train  xgboost_test\n",
       "RMSE   2.605845e-01      0.260614\n",
       "MBE    3.143228e-07      0.000392\n",
       "RSQ    2.097762e-01      0.208706"
      ]
     },
     "metadata": {},
     "output_type": "display_data"
    },
    {
     "name": "stdout",
     "output_type": "stream",
     "text": [
      "===================================\n",
      "Feature Importances: Baseline Full:\n",
      "===================================\n"
     ]
    },
    {
     "data": {
      "text/html": [
       "<div>\n",
       "<style scoped>\n",
       "    .dataframe tbody tr th:only-of-type {\n",
       "        vertical-align: middle;\n",
       "    }\n",
       "\n",
       "    .dataframe tbody tr th {\n",
       "        vertical-align: top;\n",
       "    }\n",
       "\n",
       "    .dataframe thead th {\n",
       "        text-align: right;\n",
       "    }\n",
       "</style>\n",
       "<table border=\"1\" class=\"dataframe\">\n",
       "  <thead>\n",
       "    <tr style=\"text-align: right;\">\n",
       "      <th></th>\n",
       "      <th>feature</th>\n",
       "      <th>importance</th>\n",
       "    </tr>\n",
       "  </thead>\n",
       "  <tbody>\n",
       "    <tr>\n",
       "      <th>0</th>\n",
       "      <td>elevation</td>\n",
       "      <td>2.053287</td>\n",
       "    </tr>\n",
       "  </tbody>\n",
       "</table>\n",
       "</div>"
      ],
      "text/plain": [
       "     feature  importance\n",
       "0  elevation    2.053287"
      ]
     },
     "metadata": {},
     "output_type": "display_data"
    },
    {
     "name": "stdout",
     "output_type": "stream",
     "text": [
      "=================================\n",
      "Storing Results: Baseline Full...\n",
      "=================================\n",
      "Done!\n"
     ]
    }
   ],
   "source": [
    "baseline_full=ModelFitting(\n",
    "    var=BASELINE_FEATURES,\n",
    "    split=full_splits,\n",
    "    model_name='xgboost',\n",
    ")\n",
    "\n",
    "# fit model\n",
    "baseline_full.fit_model()\n",
    "\n",
    "# make predictions\n",
    "predictions_baseline_full=baseline_full.make_predictions()\n",
    "\n",
    "# evaluate model\n",
    "print(\"================================\")\n",
    "print(\"Model Evaluation: Baseline Full:\")\n",
    "print(\"================================\")\n",
    "res=baseline_full.evaluate_model()\n",
    "\n",
    "# get feature importances\n",
    "print(\"===================================\")\n",
    "print(\"Feature Importances: Baseline Full:\")\n",
    "print(\"===================================\")\n",
    "feature_importances_baseline_full=baseline_full.get_importance()\n",
    "\n",
    "# Store results\n",
    "print(\"=================================\")\n",
    "print(\"Storing Results: Baseline Full...\")\n",
    "print(\"=================================\")\n",
    "\n",
    "\n",
    "res.to_csv('../results/XGBoost/AllCombined/baseline/evaluation.csv', index=False)\n",
    "feature_importances_baseline_full.to_csv('../results/XGBoost/AllCombined/baseline/feature_importances.csv', index=False)\n",
    "predictions_baseline_full['y_pred_train'].to_csv('../results/XGBoost/AllCombined/baseline/train_predictions.csv', index=False)\n",
    "predictions_baseline_full['y_pred_test'].to_csv('../results/XGBoost/AllCombined/baseline/test_predictions.csv', index=False)\n",
    "\n",
    "print(\"Done!\")"
   ]
  },
  {
   "cell_type": "markdown",
   "metadata": {},
   "source": [
    "* InSAR Parameters"
   ]
  },
  {
   "cell_type": "code",
   "execution_count": 6,
   "metadata": {},
   "outputs": [
    {
     "name": "stdout",
     "output_type": "stream",
     "text": [
      "==============================\n",
      "Model Evaluation: UAVSAR Full:\n",
      "==============================\n"
     ]
    },
    {
     "data": {
      "text/html": [
       "<div>\n",
       "<style scoped>\n",
       "    .dataframe tbody tr th:only-of-type {\n",
       "        vertical-align: middle;\n",
       "    }\n",
       "\n",
       "    .dataframe tbody tr th {\n",
       "        vertical-align: top;\n",
       "    }\n",
       "\n",
       "    .dataframe thead th {\n",
       "        text-align: right;\n",
       "    }\n",
       "</style>\n",
       "<table border=\"1\" class=\"dataframe\">\n",
       "  <thead>\n",
       "    <tr style=\"text-align: right;\">\n",
       "      <th></th>\n",
       "      <th>xgboost_train</th>\n",
       "      <th>xgboost_test</th>\n",
       "    </tr>\n",
       "  </thead>\n",
       "  <tbody>\n",
       "    <tr>\n",
       "      <th>RMSE</th>\n",
       "      <td>2.826029e-02</td>\n",
       "      <td>0.104045</td>\n",
       "    </tr>\n",
       "    <tr>\n",
       "      <th>MBE</th>\n",
       "      <td>-5.426917e-08</td>\n",
       "      <td>-0.000009</td>\n",
       "    </tr>\n",
       "    <tr>\n",
       "      <th>RSQ</th>\n",
       "      <td>9.907059e-01</td>\n",
       "      <td>0.873880</td>\n",
       "    </tr>\n",
       "  </tbody>\n",
       "</table>\n",
       "</div>"
      ],
      "text/plain": [
       "      xgboost_train  xgboost_test\n",
       "RMSE   2.826029e-02      0.104045\n",
       "MBE   -5.426917e-08     -0.000009\n",
       "RSQ    9.907059e-01      0.873880"
      ]
     },
     "metadata": {},
     "output_type": "display_data"
    },
    {
     "name": "stdout",
     "output_type": "stream",
     "text": [
      "=================================\n",
      "Feature Importances: UAVSAR Full:\n",
      "=================================\n"
     ]
    },
    {
     "data": {
      "text/html": [
       "<div>\n",
       "<style scoped>\n",
       "    .dataframe tbody tr th:only-of-type {\n",
       "        vertical-align: middle;\n",
       "    }\n",
       "\n",
       "    .dataframe tbody tr th {\n",
       "        vertical-align: top;\n",
       "    }\n",
       "\n",
       "    .dataframe thead th {\n",
       "        text-align: right;\n",
       "    }\n",
       "</style>\n",
       "<table border=\"1\" class=\"dataframe\">\n",
       "  <thead>\n",
       "    <tr style=\"text-align: right;\">\n",
       "      <th></th>\n",
       "      <th>feature</th>\n",
       "      <th>importance</th>\n",
       "    </tr>\n",
       "  </thead>\n",
       "  <tbody>\n",
       "    <tr>\n",
       "      <th>5</th>\n",
       "      <td>unwrapped_phase</td>\n",
       "      <td>0.063225</td>\n",
       "    </tr>\n",
       "    <tr>\n",
       "      <th>3</th>\n",
       "      <td>elevation</td>\n",
       "      <td>0.051803</td>\n",
       "    </tr>\n",
       "    <tr>\n",
       "      <th>1</th>\n",
       "      <td>amplitude</td>\n",
       "      <td>0.031583</td>\n",
       "    </tr>\n",
       "    <tr>\n",
       "      <th>4</th>\n",
       "      <td>incidence_angle</td>\n",
       "      <td>0.024497</td>\n",
       "    </tr>\n",
       "    <tr>\n",
       "      <th>0</th>\n",
       "      <td>coherence</td>\n",
       "      <td>0.014439</td>\n",
       "    </tr>\n",
       "    <tr>\n",
       "      <th>2</th>\n",
       "      <td>wrapped_phase</td>\n",
       "      <td>0.012653</td>\n",
       "    </tr>\n",
       "  </tbody>\n",
       "</table>\n",
       "</div>"
      ],
      "text/plain": [
       "           feature  importance\n",
       "5  unwrapped_phase    0.063225\n",
       "3        elevation    0.051803\n",
       "1        amplitude    0.031583\n",
       "4  incidence_angle    0.024497\n",
       "0        coherence    0.014439\n",
       "2    wrapped_phase    0.012653"
      ]
     },
     "metadata": {},
     "output_type": "display_data"
    },
    {
     "name": "stdout",
     "output_type": "stream",
     "text": [
      "===============================\n",
      "Storing Results: UAVSAR Full...\n",
      "===============================\n",
      "Done!\n"
     ]
    }
   ],
   "source": [
    "insar_full=ModelFitting(\n",
    "    var=UAVSAR_FEATURES,\n",
    "    split=full_splits,\n",
    "    model_name='xgboost',\n",
    ")\n",
    "\n",
    "# fit model\n",
    "insar_full.fit_model()\n",
    "\n",
    "# make predictions\n",
    "predictions_insar_full=insar_full.make_predictions()\n",
    "\n",
    "# evaluate model\n",
    "print(\"==============================\")\n",
    "print(\"Model Evaluation: UAVSAR Full:\")\n",
    "print(\"==============================\")\n",
    "res=insar_full.evaluate_model()\n",
    "\n",
    "# get feature importances\n",
    "print(\"=================================\")\n",
    "print(\"Feature Importances: UAVSAR Full:\")\n",
    "print(\"=================================\")\n",
    "feature_importances_insar_full=insar_full.get_importance()\n",
    "\n",
    "# Store results\n",
    "print(\"===============================\")\n",
    "print(\"Storing Results: UAVSAR Full...\")\n",
    "print(\"===============================\")\n",
    "\n",
    "res.to_csv('../results/XGBoost/AllCombined/uavsar/evaluation.csv', index=False)\n",
    "feature_importances_insar_full.to_csv('../results/XGBoost/AllCombined/uavsar/feature_importances.csv', index=False)\n",
    "predictions_insar_full['y_pred_train'].to_csv('../results/XGBoost/AllCombined/uavsar/train_predictions.csv', index=False)\n",
    "predictions_insar_full['y_pred_test'].to_csv('../results/XGBoost/AllCombined/uavsar/test_predictions.csv', index=False)\n",
    "\n",
    "print(\"Done!\")"
   ]
  },
  {
   "cell_type": "markdown",
   "metadata": {},
   "source": [
    "* InSAR + Vegetation Height"
   ]
  },
  {
   "cell_type": "code",
   "execution_count": 7,
   "metadata": {},
   "outputs": [
    {
     "name": "stdout",
     "output_type": "stream",
     "text": [
      "===============================\n",
      "Model Evaluation: All Features:\n",
      "===============================\n"
     ]
    },
    {
     "data": {
      "text/html": [
       "<div>\n",
       "<style scoped>\n",
       "    .dataframe tbody tr th:only-of-type {\n",
       "        vertical-align: middle;\n",
       "    }\n",
       "\n",
       "    .dataframe tbody tr th {\n",
       "        vertical-align: top;\n",
       "    }\n",
       "\n",
       "    .dataframe thead th {\n",
       "        text-align: right;\n",
       "    }\n",
       "</style>\n",
       "<table border=\"1\" class=\"dataframe\">\n",
       "  <thead>\n",
       "    <tr style=\"text-align: right;\">\n",
       "      <th></th>\n",
       "      <th>xgboost_train</th>\n",
       "      <th>xgboost_test</th>\n",
       "    </tr>\n",
       "  </thead>\n",
       "  <tbody>\n",
       "    <tr>\n",
       "      <th>RMSE</th>\n",
       "      <td>1.708568e-02</td>\n",
       "      <td>0.098777</td>\n",
       "    </tr>\n",
       "    <tr>\n",
       "      <th>MBE</th>\n",
       "      <td>-3.032342e-08</td>\n",
       "      <td>0.000078</td>\n",
       "    </tr>\n",
       "    <tr>\n",
       "      <th>RSQ</th>\n",
       "      <td>9.966028e-01</td>\n",
       "      <td>0.886328</td>\n",
       "    </tr>\n",
       "  </tbody>\n",
       "</table>\n",
       "</div>"
      ],
      "text/plain": [
       "      xgboost_train  xgboost_test\n",
       "RMSE   1.708568e-02      0.098777\n",
       "MBE   -3.032342e-08      0.000078\n",
       "RSQ    9.966028e-01      0.886328"
      ]
     },
     "metadata": {},
     "output_type": "display_data"
    },
    {
     "name": "stdout",
     "output_type": "stream",
     "text": [
      "==================================\n",
      "Feature Importances: All Features:\n",
      "==================================\n"
     ]
    },
    {
     "data": {
      "text/html": [
       "<div>\n",
       "<style scoped>\n",
       "    .dataframe tbody tr th:only-of-type {\n",
       "        vertical-align: middle;\n",
       "    }\n",
       "\n",
       "    .dataframe tbody tr th {\n",
       "        vertical-align: top;\n",
       "    }\n",
       "\n",
       "    .dataframe thead th {\n",
       "        text-align: right;\n",
       "    }\n",
       "</style>\n",
       "<table border=\"1\" class=\"dataframe\">\n",
       "  <thead>\n",
       "    <tr style=\"text-align: right;\">\n",
       "      <th></th>\n",
       "      <th>feature</th>\n",
       "      <th>importance</th>\n",
       "    </tr>\n",
       "  </thead>\n",
       "  <tbody>\n",
       "    <tr>\n",
       "      <th>6</th>\n",
       "      <td>unwrapped_phase</td>\n",
       "      <td>0.071002</td>\n",
       "    </tr>\n",
       "    <tr>\n",
       "      <th>4</th>\n",
       "      <td>elevation</td>\n",
       "      <td>0.058629</td>\n",
       "    </tr>\n",
       "    <tr>\n",
       "      <th>1</th>\n",
       "      <td>amplitude</td>\n",
       "      <td>0.031738</td>\n",
       "    </tr>\n",
       "    <tr>\n",
       "      <th>5</th>\n",
       "      <td>incidence_angle</td>\n",
       "      <td>0.027456</td>\n",
       "    </tr>\n",
       "    <tr>\n",
       "      <th>2</th>\n",
       "      <td>vegetation_ht</td>\n",
       "      <td>0.020036</td>\n",
       "    </tr>\n",
       "    <tr>\n",
       "      <th>0</th>\n",
       "      <td>coherence</td>\n",
       "      <td>0.012657</td>\n",
       "    </tr>\n",
       "    <tr>\n",
       "      <th>3</th>\n",
       "      <td>wrapped_phase</td>\n",
       "      <td>0.011849</td>\n",
       "    </tr>\n",
       "  </tbody>\n",
       "</table>\n",
       "</div>"
      ],
      "text/plain": [
       "           feature  importance\n",
       "6  unwrapped_phase    0.071002\n",
       "4        elevation    0.058629\n",
       "1        amplitude    0.031738\n",
       "5  incidence_angle    0.027456\n",
       "2    vegetation_ht    0.020036\n",
       "0        coherence    0.012657\n",
       "3    wrapped_phase    0.011849"
      ]
     },
     "metadata": {},
     "output_type": "display_data"
    },
    {
     "name": "stdout",
     "output_type": "stream",
     "text": [
      "================================\n",
      "Storing Results: All Features...\n",
      "================================\n",
      "Done!\n"
     ]
    }
   ],
   "source": [
    "all_full=ModelFitting(\n",
    "    var=UAVSAR_AND_VEGETATION_HEIGHT_FEATURES,\n",
    "    split=full_splits,\n",
    "    model_name='xgboost',\n",
    ")\n",
    "\n",
    "# fit model\n",
    "all_full.fit_model()\n",
    "\n",
    "# make predictions\n",
    "predictions_all_full=all_full.make_predictions()\n",
    "\n",
    "# evaluate model\n",
    "print(\"===============================\")\n",
    "print(\"Model Evaluation: All Features:\")\n",
    "print(\"===============================\")\n",
    "res=all_full.evaluate_model()\n",
    "\n",
    "# get feature importances\n",
    "print(\"==================================\")\n",
    "print(\"Feature Importances: All Features:\")\n",
    "print(\"==================================\")\n",
    "feature_importances_all_full=all_full.get_importance()\n",
    "\n",
    "# Store results\n",
    "print(\"================================\")\n",
    "print(\"Storing Results: All Features...\")\n",
    "print(\"================================\")\n",
    "\n",
    "res.to_csv('../results/XGBoost/AllCombined/all/evaluation.csv', index=False)\n",
    "feature_importances_all_full.to_csv('../results/XGBoost/AllCombined/all/feature_importances.csv', index=False)\n",
    "predictions_all_full['y_pred_train'].to_csv('../results/XGBoost/AllCombined/all/train_predictions.csv', index=False)\n",
    "predictions_all_full['y_pred_test'].to_csv('../results/XGBoost/AllCombined/all/test_predictions.csv', index=False)\n",
    "\n",
    "print(\"Done!\")"
   ]
  },
  {
   "cell_type": "markdown",
   "metadata": {},
   "source": [
    "## Vegetation\n",
    "\n",
    "* Baseline"
   ]
  },
  {
   "cell_type": "code",
   "execution_count": 8,
   "metadata": {},
   "outputs": [
    {
     "name": "stdout",
     "output_type": "stream",
     "text": [
      "======================================\n",
      "Model Evaluation: Baseline Vegetation:\n",
      "======================================\n"
     ]
    },
    {
     "data": {
      "text/html": [
       "<div>\n",
       "<style scoped>\n",
       "    .dataframe tbody tr th:only-of-type {\n",
       "        vertical-align: middle;\n",
       "    }\n",
       "\n",
       "    .dataframe tbody tr th {\n",
       "        vertical-align: top;\n",
       "    }\n",
       "\n",
       "    .dataframe thead th {\n",
       "        text-align: right;\n",
       "    }\n",
       "</style>\n",
       "<table border=\"1\" class=\"dataframe\">\n",
       "  <thead>\n",
       "    <tr style=\"text-align: right;\">\n",
       "      <th></th>\n",
       "      <th>xgboost_train</th>\n",
       "      <th>xgboost_test</th>\n",
       "    </tr>\n",
       "  </thead>\n",
       "  <tbody>\n",
       "    <tr>\n",
       "      <th>RMSE</th>\n",
       "      <td>0.240889</td>\n",
       "      <td>0.242087</td>\n",
       "    </tr>\n",
       "    <tr>\n",
       "      <th>MBE</th>\n",
       "      <td>0.000016</td>\n",
       "      <td>0.000148</td>\n",
       "    </tr>\n",
       "    <tr>\n",
       "      <th>RSQ</th>\n",
       "      <td>0.242071</td>\n",
       "      <td>0.239312</td>\n",
       "    </tr>\n",
       "  </tbody>\n",
       "</table>\n",
       "</div>"
      ],
      "text/plain": [
       "      xgboost_train  xgboost_test\n",
       "RMSE       0.240889      0.242087\n",
       "MBE        0.000016      0.000148\n",
       "RSQ        0.242071      0.239312"
      ]
     },
     "metadata": {},
     "output_type": "display_data"
    },
    {
     "name": "stdout",
     "output_type": "stream",
     "text": [
      "=========================================\n",
      "Feature Importances: Baseline Vegetation:\n",
      "=========================================\n"
     ]
    },
    {
     "data": {
      "text/html": [
       "<div>\n",
       "<style scoped>\n",
       "    .dataframe tbody tr th:only-of-type {\n",
       "        vertical-align: middle;\n",
       "    }\n",
       "\n",
       "    .dataframe tbody tr th {\n",
       "        vertical-align: top;\n",
       "    }\n",
       "\n",
       "    .dataframe thead th {\n",
       "        text-align: right;\n",
       "    }\n",
       "</style>\n",
       "<table border=\"1\" class=\"dataframe\">\n",
       "  <thead>\n",
       "    <tr style=\"text-align: right;\">\n",
       "      <th></th>\n",
       "      <th>feature</th>\n",
       "      <th>importance</th>\n",
       "    </tr>\n",
       "  </thead>\n",
       "  <tbody>\n",
       "    <tr>\n",
       "      <th>0</th>\n",
       "      <td>elevation</td>\n",
       "      <td>0.90054</td>\n",
       "    </tr>\n",
       "  </tbody>\n",
       "</table>\n",
       "</div>"
      ],
      "text/plain": [
       "     feature  importance\n",
       "0  elevation     0.90054"
      ]
     },
     "metadata": {},
     "output_type": "display_data"
    },
    {
     "name": "stdout",
     "output_type": "stream",
     "text": [
      "=======================================\n",
      "Storing Results: Baseline Vegetation...\n",
      "=======================================\n",
      "Done!\n"
     ]
    }
   ],
   "source": [
    "baseline_vegetation=ModelFitting(\n",
    "    var=BASELINE_FEATURES,\n",
    "    split=vegetation_splits,\n",
    "    model_name='xgboost',\n",
    ")\n",
    "\n",
    "# fit model\n",
    "baseline_vegetation.fit_model()\n",
    "\n",
    "# make predictions\n",
    "predictions_baseline_vegetation=baseline_vegetation.make_predictions()\n",
    "\n",
    "# evaluate model\n",
    "print(\"======================================\")\n",
    "print(\"Model Evaluation: Baseline Vegetation:\")\n",
    "print(\"======================================\")\n",
    "res=baseline_vegetation.evaluate_model()\n",
    "\n",
    "# get feature importances\n",
    "print(\"=========================================\")\n",
    "print(\"Feature Importances: Baseline Vegetation:\")\n",
    "print(\"=========================================\")\n",
    "feature_importances_baseline_vegetation=baseline_vegetation.get_importance()\n",
    "\n",
    "# Store results\n",
    "print(\"=======================================\")\n",
    "print(\"Storing Results: Baseline Vegetation...\")\n",
    "print(\"=======================================\")\n",
    "\n",
    "res.to_csv('../results/XGBoost/Vegetation/baseline/evaluation.csv', index=False)\n",
    "feature_importances_baseline_vegetation.to_csv('../results/XGBoost/Vegetation/baseline/feature_importances.csv', index=False)\n",
    "predictions_baseline_vegetation['y_pred_train'].to_csv('../results/XGBoost/Vegetation/baseline/train_predictions.csv', index=False)\n",
    "predictions_baseline_vegetation['y_pred_test'].to_csv('../results/XGBoost/Vegetation/baseline/test_predictions.csv', index=False)\n",
    "\n",
    "print(\"Done!\")"
   ]
  },
  {
   "cell_type": "markdown",
   "metadata": {},
   "source": [
    "* InSAR Parameters"
   ]
  },
  {
   "cell_type": "code",
   "execution_count": 9,
   "metadata": {},
   "outputs": [
    {
     "name": "stdout",
     "output_type": "stream",
     "text": [
      "====================================\n",
      "Model Evaluation: UAVSAR Vegetation:\n",
      "====================================\n"
     ]
    },
    {
     "data": {
      "text/html": [
       "<div>\n",
       "<style scoped>\n",
       "    .dataframe tbody tr th:only-of-type {\n",
       "        vertical-align: middle;\n",
       "    }\n",
       "\n",
       "    .dataframe tbody tr th {\n",
       "        vertical-align: top;\n",
       "    }\n",
       "\n",
       "    .dataframe thead th {\n",
       "        text-align: right;\n",
       "    }\n",
       "</style>\n",
       "<table border=\"1\" class=\"dataframe\">\n",
       "  <thead>\n",
       "    <tr style=\"text-align: right;\">\n",
       "      <th></th>\n",
       "      <th>xgboost_train</th>\n",
       "      <th>xgboost_test</th>\n",
       "    </tr>\n",
       "  </thead>\n",
       "  <tbody>\n",
       "    <tr>\n",
       "      <th>RMSE</th>\n",
       "      <td>3.173057e-02</td>\n",
       "      <td>0.109778</td>\n",
       "    </tr>\n",
       "    <tr>\n",
       "      <th>MBE</th>\n",
       "      <td>-4.425364e-08</td>\n",
       "      <td>-0.000157</td>\n",
       "    </tr>\n",
       "    <tr>\n",
       "      <th>RSQ</th>\n",
       "      <td>9.868493e-01</td>\n",
       "      <td>0.843581</td>\n",
       "    </tr>\n",
       "  </tbody>\n",
       "</table>\n",
       "</div>"
      ],
      "text/plain": [
       "      xgboost_train  xgboost_test\n",
       "RMSE   3.173057e-02      0.109778\n",
       "MBE   -4.425364e-08     -0.000157\n",
       "RSQ    9.868493e-01      0.843581"
      ]
     },
     "metadata": {},
     "output_type": "display_data"
    },
    {
     "name": "stdout",
     "output_type": "stream",
     "text": [
      "=======================================\n",
      "Feature Importances: UAVSAR Vegetation:\n",
      "=======================================\n"
     ]
    },
    {
     "data": {
      "text/html": [
       "<div>\n",
       "<style scoped>\n",
       "    .dataframe tbody tr th:only-of-type {\n",
       "        vertical-align: middle;\n",
       "    }\n",
       "\n",
       "    .dataframe tbody tr th {\n",
       "        vertical-align: top;\n",
       "    }\n",
       "\n",
       "    .dataframe thead th {\n",
       "        text-align: right;\n",
       "    }\n",
       "</style>\n",
       "<table border=\"1\" class=\"dataframe\">\n",
       "  <thead>\n",
       "    <tr style=\"text-align: right;\">\n",
       "      <th></th>\n",
       "      <th>feature</th>\n",
       "      <th>importance</th>\n",
       "    </tr>\n",
       "  </thead>\n",
       "  <tbody>\n",
       "    <tr>\n",
       "      <th>3</th>\n",
       "      <td>elevation</td>\n",
       "      <td>0.070062</td>\n",
       "    </tr>\n",
       "    <tr>\n",
       "      <th>4</th>\n",
       "      <td>incidence_angle</td>\n",
       "      <td>0.035637</td>\n",
       "    </tr>\n",
       "    <tr>\n",
       "      <th>5</th>\n",
       "      <td>unwrapped_phase</td>\n",
       "      <td>0.026452</td>\n",
       "    </tr>\n",
       "    <tr>\n",
       "      <th>1</th>\n",
       "      <td>amplitude</td>\n",
       "      <td>0.015896</td>\n",
       "    </tr>\n",
       "    <tr>\n",
       "      <th>0</th>\n",
       "      <td>coherence</td>\n",
       "      <td>0.013460</td>\n",
       "    </tr>\n",
       "    <tr>\n",
       "      <th>2</th>\n",
       "      <td>wrapped_phase</td>\n",
       "      <td>0.012315</td>\n",
       "    </tr>\n",
       "  </tbody>\n",
       "</table>\n",
       "</div>"
      ],
      "text/plain": [
       "           feature  importance\n",
       "3        elevation    0.070062\n",
       "4  incidence_angle    0.035637\n",
       "5  unwrapped_phase    0.026452\n",
       "1        amplitude    0.015896\n",
       "0        coherence    0.013460\n",
       "2    wrapped_phase    0.012315"
      ]
     },
     "metadata": {},
     "output_type": "display_data"
    },
    {
     "name": "stdout",
     "output_type": "stream",
     "text": [
      "=====================================\n",
      "Storing Results: UAVSAR Vegetation...\n",
      "=====================================\n",
      "Done!\n"
     ]
    }
   ],
   "source": [
    "insar_vegetation=ModelFitting(\n",
    "    var=UAVSAR_FEATURES,\n",
    "    split=vegetation_splits,\n",
    "    model_name='xgboost',\n",
    ")\n",
    "\n",
    "# fit model\n",
    "insar_vegetation.fit_model()\n",
    "\n",
    "# make predictions\n",
    "predictions_insar_vegetation=insar_vegetation.make_predictions()\n",
    "\n",
    "# evaluate model\n",
    "print(\"====================================\")\n",
    "print(\"Model Evaluation: UAVSAR Vegetation:\")\n",
    "print(\"====================================\")\n",
    "res=insar_vegetation.evaluate_model()\n",
    "\n",
    "# get feature importances\n",
    "print(\"=======================================\")\n",
    "print(\"Feature Importances: UAVSAR Vegetation:\")\n",
    "print(\"=======================================\")\n",
    "feature_importances_insar_vegetation=insar_vegetation.get_importance()\n",
    "\n",
    "# Store results\n",
    "print(\"=====================================\")\n",
    "print(\"Storing Results: UAVSAR Vegetation...\")\n",
    "print(\"=====================================\")\n",
    "\n",
    "res.to_csv('../results/XGBoost/Vegetation/uavsar/evaluation.csv', index=False)\n",
    "feature_importances_insar_vegetation.to_csv('../results/XGBoost/Vegetation/uavsar/feature_importances.csv', index=False)\n",
    "predictions_insar_vegetation['y_pred_train'].to_csv('../results/XGBoost/Vegetation/uavsar/train_predictions.csv', index=False)\n",
    "predictions_insar_vegetation['y_pred_test'].to_csv('../results/XGBoost/Vegetation/uavsar/test_predictions.csv', index=False)\n",
    "\n",
    "print(\"Done!\")"
   ]
  },
  {
   "cell_type": "markdown",
   "metadata": {},
   "source": [
    "* InSAR + Vegetation Height"
   ]
  },
  {
   "cell_type": "code",
   "execution_count": 10,
   "metadata": {},
   "outputs": [
    {
     "name": "stdout",
     "output_type": "stream",
     "text": [
      "=================================\n",
      "Model Evaluation: All Vegetation:\n",
      "=================================\n"
     ]
    },
    {
     "data": {
      "text/html": [
       "<div>\n",
       "<style scoped>\n",
       "    .dataframe tbody tr th:only-of-type {\n",
       "        vertical-align: middle;\n",
       "    }\n",
       "\n",
       "    .dataframe tbody tr th {\n",
       "        vertical-align: top;\n",
       "    }\n",
       "\n",
       "    .dataframe thead th {\n",
       "        text-align: right;\n",
       "    }\n",
       "</style>\n",
       "<table border=\"1\" class=\"dataframe\">\n",
       "  <thead>\n",
       "    <tr style=\"text-align: right;\">\n",
       "      <th></th>\n",
       "      <th>xgboost_train</th>\n",
       "      <th>xgboost_test</th>\n",
       "    </tr>\n",
       "  </thead>\n",
       "  <tbody>\n",
       "    <tr>\n",
       "      <th>RMSE</th>\n",
       "      <td>1.239420e-02</td>\n",
       "      <td>0.104642</td>\n",
       "    </tr>\n",
       "    <tr>\n",
       "      <th>MBE</th>\n",
       "      <td>-2.072812e-08</td>\n",
       "      <td>0.000468</td>\n",
       "    </tr>\n",
       "    <tr>\n",
       "      <th>RSQ</th>\n",
       "      <td>9.979935e-01</td>\n",
       "      <td>0.857873</td>\n",
       "    </tr>\n",
       "  </tbody>\n",
       "</table>\n",
       "</div>"
      ],
      "text/plain": [
       "      xgboost_train  xgboost_test\n",
       "RMSE   1.239420e-02      0.104642\n",
       "MBE   -2.072812e-08      0.000468\n",
       "RSQ    9.979935e-01      0.857873"
      ]
     },
     "metadata": {},
     "output_type": "display_data"
    },
    {
     "name": "stdout",
     "output_type": "stream",
     "text": [
      "====================================\n",
      "Feature Importances: All Vegetation:\n",
      "====================================\n"
     ]
    },
    {
     "data": {
      "text/html": [
       "<div>\n",
       "<style scoped>\n",
       "    .dataframe tbody tr th:only-of-type {\n",
       "        vertical-align: middle;\n",
       "    }\n",
       "\n",
       "    .dataframe tbody tr th {\n",
       "        vertical-align: top;\n",
       "    }\n",
       "\n",
       "    .dataframe thead th {\n",
       "        text-align: right;\n",
       "    }\n",
       "</style>\n",
       "<table border=\"1\" class=\"dataframe\">\n",
       "  <thead>\n",
       "    <tr style=\"text-align: right;\">\n",
       "      <th></th>\n",
       "      <th>feature</th>\n",
       "      <th>importance</th>\n",
       "    </tr>\n",
       "  </thead>\n",
       "  <tbody>\n",
       "    <tr>\n",
       "      <th>4</th>\n",
       "      <td>elevation</td>\n",
       "      <td>0.089047</td>\n",
       "    </tr>\n",
       "    <tr>\n",
       "      <th>5</th>\n",
       "      <td>incidence_angle</td>\n",
       "      <td>0.047942</td>\n",
       "    </tr>\n",
       "    <tr>\n",
       "      <th>6</th>\n",
       "      <td>unwrapped_phase</td>\n",
       "      <td>0.021669</td>\n",
       "    </tr>\n",
       "    <tr>\n",
       "      <th>2</th>\n",
       "      <td>vegetation_ht</td>\n",
       "      <td>0.020416</td>\n",
       "    </tr>\n",
       "    <tr>\n",
       "      <th>1</th>\n",
       "      <td>amplitude</td>\n",
       "      <td>0.013173</td>\n",
       "    </tr>\n",
       "    <tr>\n",
       "      <th>0</th>\n",
       "      <td>coherence</td>\n",
       "      <td>0.010529</td>\n",
       "    </tr>\n",
       "    <tr>\n",
       "      <th>3</th>\n",
       "      <td>wrapped_phase</td>\n",
       "      <td>0.010255</td>\n",
       "    </tr>\n",
       "  </tbody>\n",
       "</table>\n",
       "</div>"
      ],
      "text/plain": [
       "           feature  importance\n",
       "4        elevation    0.089047\n",
       "5  incidence_angle    0.047942\n",
       "6  unwrapped_phase    0.021669\n",
       "2    vegetation_ht    0.020416\n",
       "1        amplitude    0.013173\n",
       "0        coherence    0.010529\n",
       "3    wrapped_phase    0.010255"
      ]
     },
     "metadata": {},
     "output_type": "display_data"
    },
    {
     "name": "stdout",
     "output_type": "stream",
     "text": [
      "==================================\n",
      "Storing Results: All Vegetation...\n",
      "==================================\n",
      "Done!\n"
     ]
    }
   ],
   "source": [
    "all_vegetation=ModelFitting(\n",
    "    var=UAVSAR_AND_VEGETATION_HEIGHT_FEATURES,\n",
    "    split=vegetation_splits,\n",
    "    model_name='xgboost',\n",
    ")\n",
    "\n",
    "# fit model\n",
    "all_vegetation.fit_model()\n",
    "\n",
    "# make predictions\n",
    "predictions_all_vegetation=all_vegetation.make_predictions()\n",
    "\n",
    "# evaluate model\n",
    "print(\"=================================\")\n",
    "print(\"Model Evaluation: All Vegetation:\")\n",
    "print(\"=================================\")\n",
    "res=all_vegetation.evaluate_model()\n",
    "\n",
    "# get feature importances\n",
    "print(\"====================================\")\n",
    "print(\"Feature Importances: All Vegetation:\")\n",
    "print(\"====================================\")\n",
    "feature_importances_all_vegetation=all_vegetation.get_importance()\n",
    "\n",
    "# Store results\n",
    "print(\"==================================\")\n",
    "print(\"Storing Results: All Vegetation...\")\n",
    "print(\"==================================\")\n",
    "\n",
    "res.to_csv('../results/XGBoost/Vegetation/all/evaluation.csv', index=False)\n",
    "feature_importances_all_vegetation.to_csv('../results/XGBoost/Vegetation/all/feature_importances.csv', index=False)\n",
    "predictions_all_vegetation['y_pred_train'].to_csv('../results/XGBoost/Vegetation/all/train_predictions.csv', index=False)\n",
    "predictions_all_vegetation['y_pred_test'].to_csv('../results/XGBoost/Vegetation/all/test_predictions.csv', index=False)\n",
    "\n",
    "print(\"Done!\")"
   ]
  },
  {
   "cell_type": "markdown",
   "metadata": {},
   "source": [
    "## No Vegetation\n",
    "\n",
    "* Baseline"
   ]
  },
  {
   "cell_type": "code",
   "execution_count": 11,
   "metadata": {},
   "outputs": [
    {
     "name": "stdout",
     "output_type": "stream",
     "text": [
      "=========================================\n",
      "Model Evaluation: Baseline No Vegetation:\n",
      "=========================================\n"
     ]
    },
    {
     "data": {
      "text/html": [
       "<div>\n",
       "<style scoped>\n",
       "    .dataframe tbody tr th:only-of-type {\n",
       "        vertical-align: middle;\n",
       "    }\n",
       "\n",
       "    .dataframe tbody tr th {\n",
       "        vertical-align: top;\n",
       "    }\n",
       "\n",
       "    .dataframe thead th {\n",
       "        text-align: right;\n",
       "    }\n",
       "</style>\n",
       "<table border=\"1\" class=\"dataframe\">\n",
       "  <thead>\n",
       "    <tr style=\"text-align: right;\">\n",
       "      <th></th>\n",
       "      <th>xgboost_train</th>\n",
       "      <th>xgboost_test</th>\n",
       "    </tr>\n",
       "  </thead>\n",
       "  <tbody>\n",
       "    <tr>\n",
       "      <th>RMSE</th>\n",
       "      <td>0.248416</td>\n",
       "      <td>0.248332</td>\n",
       "    </tr>\n",
       "    <tr>\n",
       "      <th>MBE</th>\n",
       "      <td>0.000001</td>\n",
       "      <td>0.000682</td>\n",
       "    </tr>\n",
       "    <tr>\n",
       "      <th>RSQ</th>\n",
       "      <td>0.325572</td>\n",
       "      <td>0.326456</td>\n",
       "    </tr>\n",
       "  </tbody>\n",
       "</table>\n",
       "</div>"
      ],
      "text/plain": [
       "      xgboost_train  xgboost_test\n",
       "RMSE       0.248416      0.248332\n",
       "MBE        0.000001      0.000682\n",
       "RSQ        0.325572      0.326456"
      ]
     },
     "metadata": {},
     "output_type": "display_data"
    },
    {
     "name": "stdout",
     "output_type": "stream",
     "text": [
      "============================================\n",
      "Feature Importances: Baseline No Vegetation:\n",
      "============================================\n"
     ]
    },
    {
     "data": {
      "text/html": [
       "<div>\n",
       "<style scoped>\n",
       "    .dataframe tbody tr th:only-of-type {\n",
       "        vertical-align: middle;\n",
       "    }\n",
       "\n",
       "    .dataframe tbody tr th {\n",
       "        vertical-align: top;\n",
       "    }\n",
       "\n",
       "    .dataframe thead th {\n",
       "        text-align: right;\n",
       "    }\n",
       "</style>\n",
       "<table border=\"1\" class=\"dataframe\">\n",
       "  <thead>\n",
       "    <tr style=\"text-align: right;\">\n",
       "      <th></th>\n",
       "      <th>feature</th>\n",
       "      <th>importance</th>\n",
       "    </tr>\n",
       "  </thead>\n",
       "  <tbody>\n",
       "    <tr>\n",
       "      <th>0</th>\n",
       "      <td>elevation</td>\n",
       "      <td>2.060577</td>\n",
       "    </tr>\n",
       "  </tbody>\n",
       "</table>\n",
       "</div>"
      ],
      "text/plain": [
       "     feature  importance\n",
       "0  elevation    2.060577"
      ]
     },
     "metadata": {},
     "output_type": "display_data"
    },
    {
     "name": "stdout",
     "output_type": "stream",
     "text": [
      "==========================================\n",
      "Storing Results: Baseline No Vegetation...\n",
      "==========================================\n",
      "Done!\n"
     ]
    }
   ],
   "source": [
    "baseline_no_vegetation=ModelFitting(\n",
    "    var=BASELINE_FEATURES,\n",
    "    split=no_vegetation_splits,\n",
    "    model_name='xgboost',\n",
    ")\n",
    "\n",
    "# fit model\n",
    "baseline_no_vegetation.fit_model()\n",
    "\n",
    "# make predictions\n",
    "predictions_baseline_no_vegetation=baseline_no_vegetation.make_predictions()\n",
    "\n",
    "# evaluate model\n",
    "print(\"=========================================\")\n",
    "print(\"Model Evaluation: Baseline No Vegetation:\")\n",
    "print(\"=========================================\")\n",
    "res=baseline_no_vegetation.evaluate_model()\n",
    "\n",
    "# get feature importances\n",
    "print(\"============================================\")\n",
    "print(\"Feature Importances: Baseline No Vegetation:\")\n",
    "print(\"============================================\")\n",
    "feature_importances_baseline_no_vegetation=baseline_no_vegetation.get_importance()\n",
    "\n",
    "# Store results\n",
    "print(\"==========================================\")\n",
    "print(\"Storing Results: Baseline No Vegetation...\")\n",
    "print(\"==========================================\")\n",
    "\n",
    "res.to_csv('../results/XGBoost/NoVegetation/baseline/evaluation.csv', index=False)\n",
    "feature_importances_baseline_no_vegetation.to_csv('../results/XGBoost/NoVegetation/baseline/feature_importances.csv', index=False)\n",
    "predictions_baseline_no_vegetation['y_pred_train'].to_csv('../results/XGBoost/NoVegetation/baseline/train_predictions.csv', index=False)\n",
    "predictions_baseline_no_vegetation['y_pred_test'].to_csv('../results/XGBoost/NoVegetation/baseline/test_predictions.csv', index=False)\n",
    "\n",
    "print(\"Done!\")"
   ]
  },
  {
   "cell_type": "markdown",
   "metadata": {},
   "source": [
    "* InSAR Parameters"
   ]
  },
  {
   "cell_type": "code",
   "execution_count": 12,
   "metadata": {},
   "outputs": [
    {
     "name": "stdout",
     "output_type": "stream",
     "text": [
      "=======================================\n",
      "Model Evaluation: UAVSAR No Vegetation:\n",
      "=======================================\n"
     ]
    },
    {
     "data": {
      "text/html": [
       "<div>\n",
       "<style scoped>\n",
       "    .dataframe tbody tr th:only-of-type {\n",
       "        vertical-align: middle;\n",
       "    }\n",
       "\n",
       "    .dataframe tbody tr th {\n",
       "        vertical-align: top;\n",
       "    }\n",
       "\n",
       "    .dataframe thead th {\n",
       "        text-align: right;\n",
       "    }\n",
       "</style>\n",
       "<table border=\"1\" class=\"dataframe\">\n",
       "  <thead>\n",
       "    <tr style=\"text-align: right;\">\n",
       "      <th></th>\n",
       "      <th>xgboost_train</th>\n",
       "      <th>xgboost_test</th>\n",
       "    </tr>\n",
       "  </thead>\n",
       "  <tbody>\n",
       "    <tr>\n",
       "      <th>RMSE</th>\n",
       "      <td>2.392356e-02</td>\n",
       "      <td>0.098511</td>\n",
       "    </tr>\n",
       "    <tr>\n",
       "      <th>MBE</th>\n",
       "      <td>-6.248400e-08</td>\n",
       "      <td>-0.000146</td>\n",
       "    </tr>\n",
       "    <tr>\n",
       "      <th>RSQ</th>\n",
       "      <td>9.937450e-01</td>\n",
       "      <td>0.894010</td>\n",
       "    </tr>\n",
       "  </tbody>\n",
       "</table>\n",
       "</div>"
      ],
      "text/plain": [
       "      xgboost_train  xgboost_test\n",
       "RMSE   2.392356e-02      0.098511\n",
       "MBE   -6.248400e-08     -0.000146\n",
       "RSQ    9.937450e-01      0.894010"
      ]
     },
     "metadata": {},
     "output_type": "display_data"
    },
    {
     "name": "stdout",
     "output_type": "stream",
     "text": [
      "==========================================\n",
      "Feature Importances: UAVSAR No Vegetation:\n",
      "==========================================\n"
     ]
    },
    {
     "data": {
      "text/html": [
       "<div>\n",
       "<style scoped>\n",
       "    .dataframe tbody tr th:only-of-type {\n",
       "        vertical-align: middle;\n",
       "    }\n",
       "\n",
       "    .dataframe tbody tr th {\n",
       "        vertical-align: top;\n",
       "    }\n",
       "\n",
       "    .dataframe thead th {\n",
       "        text-align: right;\n",
       "    }\n",
       "</style>\n",
       "<table border=\"1\" class=\"dataframe\">\n",
       "  <thead>\n",
       "    <tr style=\"text-align: right;\">\n",
       "      <th></th>\n",
       "      <th>feature</th>\n",
       "      <th>importance</th>\n",
       "    </tr>\n",
       "  </thead>\n",
       "  <tbody>\n",
       "    <tr>\n",
       "      <th>5</th>\n",
       "      <td>unwrapped_phase</td>\n",
       "      <td>0.105654</td>\n",
       "    </tr>\n",
       "    <tr>\n",
       "      <th>3</th>\n",
       "      <td>elevation</td>\n",
       "      <td>0.045763</td>\n",
       "    </tr>\n",
       "    <tr>\n",
       "      <th>1</th>\n",
       "      <td>amplitude</td>\n",
       "      <td>0.020018</td>\n",
       "    </tr>\n",
       "    <tr>\n",
       "      <th>4</th>\n",
       "      <td>incidence_angle</td>\n",
       "      <td>0.019559</td>\n",
       "    </tr>\n",
       "    <tr>\n",
       "      <th>0</th>\n",
       "      <td>coherence</td>\n",
       "      <td>0.013431</td>\n",
       "    </tr>\n",
       "    <tr>\n",
       "      <th>2</th>\n",
       "      <td>wrapped_phase</td>\n",
       "      <td>0.012737</td>\n",
       "    </tr>\n",
       "  </tbody>\n",
       "</table>\n",
       "</div>"
      ],
      "text/plain": [
       "           feature  importance\n",
       "5  unwrapped_phase    0.105654\n",
       "3        elevation    0.045763\n",
       "1        amplitude    0.020018\n",
       "4  incidence_angle    0.019559\n",
       "0        coherence    0.013431\n",
       "2    wrapped_phase    0.012737"
      ]
     },
     "metadata": {},
     "output_type": "display_data"
    },
    {
     "name": "stdout",
     "output_type": "stream",
     "text": [
      "========================================\n",
      "Storing Results: UAVSAR No Vegetation...\n",
      "========================================\n",
      "Done!\n"
     ]
    }
   ],
   "source": [
    "insar_no_vegetation=ModelFitting(\n",
    "    var=UAVSAR_FEATURES,\n",
    "    split=no_vegetation_splits,\n",
    "    model_name='xgboost',\n",
    ")\n",
    "\n",
    "# fit model\n",
    "insar_no_vegetation.fit_model()\n",
    "\n",
    "# make predictions\n",
    "predictions_insar_no_vegetation=insar_no_vegetation.make_predictions()\n",
    "\n",
    "# evaluate model\n",
    "print(\"=======================================\")\n",
    "print(\"Model Evaluation: UAVSAR No Vegetation:\")\n",
    "print(\"=======================================\")\n",
    "res=insar_no_vegetation.evaluate_model()\n",
    "\n",
    "# get feature importances\n",
    "print(\"==========================================\")\n",
    "print(\"Feature Importances: UAVSAR No Vegetation:\")\n",
    "print(\"==========================================\")\n",
    "feature_importances_insar_no_vegetation=insar_no_vegetation.get_importance()\n",
    "\n",
    "# Store results\n",
    "print(\"========================================\")\n",
    "print(\"Storing Results: UAVSAR No Vegetation...\")\n",
    "print(\"========================================\")\n",
    "\n",
    "res.to_csv('../results/XGBoost/NoVegetation/uavsar/evaluation.csv', index=False)\n",
    "feature_importances_insar_no_vegetation.to_csv('../results/XGBoost/NoVegetation/uavsar/feature_importances.csv', index=False)\n",
    "predictions_insar_no_vegetation['y_pred_train'].to_csv('../results/XGBoost/NoVegetation/uavsar/train_predictions.csv', index=False)\n",
    "predictions_insar_no_vegetation['y_pred_test'].to_csv('../results/XGBoost/NoVegetation/uavsar/test_predictions.csv', index=False)\n",
    "\n",
    "print(\"Done!\")"
   ]
  },
  {
   "cell_type": "markdown",
   "metadata": {},
   "source": [
    "## The End!"
   ]
  }
 ],
 "metadata": {
  "kernelspec": {
   "display_name": "autoskln",
   "language": "python",
   "name": "python3"
  },
  "language_info": {
   "codemirror_mode": {
    "name": "ipython",
    "version": 3
   },
   "file_extension": ".py",
   "mimetype": "text/x-python",
   "name": "python",
   "nbconvert_exporter": "python",
   "pygments_lexer": "ipython3",
   "version": "3.10.10"
  },
  "orig_nbformat": 4
 },
 "nbformat": 4,
 "nbformat_minor": 2
}
