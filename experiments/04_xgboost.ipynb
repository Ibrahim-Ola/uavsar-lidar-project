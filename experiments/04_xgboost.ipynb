{
 "cells": [
  {
   "cell_type": "markdown",
   "metadata": {},
   "source": [
    "## Setup\n",
    "\n",
    "Load libraries"
   ]
  },
  {
   "cell_type": "code",
   "execution_count": 50,
   "metadata": {},
   "outputs": [],
   "source": [
    "import sys\n",
    "sys.path.append('../') "
   ]
  },
  {
   "cell_type": "code",
   "execution_count": 51,
   "metadata": {},
   "outputs": [],
   "source": [
    "import os\n",
    "import pickle\n",
    "\n",
    "from utils.model_fitting_utils import ModelFitting\n",
    "from utils.features import BASELINE_FEATURES, UAVSAR_FEATURES, UAVSAR_AND_VEGETATION_HEIGHT_FEATURES"
   ]
  },
  {
   "cell_type": "markdown",
   "metadata": {},
   "source": [
    "## Load Data"
   ]
  },
  {
   "cell_type": "code",
   "execution_count": 3,
   "metadata": {},
   "outputs": [],
   "source": [
    "with open('../data/full_splits.pkl', 'rb') as f:\n",
    "    full_splits = pickle.load(f)\n",
    "\n",
    "\n",
    "with open('../data/vegetation_splits.pkl', 'rb') as f:\n",
    "    vegetation_splits = pickle.load(f)\n",
    "\n",
    "\n",
    "with open('../data/no_vegetation_splits.pkl', 'rb') as f:\n",
    "    no_vegetation_splits = pickle.load(f)"
   ]
  },
  {
   "cell_type": "markdown",
   "metadata": {},
   "source": [
    "* Create folders to store results"
   ]
  },
  {
   "cell_type": "code",
   "execution_count": 4,
   "metadata": {},
   "outputs": [],
   "source": [
    "os.makedirs('../results', exist_ok=True)\n",
    "os.makedirs('../results/XGBoost', exist_ok=True)\n",
    "\n",
    "os.makedirs('../results/XGBoost/AllCombined', exist_ok=True)\n",
    "os.makedirs('../results/XGBoost/AllCombined/all', exist_ok=True)\n",
    "os.makedirs('../results/XGBoost/AllCombined/baseline', exist_ok=True)\n",
    "os.makedirs('../results/XGBoost/AllCombined/uavsar', exist_ok=True)\n",
    "\n",
    "os.makedirs('../results/XGBoost/NoVegetation', exist_ok=True)\n",
    "os.makedirs('../results/XGBoost/NoVegetation/all', exist_ok=True)\n",
    "os.makedirs('../results/XGBoost/NoVegetation/baseline', exist_ok=True)\n",
    "os.makedirs('../results/XGBoost/NoVegetation/uavsar', exist_ok=True)\n",
    "\n",
    "os.makedirs('../results/XGBoost/Vegetation', exist_ok=True)\n",
    "os.makedirs('../results/XGBoost/Vegetation/all', exist_ok=True)\n",
    "os.makedirs('../results/XGBoost/Vegetation/baseline', exist_ok=True)\n",
    "os.makedirs('../results/XGBoost/Vegetation/uavsar', exist_ok=True)"
   ]
  },
  {
   "cell_type": "markdown",
   "metadata": {},
   "source": [
    "## Full Dataset\n",
    "\n",
    "* Baseline"
   ]
  },
  {
   "cell_type": "code",
   "execution_count": 4,
   "metadata": {},
   "outputs": [
    {
     "name": "stdout",
     "output_type": "stream",
     "text": [
      "================================\n",
      "Model Evaluation: Baseline Full:\n",
      "================================\n"
     ]
    },
    {
     "data": {
      "text/html": [
       "<div>\n",
       "<style scoped>\n",
       "    .dataframe tbody tr th:only-of-type {\n",
       "        vertical-align: middle;\n",
       "    }\n",
       "\n",
       "    .dataframe tbody tr th {\n",
       "        vertical-align: top;\n",
       "    }\n",
       "\n",
       "    .dataframe thead th {\n",
       "        text-align: right;\n",
       "    }\n",
       "</style>\n",
       "<table border=\"1\" class=\"dataframe\">\n",
       "  <thead>\n",
       "    <tr style=\"text-align: right;\">\n",
       "      <th></th>\n",
       "      <th>xgboost_train</th>\n",
       "      <th>xgboost_test</th>\n",
       "    </tr>\n",
       "  </thead>\n",
       "  <tbody>\n",
       "    <tr>\n",
       "      <th>RMSE</th>\n",
       "      <td>0.248801</td>\n",
       "      <td>0.248496</td>\n",
       "    </tr>\n",
       "    <tr>\n",
       "      <th>MBE</th>\n",
       "      <td>-0.000002</td>\n",
       "      <td>0.000329</td>\n",
       "    </tr>\n",
       "    <tr>\n",
       "      <th>RSQ</th>\n",
       "      <td>0.225001</td>\n",
       "      <td>0.224624</td>\n",
       "    </tr>\n",
       "  </tbody>\n",
       "</table>\n",
       "</div>"
      ],
      "text/plain": [
       "      xgboost_train  xgboost_test\n",
       "RMSE       0.248801      0.248496\n",
       "MBE       -0.000002      0.000329\n",
       "RSQ        0.225001      0.224624"
      ]
     },
     "metadata": {},
     "output_type": "display_data"
    },
    {
     "name": "stdout",
     "output_type": "stream",
     "text": [
      "===================================\n",
      "Feature Importances: Baseline Full:\n",
      "===================================\n"
     ]
    },
    {
     "data": {
      "text/html": [
       "<div>\n",
       "<style scoped>\n",
       "    .dataframe tbody tr th:only-of-type {\n",
       "        vertical-align: middle;\n",
       "    }\n",
       "\n",
       "    .dataframe tbody tr th {\n",
       "        vertical-align: top;\n",
       "    }\n",
       "\n",
       "    .dataframe thead th {\n",
       "        text-align: right;\n",
       "    }\n",
       "</style>\n",
       "<table border=\"1\" class=\"dataframe\">\n",
       "  <thead>\n",
       "    <tr style=\"text-align: right;\">\n",
       "      <th></th>\n",
       "      <th>feature</th>\n",
       "      <th>importance</th>\n",
       "    </tr>\n",
       "  </thead>\n",
       "  <tbody>\n",
       "    <tr>\n",
       "      <th>0</th>\n",
       "      <td>elevation</td>\n",
       "      <td>2.057577</td>\n",
       "    </tr>\n",
       "  </tbody>\n",
       "</table>\n",
       "</div>"
      ],
      "text/plain": [
       "     feature  importance\n",
       "0  elevation    2.057577"
      ]
     },
     "metadata": {},
     "output_type": "display_data"
    },
    {
     "name": "stdout",
     "output_type": "stream",
     "text": [
      "=================================\n",
      "Storing Results: Baseline Full...\n",
      "=================================\n",
      "Done!\n"
     ]
    }
   ],
   "source": [
    "baseline_full=ModelFitting(\n",
    "    var=BASELINE_FEATURES,\n",
    "    split=full_splits,\n",
    "    model_name='xgboost',\n",
    ")\n",
    "\n",
    "# fit model\n",
    "baseline_full.fit_model()\n",
    "\n",
    "# make predictions\n",
    "predictions_baseline_full=baseline_full.make_predictions()\n",
    "\n",
    "# evaluate model\n",
    "print(\"================================\")\n",
    "print(\"Model Evaluation: Baseline Full:\")\n",
    "print(\"================================\")\n",
    "res=baseline_full.evaluate_model()\n",
    "\n",
    "# get feature importances\n",
    "print(\"===================================\")\n",
    "print(\"Feature Importances: Baseline Full:\")\n",
    "print(\"===================================\")\n",
    "feature_importances_baseline_full=baseline_full.get_importance()\n",
    "\n",
    "# Store results\n",
    "print(\"=================================\")\n",
    "print(\"Storing Results: Baseline Full...\")\n",
    "print(\"=================================\")\n",
    "\n",
    "\n",
    "res.to_csv('../results/XGBoost/AllCombined/baseline/evaluation.csv', index=False)\n",
    "feature_importances_baseline_full.to_csv('../results/XGBoost/AllCombined/baseline/feature_importances.csv', index=False)\n",
    "predictions_baseline_full['y_pred_train'].to_csv('../results/XGBoost/AllCombined/baseline/train_predictions.csv', index=False)\n",
    "predictions_baseline_full['y_pred_test'].to_csv('../results/XGBoost/AllCombined/baseline/test_predictions.csv', index=False)\n",
    "\n",
    "print(\"Done!\")"
   ]
  },
  {
   "cell_type": "markdown",
   "metadata": {},
   "source": [
    "* InSAR Parameters"
   ]
  },
  {
   "cell_type": "code",
   "execution_count": 12,
   "metadata": {},
   "outputs": [
    {
     "name": "stdout",
     "output_type": "stream",
     "text": [
      "==============================\n",
      "Model Evaluation: UAVSAR Full:\n",
      "==============================\n"
     ]
    },
    {
     "data": {
      "text/html": [
       "<div>\n",
       "<style scoped>\n",
       "    .dataframe tbody tr th:only-of-type {\n",
       "        vertical-align: middle;\n",
       "    }\n",
       "\n",
       "    .dataframe tbody tr th {\n",
       "        vertical-align: top;\n",
       "    }\n",
       "\n",
       "    .dataframe thead th {\n",
       "        text-align: right;\n",
       "    }\n",
       "</style>\n",
       "<table border=\"1\" class=\"dataframe\">\n",
       "  <thead>\n",
       "    <tr style=\"text-align: right;\">\n",
       "      <th></th>\n",
       "      <th>xgboost_train</th>\n",
       "      <th>xgboost_test</th>\n",
       "    </tr>\n",
       "  </thead>\n",
       "  <tbody>\n",
       "    <tr>\n",
       "      <th>RMSE</th>\n",
       "      <td>1.384976e-02</td>\n",
       "      <td>0.097367</td>\n",
       "    </tr>\n",
       "    <tr>\n",
       "      <th>MBE</th>\n",
       "      <td>8.256242e-09</td>\n",
       "      <td>0.000365</td>\n",
       "    </tr>\n",
       "    <tr>\n",
       "      <th>RSQ</th>\n",
       "      <td>9.975985e-01</td>\n",
       "      <td>0.880960</td>\n",
       "    </tr>\n",
       "  </tbody>\n",
       "</table>\n",
       "</div>"
      ],
      "text/plain": [
       "      xgboost_train  xgboost_test\n",
       "RMSE   1.384976e-02      0.097367\n",
       "MBE    8.256242e-09      0.000365\n",
       "RSQ    9.975985e-01      0.880960"
      ]
     },
     "metadata": {},
     "output_type": "display_data"
    },
    {
     "name": "stdout",
     "output_type": "stream",
     "text": [
      "=================================\n",
      "Feature Importances: UAVSAR Full:\n",
      "=================================\n"
     ]
    },
    {
     "data": {
      "text/html": [
       "<div>\n",
       "<style scoped>\n",
       "    .dataframe tbody tr th:only-of-type {\n",
       "        vertical-align: middle;\n",
       "    }\n",
       "\n",
       "    .dataframe tbody tr th {\n",
       "        vertical-align: top;\n",
       "    }\n",
       "\n",
       "    .dataframe thead th {\n",
       "        text-align: right;\n",
       "    }\n",
       "</style>\n",
       "<table border=\"1\" class=\"dataframe\">\n",
       "  <thead>\n",
       "    <tr style=\"text-align: right;\">\n",
       "      <th></th>\n",
       "      <th>feature</th>\n",
       "      <th>importance</th>\n",
       "    </tr>\n",
       "  </thead>\n",
       "  <tbody>\n",
       "    <tr>\n",
       "      <th>5</th>\n",
       "      <td>unwrapped_phase</td>\n",
       "      <td>0.064202</td>\n",
       "    </tr>\n",
       "    <tr>\n",
       "      <th>1</th>\n",
       "      <td>amplitude</td>\n",
       "      <td>0.032508</td>\n",
       "    </tr>\n",
       "    <tr>\n",
       "      <th>3</th>\n",
       "      <td>bare_earth_dem</td>\n",
       "      <td>0.032359</td>\n",
       "    </tr>\n",
       "    <tr>\n",
       "      <th>4</th>\n",
       "      <td>incidence_angle</td>\n",
       "      <td>0.026014</td>\n",
       "    </tr>\n",
       "    <tr>\n",
       "      <th>0</th>\n",
       "      <td>coherence</td>\n",
       "      <td>0.014940</td>\n",
       "    </tr>\n",
       "    <tr>\n",
       "      <th>2</th>\n",
       "      <td>wrapped_phase</td>\n",
       "      <td>0.012779</td>\n",
       "    </tr>\n",
       "  </tbody>\n",
       "</table>\n",
       "</div>"
      ],
      "text/plain": [
       "           feature  importance\n",
       "5  unwrapped_phase    0.064202\n",
       "1        amplitude    0.032508\n",
       "3   bare_earth_dem    0.032359\n",
       "4  incidence_angle    0.026014\n",
       "0        coherence    0.014940\n",
       "2    wrapped_phase    0.012779"
      ]
     },
     "metadata": {},
     "output_type": "display_data"
    },
    {
     "name": "stdout",
     "output_type": "stream",
     "text": [
      "===============================\n",
      "Storing Results: UAVSAR Full...\n",
      "===============================\n",
      "Done!\n"
     ]
    }
   ],
   "source": [
    "insar_full=ModelFitting(\n",
    "    var=UAVSAR_FEATURES,\n",
    "    split=full_splits,\n",
    "    model_name='xgboost',\n",
    ")\n",
    "\n",
    "# fit model\n",
    "insar_full.fit_model()\n",
    "\n",
    "# make predictions\n",
    "predictions_insar_full=insar_full.make_predictions()\n",
    "\n",
    "# evaluate model\n",
    "print(\"==============================\")\n",
    "print(\"Model Evaluation: UAVSAR Full:\")\n",
    "print(\"==============================\")\n",
    "res=insar_full.evaluate_model()\n",
    "\n",
    "# get feature importances\n",
    "print(\"=================================\")\n",
    "print(\"Feature Importances: UAVSAR Full:\")\n",
    "print(\"=================================\")\n",
    "feature_importances_insar_full=insar_full.get_importance()\n",
    "\n",
    "# Store results\n",
    "print(\"===============================\")\n",
    "print(\"Storing Results: UAVSAR Full...\")\n",
    "print(\"===============================\")\n",
    "\n",
    "res.to_csv('../results/XGBoost/AllCombined/uavsar/evaluation.csv', index=False)\n",
    "feature_importances_insar_full.to_csv('../results/XGBoost/AllCombined/uavsar/feature_importances.csv', index=False)\n",
    "predictions_insar_full['y_pred_train'].to_csv('../results/XGBoost/AllCombined/uavsar/train_predictions.csv', index=False)\n",
    "predictions_insar_full['y_pred_test'].to_csv('../results/XGBoost/AllCombined/uavsar/test_predictions.csv', index=False)\n",
    "\n",
    "print(\"Done!\")"
   ]
  },
  {
   "cell_type": "markdown",
   "metadata": {},
   "source": [
    "* InSAR + Vegetation Height"
   ]
  },
  {
   "cell_type": "code",
   "execution_count": 18,
   "metadata": {},
   "outputs": [
    {
     "name": "stdout",
     "output_type": "stream",
     "text": [
      "===============================\n",
      "Model Evaluation: All Features:\n",
      "===============================\n"
     ]
    },
    {
     "data": {
      "text/html": [
       "<div>\n",
       "<style scoped>\n",
       "    .dataframe tbody tr th:only-of-type {\n",
       "        vertical-align: middle;\n",
       "    }\n",
       "\n",
       "    .dataframe tbody tr th {\n",
       "        vertical-align: top;\n",
       "    }\n",
       "\n",
       "    .dataframe thead th {\n",
       "        text-align: right;\n",
       "    }\n",
       "</style>\n",
       "<table border=\"1\" class=\"dataframe\">\n",
       "  <thead>\n",
       "    <tr style=\"text-align: right;\">\n",
       "      <th></th>\n",
       "      <th>xgboost_train</th>\n",
       "      <th>xgboost_test</th>\n",
       "    </tr>\n",
       "  </thead>\n",
       "  <tbody>\n",
       "    <tr>\n",
       "      <th>RMSE</th>\n",
       "      <td>8.482498e-03</td>\n",
       "      <td>0.092769</td>\n",
       "    </tr>\n",
       "    <tr>\n",
       "      <th>MBE</th>\n",
       "      <td>3.960739e-09</td>\n",
       "      <td>0.000196</td>\n",
       "    </tr>\n",
       "    <tr>\n",
       "      <th>RSQ</th>\n",
       "      <td>9.990992e-01</td>\n",
       "      <td>0.891935</td>\n",
       "    </tr>\n",
       "  </tbody>\n",
       "</table>\n",
       "</div>"
      ],
      "text/plain": [
       "      xgboost_train  xgboost_test\n",
       "RMSE   8.482498e-03      0.092769\n",
       "MBE    3.960739e-09      0.000196\n",
       "RSQ    9.990992e-01      0.891935"
      ]
     },
     "metadata": {},
     "output_type": "display_data"
    },
    {
     "name": "stdout",
     "output_type": "stream",
     "text": [
      "==================================\n",
      "Feature Importances: All Features:\n",
      "==================================\n"
     ]
    },
    {
     "data": {
      "text/html": [
       "<div>\n",
       "<style scoped>\n",
       "    .dataframe tbody tr th:only-of-type {\n",
       "        vertical-align: middle;\n",
       "    }\n",
       "\n",
       "    .dataframe tbody tr th {\n",
       "        vertical-align: top;\n",
       "    }\n",
       "\n",
       "    .dataframe thead th {\n",
       "        text-align: right;\n",
       "    }\n",
       "</style>\n",
       "<table border=\"1\" class=\"dataframe\">\n",
       "  <thead>\n",
       "    <tr style=\"text-align: right;\">\n",
       "      <th></th>\n",
       "      <th>feature</th>\n",
       "      <th>importance</th>\n",
       "    </tr>\n",
       "  </thead>\n",
       "  <tbody>\n",
       "    <tr>\n",
       "      <th>6</th>\n",
       "      <td>unwrapped_phase</td>\n",
       "      <td>0.068860</td>\n",
       "    </tr>\n",
       "    <tr>\n",
       "      <th>4</th>\n",
       "      <td>bare_earth_dem</td>\n",
       "      <td>0.037140</td>\n",
       "    </tr>\n",
       "    <tr>\n",
       "      <th>1</th>\n",
       "      <td>amplitude</td>\n",
       "      <td>0.031821</td>\n",
       "    </tr>\n",
       "    <tr>\n",
       "      <th>5</th>\n",
       "      <td>incidence_angle</td>\n",
       "      <td>0.027614</td>\n",
       "    </tr>\n",
       "    <tr>\n",
       "      <th>2</th>\n",
       "      <td>vegetation_ht</td>\n",
       "      <td>0.022043</td>\n",
       "    </tr>\n",
       "    <tr>\n",
       "      <th>0</th>\n",
       "      <td>coherence</td>\n",
       "      <td>0.012586</td>\n",
       "    </tr>\n",
       "    <tr>\n",
       "      <th>3</th>\n",
       "      <td>wrapped_phase</td>\n",
       "      <td>0.012034</td>\n",
       "    </tr>\n",
       "  </tbody>\n",
       "</table>\n",
       "</div>"
      ],
      "text/plain": [
       "           feature  importance\n",
       "6  unwrapped_phase    0.068860\n",
       "4   bare_earth_dem    0.037140\n",
       "1        amplitude    0.031821\n",
       "5  incidence_angle    0.027614\n",
       "2    vegetation_ht    0.022043\n",
       "0        coherence    0.012586\n",
       "3    wrapped_phase    0.012034"
      ]
     },
     "metadata": {},
     "output_type": "display_data"
    },
    {
     "name": "stdout",
     "output_type": "stream",
     "text": [
      "================================\n",
      "Storing Results: All Features...\n",
      "================================\n",
      "Done!\n"
     ]
    }
   ],
   "source": [
    "all_full=ModelFitting(\n",
    "    var=UAVSAR_AND_VEGETATION_HEIGHT_FEATURES,\n",
    "    split=full_splits,\n",
    "    model_name='xgboost',\n",
    ")\n",
    "\n",
    "# fit model\n",
    "all_full.fit_model()\n",
    "\n",
    "# make predictions\n",
    "predictions_all_full=all_full.make_predictions()\n",
    "\n",
    "# evaluate model\n",
    "print(\"===============================\")\n",
    "print(\"Model Evaluation: All Features:\")\n",
    "print(\"===============================\")\n",
    "res=all_full.evaluate_model()\n",
    "\n",
    "# get feature importances\n",
    "print(\"==================================\")\n",
    "print(\"Feature Importances: All Features:\")\n",
    "print(\"==================================\")\n",
    "feature_importances_all_full=all_full.get_importance()\n",
    "\n",
    "# Store results\n",
    "print(\"================================\")\n",
    "print(\"Storing Results: All Features...\")\n",
    "print(\"================================\")\n",
    "\n",
    "res.to_csv('../results/XGBoost/AllCombined/all/evaluation.csv', index=False)\n",
    "feature_importances_all_full.to_csv('../results/XGBoost/AllCombined/all/feature_importances.csv', index=False)\n",
    "predictions_all_full['y_pred_train'].to_csv('../results/XGBoost/AllCombined/all/train_predictions.csv', index=False)\n",
    "predictions_all_full['y_pred_test'].to_csv('../results/XGBoost/AllCombined/all/test_predictions.csv', index=False)\n",
    "\n",
    "print(\"Done!\")"
   ]
  },
  {
   "cell_type": "markdown",
   "metadata": {},
   "source": [
    "## Vegetation\n",
    "\n",
    "* Baseline"
   ]
  },
  {
   "cell_type": "code",
   "execution_count": 24,
   "metadata": {},
   "outputs": [
    {
     "name": "stdout",
     "output_type": "stream",
     "text": [
      "======================================\n",
      "Model Evaluation: Baseline Vegetation:\n",
      "======================================\n"
     ]
    },
    {
     "data": {
      "text/html": [
       "<div>\n",
       "<style scoped>\n",
       "    .dataframe tbody tr th:only-of-type {\n",
       "        vertical-align: middle;\n",
       "    }\n",
       "\n",
       "    .dataframe tbody tr th {\n",
       "        vertical-align: top;\n",
       "    }\n",
       "\n",
       "    .dataframe thead th {\n",
       "        text-align: right;\n",
       "    }\n",
       "</style>\n",
       "<table border=\"1\" class=\"dataframe\">\n",
       "  <thead>\n",
       "    <tr style=\"text-align: right;\">\n",
       "      <th></th>\n",
       "      <th>xgboost_train</th>\n",
       "      <th>xgboost_test</th>\n",
       "    </tr>\n",
       "  </thead>\n",
       "  <tbody>\n",
       "    <tr>\n",
       "      <th>RMSE</th>\n",
       "      <td>0.227302</td>\n",
       "      <td>0.227505</td>\n",
       "    </tr>\n",
       "    <tr>\n",
       "      <th>MBE</th>\n",
       "      <td>-0.000016</td>\n",
       "      <td>-0.000204</td>\n",
       "    </tr>\n",
       "    <tr>\n",
       "      <th>RSQ</th>\n",
       "      <td>0.255908</td>\n",
       "      <td>0.253098</td>\n",
       "    </tr>\n",
       "  </tbody>\n",
       "</table>\n",
       "</div>"
      ],
      "text/plain": [
       "      xgboost_train  xgboost_test\n",
       "RMSE       0.227302      0.227505\n",
       "MBE       -0.000016     -0.000204\n",
       "RSQ        0.255908      0.253098"
      ]
     },
     "metadata": {},
     "output_type": "display_data"
    },
    {
     "name": "stdout",
     "output_type": "stream",
     "text": [
      "=========================================\n",
      "Feature Importances: Baseline Vegetation:\n",
      "=========================================\n"
     ]
    },
    {
     "data": {
      "text/html": [
       "<div>\n",
       "<style scoped>\n",
       "    .dataframe tbody tr th:only-of-type {\n",
       "        vertical-align: middle;\n",
       "    }\n",
       "\n",
       "    .dataframe tbody tr th {\n",
       "        vertical-align: top;\n",
       "    }\n",
       "\n",
       "    .dataframe thead th {\n",
       "        text-align: right;\n",
       "    }\n",
       "</style>\n",
       "<table border=\"1\" class=\"dataframe\">\n",
       "  <thead>\n",
       "    <tr style=\"text-align: right;\">\n",
       "      <th></th>\n",
       "      <th>feature</th>\n",
       "      <th>importance</th>\n",
       "    </tr>\n",
       "  </thead>\n",
       "  <tbody>\n",
       "    <tr>\n",
       "      <th>0</th>\n",
       "      <td>elevation</td>\n",
       "      <td>0.863376</td>\n",
       "    </tr>\n",
       "  </tbody>\n",
       "</table>\n",
       "</div>"
      ],
      "text/plain": [
       "     feature  importance\n",
       "0  elevation    0.863376"
      ]
     },
     "metadata": {},
     "output_type": "display_data"
    },
    {
     "name": "stdout",
     "output_type": "stream",
     "text": [
      "=======================================\n",
      "Storing Results: Baseline Vegetation...\n",
      "=======================================\n",
      "Done!\n"
     ]
    }
   ],
   "source": [
    "baseline_vegetation=ModelFitting(\n",
    "    var=BASELINE_FEATURES,\n",
    "    split=vegetation_splits,\n",
    "    model_name='xgboost',\n",
    ")\n",
    "\n",
    "# fit model\n",
    "baseline_vegetation.fit_model()\n",
    "\n",
    "# make predictions\n",
    "predictions_baseline_vegetation=baseline_vegetation.make_predictions()\n",
    "\n",
    "# evaluate model\n",
    "print(\"======================================\")\n",
    "print(\"Model Evaluation: Baseline Vegetation:\")\n",
    "print(\"======================================\")\n",
    "res=baseline_vegetation.evaluate_model()\n",
    "\n",
    "# get feature importances\n",
    "print(\"=========================================\")\n",
    "print(\"Feature Importances: Baseline Vegetation:\")\n",
    "print(\"=========================================\")\n",
    "feature_importances_baseline_vegetation=baseline_vegetation.get_importance()\n",
    "\n",
    "# Store results\n",
    "print(\"=======================================\")\n",
    "print(\"Storing Results: Baseline Vegetation...\")\n",
    "print(\"=======================================\")\n",
    "\n",
    "res.to_csv('../results/XGBoost/Vegetation/baseline/evaluation.csv', index=False)\n",
    "feature_importances_baseline_vegetation.to_csv('../results/XGBoost/Vegetation/baseline/feature_importances.csv', index=False)\n",
    "predictions_baseline_vegetation['y_pred_train'].to_csv('../results/XGBoost/Vegetation/baseline/train_predictions.csv', index=False)\n",
    "predictions_baseline_vegetation['y_pred_test'].to_csv('../results/XGBoost/Vegetation/baseline/test_predictions.csv', index=False)\n",
    "\n",
    "print(\"Done!\")"
   ]
  },
  {
   "cell_type": "markdown",
   "metadata": {},
   "source": [
    "* InSAR Parameters"
   ]
  },
  {
   "cell_type": "code",
   "execution_count": 29,
   "metadata": {},
   "outputs": [
    {
     "name": "stdout",
     "output_type": "stream",
     "text": [
      "====================================\n",
      "Model Evaluation: UAVSAR Vegetation:\n",
      "====================================\n"
     ]
    },
    {
     "data": {
      "text/html": [
       "<div>\n",
       "<style scoped>\n",
       "    .dataframe tbody tr th:only-of-type {\n",
       "        vertical-align: middle;\n",
       "    }\n",
       "\n",
       "    .dataframe tbody tr th {\n",
       "        vertical-align: top;\n",
       "    }\n",
       "\n",
       "    .dataframe thead th {\n",
       "        text-align: right;\n",
       "    }\n",
       "</style>\n",
       "<table border=\"1\" class=\"dataframe\">\n",
       "  <thead>\n",
       "    <tr style=\"text-align: right;\">\n",
       "      <th></th>\n",
       "      <th>xgboost_train</th>\n",
       "      <th>xgboost_test</th>\n",
       "    </tr>\n",
       "  </thead>\n",
       "  <tbody>\n",
       "    <tr>\n",
       "      <th>RMSE</th>\n",
       "      <td>1.499179e-02</td>\n",
       "      <td>0.102344</td>\n",
       "    </tr>\n",
       "    <tr>\n",
       "      <th>MBE</th>\n",
       "      <td>6.800677e-09</td>\n",
       "      <td>0.000233</td>\n",
       "    </tr>\n",
       "    <tr>\n",
       "      <th>RSQ</th>\n",
       "      <td>9.967631e-01</td>\n",
       "      <td>0.848850</td>\n",
       "    </tr>\n",
       "  </tbody>\n",
       "</table>\n",
       "</div>"
      ],
      "text/plain": [
       "      xgboost_train  xgboost_test\n",
       "RMSE   1.499179e-02      0.102344\n",
       "MBE    6.800677e-09      0.000233\n",
       "RSQ    9.967631e-01      0.848850"
      ]
     },
     "metadata": {},
     "output_type": "display_data"
    },
    {
     "name": "stdout",
     "output_type": "stream",
     "text": [
      "=======================================\n",
      "Feature Importances: UAVSAR Vegetation:\n",
      "=======================================\n"
     ]
    },
    {
     "data": {
      "text/html": [
       "<div>\n",
       "<style scoped>\n",
       "    .dataframe tbody tr th:only-of-type {\n",
       "        vertical-align: middle;\n",
       "    }\n",
       "\n",
       "    .dataframe tbody tr th {\n",
       "        vertical-align: top;\n",
       "    }\n",
       "\n",
       "    .dataframe thead th {\n",
       "        text-align: right;\n",
       "    }\n",
       "</style>\n",
       "<table border=\"1\" class=\"dataframe\">\n",
       "  <thead>\n",
       "    <tr style=\"text-align: right;\">\n",
       "      <th></th>\n",
       "      <th>feature</th>\n",
       "      <th>importance</th>\n",
       "    </tr>\n",
       "  </thead>\n",
       "  <tbody>\n",
       "    <tr>\n",
       "      <th>3</th>\n",
       "      <td>bare_earth_dem</td>\n",
       "      <td>0.042414</td>\n",
       "    </tr>\n",
       "    <tr>\n",
       "      <th>4</th>\n",
       "      <td>incidence_angle</td>\n",
       "      <td>0.040543</td>\n",
       "    </tr>\n",
       "    <tr>\n",
       "      <th>5</th>\n",
       "      <td>unwrapped_phase</td>\n",
       "      <td>0.023345</td>\n",
       "    </tr>\n",
       "    <tr>\n",
       "      <th>1</th>\n",
       "      <td>amplitude</td>\n",
       "      <td>0.016194</td>\n",
       "    </tr>\n",
       "    <tr>\n",
       "      <th>0</th>\n",
       "      <td>coherence</td>\n",
       "      <td>0.013314</td>\n",
       "    </tr>\n",
       "    <tr>\n",
       "      <th>2</th>\n",
       "      <td>wrapped_phase</td>\n",
       "      <td>0.012098</td>\n",
       "    </tr>\n",
       "  </tbody>\n",
       "</table>\n",
       "</div>"
      ],
      "text/plain": [
       "           feature  importance\n",
       "3   bare_earth_dem    0.042414\n",
       "4  incidence_angle    0.040543\n",
       "5  unwrapped_phase    0.023345\n",
       "1        amplitude    0.016194\n",
       "0        coherence    0.013314\n",
       "2    wrapped_phase    0.012098"
      ]
     },
     "metadata": {},
     "output_type": "display_data"
    },
    {
     "name": "stdout",
     "output_type": "stream",
     "text": [
      "=====================================\n",
      "Storing Results: UAVSAR Vegetation...\n",
      "=====================================\n",
      "Done!\n"
     ]
    }
   ],
   "source": [
    "insar_vegetation=ModelFitting(\n",
    "    var=UAVSAR_FEATURES,\n",
    "    split=vegetation_splits,\n",
    "    model_name='xgboost',\n",
    ")\n",
    "\n",
    "# fit model\n",
    "insar_vegetation.fit_model()\n",
    "\n",
    "# make predictions\n",
    "predictions_insar_vegetation=insar_vegetation.make_predictions()\n",
    "\n",
    "# evaluate model\n",
    "print(\"====================================\")\n",
    "print(\"Model Evaluation: UAVSAR Vegetation:\")\n",
    "print(\"====================================\")\n",
    "res=insar_vegetation.evaluate_model()\n",
    "\n",
    "# get feature importances\n",
    "print(\"=======================================\")\n",
    "print(\"Feature Importances: UAVSAR Vegetation:\")\n",
    "print(\"=======================================\")\n",
    "feature_importances_insar_vegetation=insar_vegetation.get_importance()\n",
    "\n",
    "# Store results\n",
    "print(\"=====================================\")\n",
    "print(\"Storing Results: UAVSAR Vegetation...\")\n",
    "print(\"=====================================\")\n",
    "\n",
    "res.to_csv('../results/XGBoost/Vegetation/uavsar/evaluation.csv', index=False)\n",
    "feature_importances_insar_vegetation.to_csv('../results/XGBoost/Vegetation/uavsar/feature_importances.csv', index=False)\n",
    "predictions_insar_vegetation['y_pred_train'].to_csv('../results/XGBoost/Vegetation/uavsar/train_predictions.csv', index=False)\n",
    "predictions_insar_vegetation['y_pred_test'].to_csv('../results/XGBoost/Vegetation/uavsar/test_predictions.csv', index=False)\n",
    "\n",
    "print(\"Done!\")"
   ]
  },
  {
   "cell_type": "markdown",
   "metadata": {},
   "source": [
    "* InSAR + Vegetation Height"
   ]
  },
  {
   "cell_type": "code",
   "execution_count": 38,
   "metadata": {},
   "outputs": [
    {
     "name": "stdout",
     "output_type": "stream",
     "text": [
      "=================================\n",
      "Model Evaluation: All Vegetation:\n",
      "=================================\n"
     ]
    },
    {
     "data": {
      "text/html": [
       "<div>\n",
       "<style scoped>\n",
       "    .dataframe tbody tr th:only-of-type {\n",
       "        vertical-align: middle;\n",
       "    }\n",
       "\n",
       "    .dataframe tbody tr th {\n",
       "        vertical-align: top;\n",
       "    }\n",
       "\n",
       "    .dataframe thead th {\n",
       "        text-align: right;\n",
       "    }\n",
       "</style>\n",
       "<table border=\"1\" class=\"dataframe\">\n",
       "  <thead>\n",
       "    <tr style=\"text-align: right;\">\n",
       "      <th></th>\n",
       "      <th>xgboost_train</th>\n",
       "      <th>xgboost_test</th>\n",
       "    </tr>\n",
       "  </thead>\n",
       "  <tbody>\n",
       "    <tr>\n",
       "      <th>RMSE</th>\n",
       "      <td>6.767154e-03</td>\n",
       "      <td>0.098444</td>\n",
       "    </tr>\n",
       "    <tr>\n",
       "      <th>MBE</th>\n",
       "      <td>9.185928e-09</td>\n",
       "      <td>-0.000419</td>\n",
       "    </tr>\n",
       "    <tr>\n",
       "      <th>RSQ</th>\n",
       "      <td>9.993405e-01</td>\n",
       "      <td>0.860150</td>\n",
       "    </tr>\n",
       "  </tbody>\n",
       "</table>\n",
       "</div>"
      ],
      "text/plain": [
       "      xgboost_train  xgboost_test\n",
       "RMSE   6.767154e-03      0.098444\n",
       "MBE    9.185928e-09     -0.000419\n",
       "RSQ    9.993405e-01      0.860150"
      ]
     },
     "metadata": {},
     "output_type": "display_data"
    },
    {
     "name": "stdout",
     "output_type": "stream",
     "text": [
      "====================================\n",
      "Feature Importances: All Vegetation:\n",
      "====================================\n"
     ]
    },
    {
     "data": {
      "text/html": [
       "<div>\n",
       "<style scoped>\n",
       "    .dataframe tbody tr th:only-of-type {\n",
       "        vertical-align: middle;\n",
       "    }\n",
       "\n",
       "    .dataframe tbody tr th {\n",
       "        vertical-align: top;\n",
       "    }\n",
       "\n",
       "    .dataframe thead th {\n",
       "        text-align: right;\n",
       "    }\n",
       "</style>\n",
       "<table border=\"1\" class=\"dataframe\">\n",
       "  <thead>\n",
       "    <tr style=\"text-align: right;\">\n",
       "      <th></th>\n",
       "      <th>feature</th>\n",
       "      <th>importance</th>\n",
       "    </tr>\n",
       "  </thead>\n",
       "  <tbody>\n",
       "    <tr>\n",
       "      <th>4</th>\n",
       "      <td>bare_earth_dem</td>\n",
       "      <td>0.053405</td>\n",
       "    </tr>\n",
       "    <tr>\n",
       "      <th>5</th>\n",
       "      <td>incidence_angle</td>\n",
       "      <td>0.048154</td>\n",
       "    </tr>\n",
       "    <tr>\n",
       "      <th>2</th>\n",
       "      <td>vegetation_ht</td>\n",
       "      <td>0.021449</td>\n",
       "    </tr>\n",
       "    <tr>\n",
       "      <th>6</th>\n",
       "      <td>unwrapped_phase</td>\n",
       "      <td>0.020517</td>\n",
       "    </tr>\n",
       "    <tr>\n",
       "      <th>1</th>\n",
       "      <td>amplitude</td>\n",
       "      <td>0.012425</td>\n",
       "    </tr>\n",
       "    <tr>\n",
       "      <th>0</th>\n",
       "      <td>coherence</td>\n",
       "      <td>0.009897</td>\n",
       "    </tr>\n",
       "    <tr>\n",
       "      <th>3</th>\n",
       "      <td>wrapped_phase</td>\n",
       "      <td>0.009612</td>\n",
       "    </tr>\n",
       "  </tbody>\n",
       "</table>\n",
       "</div>"
      ],
      "text/plain": [
       "           feature  importance\n",
       "4   bare_earth_dem    0.053405\n",
       "5  incidence_angle    0.048154\n",
       "2    vegetation_ht    0.021449\n",
       "6  unwrapped_phase    0.020517\n",
       "1        amplitude    0.012425\n",
       "0        coherence    0.009897\n",
       "3    wrapped_phase    0.009612"
      ]
     },
     "metadata": {},
     "output_type": "display_data"
    },
    {
     "name": "stdout",
     "output_type": "stream",
     "text": [
      "==================================\n",
      "Storing Results: All Vegetation...\n",
      "==================================\n",
      "Done!\n"
     ]
    }
   ],
   "source": [
    "all_vegetation=ModelFitting(\n",
    "    var=UAVSAR_AND_VEGETATION_HEIGHT_FEATURES,\n",
    "    split=vegetation_splits,\n",
    "    model_name='xgboost',\n",
    ")\n",
    "\n",
    "# fit model\n",
    "all_vegetation.fit_model()\n",
    "\n",
    "# make predictions\n",
    "predictions_all_vegetation=all_vegetation.make_predictions()\n",
    "\n",
    "# evaluate model\n",
    "print(\"=================================\")\n",
    "print(\"Model Evaluation: All Vegetation:\")\n",
    "print(\"=================================\")\n",
    "res=all_vegetation.evaluate_model()\n",
    "\n",
    "# get feature importances\n",
    "print(\"====================================\")\n",
    "print(\"Feature Importances: All Vegetation:\")\n",
    "print(\"====================================\")\n",
    "feature_importances_all_vegetation=all_vegetation.get_importance()\n",
    "\n",
    "# Store results\n",
    "print(\"==================================\")\n",
    "print(\"Storing Results: All Vegetation...\")\n",
    "print(\"==================================\")\n",
    "\n",
    "res.to_csv('../results/XGBoost/Vegetation/all/evaluation.csv', index=False)\n",
    "feature_importances_all_vegetation.to_csv('../results/XGBoost/Vegetation/all/feature_importances.csv', index=False)\n",
    "predictions_all_vegetation['y_pred_train'].to_csv('../results/XGBoost/Vegetation/all/train_predictions.csv', index=False)\n",
    "predictions_all_vegetation['y_pred_test'].to_csv('../results/XGBoost/Vegetation/all/test_predictions.csv', index=False)\n",
    "\n",
    "print(\"Done!\")"
   ]
  },
  {
   "cell_type": "markdown",
   "metadata": {},
   "source": [
    "## No Vegetation\n",
    "\n",
    "* Baseline"
   ]
  },
  {
   "cell_type": "code",
   "execution_count": 44,
   "metadata": {},
   "outputs": [
    {
     "name": "stdout",
     "output_type": "stream",
     "text": [
      "=========================================\n",
      "Model Evaluation: Baseline No Vegetation:\n",
      "=========================================\n"
     ]
    },
    {
     "data": {
      "text/html": [
       "<div>\n",
       "<style scoped>\n",
       "    .dataframe tbody tr th:only-of-type {\n",
       "        vertical-align: middle;\n",
       "    }\n",
       "\n",
       "    .dataframe tbody tr th {\n",
       "        vertical-align: top;\n",
       "    }\n",
       "\n",
       "    .dataframe thead th {\n",
       "        text-align: right;\n",
       "    }\n",
       "</style>\n",
       "<table border=\"1\" class=\"dataframe\">\n",
       "  <thead>\n",
       "    <tr style=\"text-align: right;\">\n",
       "      <th></th>\n",
       "      <th>xgboost_train</th>\n",
       "      <th>xgboost_test</th>\n",
       "    </tr>\n",
       "  </thead>\n",
       "  <tbody>\n",
       "    <tr>\n",
       "      <th>RMSE</th>\n",
       "      <td>0.237155</td>\n",
       "      <td>0.238115</td>\n",
       "    </tr>\n",
       "    <tr>\n",
       "      <th>MBE</th>\n",
       "      <td>-0.000003</td>\n",
       "      <td>0.000896</td>\n",
       "    </tr>\n",
       "    <tr>\n",
       "      <th>RSQ</th>\n",
       "      <td>0.347876</td>\n",
       "      <td>0.342848</td>\n",
       "    </tr>\n",
       "  </tbody>\n",
       "</table>\n",
       "</div>"
      ],
      "text/plain": [
       "      xgboost_train  xgboost_test\n",
       "RMSE       0.237155      0.238115\n",
       "MBE       -0.000003      0.000896\n",
       "RSQ        0.347876      0.342848"
      ]
     },
     "metadata": {},
     "output_type": "display_data"
    },
    {
     "name": "stdout",
     "output_type": "stream",
     "text": [
      "============================================\n",
      "Feature Importances: Baseline No Vegetation:\n",
      "============================================\n"
     ]
    },
    {
     "data": {
      "text/html": [
       "<div>\n",
       "<style scoped>\n",
       "    .dataframe tbody tr th:only-of-type {\n",
       "        vertical-align: middle;\n",
       "    }\n",
       "\n",
       "    .dataframe tbody tr th {\n",
       "        vertical-align: top;\n",
       "    }\n",
       "\n",
       "    .dataframe thead th {\n",
       "        text-align: right;\n",
       "    }\n",
       "</style>\n",
       "<table border=\"1\" class=\"dataframe\">\n",
       "  <thead>\n",
       "    <tr style=\"text-align: right;\">\n",
       "      <th></th>\n",
       "      <th>feature</th>\n",
       "      <th>importance</th>\n",
       "    </tr>\n",
       "  </thead>\n",
       "  <tbody>\n",
       "    <tr>\n",
       "      <th>0</th>\n",
       "      <td>elevation</td>\n",
       "      <td>2.104208</td>\n",
       "    </tr>\n",
       "  </tbody>\n",
       "</table>\n",
       "</div>"
      ],
      "text/plain": [
       "     feature  importance\n",
       "0  elevation    2.104208"
      ]
     },
     "metadata": {},
     "output_type": "display_data"
    },
    {
     "name": "stdout",
     "output_type": "stream",
     "text": [
      "==========================================\n",
      "Storing Results: Baseline No Vegetation...\n",
      "==========================================\n",
      "Done!\n"
     ]
    }
   ],
   "source": [
    "baseline_no_vegetation=ModelFitting(\n",
    "    var=BASELINE_FEATURES,\n",
    "    split=no_vegetation_splits,\n",
    "    model_name='xgboost',\n",
    ")\n",
    "\n",
    "# fit model\n",
    "baseline_no_vegetation.fit_model()\n",
    "\n",
    "# make predictions\n",
    "predictions_baseline_no_vegetation=baseline_no_vegetation.make_predictions()\n",
    "\n",
    "# evaluate model\n",
    "print(\"=========================================\")\n",
    "print(\"Model Evaluation: Baseline No Vegetation:\")\n",
    "print(\"=========================================\")\n",
    "res=baseline_no_vegetation.evaluate_model()\n",
    "\n",
    "# get feature importances\n",
    "print(\"============================================\")\n",
    "print(\"Feature Importances: Baseline No Vegetation:\")\n",
    "print(\"============================================\")\n",
    "feature_importances_baseline_no_vegetation=baseline_no_vegetation.get_importance()\n",
    "\n",
    "# Store results\n",
    "print(\"==========================================\")\n",
    "print(\"Storing Results: Baseline No Vegetation...\")\n",
    "print(\"==========================================\")\n",
    "\n",
    "res.to_csv('../results/XGBoost/NoVegetation/baseline/evaluation.csv', index=False)\n",
    "feature_importances_baseline_no_vegetation.to_csv('../results/XGBoost/NoVegetation/baseline/feature_importances.csv', index=False)\n",
    "predictions_baseline_no_vegetation['y_pred_train'].to_csv('../results/XGBoost/NoVegetation/baseline/train_predictions.csv', index=False)\n",
    "predictions_baseline_no_vegetation['y_pred_test'].to_csv('../results/XGBoost/NoVegetation/baseline/test_predictions.csv', index=False)\n",
    "\n",
    "print(\"Done!\")"
   ]
  },
  {
   "cell_type": "markdown",
   "metadata": {},
   "source": [
    "* InSAR Parameters"
   ]
  },
  {
   "cell_type": "code",
   "execution_count": 49,
   "metadata": {},
   "outputs": [
    {
     "name": "stdout",
     "output_type": "stream",
     "text": [
      "=======================================\n",
      "Model Evaluation: UAVSAR No Vegetation:\n",
      "=======================================\n"
     ]
    },
    {
     "data": {
      "text/html": [
       "<div>\n",
       "<style scoped>\n",
       "    .dataframe tbody tr th:only-of-type {\n",
       "        vertical-align: middle;\n",
       "    }\n",
       "\n",
       "    .dataframe tbody tr th {\n",
       "        vertical-align: top;\n",
       "    }\n",
       "\n",
       "    .dataframe thead th {\n",
       "        text-align: right;\n",
       "    }\n",
       "</style>\n",
       "<table border=\"1\" class=\"dataframe\">\n",
       "  <thead>\n",
       "    <tr style=\"text-align: right;\">\n",
       "      <th></th>\n",
       "      <th>xgboost_train</th>\n",
       "      <th>xgboost_test</th>\n",
       "    </tr>\n",
       "  </thead>\n",
       "  <tbody>\n",
       "    <tr>\n",
       "      <th>RMSE</th>\n",
       "      <td>1.201562e-02</td>\n",
       "      <td>0.093725</td>\n",
       "    </tr>\n",
       "    <tr>\n",
       "      <th>MBE</th>\n",
       "      <td>8.769661e-09</td>\n",
       "      <td>0.000135</td>\n",
       "    </tr>\n",
       "    <tr>\n",
       "      <th>RSQ</th>\n",
       "      <td>9.983260e-01</td>\n",
       "      <td>0.898186</td>\n",
       "    </tr>\n",
       "  </tbody>\n",
       "</table>\n",
       "</div>"
      ],
      "text/plain": [
       "      xgboost_train  xgboost_test\n",
       "RMSE   1.201562e-02      0.093725\n",
       "MBE    8.769661e-09      0.000135\n",
       "RSQ    9.983260e-01      0.898186"
      ]
     },
     "metadata": {},
     "output_type": "display_data"
    },
    {
     "name": "stdout",
     "output_type": "stream",
     "text": [
      "==========================================\n",
      "Feature Importances: UAVSAR No Vegetation:\n",
      "==========================================\n"
     ]
    },
    {
     "data": {
      "text/html": [
       "<div>\n",
       "<style scoped>\n",
       "    .dataframe tbody tr th:only-of-type {\n",
       "        vertical-align: middle;\n",
       "    }\n",
       "\n",
       "    .dataframe tbody tr th {\n",
       "        vertical-align: top;\n",
       "    }\n",
       "\n",
       "    .dataframe thead th {\n",
       "        text-align: right;\n",
       "    }\n",
       "</style>\n",
       "<table border=\"1\" class=\"dataframe\">\n",
       "  <thead>\n",
       "    <tr style=\"text-align: right;\">\n",
       "      <th></th>\n",
       "      <th>feature</th>\n",
       "      <th>importance</th>\n",
       "    </tr>\n",
       "  </thead>\n",
       "  <tbody>\n",
       "    <tr>\n",
       "      <th>5</th>\n",
       "      <td>unwrapped_phase</td>\n",
       "      <td>0.111202</td>\n",
       "    </tr>\n",
       "    <tr>\n",
       "      <th>3</th>\n",
       "      <td>bare_earth_dem</td>\n",
       "      <td>0.028834</td>\n",
       "    </tr>\n",
       "    <tr>\n",
       "      <th>4</th>\n",
       "      <td>incidence_angle</td>\n",
       "      <td>0.021428</td>\n",
       "    </tr>\n",
       "    <tr>\n",
       "      <th>1</th>\n",
       "      <td>amplitude</td>\n",
       "      <td>0.020212</td>\n",
       "    </tr>\n",
       "    <tr>\n",
       "      <th>2</th>\n",
       "      <td>wrapped_phase</td>\n",
       "      <td>0.014407</td>\n",
       "    </tr>\n",
       "    <tr>\n",
       "      <th>0</th>\n",
       "      <td>coherence</td>\n",
       "      <td>0.013389</td>\n",
       "    </tr>\n",
       "  </tbody>\n",
       "</table>\n",
       "</div>"
      ],
      "text/plain": [
       "           feature  importance\n",
       "5  unwrapped_phase    0.111202\n",
       "3   bare_earth_dem    0.028834\n",
       "4  incidence_angle    0.021428\n",
       "1        amplitude    0.020212\n",
       "2    wrapped_phase    0.014407\n",
       "0        coherence    0.013389"
      ]
     },
     "metadata": {},
     "output_type": "display_data"
    },
    {
     "name": "stdout",
     "output_type": "stream",
     "text": [
      "========================================\n",
      "Storing Results: UAVSAR No Vegetation...\n",
      "========================================\n",
      "Done!\n"
     ]
    }
   ],
   "source": [
    "insar_no_vegetation=ModelFitting(\n",
    "    var=UAVSAR_FEATURES,\n",
    "    split=no_vegetation_splits,\n",
    "    model_name='xgboost',\n",
    ")\n",
    "\n",
    "# fit model\n",
    "insar_no_vegetation.fit_model()\n",
    "\n",
    "# make predictions\n",
    "predictions_insar_no_vegetation=insar_no_vegetation.make_predictions()\n",
    "\n",
    "# evaluate model\n",
    "print(\"=======================================\")\n",
    "print(\"Model Evaluation: UAVSAR No Vegetation:\")\n",
    "print(\"=======================================\")\n",
    "res=insar_no_vegetation.evaluate_model()\n",
    "\n",
    "# get feature importances\n",
    "print(\"==========================================\")\n",
    "print(\"Feature Importances: UAVSAR No Vegetation:\")\n",
    "print(\"==========================================\")\n",
    "feature_importances_insar_no_vegetation=insar_no_vegetation.get_importance()\n",
    "\n",
    "# Store results\n",
    "print(\"========================================\")\n",
    "print(\"Storing Results: UAVSAR No Vegetation...\")\n",
    "print(\"========================================\")\n",
    "\n",
    "res.to_csv('../results/XGBoost/NoVegetation/uavsar/evaluation.csv', index=False)\n",
    "feature_importances_insar_no_vegetation.to_csv('../results/XGBoost/NoVegetation/uavsar/feature_importances.csv', index=False)\n",
    "predictions_insar_no_vegetation['y_pred_train'].to_csv('../results/XGBoost/NoVegetation/uavsar/train_predictions.csv', index=False)\n",
    "predictions_insar_no_vegetation['y_pred_test'].to_csv('../results/XGBoost/NoVegetation/uavsar/test_predictions.csv', index=False)\n",
    "\n",
    "print(\"Done!\")"
   ]
  },
  {
   "cell_type": "markdown",
   "metadata": {},
   "source": [
    "## The End!"
   ]
  }
 ],
 "metadata": {
  "kernelspec": {
   "display_name": "autoskln",
   "language": "python",
   "name": "python3"
  },
  "language_info": {
   "codemirror_mode": {
    "name": "ipython",
    "version": 3
   },
   "file_extension": ".py",
   "mimetype": "text/x-python",
   "name": "python",
   "nbconvert_exporter": "python",
   "pygments_lexer": "ipython3",
   "version": "3.10.10"
  },
  "orig_nbformat": 4
 },
 "nbformat": 4,
 "nbformat_minor": 2
}
