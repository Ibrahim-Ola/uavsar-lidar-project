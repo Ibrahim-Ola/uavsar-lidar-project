{
 "cells": [
  {
   "cell_type": "code",
   "execution_count": 1,
   "metadata": {},
   "outputs": [],
   "source": [
    "import sys\n",
    "sys.path.append('../') "
   ]
  },
  {
   "cell_type": "code",
   "execution_count": 2,
   "metadata": {},
   "outputs": [],
   "source": [
    "import os\n",
    "import pickle\n",
    "import numpy as np\n",
    "import pandas as pd\n",
    "\n",
    "from utils.model_fitting_utils import ModelFitting\n",
    "from utils.features import BASELINE_FEATURES, UAVSAR_FEATURES, UAVSAR_AND_VEGETATION_HEIGHT_FEATURES"
   ]
  },
  {
   "cell_type": "code",
   "execution_count": null,
   "metadata": {},
   "outputs": [],
   "source": [
    "with open('../data/full_splits.pkl', 'rb') as f:\n",
    "    full_splits = pickle.load(f)\n",
    "\n",
    "\n",
    "with open('../data/vegetation_splits.pkl', 'rb') as f:\n",
    "    vegetation_splits = pickle.load(f)\n",
    "\n",
    "\n",
    "with open('../data/no_vegetation_splits.pkl', 'rb') as f:\n",
    "    no_vegetation_splits = pickle.load(f)"
   ]
  }
 ],
 "metadata": {
  "kernelspec": {
   "display_name": "autoskln",
   "language": "python",
   "name": "python3"
  },
  "language_info": {
   "codemirror_mode": {
    "name": "ipython",
    "version": 3
   },
   "file_extension": ".py",
   "mimetype": "text/x-python",
   "name": "python",
   "nbconvert_exporter": "python",
   "pygments_lexer": "ipython3",
   "version": "3.10.10"
  },
  "orig_nbformat": 4
 },
 "nbformat": 4,
 "nbformat_minor": 2
}
